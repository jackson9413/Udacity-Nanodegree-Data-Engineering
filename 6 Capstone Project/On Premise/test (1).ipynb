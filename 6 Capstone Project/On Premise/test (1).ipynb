{
 "cells": [
  {
   "cell_type": "code",
   "execution_count": 1,
   "metadata": {
    "editable": true
   },
   "outputs": [],
   "source": [
    "# import the packages\n",
    "from sqlalchemy import create_engine"
   ]
  },
  {
   "cell_type": "code",
   "execution_count": 2,
   "metadata": {
    "editable": true
   },
   "outputs": [],
   "source": [
    "# Run sql query\n",
    "%load_ext sql"
   ]
  },
  {
   "cell_type": "markdown",
   "metadata": {
    "editable": true
   },
   "source": [
    "Connect to the database"
   ]
  },
  {
   "cell_type": "code",
   "execution_count": 3,
   "metadata": {
    "editable": true
   },
   "outputs": [
    {
     "data": {
      "text/plain": [
       "'Connected: @states.db'"
      ]
     },
     "execution_count": 3,
     "metadata": {},
     "output_type": "execute_result"
    }
   ],
   "source": [
    "%sql sqlite:///states.db"
   ]
  },
  {
   "cell_type": "markdown",
   "metadata": {
    "editable": true
   },
   "source": [
    "## Staging tables"
   ]
  },
  {
   "cell_type": "code",
   "execution_count": 4,
   "metadata": {
    "editable": true
   },
   "outputs": [
    {
     "name": "stdout",
     "output_type": "stream",
     "text": [
      " * sqlite:///states.db\n",
      "Done.\n"
     ]
    },
    {
     "data": {
      "text/html": [
       "<table>\n",
       "    <tr>\n",
       "        <th>ident</th>\n",
       "        <th>type</th>\n",
       "        <th>name</th>\n",
       "        <th>elevation_ft</th>\n",
       "        <th>region</th>\n",
       "        <th>longitude</th>\n",
       "        <th>latitude</th>\n",
       "    </tr>\n",
       "    <tr>\n",
       "        <td>00AA</td>\n",
       "        <td>small_airport</td>\n",
       "        <td>Aero B Ranch Airport</td>\n",
       "        <td>3435.0</td>\n",
       "        <td>KS</td>\n",
       "        <td>-101.4739</td>\n",
       "        <td>38.704</td>\n",
       "    </tr>\n",
       "    <tr>\n",
       "        <td>00AK</td>\n",
       "        <td>small_airport</td>\n",
       "        <td>Lowell Field</td>\n",
       "        <td>450.0</td>\n",
       "        <td>AK</td>\n",
       "        <td>-151.696</td>\n",
       "        <td>59.9492</td>\n",
       "    </tr>\n",
       "    <tr>\n",
       "        <td>00AL</td>\n",
       "        <td>small_airport</td>\n",
       "        <td>Epps Airpark</td>\n",
       "        <td>820.0</td>\n",
       "        <td>AL</td>\n",
       "        <td>-86.7703</td>\n",
       "        <td>34.8648</td>\n",
       "    </tr>\n",
       "    <tr>\n",
       "        <td>00AS</td>\n",
       "        <td>small_airport</td>\n",
       "        <td>Fulton Airport</td>\n",
       "        <td>1100.0</td>\n",
       "        <td>OK</td>\n",
       "        <td>-97.818</td>\n",
       "        <td>34.9428</td>\n",
       "    </tr>\n",
       "    <tr>\n",
       "        <td>00AZ</td>\n",
       "        <td>small_airport</td>\n",
       "        <td>Cordes Airport</td>\n",
       "        <td>3810.0</td>\n",
       "        <td>AZ</td>\n",
       "        <td>-112.165</td>\n",
       "        <td>34.3056</td>\n",
       "    </tr>\n",
       "</table>"
      ],
      "text/plain": [
       "[('00AA', 'small_airport', 'Aero B Ranch Airport', 3435.0, 'KS', -101.4739, 38.704),\n",
       " ('00AK', 'small_airport', 'Lowell Field', 450.0, 'AK', -151.696, 59.9492),\n",
       " ('00AL', 'small_airport', 'Epps Airpark', 820.0, 'AL', -86.7703, 34.8648),\n",
       " ('00AS', 'small_airport', 'Fulton Airport', 1100.0, 'OK', -97.818, 34.9428),\n",
       " ('00AZ', 'small_airport', 'Cordes Airport', 3810.0, 'AZ', -112.165, 34.3056)]"
      ]
     },
     "execution_count": 4,
     "metadata": {},
     "output_type": "execute_result"
    }
   ],
   "source": [
    "%%sql\n",
    "SELECT * FROM airports LIMIT 5;"
   ]
  },
  {
   "cell_type": "code",
   "execution_count": 5,
   "metadata": {
    "editable": true
   },
   "outputs": [
    {
     "name": "stdout",
     "output_type": "stream",
     "text": [
      " * sqlite:///states.db\n",
      "Done.\n"
     ]
    },
    {
     "data": {
      "text/html": [
       "<table>\n",
       "    <tr>\n",
       "        <th>City</th>\n",
       "        <th>State</th>\n",
       "        <th>Median Age</th>\n",
       "        <th>Male Population</th>\n",
       "        <th>Female Population</th>\n",
       "        <th>Total Population</th>\n",
       "        <th>Number of Veterans</th>\n",
       "        <th>Foreign-born</th>\n",
       "        <th>Average Household Size</th>\n",
       "        <th>State Code</th>\n",
       "        <th>American Indian and Alaska Native</th>\n",
       "        <th>Asian</th>\n",
       "        <th>Black or African-American</th>\n",
       "        <th>Hispanic or Latino</th>\n",
       "        <th>White</th>\n",
       "    </tr>\n",
       "    <tr>\n",
       "        <td>Silver Spring</td>\n",
       "        <td>Maryland</td>\n",
       "        <td>33.8</td>\n",
       "        <td>40601</td>\n",
       "        <td>41862</td>\n",
       "        <td>82463</td>\n",
       "        <td>1562</td>\n",
       "        <td>30908</td>\n",
       "        <td>2.6</td>\n",
       "        <td>MD</td>\n",
       "        <td>1084.0</td>\n",
       "        <td>8841.0</td>\n",
       "        <td>21330.0</td>\n",
       "        <td>25924.0</td>\n",
       "        <td>37756.0</td>\n",
       "    </tr>\n",
       "    <tr>\n",
       "        <td>Quincy</td>\n",
       "        <td>Massachusetts</td>\n",
       "        <td>41.0</td>\n",
       "        <td>44129</td>\n",
       "        <td>49500</td>\n",
       "        <td>93629</td>\n",
       "        <td>4147</td>\n",
       "        <td>32935</td>\n",
       "        <td>2.39</td>\n",
       "        <td>MA</td>\n",
       "        <td>351.0</td>\n",
       "        <td>30473.0</td>\n",
       "        <td>3917.0</td>\n",
       "        <td>2566.0</td>\n",
       "        <td>58723.0</td>\n",
       "    </tr>\n",
       "    <tr>\n",
       "        <td>Hoover</td>\n",
       "        <td>Alabama</td>\n",
       "        <td>38.5</td>\n",
       "        <td>38040</td>\n",
       "        <td>46799</td>\n",
       "        <td>84839</td>\n",
       "        <td>4819</td>\n",
       "        <td>8229</td>\n",
       "        <td>2.58</td>\n",
       "        <td>AL</td>\n",
       "        <td>None</td>\n",
       "        <td>4759.0</td>\n",
       "        <td>18191.0</td>\n",
       "        <td>3430.0</td>\n",
       "        <td>61869.0</td>\n",
       "    </tr>\n",
       "    <tr>\n",
       "        <td>Rancho Cucamonga</td>\n",
       "        <td>California</td>\n",
       "        <td>34.5</td>\n",
       "        <td>88127</td>\n",
       "        <td>87105</td>\n",
       "        <td>175232</td>\n",
       "        <td>5821</td>\n",
       "        <td>33878</td>\n",
       "        <td>3.18</td>\n",
       "        <td>CA</td>\n",
       "        <td>2789.0</td>\n",
       "        <td>24519.0</td>\n",
       "        <td>24437.0</td>\n",
       "        <td>65823.0</td>\n",
       "        <td>111832.0</td>\n",
       "    </tr>\n",
       "    <tr>\n",
       "        <td>Newark</td>\n",
       "        <td>New Jersey</td>\n",
       "        <td>34.6</td>\n",
       "        <td>138040</td>\n",
       "        <td>143873</td>\n",
       "        <td>281913</td>\n",
       "        <td>5829</td>\n",
       "        <td>86253</td>\n",
       "        <td>2.73</td>\n",
       "        <td>NJ</td>\n",
       "        <td>2268.0</td>\n",
       "        <td>7349.0</td>\n",
       "        <td>144961.0</td>\n",
       "        <td>100432.0</td>\n",
       "        <td>76402.0</td>\n",
       "    </tr>\n",
       "</table>"
      ],
      "text/plain": [
       "[('Silver Spring', 'Maryland', 33.8, 40601, 41862, 82463, 1562, 30908, 2.6, 'MD', 1084.0, 8841.0, 21330.0, 25924.0, 37756.0),\n",
       " ('Quincy', 'Massachusetts', 41.0, 44129, 49500, 93629, 4147, 32935, 2.39, 'MA', 351.0, 30473.0, 3917.0, 2566.0, 58723.0),\n",
       " ('Hoover', 'Alabama', 38.5, 38040, 46799, 84839, 4819, 8229, 2.58, 'AL', None, 4759.0, 18191.0, 3430.0, 61869.0),\n",
       " ('Rancho Cucamonga', 'California', 34.5, 88127, 87105, 175232, 5821, 33878, 3.18, 'CA', 2789.0, 24519.0, 24437.0, 65823.0, 111832.0),\n",
       " ('Newark', 'New Jersey', 34.6, 138040, 143873, 281913, 5829, 86253, 2.73, 'NJ', 2268.0, 7349.0, 144961.0, 100432.0, 76402.0)]"
      ]
     },
     "execution_count": 5,
     "metadata": {},
     "output_type": "execute_result"
    }
   ],
   "source": [
    "%%sql\n",
    "SELECT * FROM cities LIMIT 5;"
   ]
  },
  {
   "cell_type": "code",
   "execution_count": 6,
   "metadata": {
    "editable": true
   },
   "outputs": [
    {
     "name": "stdout",
     "output_type": "stream",
     "text": [
      " * sqlite:///states.db\n",
      "Done.\n"
     ]
    },
    {
     "data": {
      "text/html": [
       "<table>\n",
       "    <tr>\n",
       "        <th>cicid</th>\n",
       "        <th>i94yr</th>\n",
       "        <th>i94mon</th>\n",
       "        <th>i94cit</th>\n",
       "        <th>i94res</th>\n",
       "        <th>i94port</th>\n",
       "        <th>arrdate</th>\n",
       "        <th>i94mode</th>\n",
       "        <th>i94addr</th>\n",
       "        <th>depdate</th>\n",
       "        <th>i94bir</th>\n",
       "        <th>i94visa</th>\n",
       "        <th>count</th>\n",
       "        <th>dtadfile</th>\n",
       "        <th>entdepa</th>\n",
       "        <th>entdepd</th>\n",
       "        <th>matflag</th>\n",
       "        <th>biryear</th>\n",
       "        <th>dtaddto</th>\n",
       "        <th>gender</th>\n",
       "        <th>airline</th>\n",
       "        <th>admnum</th>\n",
       "        <th>fltno</th>\n",
       "        <th>visatype</th>\n",
       "    </tr>\n",
       "    <tr>\n",
       "        <td>4084316</td>\n",
       "        <td>2016</td>\n",
       "        <td>4</td>\n",
       "        <td>209</td>\n",
       "        <td>209</td>\n",
       "        <td>HHW</td>\n",
       "        <td>2016-04-22 00:00:00</td>\n",
       "        <td>1</td>\n",
       "        <td>HI</td>\n",
       "        <td>2016-04-29 00:00:00</td>\n",
       "        <td>61</td>\n",
       "        <td>2</td>\n",
       "        <td>1</td>\n",
       "        <td>2016-04-22 00:00:00</td>\n",
       "        <td>G</td>\n",
       "        <td>O</td>\n",
       "        <td>M</td>\n",
       "        <td>1955</td>\n",
       "        <td>2016-07-20 00:00:00</td>\n",
       "        <td>F</td>\n",
       "        <td>JL</td>\n",
       "        <td>56582674633</td>\n",
       "        <td>00782</td>\n",
       "        <td>WT</td>\n",
       "    </tr>\n",
       "    <tr>\n",
       "        <td>4422636</td>\n",
       "        <td>2016</td>\n",
       "        <td>4</td>\n",
       "        <td>582</td>\n",
       "        <td>582</td>\n",
       "        <td>MCA</td>\n",
       "        <td>2016-04-23 00:00:00</td>\n",
       "        <td>1</td>\n",
       "        <td>TX</td>\n",
       "        <td>2016-04-24 00:00:00</td>\n",
       "        <td>26</td>\n",
       "        <td>2</td>\n",
       "        <td>1</td>\n",
       "        <td>2016-04-23 00:00:00</td>\n",
       "        <td>G</td>\n",
       "        <td>R</td>\n",
       "        <td>M</td>\n",
       "        <td>1990</td>\n",
       "        <td>2016-10-22 00:00:00</td>\n",
       "        <td>M</td>\n",
       "        <td>*GA</td>\n",
       "        <td>94361995930</td>\n",
       "        <td>XBLNG</td>\n",
       "        <td>B2</td>\n",
       "    </tr>\n",
       "    <tr>\n",
       "        <td>1195600</td>\n",
       "        <td>2016</td>\n",
       "        <td>4</td>\n",
       "        <td>148</td>\n",
       "        <td>112</td>\n",
       "        <td>OGG</td>\n",
       "        <td>2016-04-07 00:00:00</td>\n",
       "        <td>1</td>\n",
       "        <td>FL</td>\n",
       "        <td>2016-04-27 00:00:00</td>\n",
       "        <td>76</td>\n",
       "        <td>2</td>\n",
       "        <td>1</td>\n",
       "        <td>2016-04-07 00:00:00</td>\n",
       "        <td>G</td>\n",
       "        <td>O</td>\n",
       "        <td>M</td>\n",
       "        <td>1940</td>\n",
       "        <td>2016-07-05 00:00:00</td>\n",
       "        <td>M</td>\n",
       "        <td>LH</td>\n",
       "        <td>55780468433</td>\n",
       "        <td>00464</td>\n",
       "        <td>WT</td>\n",
       "    </tr>\n",
       "    <tr>\n",
       "        <td>5291768</td>\n",
       "        <td>2016</td>\n",
       "        <td>4</td>\n",
       "        <td>297</td>\n",
       "        <td>297</td>\n",
       "        <td>LOS</td>\n",
       "        <td>2016-04-28 00:00:00</td>\n",
       "        <td>1</td>\n",
       "        <td>CA</td>\n",
       "        <td>2016-05-07 00:00:00</td>\n",
       "        <td>25</td>\n",
       "        <td>2</td>\n",
       "        <td>1</td>\n",
       "        <td>2016-04-28 00:00:00</td>\n",
       "        <td>G</td>\n",
       "        <td>O</td>\n",
       "        <td>M</td>\n",
       "        <td>1991</td>\n",
       "        <td>2016-10-27 00:00:00</td>\n",
       "        <td>M</td>\n",
       "        <td>QR</td>\n",
       "        <td>94789696030</td>\n",
       "        <td>00739</td>\n",
       "        <td>B2</td>\n",
       "    </tr>\n",
       "    <tr>\n",
       "        <td>985523</td>\n",
       "        <td>2016</td>\n",
       "        <td>4</td>\n",
       "        <td>111</td>\n",
       "        <td>111</td>\n",
       "        <td>CHM</td>\n",
       "        <td>2016-04-06 00:00:00</td>\n",
       "        <td>3</td>\n",
       "        <td>NY</td>\n",
       "        <td>2016-04-09 00:00:00</td>\n",
       "        <td>19</td>\n",
       "        <td>2</td>\n",
       "        <td>1</td>\n",
       "        <td>2016-04-06 00:00:00</td>\n",
       "        <td>Z</td>\n",
       "        <td>K</td>\n",
       "        <td>M</td>\n",
       "        <td>1997</td>\n",
       "        <td>2016-07-04 00:00:00</td>\n",
       "        <td>F</td>\n",
       "        <td>None</td>\n",
       "        <td>42322572633</td>\n",
       "        <td>LAND</td>\n",
       "        <td>WT</td>\n",
       "    </tr>\n",
       "</table>"
      ],
      "text/plain": [
       "[('4084316', 2016, 4, '209', '209', 'HHW', '2016-04-22 00:00:00', 1, 'HI', '2016-04-29 00:00:00', 61, 2, 1, '2016-04-22 00:00:00', 'G', 'O', 'M', 1955, '2016-07-20 00:00:00', 'F', 'JL', '56582674633', '00782', 'WT'),\n",
       " ('4422636', 2016, 4, '582', '582', 'MCA', '2016-04-23 00:00:00', 1, 'TX', '2016-04-24 00:00:00', 26, 2, 1, '2016-04-23 00:00:00', 'G', 'R', 'M', 1990, '2016-10-22 00:00:00', 'M', '*GA', '94361995930', 'XBLNG', 'B2'),\n",
       " ('1195600', 2016, 4, '148', '112', 'OGG', '2016-04-07 00:00:00', 1, 'FL', '2016-04-27 00:00:00', 76, 2, 1, '2016-04-07 00:00:00', 'G', 'O', 'M', 1940, '2016-07-05 00:00:00', 'M', 'LH', '55780468433', '00464', 'WT'),\n",
       " ('5291768', 2016, 4, '297', '297', 'LOS', '2016-04-28 00:00:00', 1, 'CA', '2016-05-07 00:00:00', 25, 2, 1, '2016-04-28 00:00:00', 'G', 'O', 'M', 1991, '2016-10-27 00:00:00', 'M', 'QR', '94789696030', '00739', 'B2'),\n",
       " ('985523', 2016, 4, '111', '111', 'CHM', '2016-04-06 00:00:00', 3, 'NY', '2016-04-09 00:00:00', 19, 2, 1, '2016-04-06 00:00:00', 'Z', 'K', 'M', 1997, '2016-07-04 00:00:00', 'F', None, '42322572633', 'LAND', 'WT')]"
      ]
     },
     "execution_count": 6,
     "metadata": {},
     "output_type": "execute_result"
    }
   ],
   "source": [
    "%%sql\n",
    "SELECT * FROM immigration LIMIT 5;"
   ]
  },
  {
   "cell_type": "code",
   "execution_count": 7,
   "metadata": {
    "editable": true
   },
   "outputs": [
    {
     "name": "stdout",
     "output_type": "stream",
     "text": [
      " * sqlite:///states.db\n",
      "Done.\n"
     ]
    },
    {
     "data": {
      "text/html": [
       "<table>\n",
       "    <tr>\n",
       "        <th>dt</th>\n",
       "        <th>AverageTemperature</th>\n",
       "        <th>AverageTemperatureUncertainty</th>\n",
       "        <th>State</th>\n",
       "    </tr>\n",
       "    <tr>\n",
       "        <td>2003-01-01 00:00:00</td>\n",
       "        <td>4.8</td>\n",
       "        <td>0.1</td>\n",
       "        <td>Alabama</td>\n",
       "    </tr>\n",
       "    <tr>\n",
       "        <td>2003-02-01 00:00:00</td>\n",
       "        <td>9.1</td>\n",
       "        <td>0.2</td>\n",
       "        <td>Alabama</td>\n",
       "    </tr>\n",
       "    <tr>\n",
       "        <td>2003-03-01 00:00:00</td>\n",
       "        <td>14.6</td>\n",
       "        <td>0.2</td>\n",
       "        <td>Alabama</td>\n",
       "    </tr>\n",
       "    <tr>\n",
       "        <td>2003-04-01 00:00:00</td>\n",
       "        <td>17.8</td>\n",
       "        <td>0.2</td>\n",
       "        <td>Alabama</td>\n",
       "    </tr>\n",
       "    <tr>\n",
       "        <td>2003-05-01 00:00:00</td>\n",
       "        <td>22.6</td>\n",
       "        <td>0.2</td>\n",
       "        <td>Alabama</td>\n",
       "    </tr>\n",
       "</table>"
      ],
      "text/plain": [
       "[('2003-01-01 00:00:00', 4.8, 0.1, 'Alabama'),\n",
       " ('2003-02-01 00:00:00', 9.1, 0.2, 'Alabama'),\n",
       " ('2003-03-01 00:00:00', 14.6, 0.2, 'Alabama'),\n",
       " ('2003-04-01 00:00:00', 17.8, 0.2, 'Alabama'),\n",
       " ('2003-05-01 00:00:00', 22.6, 0.2, 'Alabama')]"
      ]
     },
     "execution_count": 7,
     "metadata": {},
     "output_type": "execute_result"
    }
   ],
   "source": [
    "%%sql\n",
    "SELECT * FROM temperature LIMIT 5;"
   ]
  },
  {
   "cell_type": "markdown",
   "metadata": {
    "editable": true
   },
   "source": [
    "## Normalized tables"
   ]
  },
  {
   "cell_type": "code",
   "execution_count": 8,
   "metadata": {
    "editable": true
   },
   "outputs": [
    {
     "name": "stdout",
     "output_type": "stream",
     "text": [
      " * sqlite:///states.db\n",
      "Done.\n"
     ]
    },
    {
     "data": {
      "text/html": [
       "<table>\n",
       "    <tr>\n",
       "        <th>region</th>\n",
       "        <th>totalAirport</th>\n",
       "    </tr>\n",
       "    <tr>\n",
       "        <td>AL</td>\n",
       "        <td>197</td>\n",
       "    </tr>\n",
       "    <tr>\n",
       "        <td>AR</td>\n",
       "        <td>274</td>\n",
       "    </tr>\n",
       "    <tr>\n",
       "        <td>AZ</td>\n",
       "        <td>214</td>\n",
       "    </tr>\n",
       "    <tr>\n",
       "        <td>CA</td>\n",
       "        <td>547</td>\n",
       "    </tr>\n",
       "    <tr>\n",
       "        <td>CO</td>\n",
       "        <td>289</td>\n",
       "    </tr>\n",
       "</table>"
      ],
      "text/plain": [
       "[('AL', 197), ('AR', 274), ('AZ', 214), ('CA', 547), ('CO', 289)]"
      ]
     },
     "execution_count": 8,
     "metadata": {},
     "output_type": "execute_result"
    }
   ],
   "source": [
    "%%sql\n",
    "SELECT * FROM dim_airports LIMIT 5"
   ]
  },
  {
   "cell_type": "code",
   "execution_count": 9,
   "metadata": {
    "editable": true
   },
   "outputs": [
    {
     "name": "stdout",
     "output_type": "stream",
     "text": [
      " * sqlite:///states.db\n",
      "Done.\n"
     ]
    },
    {
     "data": {
      "text/html": [
       "<table>\n",
       "    <tr>\n",
       "        <th>State Code</th>\n",
       "        <th>Median Age</th>\n",
       "        <th>Male Population</th>\n",
       "        <th>Female Population</th>\n",
       "        <th>Total Population</th>\n",
       "        <th>Number of Veterans</th>\n",
       "        <th>Foreign-born</th>\n",
       "        <th>Average Household Size</th>\n",
       "        <th>American Indian and Alaska Native</th>\n",
       "        <th>Asian</th>\n",
       "        <th>Black or African-American</th>\n",
       "        <th>Hispanic or Latino</th>\n",
       "        <th>White</th>\n",
       "    </tr>\n",
       "    <tr>\n",
       "        <td>AL</td>\n",
       "        <td>36.2</td>\n",
       "        <td>497248</td>\n",
       "        <td>552381</td>\n",
       "        <td>1049629</td>\n",
       "        <td>71543</td>\n",
       "        <td>52154</td>\n",
       "        <td>2.4</td>\n",
       "        <td>8084.0</td>\n",
       "        <td>28769.0</td>\n",
       "        <td>521068.0</td>\n",
       "        <td>39313.0</td>\n",
       "        <td>498920.0</td>\n",
       "    </tr>\n",
       "    <tr>\n",
       "        <td>AR</td>\n",
       "        <td>32.8</td>\n",
       "        <td>286479</td>\n",
       "        <td>303400</td>\n",
       "        <td>589879</td>\n",
       "        <td>31704</td>\n",
       "        <td>62108</td>\n",
       "        <td>2.5</td>\n",
       "        <td>11653.5</td>\n",
       "        <td>24183.0</td>\n",
       "        <td>191457.0</td>\n",
       "        <td>87585.5</td>\n",
       "        <td>401355.5</td>\n",
       "    </tr>\n",
       "    <tr>\n",
       "        <td>AZ</td>\n",
       "        <td>35.0</td>\n",
       "        <td>2227455</td>\n",
       "        <td>2272087</td>\n",
       "        <td>4499542</td>\n",
       "        <td>264505</td>\n",
       "        <td>682313</td>\n",
       "        <td>2.8</td>\n",
       "        <td>127030.5</td>\n",
       "        <td>242774.5</td>\n",
       "        <td>304314.0</td>\n",
       "        <td>1464577.5</td>\n",
       "        <td>3526621.5</td>\n",
       "    </tr>\n",
       "    <tr>\n",
       "        <td>CA</td>\n",
       "        <td>36.2</td>\n",
       "        <td>12278281</td>\n",
       "        <td>12544179</td>\n",
       "        <td>24822460</td>\n",
       "        <td>928270</td>\n",
       "        <td>7448257</td>\n",
       "        <td>3.1</td>\n",
       "        <td>404913.5</td>\n",
       "        <td>4454238.5</td>\n",
       "        <td>2098869.5</td>\n",
       "        <td>9879765.0</td>\n",
       "        <td>15089319.5</td>\n",
       "    </tr>\n",
       "    <tr>\n",
       "        <td>CO</td>\n",
       "        <td>35.8</td>\n",
       "        <td>1454619</td>\n",
       "        <td>1481050</td>\n",
       "        <td>2935669</td>\n",
       "        <td>187896</td>\n",
       "        <td>337631</td>\n",
       "        <td>2.6</td>\n",
       "        <td>57753.5</td>\n",
       "        <td>169824.0</td>\n",
       "        <td>190207.0</td>\n",
       "        <td>685907.0</td>\n",
       "        <td>2322769.0</td>\n",
       "    </tr>\n",
       "</table>"
      ],
      "text/plain": [
       "[('AL', 36.2, 497248, 552381, 1049629, 71543, 52154, 2.4, 8084.0, 28769.0, 521068.0, 39313.0, 498920.0),\n",
       " ('AR', 32.8, 286479, 303400, 589879, 31704, 62108, 2.5, 11653.5, 24183.0, 191457.0, 87585.5, 401355.5),\n",
       " ('AZ', 35.0, 2227455, 2272087, 4499542, 264505, 682313, 2.8, 127030.5, 242774.5, 304314.0, 1464577.5, 3526621.5),\n",
       " ('CA', 36.2, 12278281, 12544179, 24822460, 928270, 7448257, 3.1, 404913.5, 4454238.5, 2098869.5, 9879765.0, 15089319.5),\n",
       " ('CO', 35.8, 1454619, 1481050, 2935669, 187896, 337631, 2.6, 57753.5, 169824.0, 190207.0, 685907.0, 2322769.0)]"
      ]
     },
     "execution_count": 9,
     "metadata": {},
     "output_type": "execute_result"
    }
   ],
   "source": [
    "%%sql\n",
    "SELECT * FROM dim_cities LIMIT 5"
   ]
  },
  {
   "cell_type": "code",
   "execution_count": 10,
   "metadata": {
    "editable": true
   },
   "outputs": [
    {
     "name": "stdout",
     "output_type": "stream",
     "text": [
      " * sqlite:///states.db\n",
      "Done.\n"
     ]
    },
    {
     "data": {
      "text/html": [
       "<table>\n",
       "    <tr>\n",
       "        <th>State Code</th>\n",
       "        <th>FallAvgTemp</th>\n",
       "        <th>SummerAvgTemp</th>\n",
       "        <th>SpringAvgTemp</th>\n",
       "        <th>WinterAvgTemp</th>\n",
       "    </tr>\n",
       "    <tr>\n",
       "        <td>AL</td>\n",
       "        <td>18.6</td>\n",
       "        <td>26.9</td>\n",
       "        <td>17.9</td>\n",
       "        <td>8.4</td>\n",
       "    </tr>\n",
       "    <tr>\n",
       "        <td>AZ</td>\n",
       "        <td>17.1</td>\n",
       "        <td>26.5</td>\n",
       "        <td>15.3</td>\n",
       "        <td>6.1</td>\n",
       "    </tr>\n",
       "    <tr>\n",
       "        <td>AR</td>\n",
       "        <td>17.3</td>\n",
       "        <td>26.8</td>\n",
       "        <td>16.6</td>\n",
       "        <td>5.6</td>\n",
       "    </tr>\n",
       "    <tr>\n",
       "        <td>CA</td>\n",
       "        <td>16.1</td>\n",
       "        <td>23.4</td>\n",
       "        <td>13.5</td>\n",
       "        <td>7.2</td>\n",
       "    </tr>\n",
       "    <tr>\n",
       "        <td>CO</td>\n",
       "        <td>8.6</td>\n",
       "        <td>19.2</td>\n",
       "        <td>7.0</td>\n",
       "        <td>-3.4</td>\n",
       "    </tr>\n",
       "</table>"
      ],
      "text/plain": [
       "[('AL', 18.6, 26.9, 17.9, 8.4),\n",
       " ('AZ', 17.1, 26.5, 15.3, 6.1),\n",
       " ('AR', 17.3, 26.8, 16.6, 5.6),\n",
       " ('CA', 16.1, 23.4, 13.5, 7.2),\n",
       " ('CO', 8.6, 19.2, 7.0, -3.4)]"
      ]
     },
     "execution_count": 10,
     "metadata": {},
     "output_type": "execute_result"
    }
   ],
   "source": [
    "%%sql\n",
    "SELECT * FROM dim_temperature LIMIT 5"
   ]
  },
  {
   "cell_type": "code",
   "execution_count": 11,
   "metadata": {
    "editable": true
   },
   "outputs": [
    {
     "name": "stdout",
     "output_type": "stream",
     "text": [
      " * sqlite:///states.db\n",
      "Done.\n"
     ]
    },
    {
     "data": {
      "text/html": [
       "<table>\n",
       "    <tr>\n",
       "        <th>cicid</th>\n",
       "        <th>i94yr</th>\n",
       "        <th>i94mon</th>\n",
       "        <th>i94cit</th>\n",
       "        <th>i94res</th>\n",
       "        <th>i94port</th>\n",
       "        <th>arrdate</th>\n",
       "        <th>i94mode</th>\n",
       "        <th>i94addr</th>\n",
       "        <th>depdate</th>\n",
       "        <th>i94bir</th>\n",
       "        <th>i94visa</th>\n",
       "        <th>count</th>\n",
       "        <th>dtadfile</th>\n",
       "        <th>entdepa</th>\n",
       "        <th>entdepd</th>\n",
       "        <th>matflag</th>\n",
       "        <th>biryear</th>\n",
       "        <th>dtaddto</th>\n",
       "        <th>gender</th>\n",
       "        <th>airline</th>\n",
       "        <th>admnum</th>\n",
       "        <th>fltno</th>\n",
       "        <th>visatype</th>\n",
       "    </tr>\n",
       "    <tr>\n",
       "        <td>4084316</td>\n",
       "        <td>2016</td>\n",
       "        <td>4</td>\n",
       "        <td>209</td>\n",
       "        <td>209</td>\n",
       "        <td>HHW</td>\n",
       "        <td>2016-04-22 00:00:00</td>\n",
       "        <td>1</td>\n",
       "        <td>HI</td>\n",
       "        <td>2016-04-29 00:00:00</td>\n",
       "        <td>61</td>\n",
       "        <td>2</td>\n",
       "        <td>1</td>\n",
       "        <td>2016-04-22 00:00:00</td>\n",
       "        <td>G</td>\n",
       "        <td>O</td>\n",
       "        <td>M</td>\n",
       "        <td>1955</td>\n",
       "        <td>2016-07-20 00:00:00</td>\n",
       "        <td>F</td>\n",
       "        <td>JL</td>\n",
       "        <td>56582674633</td>\n",
       "        <td>00782</td>\n",
       "        <td>WT</td>\n",
       "    </tr>\n",
       "    <tr>\n",
       "        <td>4422636</td>\n",
       "        <td>2016</td>\n",
       "        <td>4</td>\n",
       "        <td>582</td>\n",
       "        <td>582</td>\n",
       "        <td>MCA</td>\n",
       "        <td>2016-04-23 00:00:00</td>\n",
       "        <td>1</td>\n",
       "        <td>TX</td>\n",
       "        <td>2016-04-24 00:00:00</td>\n",
       "        <td>26</td>\n",
       "        <td>2</td>\n",
       "        <td>1</td>\n",
       "        <td>2016-04-23 00:00:00</td>\n",
       "        <td>G</td>\n",
       "        <td>R</td>\n",
       "        <td>M</td>\n",
       "        <td>1990</td>\n",
       "        <td>2016-10-22 00:00:00</td>\n",
       "        <td>M</td>\n",
       "        <td>*GA</td>\n",
       "        <td>94361995930</td>\n",
       "        <td>XBLNG</td>\n",
       "        <td>B2</td>\n",
       "    </tr>\n",
       "    <tr>\n",
       "        <td>1195600</td>\n",
       "        <td>2016</td>\n",
       "        <td>4</td>\n",
       "        <td>148</td>\n",
       "        <td>112</td>\n",
       "        <td>OGG</td>\n",
       "        <td>2016-04-07 00:00:00</td>\n",
       "        <td>1</td>\n",
       "        <td>FL</td>\n",
       "        <td>2016-04-27 00:00:00</td>\n",
       "        <td>76</td>\n",
       "        <td>2</td>\n",
       "        <td>1</td>\n",
       "        <td>2016-04-07 00:00:00</td>\n",
       "        <td>G</td>\n",
       "        <td>O</td>\n",
       "        <td>M</td>\n",
       "        <td>1940</td>\n",
       "        <td>2016-07-05 00:00:00</td>\n",
       "        <td>M</td>\n",
       "        <td>LH</td>\n",
       "        <td>55780468433</td>\n",
       "        <td>00464</td>\n",
       "        <td>WT</td>\n",
       "    </tr>\n",
       "    <tr>\n",
       "        <td>5291768</td>\n",
       "        <td>2016</td>\n",
       "        <td>4</td>\n",
       "        <td>297</td>\n",
       "        <td>297</td>\n",
       "        <td>LOS</td>\n",
       "        <td>2016-04-28 00:00:00</td>\n",
       "        <td>1</td>\n",
       "        <td>CA</td>\n",
       "        <td>2016-05-07 00:00:00</td>\n",
       "        <td>25</td>\n",
       "        <td>2</td>\n",
       "        <td>1</td>\n",
       "        <td>2016-04-28 00:00:00</td>\n",
       "        <td>G</td>\n",
       "        <td>O</td>\n",
       "        <td>M</td>\n",
       "        <td>1991</td>\n",
       "        <td>2016-10-27 00:00:00</td>\n",
       "        <td>M</td>\n",
       "        <td>QR</td>\n",
       "        <td>94789696030</td>\n",
       "        <td>00739</td>\n",
       "        <td>B2</td>\n",
       "    </tr>\n",
       "    <tr>\n",
       "        <td>985523</td>\n",
       "        <td>2016</td>\n",
       "        <td>4</td>\n",
       "        <td>111</td>\n",
       "        <td>111</td>\n",
       "        <td>CHM</td>\n",
       "        <td>2016-04-06 00:00:00</td>\n",
       "        <td>3</td>\n",
       "        <td>NY</td>\n",
       "        <td>2016-04-09 00:00:00</td>\n",
       "        <td>19</td>\n",
       "        <td>2</td>\n",
       "        <td>1</td>\n",
       "        <td>2016-04-06 00:00:00</td>\n",
       "        <td>Z</td>\n",
       "        <td>K</td>\n",
       "        <td>M</td>\n",
       "        <td>1997</td>\n",
       "        <td>2016-07-04 00:00:00</td>\n",
       "        <td>F</td>\n",
       "        <td>None</td>\n",
       "        <td>42322572633</td>\n",
       "        <td>LAND</td>\n",
       "        <td>WT</td>\n",
       "    </tr>\n",
       "</table>"
      ],
      "text/plain": [
       "[('4084316', 2016, 4, '209', '209', 'HHW', '2016-04-22 00:00:00', 1, 'HI', '2016-04-29 00:00:00', 61, 2, 1, '2016-04-22 00:00:00', 'G', 'O', 'M', 1955, '2016-07-20 00:00:00', 'F', 'JL', '56582674633', '00782', 'WT'),\n",
       " ('4422636', 2016, 4, '582', '582', 'MCA', '2016-04-23 00:00:00', 1, 'TX', '2016-04-24 00:00:00', 26, 2, 1, '2016-04-23 00:00:00', 'G', 'R', 'M', 1990, '2016-10-22 00:00:00', 'M', '*GA', '94361995930', 'XBLNG', 'B2'),\n",
       " ('1195600', 2016, 4, '148', '112', 'OGG', '2016-04-07 00:00:00', 1, 'FL', '2016-04-27 00:00:00', 76, 2, 1, '2016-04-07 00:00:00', 'G', 'O', 'M', 1940, '2016-07-05 00:00:00', 'M', 'LH', '55780468433', '00464', 'WT'),\n",
       " ('5291768', 2016, 4, '297', '297', 'LOS', '2016-04-28 00:00:00', 1, 'CA', '2016-05-07 00:00:00', 25, 2, 1, '2016-04-28 00:00:00', 'G', 'O', 'M', 1991, '2016-10-27 00:00:00', 'M', 'QR', '94789696030', '00739', 'B2'),\n",
       " ('985523', 2016, 4, '111', '111', 'CHM', '2016-04-06 00:00:00', 3, 'NY', '2016-04-09 00:00:00', 19, 2, 1, '2016-04-06 00:00:00', 'Z', 'K', 'M', 1997, '2016-07-04 00:00:00', 'F', None, '42322572633', 'LAND', 'WT')]"
      ]
     },
     "execution_count": 11,
     "metadata": {},
     "output_type": "execute_result"
    }
   ],
   "source": [
    "%%sql\n",
    "SELECT * FROM fact_immigration LIMIT 5"
   ]
  },
  {
   "cell_type": "code",
   "execution_count": null,
   "metadata": {
    "editable": true
   },
   "outputs": [],
   "source": []
  }
 ],
 "metadata": {
  "kernelspec": {
   "display_name": "Python 3",
   "language": "python",
   "name": "python3"
  },
  "language_info": {
   "codemirror_mode": {
    "name": "ipython",
    "version": 3
   },
   "file_extension": ".py",
   "mimetype": "text/x-python",
   "name": "python",
   "nbconvert_exporter": "python",
   "pygments_lexer": "ipython3",
   "version": "3.6.3"
  }
 },
 "nbformat": 4,
 "nbformat_minor": 4
}
