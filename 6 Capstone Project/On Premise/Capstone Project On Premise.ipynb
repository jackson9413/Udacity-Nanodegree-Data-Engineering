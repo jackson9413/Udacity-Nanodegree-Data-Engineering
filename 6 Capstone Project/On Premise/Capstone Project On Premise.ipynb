{
 "cells": [
  {
   "cell_type": "markdown",
   "metadata": {
    "editable": true
   },
   "source": [
    "# US Immigration And Its Contributing Factors\n",
    "### Data Engineering Capstone Project\n",
    "\n",
    "#### Project Summary\n",
    "This project studies the relationship between the immigrants to US states and the population demographics, the temperature, and the airports.  \n",
    "It uses STAR schema to create different dimension and fact tables based on the data sourced publicily.  \n",
    "The processes developed in this Jupyter Notebook is based on premise tools.  \n",
    "It uses sqlite to build a data warehouse and develops ETL scripts with Python and SQL. \n",
    "\n",
    "The project follows the following steps:\n",
    "* [Step 1: Scope the Project and Gather Data](#step1)\n",
    "* [Step 2: Explore and Assess the Data](#step2)\n",
    "* [Step 3: Define the Data Model](#model)\n",
    "* [Step 4: Run ETL to Model the Data](#check)\n",
    "* [Step 5: Complete Project Write Up](#complete)"
   ]
  },
  {
   "cell_type": "code",
   "execution_count": 1,
   "metadata": {
    "editable": true
   },
   "outputs": [],
   "source": [
    "# !pip install --upgrade pandas"
   ]
  },
  {
   "cell_type": "code",
   "execution_count": 2,
   "metadata": {
    "editable": true
   },
   "outputs": [],
   "source": [
    "# !pip install --upgrade numpy"
   ]
  },
  {
   "cell_type": "code",
   "execution_count": 3,
   "metadata": {
    "editable": true
   },
   "outputs": [],
   "source": [
    "# !pip install --upgrade numexpr"
   ]
  },
  {
   "cell_type": "code",
   "execution_count": 4,
   "metadata": {
    "editable": true
   },
   "outputs": [],
   "source": [
    "# !pip install ipython-sql"
   ]
  },
  {
   "cell_type": "code",
   "execution_count": 5,
   "metadata": {
    "editable": true
   },
   "outputs": [],
   "source": [
    "# !d:\\anaconda3\\python.exe -m pip install --upgrade pip"
   ]
  },
  {
   "cell_type": "code",
   "execution_count": 6,
   "metadata": {
    "editable": true
   },
   "outputs": [],
   "source": [
    "# Do all imports and installs here\n",
    "import pandas as pd\n",
    "import numpy as np\n",
    "import sqlite3\n",
    "from sqlalchemy import create_engine"
   ]
  },
  {
   "cell_type": "code",
   "execution_count": 7,
   "metadata": {
    "editable": true
   },
   "outputs": [],
   "source": [
    "# show all the columns\n",
    "pd.set_option('display.max_columns', None)"
   ]
  },
  {
   "cell_type": "code",
   "execution_count": 8,
   "metadata": {
    "editable": true
   },
   "outputs": [],
   "source": [
    "# Run sql query\n",
    "%load_ext sql"
   ]
  },
  {
   "cell_type": "markdown",
   "metadata": {
    "editable": true
   },
   "source": [
    "<a id='step1'></a>"
   ]
  },
  {
   "cell_type": "markdown",
   "metadata": {
    "editable": true
   },
   "source": [
    "### Step 1: Scope the Project and Gather Data\n",
    "\n",
    "#### Scope \n",
    "1. **Purpose**: The relationship among immigrants, temperature, population, and airports.\n",
    "2. **Data**: immigrants, temperature, population, and airports data.\n",
    "3. **Solution**: dimension tables for temperature, population, airports and fact tables for tourists.\n",
    "4. **Tools**: sqlite, Python, SQL\n",
    "#### Describe and Gather Data \n",
    "- **Immigrants**: immigrants and their demographics; [Source](https://www.trade.gov/national-travel-and-tourism-office)\n",
    "- **Temperature**: average temperature; [Source](https://www.kaggle.com/datasets/berkeleyearth/climate-change-earth-surface-temperature-data?resource=download)\n",
    "- **Population**: population and its demographics; [Source](https://public.opendatasoft.com/explore/dataset/us-cities-demographics/export/)\n",
    "- **Airports**: airport type and features; [Source](https://datahub.io/core/airport-codes#pandas)"
   ]
  },
  {
   "cell_type": "markdown",
   "metadata": {
    "editable": true
   },
   "source": [
    "<a id=\"step2\"></a>"
   ]
  },
  {
   "cell_type": "markdown",
   "metadata": {
    "editable": true
   },
   "source": [
    "### Step 2: Explore and Assess the Data\n",
    "#### Explore the Data \n",
    "[Identify data quality issues, like missing values, duplicate data, etc.](#identify)\n",
    "- [airport](#airport)\n",
    "- [immigration](#immigration)\n",
    "- [cities](#city)\n",
    "- [temperature](#temperature)\n",
    "#### Cleaning Steps\n",
    "[Document steps necessary to clean the data](#clean)"
   ]
  },
  {
   "cell_type": "markdown",
   "metadata": {
    "editable": true
   },
   "source": [
    "<a id=\"identify\"></a>"
   ]
  },
  {
   "cell_type": "markdown",
   "metadata": {
    "editable": true
   },
   "source": [
    "#### 2.1 Explore the data ####"
   ]
  },
  {
   "cell_type": "markdown",
   "metadata": {
    "editable": true
   },
   "source": [
    "<a id=\"airport\"></a>"
   ]
  },
  {
   "cell_type": "markdown",
   "metadata": {
    "editable": true
   },
   "source": [
    "[airport](https://datahub.io/core/airport-codes#pandas)"
   ]
  },
  {
   "cell_type": "code",
   "execution_count": 9,
   "metadata": {
    "editable": true
   },
   "outputs": [],
   "source": [
    "# Read data\n",
    "# read data as \"string\" format to ensure all the information is correct\n",
    "airport = pd.read_csv(\"../airport-codes_csv.csv\", dtype=\"str\")"
   ]
  },
  {
   "cell_type": "code",
   "execution_count": 10,
   "metadata": {
    "editable": true
   },
   "outputs": [
    {
     "name": "stdout",
     "output_type": "stream",
     "text": [
      "<class 'pandas.core.frame.DataFrame'>\n",
      "RangeIndex: 55075 entries, 0 to 55074\n",
      "Data columns (total 12 columns):\n",
      " #   Column        Non-Null Count  Dtype \n",
      "---  ------        --------------  ----- \n",
      " 0   ident         55075 non-null  object\n",
      " 1   type          55075 non-null  object\n",
      " 2   name          55075 non-null  object\n",
      " 3   elevation_ft  48069 non-null  object\n",
      " 4   continent     27356 non-null  object\n",
      " 5   iso_country   54828 non-null  object\n",
      " 6   iso_region    55075 non-null  object\n",
      " 7   municipality  49399 non-null  object\n",
      " 8   gps_code      41030 non-null  object\n",
      " 9   iata_code     9189 non-null   object\n",
      " 10  local_code    28686 non-null  object\n",
      " 11  coordinates   55075 non-null  object\n",
      "dtypes: object(12)\n",
      "memory usage: 5.0+ MB\n"
     ]
    }
   ],
   "source": [
    "# airport summary\n",
    "airport.info()"
   ]
  },
  {
   "cell_type": "markdown",
   "metadata": {
    "editable": true
   },
   "source": [
    "**Notes**:\n",
    "1. All types are \"object\". Need to be changed to the right formats."
   ]
  },
  {
   "cell_type": "code",
   "execution_count": 11,
   "metadata": {
    "editable": true
   },
   "outputs": [
    {
     "data": {
      "text/html": [
       "<div>\n",
       "<style scoped>\n",
       "    .dataframe tbody tr th:only-of-type {\n",
       "        vertical-align: middle;\n",
       "    }\n",
       "\n",
       "    .dataframe tbody tr th {\n",
       "        vertical-align: top;\n",
       "    }\n",
       "\n",
       "    .dataframe thead th {\n",
       "        text-align: right;\n",
       "    }\n",
       "</style>\n",
       "<table border=\"1\" class=\"dataframe\">\n",
       "  <thead>\n",
       "    <tr style=\"text-align: right;\">\n",
       "      <th></th>\n",
       "      <th>ident</th>\n",
       "      <th>type</th>\n",
       "      <th>name</th>\n",
       "      <th>elevation_ft</th>\n",
       "      <th>continent</th>\n",
       "      <th>iso_country</th>\n",
       "      <th>iso_region</th>\n",
       "      <th>municipality</th>\n",
       "      <th>gps_code</th>\n",
       "      <th>iata_code</th>\n",
       "      <th>local_code</th>\n",
       "      <th>coordinates</th>\n",
       "    </tr>\n",
       "  </thead>\n",
       "  <tbody>\n",
       "    <tr>\n",
       "      <th>0</th>\n",
       "      <td>00A</td>\n",
       "      <td>heliport</td>\n",
       "      <td>Total Rf Heliport</td>\n",
       "      <td>11</td>\n",
       "      <td>NaN</td>\n",
       "      <td>US</td>\n",
       "      <td>US-PA</td>\n",
       "      <td>Bensalem</td>\n",
       "      <td>00A</td>\n",
       "      <td>NaN</td>\n",
       "      <td>00A</td>\n",
       "      <td>-74.93360137939453, 40.07080078125</td>\n",
       "    </tr>\n",
       "    <tr>\n",
       "      <th>1</th>\n",
       "      <td>00AA</td>\n",
       "      <td>small_airport</td>\n",
       "      <td>Aero B Ranch Airport</td>\n",
       "      <td>3435</td>\n",
       "      <td>NaN</td>\n",
       "      <td>US</td>\n",
       "      <td>US-KS</td>\n",
       "      <td>Leoti</td>\n",
       "      <td>00AA</td>\n",
       "      <td>NaN</td>\n",
       "      <td>00AA</td>\n",
       "      <td>-101.473911, 38.704022</td>\n",
       "    </tr>\n",
       "    <tr>\n",
       "      <th>2</th>\n",
       "      <td>00AK</td>\n",
       "      <td>small_airport</td>\n",
       "      <td>Lowell Field</td>\n",
       "      <td>450</td>\n",
       "      <td>NaN</td>\n",
       "      <td>US</td>\n",
       "      <td>US-AK</td>\n",
       "      <td>Anchor Point</td>\n",
       "      <td>00AK</td>\n",
       "      <td>NaN</td>\n",
       "      <td>00AK</td>\n",
       "      <td>-151.695999146, 59.94919968</td>\n",
       "    </tr>\n",
       "    <tr>\n",
       "      <th>3</th>\n",
       "      <td>00AL</td>\n",
       "      <td>small_airport</td>\n",
       "      <td>Epps Airpark</td>\n",
       "      <td>820</td>\n",
       "      <td>NaN</td>\n",
       "      <td>US</td>\n",
       "      <td>US-AL</td>\n",
       "      <td>Harvest</td>\n",
       "      <td>00AL</td>\n",
       "      <td>NaN</td>\n",
       "      <td>00AL</td>\n",
       "      <td>-86.77030181884766, 34.86479949951172</td>\n",
       "    </tr>\n",
       "    <tr>\n",
       "      <th>4</th>\n",
       "      <td>00AR</td>\n",
       "      <td>closed</td>\n",
       "      <td>Newport Hospital &amp; Clinic Heliport</td>\n",
       "      <td>237</td>\n",
       "      <td>NaN</td>\n",
       "      <td>US</td>\n",
       "      <td>US-AR</td>\n",
       "      <td>Newport</td>\n",
       "      <td>NaN</td>\n",
       "      <td>NaN</td>\n",
       "      <td>NaN</td>\n",
       "      <td>-91.254898, 35.6087</td>\n",
       "    </tr>\n",
       "  </tbody>\n",
       "</table>\n",
       "</div>"
      ],
      "text/plain": [
       "  ident           type                                name elevation_ft  \\\n",
       "0   00A       heliport                   Total Rf Heliport           11   \n",
       "1  00AA  small_airport                Aero B Ranch Airport         3435   \n",
       "2  00AK  small_airport                        Lowell Field          450   \n",
       "3  00AL  small_airport                        Epps Airpark          820   \n",
       "4  00AR         closed  Newport Hospital & Clinic Heliport          237   \n",
       "\n",
       "  continent iso_country iso_region  municipality gps_code iata_code  \\\n",
       "0       NaN          US      US-PA      Bensalem      00A       NaN   \n",
       "1       NaN          US      US-KS         Leoti     00AA       NaN   \n",
       "2       NaN          US      US-AK  Anchor Point     00AK       NaN   \n",
       "3       NaN          US      US-AL       Harvest     00AL       NaN   \n",
       "4       NaN          US      US-AR       Newport      NaN       NaN   \n",
       "\n",
       "  local_code                            coordinates  \n",
       "0        00A     -74.93360137939453, 40.07080078125  \n",
       "1       00AA                 -101.473911, 38.704022  \n",
       "2       00AK            -151.695999146, 59.94919968  \n",
       "3       00AL  -86.77030181884766, 34.86479949951172  \n",
       "4        NaN                    -91.254898, 35.6087  "
      ]
     },
     "execution_count": 11,
     "metadata": {},
     "output_type": "execute_result"
    }
   ],
   "source": [
    "# top 5\n",
    "airport.head()"
   ]
  },
  {
   "cell_type": "markdown",
   "metadata": {
    "editable": true
   },
   "source": [
    "**Notes**:\n",
    "1. \"iso_country\" contains country and \"iso_region\" is combined by country and state.\n",
    "2. \"coordinates\" needs to be separated by two columns \"longitude\" and \"latitude\"."
   ]
  },
  {
   "cell_type": "code",
   "execution_count": 12,
   "metadata": {
    "editable": true
   },
   "outputs": [
    {
     "data": {
      "text/plain": [
       "ident           55075\n",
       "type                7\n",
       "name            52144\n",
       "elevation_ft     5449\n",
       "continent           6\n",
       "iso_country       243\n",
       "iso_region       2810\n",
       "municipality    27133\n",
       "gps_code        40850\n",
       "iata_code        9042\n",
       "local_code      27436\n",
       "coordinates     54874\n",
       "dtype: int64"
      ]
     },
     "execution_count": 12,
     "metadata": {},
     "output_type": "execute_result"
    }
   ],
   "source": [
    "# airport unique values \n",
    "airport.nunique()"
   ]
  },
  {
   "cell_type": "code",
   "execution_count": 13,
   "metadata": {
    "editable": true
   },
   "outputs": [
    {
     "data": {
      "text/html": [
       "<div>\n",
       "<style scoped>\n",
       "    .dataframe tbody tr th:only-of-type {\n",
       "        vertical-align: middle;\n",
       "    }\n",
       "\n",
       "    .dataframe tbody tr th {\n",
       "        vertical-align: top;\n",
       "    }\n",
       "\n",
       "    .dataframe thead th {\n",
       "        text-align: right;\n",
       "    }\n",
       "</style>\n",
       "<table border=\"1\" class=\"dataframe\">\n",
       "  <thead>\n",
       "    <tr style=\"text-align: right;\">\n",
       "      <th></th>\n",
       "      <th>ident</th>\n",
       "      <th>type</th>\n",
       "      <th>name</th>\n",
       "      <th>elevation_ft</th>\n",
       "      <th>continent</th>\n",
       "      <th>iso_country</th>\n",
       "      <th>iso_region</th>\n",
       "      <th>municipality</th>\n",
       "      <th>gps_code</th>\n",
       "      <th>iata_code</th>\n",
       "      <th>local_code</th>\n",
       "      <th>coordinates</th>\n",
       "    </tr>\n",
       "  </thead>\n",
       "  <tbody>\n",
       "    <tr>\n",
       "      <th>0</th>\n",
       "      <td>00A</td>\n",
       "      <td>heliport</td>\n",
       "      <td>Total Rf Heliport</td>\n",
       "      <td>11</td>\n",
       "      <td>NaN</td>\n",
       "      <td>US</td>\n",
       "      <td>US-PA</td>\n",
       "      <td>Bensalem</td>\n",
       "      <td>00A</td>\n",
       "      <td>NaN</td>\n",
       "      <td>00A</td>\n",
       "      <td>-74.93360137939453, 40.07080078125</td>\n",
       "    </tr>\n",
       "    <tr>\n",
       "      <th>1</th>\n",
       "      <td>00AA</td>\n",
       "      <td>small_airport</td>\n",
       "      <td>Aero B Ranch Airport</td>\n",
       "      <td>3435</td>\n",
       "      <td>NaN</td>\n",
       "      <td>US</td>\n",
       "      <td>US-KS</td>\n",
       "      <td>Leoti</td>\n",
       "      <td>00AA</td>\n",
       "      <td>NaN</td>\n",
       "      <td>00AA</td>\n",
       "      <td>-101.473911, 38.704022</td>\n",
       "    </tr>\n",
       "    <tr>\n",
       "      <th>2</th>\n",
       "      <td>00AK</td>\n",
       "      <td>small_airport</td>\n",
       "      <td>Lowell Field</td>\n",
       "      <td>450</td>\n",
       "      <td>NaN</td>\n",
       "      <td>US</td>\n",
       "      <td>US-AK</td>\n",
       "      <td>Anchor Point</td>\n",
       "      <td>00AK</td>\n",
       "      <td>NaN</td>\n",
       "      <td>00AK</td>\n",
       "      <td>-151.695999146, 59.94919968</td>\n",
       "    </tr>\n",
       "    <tr>\n",
       "      <th>3</th>\n",
       "      <td>00AL</td>\n",
       "      <td>small_airport</td>\n",
       "      <td>Epps Airpark</td>\n",
       "      <td>820</td>\n",
       "      <td>NaN</td>\n",
       "      <td>US</td>\n",
       "      <td>US-AL</td>\n",
       "      <td>Harvest</td>\n",
       "      <td>00AL</td>\n",
       "      <td>NaN</td>\n",
       "      <td>00AL</td>\n",
       "      <td>-86.77030181884766, 34.86479949951172</td>\n",
       "    </tr>\n",
       "    <tr>\n",
       "      <th>4</th>\n",
       "      <td>00AR</td>\n",
       "      <td>closed</td>\n",
       "      <td>Newport Hospital &amp; Clinic Heliport</td>\n",
       "      <td>237</td>\n",
       "      <td>NaN</td>\n",
       "      <td>US</td>\n",
       "      <td>US-AR</td>\n",
       "      <td>Newport</td>\n",
       "      <td>NaN</td>\n",
       "      <td>NaN</td>\n",
       "      <td>NaN</td>\n",
       "      <td>-91.254898, 35.6087</td>\n",
       "    </tr>\n",
       "    <tr>\n",
       "      <th>...</th>\n",
       "      <td>...</td>\n",
       "      <td>...</td>\n",
       "      <td>...</td>\n",
       "      <td>...</td>\n",
       "      <td>...</td>\n",
       "      <td>...</td>\n",
       "      <td>...</td>\n",
       "      <td>...</td>\n",
       "      <td>...</td>\n",
       "      <td>...</td>\n",
       "      <td>...</td>\n",
       "      <td>...</td>\n",
       "    </tr>\n",
       "    <tr>\n",
       "      <th>55070</th>\n",
       "      <td>ZYYK</td>\n",
       "      <td>medium_airport</td>\n",
       "      <td>Yingkou Lanqi Airport</td>\n",
       "      <td>0</td>\n",
       "      <td>AS</td>\n",
       "      <td>CN</td>\n",
       "      <td>CN-21</td>\n",
       "      <td>Yingkou</td>\n",
       "      <td>ZYYK</td>\n",
       "      <td>YKH</td>\n",
       "      <td>NaN</td>\n",
       "      <td>122.3586, 40.542524</td>\n",
       "    </tr>\n",
       "    <tr>\n",
       "      <th>55071</th>\n",
       "      <td>ZYYY</td>\n",
       "      <td>medium_airport</td>\n",
       "      <td>Shenyang Dongta Airport</td>\n",
       "      <td>NaN</td>\n",
       "      <td>AS</td>\n",
       "      <td>CN</td>\n",
       "      <td>CN-21</td>\n",
       "      <td>Shenyang</td>\n",
       "      <td>ZYYY</td>\n",
       "      <td>NaN</td>\n",
       "      <td>NaN</td>\n",
       "      <td>123.49600219726562, 41.784400939941406</td>\n",
       "    </tr>\n",
       "    <tr>\n",
       "      <th>55072</th>\n",
       "      <td>ZZ-0001</td>\n",
       "      <td>heliport</td>\n",
       "      <td>Sealand Helipad</td>\n",
       "      <td>40</td>\n",
       "      <td>EU</td>\n",
       "      <td>GB</td>\n",
       "      <td>GB-ENG</td>\n",
       "      <td>Sealand</td>\n",
       "      <td>NaN</td>\n",
       "      <td>NaN</td>\n",
       "      <td>NaN</td>\n",
       "      <td>1.4825, 51.894444</td>\n",
       "    </tr>\n",
       "    <tr>\n",
       "      <th>55073</th>\n",
       "      <td>ZZ-0002</td>\n",
       "      <td>small_airport</td>\n",
       "      <td>Glorioso Islands Airstrip</td>\n",
       "      <td>11</td>\n",
       "      <td>AF</td>\n",
       "      <td>TF</td>\n",
       "      <td>TF-U-A</td>\n",
       "      <td>Grande Glorieuse</td>\n",
       "      <td>NaN</td>\n",
       "      <td>NaN</td>\n",
       "      <td>NaN</td>\n",
       "      <td>47.296388888900005, -11.584277777799999</td>\n",
       "    </tr>\n",
       "    <tr>\n",
       "      <th>55074</th>\n",
       "      <td>ZZZZ</td>\n",
       "      <td>small_airport</td>\n",
       "      <td>Satsuma IÅjima Airport</td>\n",
       "      <td>338</td>\n",
       "      <td>AS</td>\n",
       "      <td>JP</td>\n",
       "      <td>JP-46</td>\n",
       "      <td>Mishima-Mura</td>\n",
       "      <td>RJX7</td>\n",
       "      <td>NaN</td>\n",
       "      <td>NaN</td>\n",
       "      <td>130.270556, 30.784722</td>\n",
       "    </tr>\n",
       "  </tbody>\n",
       "</table>\n",
       "<p>54397 rows × 12 columns</p>\n",
       "</div>"
      ],
      "text/plain": [
       "         ident            type                                name  \\\n",
       "0          00A        heliport                   Total Rf Heliport   \n",
       "1         00AA   small_airport                Aero B Ranch Airport   \n",
       "2         00AK   small_airport                        Lowell Field   \n",
       "3         00AL   small_airport                        Epps Airpark   \n",
       "4         00AR          closed  Newport Hospital & Clinic Heliport   \n",
       "...        ...             ...                                 ...   \n",
       "55070     ZYYK  medium_airport               Yingkou Lanqi Airport   \n",
       "55071     ZYYY  medium_airport             Shenyang Dongta Airport   \n",
       "55072  ZZ-0001        heliport                     Sealand Helipad   \n",
       "55073  ZZ-0002   small_airport           Glorioso Islands Airstrip   \n",
       "55074     ZZZZ   small_airport             Satsuma IÅjima Airport   \n",
       "\n",
       "      elevation_ft continent iso_country iso_region      municipality  \\\n",
       "0               11       NaN          US      US-PA          Bensalem   \n",
       "1             3435       NaN          US      US-KS             Leoti   \n",
       "2              450       NaN          US      US-AK      Anchor Point   \n",
       "3              820       NaN          US      US-AL           Harvest   \n",
       "4              237       NaN          US      US-AR           Newport   \n",
       "...            ...       ...         ...        ...               ...   \n",
       "55070            0        AS          CN      CN-21           Yingkou   \n",
       "55071          NaN        AS          CN      CN-21          Shenyang   \n",
       "55072           40        EU          GB     GB-ENG           Sealand   \n",
       "55073           11        AF          TF     TF-U-A  Grande Glorieuse   \n",
       "55074          338        AS          JP      JP-46      Mishima-Mura   \n",
       "\n",
       "      gps_code iata_code local_code                              coordinates  \n",
       "0          00A       NaN        00A       -74.93360137939453, 40.07080078125  \n",
       "1         00AA       NaN       00AA                   -101.473911, 38.704022  \n",
       "2         00AK       NaN       00AK              -151.695999146, 59.94919968  \n",
       "3         00AL       NaN       00AL    -86.77030181884766, 34.86479949951172  \n",
       "4          NaN       NaN        NaN                      -91.254898, 35.6087  \n",
       "...        ...       ...        ...                                      ...  \n",
       "55070     ZYYK       YKH        NaN                      122.3586, 40.542524  \n",
       "55071     ZYYY       NaN        NaN   123.49600219726562, 41.784400939941406  \n",
       "55072      NaN       NaN        NaN                        1.4825, 51.894444  \n",
       "55073      NaN       NaN        NaN  47.296388888900005, -11.584277777799999  \n",
       "55074     RJX7       NaN        NaN                    130.270556, 30.784722  \n",
       "\n",
       "[54397 rows x 12 columns]"
      ]
     },
     "execution_count": 13,
     "metadata": {},
     "output_type": "execute_result"
    }
   ],
   "source": [
    "# NaN rows\n",
    "airport[airport.isnull().any(axis=1)]"
   ]
  },
  {
   "cell_type": "markdown",
   "metadata": {
    "editable": true
   },
   "source": [
    "**Notes**:\n",
    "1. 54397 rows out of 55075 contain NaN."
   ]
  },
  {
   "cell_type": "code",
   "execution_count": 14,
   "metadata": {
    "editable": true
   },
   "outputs": [
    {
     "data": {
      "text/plain": [
       "Index(['elevation_ft', 'continent', 'iso_country', 'municipality', 'gps_code',\n",
       "       'iata_code', 'local_code'],\n",
       "      dtype='object')"
      ]
     },
     "execution_count": 14,
     "metadata": {},
     "output_type": "execute_result"
    }
   ],
   "source": [
    "# NaN columns\n",
    "airport.columns[airport.isna().any()]"
   ]
  },
  {
   "cell_type": "markdown",
   "metadata": {
    "editable": true
   },
   "source": [
    "**Notes**:\n",
    "1. Some columns contain NaN values."
   ]
  },
  {
   "cell_type": "code",
   "execution_count": 15,
   "metadata": {
    "editable": true
   },
   "outputs": [
    {
     "data": {
      "text/plain": [
       "True"
      ]
     },
     "execution_count": 15,
     "metadata": {},
     "output_type": "execute_result"
    }
   ],
   "source": [
    "# mo duplicates\n",
    "len(airport) == len(airport.drop_duplicates())"
   ]
  },
  {
   "cell_type": "markdown",
   "metadata": {
    "editable": true
   },
   "source": [
    "**Notes**:\n",
    "1. There are no duplicates. "
   ]
  },
  {
   "cell_type": "markdown",
   "metadata": {
    "editable": true
   },
   "source": [
    "<a id=\"immigration\"></a>"
   ]
  },
  {
   "cell_type": "markdown",
   "metadata": {
    "editable": true
   },
   "source": [
    "[Immigration](https://www.trade.gov/national-travel-and-tourism-office)"
   ]
  },
  {
   "cell_type": "code",
   "execution_count": 16,
   "metadata": {
    "editable": true
   },
   "outputs": [],
   "source": [
    "# i94 data\n",
    "# read data as \"string\" format to ensure all the information is correct and drop \"Unnamed: 0\" column\n",
    "immigration = pd.read_csv(\"../immigration_data_sample.csv\", dtype=\"str\").drop(\"Unnamed: 0\", axis = 1)"
   ]
  },
  {
   "cell_type": "code",
   "execution_count": 17,
   "metadata": {
    "editable": true
   },
   "outputs": [
    {
     "data": {
      "text/html": [
       "<div>\n",
       "<style scoped>\n",
       "    .dataframe tbody tr th:only-of-type {\n",
       "        vertical-align: middle;\n",
       "    }\n",
       "\n",
       "    .dataframe tbody tr th {\n",
       "        vertical-align: top;\n",
       "    }\n",
       "\n",
       "    .dataframe thead th {\n",
       "        text-align: right;\n",
       "    }\n",
       "</style>\n",
       "<table border=\"1\" class=\"dataframe\">\n",
       "  <thead>\n",
       "    <tr style=\"text-align: right;\">\n",
       "      <th></th>\n",
       "      <th>cicid</th>\n",
       "      <th>i94yr</th>\n",
       "      <th>i94mon</th>\n",
       "      <th>i94cit</th>\n",
       "      <th>i94res</th>\n",
       "      <th>i94port</th>\n",
       "      <th>arrdate</th>\n",
       "      <th>i94mode</th>\n",
       "      <th>i94addr</th>\n",
       "      <th>depdate</th>\n",
       "      <th>i94bir</th>\n",
       "      <th>i94visa</th>\n",
       "      <th>count</th>\n",
       "      <th>dtadfile</th>\n",
       "      <th>visapost</th>\n",
       "      <th>occup</th>\n",
       "      <th>entdepa</th>\n",
       "      <th>entdepd</th>\n",
       "      <th>entdepu</th>\n",
       "      <th>matflag</th>\n",
       "      <th>biryear</th>\n",
       "      <th>dtaddto</th>\n",
       "      <th>gender</th>\n",
       "      <th>insnum</th>\n",
       "      <th>airline</th>\n",
       "      <th>admnum</th>\n",
       "      <th>fltno</th>\n",
       "      <th>visatype</th>\n",
       "    </tr>\n",
       "  </thead>\n",
       "  <tbody>\n",
       "    <tr>\n",
       "      <th>0</th>\n",
       "      <td>4084316.0</td>\n",
       "      <td>2016.0</td>\n",
       "      <td>4.0</td>\n",
       "      <td>209.0</td>\n",
       "      <td>209.0</td>\n",
       "      <td>HHW</td>\n",
       "      <td>20566.0</td>\n",
       "      <td>1.0</td>\n",
       "      <td>HI</td>\n",
       "      <td>20573.0</td>\n",
       "      <td>61.0</td>\n",
       "      <td>2.0</td>\n",
       "      <td>1.0</td>\n",
       "      <td>20160422</td>\n",
       "      <td>NaN</td>\n",
       "      <td>NaN</td>\n",
       "      <td>G</td>\n",
       "      <td>O</td>\n",
       "      <td>NaN</td>\n",
       "      <td>M</td>\n",
       "      <td>1955.0</td>\n",
       "      <td>07202016</td>\n",
       "      <td>F</td>\n",
       "      <td>NaN</td>\n",
       "      <td>JL</td>\n",
       "      <td>56582674633.0</td>\n",
       "      <td>00782</td>\n",
       "      <td>WT</td>\n",
       "    </tr>\n",
       "    <tr>\n",
       "      <th>1</th>\n",
       "      <td>4422636.0</td>\n",
       "      <td>2016.0</td>\n",
       "      <td>4.0</td>\n",
       "      <td>582.0</td>\n",
       "      <td>582.0</td>\n",
       "      <td>MCA</td>\n",
       "      <td>20567.0</td>\n",
       "      <td>1.0</td>\n",
       "      <td>TX</td>\n",
       "      <td>20568.0</td>\n",
       "      <td>26.0</td>\n",
       "      <td>2.0</td>\n",
       "      <td>1.0</td>\n",
       "      <td>20160423</td>\n",
       "      <td>MTR</td>\n",
       "      <td>NaN</td>\n",
       "      <td>G</td>\n",
       "      <td>R</td>\n",
       "      <td>NaN</td>\n",
       "      <td>M</td>\n",
       "      <td>1990.0</td>\n",
       "      <td>10222016</td>\n",
       "      <td>M</td>\n",
       "      <td>NaN</td>\n",
       "      <td>*GA</td>\n",
       "      <td>94361995930.0</td>\n",
       "      <td>XBLNG</td>\n",
       "      <td>B2</td>\n",
       "    </tr>\n",
       "    <tr>\n",
       "      <th>2</th>\n",
       "      <td>1195600.0</td>\n",
       "      <td>2016.0</td>\n",
       "      <td>4.0</td>\n",
       "      <td>148.0</td>\n",
       "      <td>112.0</td>\n",
       "      <td>OGG</td>\n",
       "      <td>20551.0</td>\n",
       "      <td>1.0</td>\n",
       "      <td>FL</td>\n",
       "      <td>20571.0</td>\n",
       "      <td>76.0</td>\n",
       "      <td>2.0</td>\n",
       "      <td>1.0</td>\n",
       "      <td>20160407</td>\n",
       "      <td>NaN</td>\n",
       "      <td>NaN</td>\n",
       "      <td>G</td>\n",
       "      <td>O</td>\n",
       "      <td>NaN</td>\n",
       "      <td>M</td>\n",
       "      <td>1940.0</td>\n",
       "      <td>07052016</td>\n",
       "      <td>M</td>\n",
       "      <td>NaN</td>\n",
       "      <td>LH</td>\n",
       "      <td>55780468433.0</td>\n",
       "      <td>00464</td>\n",
       "      <td>WT</td>\n",
       "    </tr>\n",
       "    <tr>\n",
       "      <th>3</th>\n",
       "      <td>5291768.0</td>\n",
       "      <td>2016.0</td>\n",
       "      <td>4.0</td>\n",
       "      <td>297.0</td>\n",
       "      <td>297.0</td>\n",
       "      <td>LOS</td>\n",
       "      <td>20572.0</td>\n",
       "      <td>1.0</td>\n",
       "      <td>CA</td>\n",
       "      <td>20581.0</td>\n",
       "      <td>25.0</td>\n",
       "      <td>2.0</td>\n",
       "      <td>1.0</td>\n",
       "      <td>20160428</td>\n",
       "      <td>DOH</td>\n",
       "      <td>NaN</td>\n",
       "      <td>G</td>\n",
       "      <td>O</td>\n",
       "      <td>NaN</td>\n",
       "      <td>M</td>\n",
       "      <td>1991.0</td>\n",
       "      <td>10272016</td>\n",
       "      <td>M</td>\n",
       "      <td>NaN</td>\n",
       "      <td>QR</td>\n",
       "      <td>94789696030.0</td>\n",
       "      <td>00739</td>\n",
       "      <td>B2</td>\n",
       "    </tr>\n",
       "    <tr>\n",
       "      <th>4</th>\n",
       "      <td>985523.0</td>\n",
       "      <td>2016.0</td>\n",
       "      <td>4.0</td>\n",
       "      <td>111.0</td>\n",
       "      <td>111.0</td>\n",
       "      <td>CHM</td>\n",
       "      <td>20550.0</td>\n",
       "      <td>3.0</td>\n",
       "      <td>NY</td>\n",
       "      <td>20553.0</td>\n",
       "      <td>19.0</td>\n",
       "      <td>2.0</td>\n",
       "      <td>1.0</td>\n",
       "      <td>20160406</td>\n",
       "      <td>NaN</td>\n",
       "      <td>NaN</td>\n",
       "      <td>Z</td>\n",
       "      <td>K</td>\n",
       "      <td>NaN</td>\n",
       "      <td>M</td>\n",
       "      <td>1997.0</td>\n",
       "      <td>07042016</td>\n",
       "      <td>F</td>\n",
       "      <td>NaN</td>\n",
       "      <td>NaN</td>\n",
       "      <td>42322572633.0</td>\n",
       "      <td>LAND</td>\n",
       "      <td>WT</td>\n",
       "    </tr>\n",
       "  </tbody>\n",
       "</table>\n",
       "</div>"
      ],
      "text/plain": [
       "       cicid   i94yr i94mon i94cit i94res i94port  arrdate i94mode i94addr  \\\n",
       "0  4084316.0  2016.0    4.0  209.0  209.0     HHW  20566.0     1.0      HI   \n",
       "1  4422636.0  2016.0    4.0  582.0  582.0     MCA  20567.0     1.0      TX   \n",
       "2  1195600.0  2016.0    4.0  148.0  112.0     OGG  20551.0     1.0      FL   \n",
       "3  5291768.0  2016.0    4.0  297.0  297.0     LOS  20572.0     1.0      CA   \n",
       "4   985523.0  2016.0    4.0  111.0  111.0     CHM  20550.0     3.0      NY   \n",
       "\n",
       "   depdate i94bir i94visa count  dtadfile visapost occup entdepa entdepd  \\\n",
       "0  20573.0   61.0     2.0   1.0  20160422      NaN   NaN       G       O   \n",
       "1  20568.0   26.0     2.0   1.0  20160423      MTR   NaN       G       R   \n",
       "2  20571.0   76.0     2.0   1.0  20160407      NaN   NaN       G       O   \n",
       "3  20581.0   25.0     2.0   1.0  20160428      DOH   NaN       G       O   \n",
       "4  20553.0   19.0     2.0   1.0  20160406      NaN   NaN       Z       K   \n",
       "\n",
       "  entdepu matflag biryear   dtaddto gender insnum airline         admnum  \\\n",
       "0     NaN       M  1955.0  07202016      F    NaN      JL  56582674633.0   \n",
       "1     NaN       M  1990.0  10222016      M    NaN     *GA  94361995930.0   \n",
       "2     NaN       M  1940.0  07052016      M    NaN      LH  55780468433.0   \n",
       "3     NaN       M  1991.0  10272016      M    NaN      QR  94789696030.0   \n",
       "4     NaN       M  1997.0  07042016      F    NaN     NaN  42322572633.0   \n",
       "\n",
       "   fltno visatype  \n",
       "0  00782       WT  \n",
       "1  XBLNG       B2  \n",
       "2  00464       WT  \n",
       "3  00739       B2  \n",
       "4   LAND       WT  "
      ]
     },
     "execution_count": 17,
     "metadata": {},
     "output_type": "execute_result"
    }
   ],
   "source": [
    "# top 5\n",
    "immigration.head()"
   ]
  },
  {
   "cell_type": "markdown",
   "metadata": {
    "editable": true
   },
   "source": [
    "**Notes**:\n",
    "1. \"i94addr\" contains \"State\" which could be a foreign key to link the above airport data."
   ]
  },
  {
   "cell_type": "code",
   "execution_count": 18,
   "metadata": {
    "editable": true
   },
   "outputs": [
    {
     "name": "stdout",
     "output_type": "stream",
     "text": [
      "<class 'pandas.core.frame.DataFrame'>\n",
      "RangeIndex: 1000 entries, 0 to 999\n",
      "Data columns (total 28 columns):\n",
      " #   Column    Non-Null Count  Dtype \n",
      "---  ------    --------------  ----- \n",
      " 0   cicid     1000 non-null   object\n",
      " 1   i94yr     1000 non-null   object\n",
      " 2   i94mon    1000 non-null   object\n",
      " 3   i94cit    1000 non-null   object\n",
      " 4   i94res    1000 non-null   object\n",
      " 5   i94port   1000 non-null   object\n",
      " 6   arrdate   1000 non-null   object\n",
      " 7   i94mode   1000 non-null   object\n",
      " 8   i94addr   941 non-null    object\n",
      " 9   depdate   951 non-null    object\n",
      " 10  i94bir    1000 non-null   object\n",
      " 11  i94visa   1000 non-null   object\n",
      " 12  count     1000 non-null   object\n",
      " 13  dtadfile  1000 non-null   object\n",
      " 14  visapost  382 non-null    object\n",
      " 15  occup     4 non-null      object\n",
      " 16  entdepa   1000 non-null   object\n",
      " 17  entdepd   954 non-null    object\n",
      " 18  entdepu   0 non-null      object\n",
      " 19  matflag   954 non-null    object\n",
      " 20  biryear   1000 non-null   object\n",
      " 21  dtaddto   1000 non-null   object\n",
      " 22  gender    859 non-null    object\n",
      " 23  insnum    35 non-null     object\n",
      " 24  airline   967 non-null    object\n",
      " 25  admnum    1000 non-null   object\n",
      " 26  fltno     992 non-null    object\n",
      " 27  visatype  1000 non-null   object\n",
      "dtypes: object(28)\n",
      "memory usage: 218.9+ KB\n"
     ]
    }
   ],
   "source": [
    "# data information\n",
    "immigration.info()"
   ]
  },
  {
   "cell_type": "markdown",
   "metadata": {
    "editable": true
   },
   "source": [
    "**Notes**:\n",
    "1. All types are \"object\". Need to be changed to the right formats."
   ]
  },
  {
   "cell_type": "code",
   "execution_count": 19,
   "metadata": {
    "editable": true
   },
   "outputs": [
    {
     "data": {
      "text/plain": [
       "cicid       1000\n",
       "i94yr          1\n",
       "i94mon         1\n",
       "i94cit        88\n",
       "i94res        91\n",
       "i94port       70\n",
       "arrdate       30\n",
       "i94mode        4\n",
       "i94addr       51\n",
       "depdate      109\n",
       "i94bir        85\n",
       "i94visa        3\n",
       "count          1\n",
       "dtadfile      39\n",
       "visapost      97\n",
       "occup          3\n",
       "entdepa        9\n",
       "entdepd       10\n",
       "entdepu        0\n",
       "matflag        1\n",
       "biryear       85\n",
       "dtaddto       99\n",
       "gender         3\n",
       "insnum        29\n",
       "airline      101\n",
       "admnum      1000\n",
       "fltno        502\n",
       "visatype      10\n",
       "dtype: int64"
      ]
     },
     "execution_count": 19,
     "metadata": {},
     "output_type": "execute_result"
    }
   ],
   "source": [
    "# unique values\n",
    "immigration.nunique()"
   ]
  },
  {
   "cell_type": "code",
   "execution_count": 20,
   "metadata": {
    "editable": true
   },
   "outputs": [
    {
     "data": {
      "text/html": [
       "<div>\n",
       "<style scoped>\n",
       "    .dataframe tbody tr th:only-of-type {\n",
       "        vertical-align: middle;\n",
       "    }\n",
       "\n",
       "    .dataframe tbody tr th {\n",
       "        vertical-align: top;\n",
       "    }\n",
       "\n",
       "    .dataframe thead th {\n",
       "        text-align: right;\n",
       "    }\n",
       "</style>\n",
       "<table border=\"1\" class=\"dataframe\">\n",
       "  <thead>\n",
       "    <tr style=\"text-align: right;\">\n",
       "      <th></th>\n",
       "      <th>cicid</th>\n",
       "      <th>i94yr</th>\n",
       "      <th>i94mon</th>\n",
       "      <th>i94cit</th>\n",
       "      <th>i94res</th>\n",
       "      <th>i94port</th>\n",
       "      <th>arrdate</th>\n",
       "      <th>i94mode</th>\n",
       "      <th>i94addr</th>\n",
       "      <th>depdate</th>\n",
       "      <th>i94bir</th>\n",
       "      <th>i94visa</th>\n",
       "      <th>count</th>\n",
       "      <th>dtadfile</th>\n",
       "      <th>visapost</th>\n",
       "      <th>occup</th>\n",
       "      <th>entdepa</th>\n",
       "      <th>entdepd</th>\n",
       "      <th>entdepu</th>\n",
       "      <th>matflag</th>\n",
       "      <th>biryear</th>\n",
       "      <th>dtaddto</th>\n",
       "      <th>gender</th>\n",
       "      <th>insnum</th>\n",
       "      <th>airline</th>\n",
       "      <th>admnum</th>\n",
       "      <th>fltno</th>\n",
       "      <th>visatype</th>\n",
       "    </tr>\n",
       "  </thead>\n",
       "  <tbody>\n",
       "    <tr>\n",
       "      <th>0</th>\n",
       "      <td>4084316.0</td>\n",
       "      <td>2016.0</td>\n",
       "      <td>4.0</td>\n",
       "      <td>209.0</td>\n",
       "      <td>209.0</td>\n",
       "      <td>HHW</td>\n",
       "      <td>20566.0</td>\n",
       "      <td>1.0</td>\n",
       "      <td>HI</td>\n",
       "      <td>20573.0</td>\n",
       "      <td>61.0</td>\n",
       "      <td>2.0</td>\n",
       "      <td>1.0</td>\n",
       "      <td>20160422</td>\n",
       "      <td>NaN</td>\n",
       "      <td>NaN</td>\n",
       "      <td>G</td>\n",
       "      <td>O</td>\n",
       "      <td>NaN</td>\n",
       "      <td>M</td>\n",
       "      <td>1955.0</td>\n",
       "      <td>07202016</td>\n",
       "      <td>F</td>\n",
       "      <td>NaN</td>\n",
       "      <td>JL</td>\n",
       "      <td>56582674633.0</td>\n",
       "      <td>00782</td>\n",
       "      <td>WT</td>\n",
       "    </tr>\n",
       "    <tr>\n",
       "      <th>1</th>\n",
       "      <td>4422636.0</td>\n",
       "      <td>2016.0</td>\n",
       "      <td>4.0</td>\n",
       "      <td>582.0</td>\n",
       "      <td>582.0</td>\n",
       "      <td>MCA</td>\n",
       "      <td>20567.0</td>\n",
       "      <td>1.0</td>\n",
       "      <td>TX</td>\n",
       "      <td>20568.0</td>\n",
       "      <td>26.0</td>\n",
       "      <td>2.0</td>\n",
       "      <td>1.0</td>\n",
       "      <td>20160423</td>\n",
       "      <td>MTR</td>\n",
       "      <td>NaN</td>\n",
       "      <td>G</td>\n",
       "      <td>R</td>\n",
       "      <td>NaN</td>\n",
       "      <td>M</td>\n",
       "      <td>1990.0</td>\n",
       "      <td>10222016</td>\n",
       "      <td>M</td>\n",
       "      <td>NaN</td>\n",
       "      <td>*GA</td>\n",
       "      <td>94361995930.0</td>\n",
       "      <td>XBLNG</td>\n",
       "      <td>B2</td>\n",
       "    </tr>\n",
       "    <tr>\n",
       "      <th>2</th>\n",
       "      <td>1195600.0</td>\n",
       "      <td>2016.0</td>\n",
       "      <td>4.0</td>\n",
       "      <td>148.0</td>\n",
       "      <td>112.0</td>\n",
       "      <td>OGG</td>\n",
       "      <td>20551.0</td>\n",
       "      <td>1.0</td>\n",
       "      <td>FL</td>\n",
       "      <td>20571.0</td>\n",
       "      <td>76.0</td>\n",
       "      <td>2.0</td>\n",
       "      <td>1.0</td>\n",
       "      <td>20160407</td>\n",
       "      <td>NaN</td>\n",
       "      <td>NaN</td>\n",
       "      <td>G</td>\n",
       "      <td>O</td>\n",
       "      <td>NaN</td>\n",
       "      <td>M</td>\n",
       "      <td>1940.0</td>\n",
       "      <td>07052016</td>\n",
       "      <td>M</td>\n",
       "      <td>NaN</td>\n",
       "      <td>LH</td>\n",
       "      <td>55780468433.0</td>\n",
       "      <td>00464</td>\n",
       "      <td>WT</td>\n",
       "    </tr>\n",
       "    <tr>\n",
       "      <th>3</th>\n",
       "      <td>5291768.0</td>\n",
       "      <td>2016.0</td>\n",
       "      <td>4.0</td>\n",
       "      <td>297.0</td>\n",
       "      <td>297.0</td>\n",
       "      <td>LOS</td>\n",
       "      <td>20572.0</td>\n",
       "      <td>1.0</td>\n",
       "      <td>CA</td>\n",
       "      <td>20581.0</td>\n",
       "      <td>25.0</td>\n",
       "      <td>2.0</td>\n",
       "      <td>1.0</td>\n",
       "      <td>20160428</td>\n",
       "      <td>DOH</td>\n",
       "      <td>NaN</td>\n",
       "      <td>G</td>\n",
       "      <td>O</td>\n",
       "      <td>NaN</td>\n",
       "      <td>M</td>\n",
       "      <td>1991.0</td>\n",
       "      <td>10272016</td>\n",
       "      <td>M</td>\n",
       "      <td>NaN</td>\n",
       "      <td>QR</td>\n",
       "      <td>94789696030.0</td>\n",
       "      <td>00739</td>\n",
       "      <td>B2</td>\n",
       "    </tr>\n",
       "    <tr>\n",
       "      <th>4</th>\n",
       "      <td>985523.0</td>\n",
       "      <td>2016.0</td>\n",
       "      <td>4.0</td>\n",
       "      <td>111.0</td>\n",
       "      <td>111.0</td>\n",
       "      <td>CHM</td>\n",
       "      <td>20550.0</td>\n",
       "      <td>3.0</td>\n",
       "      <td>NY</td>\n",
       "      <td>20553.0</td>\n",
       "      <td>19.0</td>\n",
       "      <td>2.0</td>\n",
       "      <td>1.0</td>\n",
       "      <td>20160406</td>\n",
       "      <td>NaN</td>\n",
       "      <td>NaN</td>\n",
       "      <td>Z</td>\n",
       "      <td>K</td>\n",
       "      <td>NaN</td>\n",
       "      <td>M</td>\n",
       "      <td>1997.0</td>\n",
       "      <td>07042016</td>\n",
       "      <td>F</td>\n",
       "      <td>NaN</td>\n",
       "      <td>NaN</td>\n",
       "      <td>42322572633.0</td>\n",
       "      <td>LAND</td>\n",
       "      <td>WT</td>\n",
       "    </tr>\n",
       "    <tr>\n",
       "      <th>...</th>\n",
       "      <td>...</td>\n",
       "      <td>...</td>\n",
       "      <td>...</td>\n",
       "      <td>...</td>\n",
       "      <td>...</td>\n",
       "      <td>...</td>\n",
       "      <td>...</td>\n",
       "      <td>...</td>\n",
       "      <td>...</td>\n",
       "      <td>...</td>\n",
       "      <td>...</td>\n",
       "      <td>...</td>\n",
       "      <td>...</td>\n",
       "      <td>...</td>\n",
       "      <td>...</td>\n",
       "      <td>...</td>\n",
       "      <td>...</td>\n",
       "      <td>...</td>\n",
       "      <td>...</td>\n",
       "      <td>...</td>\n",
       "      <td>...</td>\n",
       "      <td>...</td>\n",
       "      <td>...</td>\n",
       "      <td>...</td>\n",
       "      <td>...</td>\n",
       "      <td>...</td>\n",
       "      <td>...</td>\n",
       "      <td>...</td>\n",
       "    </tr>\n",
       "    <tr>\n",
       "      <th>995</th>\n",
       "      <td>4288772.0</td>\n",
       "      <td>2016.0</td>\n",
       "      <td>4.0</td>\n",
       "      <td>135.0</td>\n",
       "      <td>135.0</td>\n",
       "      <td>LVG</td>\n",
       "      <td>20567.0</td>\n",
       "      <td>1.0</td>\n",
       "      <td>NV</td>\n",
       "      <td>20572.0</td>\n",
       "      <td>32.0</td>\n",
       "      <td>2.0</td>\n",
       "      <td>1.0</td>\n",
       "      <td>20160423</td>\n",
       "      <td>NaN</td>\n",
       "      <td>NaN</td>\n",
       "      <td>G</td>\n",
       "      <td>O</td>\n",
       "      <td>NaN</td>\n",
       "      <td>M</td>\n",
       "      <td>1984.0</td>\n",
       "      <td>07212016</td>\n",
       "      <td>M</td>\n",
       "      <td>NaN</td>\n",
       "      <td>VS</td>\n",
       "      <td>59140652133.0</td>\n",
       "      <td>00043</td>\n",
       "      <td>WT</td>\n",
       "    </tr>\n",
       "    <tr>\n",
       "      <th>996</th>\n",
       "      <td>2947585.0</td>\n",
       "      <td>2016.0</td>\n",
       "      <td>4.0</td>\n",
       "      <td>261.0</td>\n",
       "      <td>261.0</td>\n",
       "      <td>PSP</td>\n",
       "      <td>20560.0</td>\n",
       "      <td>1.0</td>\n",
       "      <td>HI</td>\n",
       "      <td>20567.0</td>\n",
       "      <td>35.0</td>\n",
       "      <td>1.0</td>\n",
       "      <td>1.0</td>\n",
       "      <td>20160416</td>\n",
       "      <td>JDD</td>\n",
       "      <td>NaN</td>\n",
       "      <td>G</td>\n",
       "      <td>O</td>\n",
       "      <td>NaN</td>\n",
       "      <td>M</td>\n",
       "      <td>1981.0</td>\n",
       "      <td>10152016</td>\n",
       "      <td>M</td>\n",
       "      <td>NaN</td>\n",
       "      <td>SV</td>\n",
       "      <td>93711864730.0</td>\n",
       "      <td>00041</td>\n",
       "      <td>B1</td>\n",
       "    </tr>\n",
       "    <tr>\n",
       "      <th>997</th>\n",
       "      <td>2883298.0</td>\n",
       "      <td>2016.0</td>\n",
       "      <td>4.0</td>\n",
       "      <td>111.0</td>\n",
       "      <td>111.0</td>\n",
       "      <td>MIA</td>\n",
       "      <td>20560.0</td>\n",
       "      <td>1.0</td>\n",
       "      <td>FL</td>\n",
       "      <td>20566.0</td>\n",
       "      <td>39.0</td>\n",
       "      <td>2.0</td>\n",
       "      <td>1.0</td>\n",
       "      <td>20160416</td>\n",
       "      <td>NaN</td>\n",
       "      <td>NaN</td>\n",
       "      <td>G</td>\n",
       "      <td>O</td>\n",
       "      <td>NaN</td>\n",
       "      <td>M</td>\n",
       "      <td>1977.0</td>\n",
       "      <td>07142016</td>\n",
       "      <td>M</td>\n",
       "      <td>NaN</td>\n",
       "      <td>AF</td>\n",
       "      <td>56277467733.0</td>\n",
       "      <td>00090</td>\n",
       "      <td>WT</td>\n",
       "    </tr>\n",
       "    <tr>\n",
       "      <th>998</th>\n",
       "      <td>2264857.0</td>\n",
       "      <td>2016.0</td>\n",
       "      <td>4.0</td>\n",
       "      <td>582.0</td>\n",
       "      <td>582.0</td>\n",
       "      <td>ATL</td>\n",
       "      <td>20556.0</td>\n",
       "      <td>1.0</td>\n",
       "      <td>WI</td>\n",
       "      <td>20559.0</td>\n",
       "      <td>35.0</td>\n",
       "      <td>1.0</td>\n",
       "      <td>1.0</td>\n",
       "      <td>20160412</td>\n",
       "      <td>MTR</td>\n",
       "      <td>NaN</td>\n",
       "      <td>G</td>\n",
       "      <td>O</td>\n",
       "      <td>NaN</td>\n",
       "      <td>M</td>\n",
       "      <td>1981.0</td>\n",
       "      <td>10112016</td>\n",
       "      <td>M</td>\n",
       "      <td>NaN</td>\n",
       "      <td>EV</td>\n",
       "      <td>93340353430.0</td>\n",
       "      <td>05510</td>\n",
       "      <td>B1</td>\n",
       "    </tr>\n",
       "    <tr>\n",
       "      <th>999</th>\n",
       "      <td>4654865.0</td>\n",
       "      <td>2016.0</td>\n",
       "      <td>4.0</td>\n",
       "      <td>687.0</td>\n",
       "      <td>687.0</td>\n",
       "      <td>MIA</td>\n",
       "      <td>20568.0</td>\n",
       "      <td>1.0</td>\n",
       "      <td>FL</td>\n",
       "      <td>20578.0</td>\n",
       "      <td>44.0</td>\n",
       "      <td>2.0</td>\n",
       "      <td>1.0</td>\n",
       "      <td>20160424</td>\n",
       "      <td>BNS</td>\n",
       "      <td>NaN</td>\n",
       "      <td>G</td>\n",
       "      <td>O</td>\n",
       "      <td>NaN</td>\n",
       "      <td>M</td>\n",
       "      <td>1972.0</td>\n",
       "      <td>10232016</td>\n",
       "      <td>F</td>\n",
       "      <td>NaN</td>\n",
       "      <td>LA</td>\n",
       "      <td>94403859030.0</td>\n",
       "      <td>02514</td>\n",
       "      <td>B2</td>\n",
       "    </tr>\n",
       "  </tbody>\n",
       "</table>\n",
       "<p>1000 rows × 28 columns</p>\n",
       "</div>"
      ],
      "text/plain": [
       "         cicid   i94yr i94mon i94cit i94res i94port  arrdate i94mode i94addr  \\\n",
       "0    4084316.0  2016.0    4.0  209.0  209.0     HHW  20566.0     1.0      HI   \n",
       "1    4422636.0  2016.0    4.0  582.0  582.0     MCA  20567.0     1.0      TX   \n",
       "2    1195600.0  2016.0    4.0  148.0  112.0     OGG  20551.0     1.0      FL   \n",
       "3    5291768.0  2016.0    4.0  297.0  297.0     LOS  20572.0     1.0      CA   \n",
       "4     985523.0  2016.0    4.0  111.0  111.0     CHM  20550.0     3.0      NY   \n",
       "..         ...     ...    ...    ...    ...     ...      ...     ...     ...   \n",
       "995  4288772.0  2016.0    4.0  135.0  135.0     LVG  20567.0     1.0      NV   \n",
       "996  2947585.0  2016.0    4.0  261.0  261.0     PSP  20560.0     1.0      HI   \n",
       "997  2883298.0  2016.0    4.0  111.0  111.0     MIA  20560.0     1.0      FL   \n",
       "998  2264857.0  2016.0    4.0  582.0  582.0     ATL  20556.0     1.0      WI   \n",
       "999  4654865.0  2016.0    4.0  687.0  687.0     MIA  20568.0     1.0      FL   \n",
       "\n",
       "     depdate i94bir i94visa count  dtadfile visapost occup entdepa entdepd  \\\n",
       "0    20573.0   61.0     2.0   1.0  20160422      NaN   NaN       G       O   \n",
       "1    20568.0   26.0     2.0   1.0  20160423      MTR   NaN       G       R   \n",
       "2    20571.0   76.0     2.0   1.0  20160407      NaN   NaN       G       O   \n",
       "3    20581.0   25.0     2.0   1.0  20160428      DOH   NaN       G       O   \n",
       "4    20553.0   19.0     2.0   1.0  20160406      NaN   NaN       Z       K   \n",
       "..       ...    ...     ...   ...       ...      ...   ...     ...     ...   \n",
       "995  20572.0   32.0     2.0   1.0  20160423      NaN   NaN       G       O   \n",
       "996  20567.0   35.0     1.0   1.0  20160416      JDD   NaN       G       O   \n",
       "997  20566.0   39.0     2.0   1.0  20160416      NaN   NaN       G       O   \n",
       "998  20559.0   35.0     1.0   1.0  20160412      MTR   NaN       G       O   \n",
       "999  20578.0   44.0     2.0   1.0  20160424      BNS   NaN       G       O   \n",
       "\n",
       "    entdepu matflag biryear   dtaddto gender insnum airline         admnum  \\\n",
       "0       NaN       M  1955.0  07202016      F    NaN      JL  56582674633.0   \n",
       "1       NaN       M  1990.0  10222016      M    NaN     *GA  94361995930.0   \n",
       "2       NaN       M  1940.0  07052016      M    NaN      LH  55780468433.0   \n",
       "3       NaN       M  1991.0  10272016      M    NaN      QR  94789696030.0   \n",
       "4       NaN       M  1997.0  07042016      F    NaN     NaN  42322572633.0   \n",
       "..      ...     ...     ...       ...    ...    ...     ...            ...   \n",
       "995     NaN       M  1984.0  07212016      M    NaN      VS  59140652133.0   \n",
       "996     NaN       M  1981.0  10152016      M    NaN      SV  93711864730.0   \n",
       "997     NaN       M  1977.0  07142016      M    NaN      AF  56277467733.0   \n",
       "998     NaN       M  1981.0  10112016      M    NaN      EV  93340353430.0   \n",
       "999     NaN       M  1972.0  10232016      F    NaN      LA  94403859030.0   \n",
       "\n",
       "     fltno visatype  \n",
       "0    00782       WT  \n",
       "1    XBLNG       B2  \n",
       "2    00464       WT  \n",
       "3    00739       B2  \n",
       "4     LAND       WT  \n",
       "..     ...      ...  \n",
       "995  00043       WT  \n",
       "996  00041       B1  \n",
       "997  00090       WT  \n",
       "998  05510       B1  \n",
       "999  02514       B2  \n",
       "\n",
       "[1000 rows x 28 columns]"
      ]
     },
     "execution_count": 20,
     "metadata": {},
     "output_type": "execute_result"
    }
   ],
   "source": [
    "# NaN rows\n",
    "immigration[immigration.isnull().any(axis=1)]"
   ]
  },
  {
   "cell_type": "markdown",
   "metadata": {
    "editable": true
   },
   "source": [
    "**Notes**:\n",
    "1. 1000 rows out of 1000 contain NaN. "
   ]
  },
  {
   "cell_type": "code",
   "execution_count": 21,
   "metadata": {
    "editable": true
   },
   "outputs": [
    {
     "data": {
      "text/plain": [
       "Index(['i94addr', 'depdate', 'visapost', 'occup', 'entdepd', 'entdepu',\n",
       "       'matflag', 'gender', 'insnum', 'airline', 'fltno'],\n",
       "      dtype='object')"
      ]
     },
     "execution_count": 21,
     "metadata": {},
     "output_type": "execute_result"
    }
   ],
   "source": [
    "# NaN columns\n",
    "immigration.columns[immigration.isna().any()]"
   ]
  },
  {
   "cell_type": "markdown",
   "metadata": {
    "editable": true
   },
   "source": [
    "**Notes**:\n",
    "1. Some columns contain NaN values."
   ]
  },
  {
   "cell_type": "code",
   "execution_count": 22,
   "metadata": {
    "editable": true
   },
   "outputs": [
    {
     "data": {
      "text/plain": [
       "True"
      ]
     },
     "execution_count": 22,
     "metadata": {},
     "output_type": "execute_result"
    }
   ],
   "source": [
    "# duplicates\n",
    "len(immigration) == len(immigration.drop_duplicates())"
   ]
  },
  {
   "cell_type": "markdown",
   "metadata": {
    "editable": true
   },
   "source": [
    "**Notes**:\n",
    "1. There are no duplicates."
   ]
  },
  {
   "cell_type": "markdown",
   "metadata": {
    "editable": true
   },
   "source": [
    "<a id=\"city\"></a>"
   ]
  },
  {
   "cell_type": "markdown",
   "metadata": {
    "editable": true
   },
   "source": [
    "[Cities](https://public.opendatasoft.com/explore/dataset/us-cities-demographics/export/)"
   ]
  },
  {
   "cell_type": "code",
   "execution_count": 23,
   "metadata": {
    "editable": true
   },
   "outputs": [],
   "source": [
    "# cities\n",
    "# read data as \"string\" format to ensure all the information is correct and assign delimiter \";\"\n",
    "cities = pd.read_csv(\"../us-cities-demographics.csv\", delimiter=\";\", dtype=\"str\")"
   ]
  },
  {
   "cell_type": "code",
   "execution_count": 24,
   "metadata": {
    "editable": true
   },
   "outputs": [
    {
     "data": {
      "text/html": [
       "<div>\n",
       "<style scoped>\n",
       "    .dataframe tbody tr th:only-of-type {\n",
       "        vertical-align: middle;\n",
       "    }\n",
       "\n",
       "    .dataframe tbody tr th {\n",
       "        vertical-align: top;\n",
       "    }\n",
       "\n",
       "    .dataframe thead th {\n",
       "        text-align: right;\n",
       "    }\n",
       "</style>\n",
       "<table border=\"1\" class=\"dataframe\">\n",
       "  <thead>\n",
       "    <tr style=\"text-align: right;\">\n",
       "      <th></th>\n",
       "      <th>City</th>\n",
       "      <th>State</th>\n",
       "      <th>Median Age</th>\n",
       "      <th>Male Population</th>\n",
       "      <th>Female Population</th>\n",
       "      <th>Total Population</th>\n",
       "      <th>Number of Veterans</th>\n",
       "      <th>Foreign-born</th>\n",
       "      <th>Average Household Size</th>\n",
       "      <th>State Code</th>\n",
       "      <th>Race</th>\n",
       "      <th>Count</th>\n",
       "    </tr>\n",
       "  </thead>\n",
       "  <tbody>\n",
       "    <tr>\n",
       "      <th>0</th>\n",
       "      <td>Wichita</td>\n",
       "      <td>Kansas</td>\n",
       "      <td>34.6</td>\n",
       "      <td>192354</td>\n",
       "      <td>197601</td>\n",
       "      <td>389955</td>\n",
       "      <td>23978</td>\n",
       "      <td>40270</td>\n",
       "      <td>2.56</td>\n",
       "      <td>KS</td>\n",
       "      <td>American Indian and Alaska Native</td>\n",
       "      <td>8791</td>\n",
       "    </tr>\n",
       "    <tr>\n",
       "      <th>1</th>\n",
       "      <td>Allen</td>\n",
       "      <td>Pennsylvania</td>\n",
       "      <td>33.5</td>\n",
       "      <td>60626</td>\n",
       "      <td>59581</td>\n",
       "      <td>120207</td>\n",
       "      <td>5691</td>\n",
       "      <td>19652</td>\n",
       "      <td>2.67</td>\n",
       "      <td>PA</td>\n",
       "      <td>Black or African-American</td>\n",
       "      <td>22304</td>\n",
       "    </tr>\n",
       "    <tr>\n",
       "      <th>2</th>\n",
       "      <td>Danbury</td>\n",
       "      <td>Connecticut</td>\n",
       "      <td>37.3</td>\n",
       "      <td>43435</td>\n",
       "      <td>41227</td>\n",
       "      <td>84662</td>\n",
       "      <td>3752</td>\n",
       "      <td>25675</td>\n",
       "      <td>2.74</td>\n",
       "      <td>CT</td>\n",
       "      <td>Black or African-American</td>\n",
       "      <td>8454</td>\n",
       "    </tr>\n",
       "    <tr>\n",
       "      <th>3</th>\n",
       "      <td>Nashville</td>\n",
       "      <td>Tennessee</td>\n",
       "      <td>34.1</td>\n",
       "      <td>314231</td>\n",
       "      <td>340365</td>\n",
       "      <td>654596</td>\n",
       "      <td>27942</td>\n",
       "      <td>88193</td>\n",
       "      <td>2.39</td>\n",
       "      <td>TN</td>\n",
       "      <td>Hispanic or Latino</td>\n",
       "      <td>67526</td>\n",
       "    </tr>\n",
       "    <tr>\n",
       "      <th>4</th>\n",
       "      <td>Stamford</td>\n",
       "      <td>Connecticut</td>\n",
       "      <td>35.4</td>\n",
       "      <td>64941</td>\n",
       "      <td>63936</td>\n",
       "      <td>128877</td>\n",
       "      <td>2269</td>\n",
       "      <td>44003</td>\n",
       "      <td>2.7</td>\n",
       "      <td>CT</td>\n",
       "      <td>Asian</td>\n",
       "      <td>11013</td>\n",
       "    </tr>\n",
       "  </tbody>\n",
       "</table>\n",
       "</div>"
      ],
      "text/plain": [
       "        City         State Median Age Male Population Female Population  \\\n",
       "0    Wichita        Kansas       34.6          192354            197601   \n",
       "1      Allen  Pennsylvania       33.5           60626             59581   \n",
       "2    Danbury   Connecticut       37.3           43435             41227   \n",
       "3  Nashville     Tennessee       34.1          314231            340365   \n",
       "4   Stamford   Connecticut       35.4           64941             63936   \n",
       "\n",
       "  Total Population Number of Veterans Foreign-born Average Household Size  \\\n",
       "0           389955              23978        40270                   2.56   \n",
       "1           120207               5691        19652                   2.67   \n",
       "2            84662               3752        25675                   2.74   \n",
       "3           654596              27942        88193                   2.39   \n",
       "4           128877               2269        44003                    2.7   \n",
       "\n",
       "  State Code                               Race  Count  \n",
       "0         KS  American Indian and Alaska Native   8791  \n",
       "1         PA          Black or African-American  22304  \n",
       "2         CT          Black or African-American   8454  \n",
       "3         TN                 Hispanic or Latino  67526  \n",
       "4         CT                              Asian  11013  "
      ]
     },
     "execution_count": 24,
     "metadata": {},
     "output_type": "execute_result"
    }
   ],
   "source": [
    "# top 5\n",
    "cities.head()"
   ]
  },
  {
   "cell_type": "markdown",
   "metadata": {
    "editable": true
   },
   "source": [
    "**Notes**:\n",
    "1. \"State Code\" can be used as a foreign key to join the above two tables.\n",
    "2. Notice that \"Race\" and \"Count\" columns need to be transformed from long to wide so each race can be a separate column containing the population for that race.  "
   ]
  },
  {
   "cell_type": "code",
   "execution_count": 25,
   "metadata": {
    "editable": true
   },
   "outputs": [
    {
     "name": "stdout",
     "output_type": "stream",
     "text": [
      "<class 'pandas.core.frame.DataFrame'>\n",
      "RangeIndex: 2891 entries, 0 to 2890\n",
      "Data columns (total 12 columns):\n",
      " #   Column                  Non-Null Count  Dtype \n",
      "---  ------                  --------------  ----- \n",
      " 0   City                    2891 non-null   object\n",
      " 1   State                   2891 non-null   object\n",
      " 2   Median Age              2891 non-null   object\n",
      " 3   Male Population         2888 non-null   object\n",
      " 4   Female Population       2888 non-null   object\n",
      " 5   Total Population        2891 non-null   object\n",
      " 6   Number of Veterans      2878 non-null   object\n",
      " 7   Foreign-born            2878 non-null   object\n",
      " 8   Average Household Size  2875 non-null   object\n",
      " 9   State Code              2891 non-null   object\n",
      " 10  Race                    2891 non-null   object\n",
      " 11  Count                   2891 non-null   object\n",
      "dtypes: object(12)\n",
      "memory usage: 271.2+ KB\n"
     ]
    }
   ],
   "source": [
    "# data information\n",
    "cities.info()"
   ]
  },
  {
   "cell_type": "markdown",
   "metadata": {
    "editable": true
   },
   "source": [
    "**Notes**:\n",
    "1. All types are \"object\". Need to be changed to the right formats."
   ]
  },
  {
   "cell_type": "code",
   "execution_count": 26,
   "metadata": {
    "editable": true
   },
   "outputs": [
    {
     "data": {
      "text/plain": [
       "City                       567\n",
       "State                       49\n",
       "Median Age                 180\n",
       "Male Population            593\n",
       "Female Population          594\n",
       "Total Population           594\n",
       "Number of Veterans         577\n",
       "Foreign-born               587\n",
       "Average Household Size     161\n",
       "State Code                  49\n",
       "Race                         5\n",
       "Count                     2785\n",
       "dtype: int64"
      ]
     },
     "execution_count": 26,
     "metadata": {},
     "output_type": "execute_result"
    }
   ],
   "source": [
    "# unique information\n",
    "cities.nunique()"
   ]
  },
  {
   "cell_type": "code",
   "execution_count": 27,
   "metadata": {
    "editable": true
   },
   "outputs": [
    {
     "data": {
      "text/html": [
       "<div>\n",
       "<style scoped>\n",
       "    .dataframe tbody tr th:only-of-type {\n",
       "        vertical-align: middle;\n",
       "    }\n",
       "\n",
       "    .dataframe tbody tr th {\n",
       "        vertical-align: top;\n",
       "    }\n",
       "\n",
       "    .dataframe thead th {\n",
       "        text-align: right;\n",
       "    }\n",
       "</style>\n",
       "<table border=\"1\" class=\"dataframe\">\n",
       "  <thead>\n",
       "    <tr style=\"text-align: right;\">\n",
       "      <th></th>\n",
       "      <th>City</th>\n",
       "      <th>State</th>\n",
       "      <th>Median Age</th>\n",
       "      <th>Male Population</th>\n",
       "      <th>Female Population</th>\n",
       "      <th>Total Population</th>\n",
       "      <th>Number of Veterans</th>\n",
       "      <th>Foreign-born</th>\n",
       "      <th>Average Household Size</th>\n",
       "      <th>State Code</th>\n",
       "      <th>Race</th>\n",
       "      <th>Count</th>\n",
       "    </tr>\n",
       "  </thead>\n",
       "  <tbody>\n",
       "    <tr>\n",
       "      <th>5</th>\n",
       "      <td>San Juan</td>\n",
       "      <td>Puerto Rico</td>\n",
       "      <td>41.4</td>\n",
       "      <td>155408</td>\n",
       "      <td>186829</td>\n",
       "      <td>342237</td>\n",
       "      <td>NaN</td>\n",
       "      <td>NaN</td>\n",
       "      <td>NaN</td>\n",
       "      <td>PR</td>\n",
       "      <td>Hispanic or Latino</td>\n",
       "      <td>335559</td>\n",
       "    </tr>\n",
       "    <tr>\n",
       "      <th>9</th>\n",
       "      <td>Caguas</td>\n",
       "      <td>Puerto Rico</td>\n",
       "      <td>40.4</td>\n",
       "      <td>34743</td>\n",
       "      <td>42265</td>\n",
       "      <td>77008</td>\n",
       "      <td>NaN</td>\n",
       "      <td>NaN</td>\n",
       "      <td>NaN</td>\n",
       "      <td>PR</td>\n",
       "      <td>Hispanic or Latino</td>\n",
       "      <td>76349</td>\n",
       "    </tr>\n",
       "    <tr>\n",
       "      <th>280</th>\n",
       "      <td>Bayamón</td>\n",
       "      <td>Puerto Rico</td>\n",
       "      <td>39.4</td>\n",
       "      <td>80128</td>\n",
       "      <td>90131</td>\n",
       "      <td>170259</td>\n",
       "      <td>NaN</td>\n",
       "      <td>NaN</td>\n",
       "      <td>NaN</td>\n",
       "      <td>PR</td>\n",
       "      <td>Hispanic or Latino</td>\n",
       "      <td>169155</td>\n",
       "    </tr>\n",
       "    <tr>\n",
       "      <th>740</th>\n",
       "      <td>The Villages</td>\n",
       "      <td>Florida</td>\n",
       "      <td>70.5</td>\n",
       "      <td>NaN</td>\n",
       "      <td>NaN</td>\n",
       "      <td>72590</td>\n",
       "      <td>15231</td>\n",
       "      <td>4034</td>\n",
       "      <td>NaN</td>\n",
       "      <td>FL</td>\n",
       "      <td>White</td>\n",
       "      <td>72211</td>\n",
       "    </tr>\n",
       "    <tr>\n",
       "      <th>806</th>\n",
       "      <td>San Juan</td>\n",
       "      <td>Puerto Rico</td>\n",
       "      <td>41.4</td>\n",
       "      <td>155408</td>\n",
       "      <td>186829</td>\n",
       "      <td>342237</td>\n",
       "      <td>NaN</td>\n",
       "      <td>NaN</td>\n",
       "      <td>NaN</td>\n",
       "      <td>PR</td>\n",
       "      <td>American Indian and Alaska Native</td>\n",
       "      <td>4031</td>\n",
       "    </tr>\n",
       "    <tr>\n",
       "      <th>908</th>\n",
       "      <td>The Villages</td>\n",
       "      <td>Florida</td>\n",
       "      <td>70.5</td>\n",
       "      <td>NaN</td>\n",
       "      <td>NaN</td>\n",
       "      <td>72590</td>\n",
       "      <td>15231</td>\n",
       "      <td>4034</td>\n",
       "      <td>NaN</td>\n",
       "      <td>FL</td>\n",
       "      <td>Black or African-American</td>\n",
       "      <td>331</td>\n",
       "    </tr>\n",
       "    <tr>\n",
       "      <th>1121</th>\n",
       "      <td>Guaynabo</td>\n",
       "      <td>Puerto Rico</td>\n",
       "      <td>42.2</td>\n",
       "      <td>33066</td>\n",
       "      <td>37426</td>\n",
       "      <td>70492</td>\n",
       "      <td>NaN</td>\n",
       "      <td>NaN</td>\n",
       "      <td>NaN</td>\n",
       "      <td>PR</td>\n",
       "      <td>American Indian and Alaska Native</td>\n",
       "      <td>589</td>\n",
       "    </tr>\n",
       "    <tr>\n",
       "      <th>1196</th>\n",
       "      <td>Mayagüez</td>\n",
       "      <td>Puerto Rico</td>\n",
       "      <td>38.1</td>\n",
       "      <td>30799</td>\n",
       "      <td>35782</td>\n",
       "      <td>66581</td>\n",
       "      <td>NaN</td>\n",
       "      <td>NaN</td>\n",
       "      <td>NaN</td>\n",
       "      <td>PR</td>\n",
       "      <td>Asian</td>\n",
       "      <td>235</td>\n",
       "    </tr>\n",
       "    <tr>\n",
       "      <th>1443</th>\n",
       "      <td>Mayagüez</td>\n",
       "      <td>Puerto Rico</td>\n",
       "      <td>38.1</td>\n",
       "      <td>30799</td>\n",
       "      <td>35782</td>\n",
       "      <td>66581</td>\n",
       "      <td>NaN</td>\n",
       "      <td>NaN</td>\n",
       "      <td>NaN</td>\n",
       "      <td>PR</td>\n",
       "      <td>Hispanic or Latino</td>\n",
       "      <td>65521</td>\n",
       "    </tr>\n",
       "    <tr>\n",
       "      <th>1530</th>\n",
       "      <td>Caguas</td>\n",
       "      <td>Puerto Rico</td>\n",
       "      <td>40.4</td>\n",
       "      <td>34743</td>\n",
       "      <td>42265</td>\n",
       "      <td>77008</td>\n",
       "      <td>NaN</td>\n",
       "      <td>NaN</td>\n",
       "      <td>NaN</td>\n",
       "      <td>PR</td>\n",
       "      <td>American Indian and Alaska Native</td>\n",
       "      <td>624</td>\n",
       "    </tr>\n",
       "    <tr>\n",
       "      <th>1547</th>\n",
       "      <td>The Villages</td>\n",
       "      <td>Florida</td>\n",
       "      <td>70.5</td>\n",
       "      <td>NaN</td>\n",
       "      <td>NaN</td>\n",
       "      <td>72590</td>\n",
       "      <td>15231</td>\n",
       "      <td>4034</td>\n",
       "      <td>NaN</td>\n",
       "      <td>FL</td>\n",
       "      <td>Hispanic or Latino</td>\n",
       "      <td>1066</td>\n",
       "    </tr>\n",
       "    <tr>\n",
       "      <th>1826</th>\n",
       "      <td>San Juan</td>\n",
       "      <td>Puerto Rico</td>\n",
       "      <td>41.4</td>\n",
       "      <td>155408</td>\n",
       "      <td>186829</td>\n",
       "      <td>342237</td>\n",
       "      <td>NaN</td>\n",
       "      <td>NaN</td>\n",
       "      <td>NaN</td>\n",
       "      <td>PR</td>\n",
       "      <td>Asian</td>\n",
       "      <td>2452</td>\n",
       "    </tr>\n",
       "    <tr>\n",
       "      <th>2079</th>\n",
       "      <td>Carolina</td>\n",
       "      <td>Puerto Rico</td>\n",
       "      <td>42.0</td>\n",
       "      <td>64758</td>\n",
       "      <td>77308</td>\n",
       "      <td>142066</td>\n",
       "      <td>NaN</td>\n",
       "      <td>NaN</td>\n",
       "      <td>NaN</td>\n",
       "      <td>PR</td>\n",
       "      <td>Hispanic or Latino</td>\n",
       "      <td>139967</td>\n",
       "    </tr>\n",
       "    <tr>\n",
       "      <th>2284</th>\n",
       "      <td>Carolina</td>\n",
       "      <td>Puerto Rico</td>\n",
       "      <td>42.0</td>\n",
       "      <td>64758</td>\n",
       "      <td>77308</td>\n",
       "      <td>142066</td>\n",
       "      <td>NaN</td>\n",
       "      <td>NaN</td>\n",
       "      <td>NaN</td>\n",
       "      <td>PR</td>\n",
       "      <td>American Indian and Alaska Native</td>\n",
       "      <td>12143</td>\n",
       "    </tr>\n",
       "    <tr>\n",
       "      <th>2558</th>\n",
       "      <td>Guaynabo</td>\n",
       "      <td>Puerto Rico</td>\n",
       "      <td>42.2</td>\n",
       "      <td>33066</td>\n",
       "      <td>37426</td>\n",
       "      <td>70492</td>\n",
       "      <td>NaN</td>\n",
       "      <td>NaN</td>\n",
       "      <td>NaN</td>\n",
       "      <td>PR</td>\n",
       "      <td>Hispanic or Latino</td>\n",
       "      <td>69936</td>\n",
       "    </tr>\n",
       "    <tr>\n",
       "      <th>2646</th>\n",
       "      <td>Ponce</td>\n",
       "      <td>Puerto Rico</td>\n",
       "      <td>40.5</td>\n",
       "      <td>56968</td>\n",
       "      <td>64615</td>\n",
       "      <td>121583</td>\n",
       "      <td>NaN</td>\n",
       "      <td>NaN</td>\n",
       "      <td>NaN</td>\n",
       "      <td>PR</td>\n",
       "      <td>Hispanic or Latino</td>\n",
       "      <td>120705</td>\n",
       "    </tr>\n",
       "  </tbody>\n",
       "</table>\n",
       "</div>"
      ],
      "text/plain": [
       "              City        State Median Age Male Population Female Population  \\\n",
       "5         San Juan  Puerto Rico       41.4          155408            186829   \n",
       "9           Caguas  Puerto Rico       40.4           34743             42265   \n",
       "280        Bayamón  Puerto Rico       39.4           80128             90131   \n",
       "740   The Villages      Florida       70.5             NaN               NaN   \n",
       "806       San Juan  Puerto Rico       41.4          155408            186829   \n",
       "908   The Villages      Florida       70.5             NaN               NaN   \n",
       "1121      Guaynabo  Puerto Rico       42.2           33066             37426   \n",
       "1196      Mayagüez  Puerto Rico       38.1           30799             35782   \n",
       "1443      Mayagüez  Puerto Rico       38.1           30799             35782   \n",
       "1530        Caguas  Puerto Rico       40.4           34743             42265   \n",
       "1547  The Villages      Florida       70.5             NaN               NaN   \n",
       "1826      San Juan  Puerto Rico       41.4          155408            186829   \n",
       "2079      Carolina  Puerto Rico       42.0           64758             77308   \n",
       "2284      Carolina  Puerto Rico       42.0           64758             77308   \n",
       "2558      Guaynabo  Puerto Rico       42.2           33066             37426   \n",
       "2646         Ponce  Puerto Rico       40.5           56968             64615   \n",
       "\n",
       "     Total Population Number of Veterans Foreign-born Average Household Size  \\\n",
       "5              342237                NaN          NaN                    NaN   \n",
       "9               77008                NaN          NaN                    NaN   \n",
       "280            170259                NaN          NaN                    NaN   \n",
       "740             72590              15231         4034                    NaN   \n",
       "806            342237                NaN          NaN                    NaN   \n",
       "908             72590              15231         4034                    NaN   \n",
       "1121            70492                NaN          NaN                    NaN   \n",
       "1196            66581                NaN          NaN                    NaN   \n",
       "1443            66581                NaN          NaN                    NaN   \n",
       "1530            77008                NaN          NaN                    NaN   \n",
       "1547            72590              15231         4034                    NaN   \n",
       "1826           342237                NaN          NaN                    NaN   \n",
       "2079           142066                NaN          NaN                    NaN   \n",
       "2284           142066                NaN          NaN                    NaN   \n",
       "2558            70492                NaN          NaN                    NaN   \n",
       "2646           121583                NaN          NaN                    NaN   \n",
       "\n",
       "     State Code                               Race   Count  \n",
       "5            PR                 Hispanic or Latino  335559  \n",
       "9            PR                 Hispanic or Latino   76349  \n",
       "280          PR                 Hispanic or Latino  169155  \n",
       "740          FL                              White   72211  \n",
       "806          PR  American Indian and Alaska Native    4031  \n",
       "908          FL          Black or African-American     331  \n",
       "1121         PR  American Indian and Alaska Native     589  \n",
       "1196         PR                              Asian     235  \n",
       "1443         PR                 Hispanic or Latino   65521  \n",
       "1530         PR  American Indian and Alaska Native     624  \n",
       "1547         FL                 Hispanic or Latino    1066  \n",
       "1826         PR                              Asian    2452  \n",
       "2079         PR                 Hispanic or Latino  139967  \n",
       "2284         PR  American Indian and Alaska Native   12143  \n",
       "2558         PR                 Hispanic or Latino   69936  \n",
       "2646         PR                 Hispanic or Latino  120705  "
      ]
     },
     "execution_count": 27,
     "metadata": {},
     "output_type": "execute_result"
    }
   ],
   "source": [
    "# NaN rows\n",
    "cities[cities.isnull().any(axis=1)]"
   ]
  },
  {
   "cell_type": "markdown",
   "metadata": {
    "editable": true
   },
   "source": [
    "**Notes**:\n",
    "1. 16 rows out of 2891 contain NaN, which could be dropped."
   ]
  },
  {
   "cell_type": "code",
   "execution_count": 28,
   "metadata": {
    "editable": true
   },
   "outputs": [
    {
     "data": {
      "text/plain": [
       "Index(['Male Population', 'Female Population', 'Number of Veterans',\n",
       "       'Foreign-born', 'Average Household Size'],\n",
       "      dtype='object')"
      ]
     },
     "execution_count": 28,
     "metadata": {},
     "output_type": "execute_result"
    }
   ],
   "source": [
    "# NaN columns\n",
    "cities.columns[cities.isna().any()]"
   ]
  },
  {
   "cell_type": "markdown",
   "metadata": {
    "editable": true
   },
   "source": [
    "**Notes**:\n",
    "1. Some columns contain NaN values."
   ]
  },
  {
   "cell_type": "code",
   "execution_count": 29,
   "metadata": {
    "editable": true
   },
   "outputs": [
    {
     "data": {
      "text/plain": [
       "True"
      ]
     },
     "execution_count": 29,
     "metadata": {},
     "output_type": "execute_result"
    }
   ],
   "source": [
    "# duplicates\n",
    "len(cities) == len(cities.drop_duplicates())"
   ]
  },
  {
   "cell_type": "markdown",
   "metadata": {
    "editable": true
   },
   "source": [
    "**Notes**:\n",
    "1. There are no duplicates."
   ]
  },
  {
   "cell_type": "markdown",
   "metadata": {
    "editable": true
   },
   "source": [
    "<a id=\"temperature\"></a>"
   ]
  },
  {
   "cell_type": "markdown",
   "metadata": {
    "editable": true
   },
   "source": [
    "[Temperature](https://www.kaggle.com/datasets/berkeleyearth/climate-change-earth-surface-temperature-data?resource=download)"
   ]
  },
  {
   "cell_type": "code",
   "execution_count": 30,
   "metadata": {
    "editable": true
   },
   "outputs": [],
   "source": [
    "# temperature\n",
    "# read data as \"string\" format to ensure all the information is correct\n",
    "temperature = pd.read_csv(\"../GlobalLandTemperaturesByState.csv\", dtype=\"str\")"
   ]
  },
  {
   "cell_type": "code",
   "execution_count": 31,
   "metadata": {
    "editable": true
   },
   "outputs": [
    {
     "data": {
      "text/html": [
       "<div>\n",
       "<style scoped>\n",
       "    .dataframe tbody tr th:only-of-type {\n",
       "        vertical-align: middle;\n",
       "    }\n",
       "\n",
       "    .dataframe tbody tr th {\n",
       "        vertical-align: top;\n",
       "    }\n",
       "\n",
       "    .dataframe thead th {\n",
       "        text-align: right;\n",
       "    }\n",
       "</style>\n",
       "<table border=\"1\" class=\"dataframe\">\n",
       "  <thead>\n",
       "    <tr style=\"text-align: right;\">\n",
       "      <th></th>\n",
       "      <th>dt</th>\n",
       "      <th>AverageTemperature</th>\n",
       "      <th>AverageTemperatureUncertainty</th>\n",
       "      <th>State</th>\n",
       "      <th>Country</th>\n",
       "    </tr>\n",
       "  </thead>\n",
       "  <tbody>\n",
       "    <tr>\n",
       "      <th>0</th>\n",
       "      <td>1855-05-01</td>\n",
       "      <td>25.544</td>\n",
       "      <td>1.171</td>\n",
       "      <td>Acre</td>\n",
       "      <td>Brazil</td>\n",
       "    </tr>\n",
       "    <tr>\n",
       "      <th>1</th>\n",
       "      <td>1855-06-01</td>\n",
       "      <td>24.228</td>\n",
       "      <td>1.103</td>\n",
       "      <td>Acre</td>\n",
       "      <td>Brazil</td>\n",
       "    </tr>\n",
       "    <tr>\n",
       "      <th>2</th>\n",
       "      <td>1855-07-01</td>\n",
       "      <td>24.371</td>\n",
       "      <td>1.044</td>\n",
       "      <td>Acre</td>\n",
       "      <td>Brazil</td>\n",
       "    </tr>\n",
       "    <tr>\n",
       "      <th>3</th>\n",
       "      <td>1855-08-01</td>\n",
       "      <td>25.427</td>\n",
       "      <td>1.073</td>\n",
       "      <td>Acre</td>\n",
       "      <td>Brazil</td>\n",
       "    </tr>\n",
       "    <tr>\n",
       "      <th>4</th>\n",
       "      <td>1855-09-01</td>\n",
       "      <td>25.675</td>\n",
       "      <td>1.014</td>\n",
       "      <td>Acre</td>\n",
       "      <td>Brazil</td>\n",
       "    </tr>\n",
       "  </tbody>\n",
       "</table>\n",
       "</div>"
      ],
      "text/plain": [
       "           dt AverageTemperature AverageTemperatureUncertainty State Country\n",
       "0  1855-05-01             25.544                         1.171  Acre  Brazil\n",
       "1  1855-06-01             24.228                         1.103  Acre  Brazil\n",
       "2  1855-07-01             24.371                         1.044  Acre  Brazil\n",
       "3  1855-08-01             25.427                         1.073  Acre  Brazil\n",
       "4  1855-09-01             25.675                         1.014  Acre  Brazil"
      ]
     },
     "execution_count": 31,
     "metadata": {},
     "output_type": "execute_result"
    }
   ],
   "source": [
    "# top 5\n",
    "temperature.head()"
   ]
  },
  {
   "cell_type": "markdown",
   "metadata": {
    "editable": true
   },
   "source": [
    "**Notes**:\n",
    "1. \"State\" contain the names of the states in each country, which could work as foreign key to join the above \"cities\" table and then get the \"State Code\" to join the other tables."
   ]
  },
  {
   "cell_type": "code",
   "execution_count": 32,
   "metadata": {
    "editable": true
   },
   "outputs": [
    {
     "name": "stdout",
     "output_type": "stream",
     "text": [
      "<class 'pandas.core.frame.DataFrame'>\n",
      "RangeIndex: 645675 entries, 0 to 645674\n",
      "Data columns (total 5 columns):\n",
      " #   Column                         Non-Null Count   Dtype \n",
      "---  ------                         --------------   ----- \n",
      " 0   dt                             645675 non-null  object\n",
      " 1   AverageTemperature             620027 non-null  object\n",
      " 2   AverageTemperatureUncertainty  620027 non-null  object\n",
      " 3   State                          645675 non-null  object\n",
      " 4   Country                        645675 non-null  object\n",
      "dtypes: object(5)\n",
      "memory usage: 24.6+ MB\n"
     ]
    }
   ],
   "source": [
    "# data information\n",
    "temperature.info()"
   ]
  },
  {
   "cell_type": "markdown",
   "metadata": {
    "editable": true
   },
   "source": [
    "**Notes**:\n",
    "1. All types are \"object\". Need to be changed to the right formats."
   ]
  },
  {
   "cell_type": "code",
   "execution_count": 33,
   "metadata": {
    "editable": true
   },
   "outputs": [
    {
     "data": {
      "text/html": [
       "<div>\n",
       "<style scoped>\n",
       "    .dataframe tbody tr th:only-of-type {\n",
       "        vertical-align: middle;\n",
       "    }\n",
       "\n",
       "    .dataframe tbody tr th {\n",
       "        vertical-align: top;\n",
       "    }\n",
       "\n",
       "    .dataframe thead th {\n",
       "        text-align: right;\n",
       "    }\n",
       "</style>\n",
       "<table border=\"1\" class=\"dataframe\">\n",
       "  <thead>\n",
       "    <tr style=\"text-align: right;\">\n",
       "      <th></th>\n",
       "      <th>dt</th>\n",
       "      <th>AverageTemperature</th>\n",
       "      <th>AverageTemperatureUncertainty</th>\n",
       "      <th>State</th>\n",
       "      <th>Country</th>\n",
       "    </tr>\n",
       "  </thead>\n",
       "  <tbody>\n",
       "    <tr>\n",
       "      <th>count</th>\n",
       "      <td>645675</td>\n",
       "      <td>620027</td>\n",
       "      <td>620027</td>\n",
       "      <td>645675</td>\n",
       "      <td>645675</td>\n",
       "    </tr>\n",
       "    <tr>\n",
       "      <th>unique</th>\n",
       "      <td>3239</td>\n",
       "      <td>100924</td>\n",
       "      <td>8040</td>\n",
       "      <td>241</td>\n",
       "      <td>7</td>\n",
       "    </tr>\n",
       "    <tr>\n",
       "      <th>top</th>\n",
       "      <td>1990-04-01</td>\n",
       "      <td>18.402</td>\n",
       "      <td>0.255</td>\n",
       "      <td>Vladimir</td>\n",
       "      <td>Russia</td>\n",
       "    </tr>\n",
       "    <tr>\n",
       "      <th>freq</th>\n",
       "      <td>241</td>\n",
       "      <td>36</td>\n",
       "      <td>1042</td>\n",
       "      <td>3239</td>\n",
       "      <td>254972</td>\n",
       "    </tr>\n",
       "  </tbody>\n",
       "</table>\n",
       "</div>"
      ],
      "text/plain": [
       "                dt AverageTemperature AverageTemperatureUncertainty     State  \\\n",
       "count       645675             620027                        620027    645675   \n",
       "unique        3239             100924                          8040       241   \n",
       "top     1990-04-01             18.402                         0.255  Vladimir   \n",
       "freq           241                 36                          1042      3239   \n",
       "\n",
       "       Country  \n",
       "count   645675  \n",
       "unique       7  \n",
       "top     Russia  \n",
       "freq    254972  "
      ]
     },
     "execution_count": 33,
     "metadata": {},
     "output_type": "execute_result"
    }
   ],
   "source": [
    "# statistics\n",
    "temperature.describe()"
   ]
  },
  {
   "cell_type": "code",
   "execution_count": 34,
   "metadata": {
    "editable": true
   },
   "outputs": [
    {
     "data": {
      "text/plain": [
       "dt                                 3239\n",
       "AverageTemperature               100924\n",
       "AverageTemperatureUncertainty      8040\n",
       "State                               241\n",
       "Country                               7\n",
       "dtype: int64"
      ]
     },
     "execution_count": 34,
     "metadata": {},
     "output_type": "execute_result"
    }
   ],
   "source": [
    "# unique values\n",
    "temperature.nunique()"
   ]
  },
  {
   "cell_type": "code",
   "execution_count": 35,
   "metadata": {
    "editable": true
   },
   "outputs": [
    {
     "data": {
      "text/html": [
       "<div>\n",
       "<style scoped>\n",
       "    .dataframe tbody tr th:only-of-type {\n",
       "        vertical-align: middle;\n",
       "    }\n",
       "\n",
       "    .dataframe tbody tr th {\n",
       "        vertical-align: top;\n",
       "    }\n",
       "\n",
       "    .dataframe thead th {\n",
       "        text-align: right;\n",
       "    }\n",
       "</style>\n",
       "<table border=\"1\" class=\"dataframe\">\n",
       "  <thead>\n",
       "    <tr style=\"text-align: right;\">\n",
       "      <th></th>\n",
       "      <th>dt</th>\n",
       "      <th>AverageTemperature</th>\n",
       "      <th>AverageTemperatureUncertainty</th>\n",
       "      <th>State</th>\n",
       "      <th>Country</th>\n",
       "    </tr>\n",
       "  </thead>\n",
       "  <tbody>\n",
       "    <tr>\n",
       "      <th>14</th>\n",
       "      <td>1856-07-01</td>\n",
       "      <td>NaN</td>\n",
       "      <td>NaN</td>\n",
       "      <td>Acre</td>\n",
       "      <td>Brazil</td>\n",
       "    </tr>\n",
       "    <tr>\n",
       "      <th>20</th>\n",
       "      <td>1857-01-01</td>\n",
       "      <td>NaN</td>\n",
       "      <td>NaN</td>\n",
       "      <td>Acre</td>\n",
       "      <td>Brazil</td>\n",
       "    </tr>\n",
       "    <tr>\n",
       "      <th>21</th>\n",
       "      <td>1857-02-01</td>\n",
       "      <td>NaN</td>\n",
       "      <td>NaN</td>\n",
       "      <td>Acre</td>\n",
       "      <td>Brazil</td>\n",
       "    </tr>\n",
       "    <tr>\n",
       "      <th>22</th>\n",
       "      <td>1857-03-01</td>\n",
       "      <td>NaN</td>\n",
       "      <td>NaN</td>\n",
       "      <td>Acre</td>\n",
       "      <td>Brazil</td>\n",
       "    </tr>\n",
       "    <tr>\n",
       "      <th>23</th>\n",
       "      <td>1857-04-01</td>\n",
       "      <td>NaN</td>\n",
       "      <td>NaN</td>\n",
       "      <td>Acre</td>\n",
       "      <td>Brazil</td>\n",
       "    </tr>\n",
       "    <tr>\n",
       "      <th>...</th>\n",
       "      <td>...</td>\n",
       "      <td>...</td>\n",
       "      <td>...</td>\n",
       "      <td>...</td>\n",
       "      <td>...</td>\n",
       "    </tr>\n",
       "    <tr>\n",
       "      <th>641790</th>\n",
       "      <td>1862-10-01</td>\n",
       "      <td>NaN</td>\n",
       "      <td>NaN</td>\n",
       "      <td>Yunnan</td>\n",
       "      <td>China</td>\n",
       "    </tr>\n",
       "    <tr>\n",
       "      <th>641791</th>\n",
       "      <td>1862-11-01</td>\n",
       "      <td>NaN</td>\n",
       "      <td>NaN</td>\n",
       "      <td>Yunnan</td>\n",
       "      <td>China</td>\n",
       "    </tr>\n",
       "    <tr>\n",
       "      <th>641792</th>\n",
       "      <td>1862-12-01</td>\n",
       "      <td>NaN</td>\n",
       "      <td>NaN</td>\n",
       "      <td>Yunnan</td>\n",
       "      <td>China</td>\n",
       "    </tr>\n",
       "    <tr>\n",
       "      <th>643601</th>\n",
       "      <td>2013-09-01</td>\n",
       "      <td>NaN</td>\n",
       "      <td>NaN</td>\n",
       "      <td>Yunnan</td>\n",
       "      <td>China</td>\n",
       "    </tr>\n",
       "    <tr>\n",
       "      <th>645674</th>\n",
       "      <td>2013-09-01</td>\n",
       "      <td>NaN</td>\n",
       "      <td>NaN</td>\n",
       "      <td>Zhejiang</td>\n",
       "      <td>China</td>\n",
       "    </tr>\n",
       "  </tbody>\n",
       "</table>\n",
       "<p>25648 rows × 5 columns</p>\n",
       "</div>"
      ],
      "text/plain": [
       "                dt AverageTemperature AverageTemperatureUncertainty     State  \\\n",
       "14      1856-07-01                NaN                           NaN      Acre   \n",
       "20      1857-01-01                NaN                           NaN      Acre   \n",
       "21      1857-02-01                NaN                           NaN      Acre   \n",
       "22      1857-03-01                NaN                           NaN      Acre   \n",
       "23      1857-04-01                NaN                           NaN      Acre   \n",
       "...            ...                ...                           ...       ...   \n",
       "641790  1862-10-01                NaN                           NaN    Yunnan   \n",
       "641791  1862-11-01                NaN                           NaN    Yunnan   \n",
       "641792  1862-12-01                NaN                           NaN    Yunnan   \n",
       "643601  2013-09-01                NaN                           NaN    Yunnan   \n",
       "645674  2013-09-01                NaN                           NaN  Zhejiang   \n",
       "\n",
       "       Country  \n",
       "14      Brazil  \n",
       "20      Brazil  \n",
       "21      Brazil  \n",
       "22      Brazil  \n",
       "23      Brazil  \n",
       "...        ...  \n",
       "641790   China  \n",
       "641791   China  \n",
       "641792   China  \n",
       "643601   China  \n",
       "645674   China  \n",
       "\n",
       "[25648 rows x 5 columns]"
      ]
     },
     "execution_count": 35,
     "metadata": {},
     "output_type": "execute_result"
    }
   ],
   "source": [
    "# NaN rows\n",
    "temperature[temperature.isnull().any(axis=1)]"
   ]
  },
  {
   "cell_type": "markdown",
   "metadata": {
    "editable": true
   },
   "source": [
    "**Notes**:\n",
    "1. 25648 rows out of 645675 contain NaN."
   ]
  },
  {
   "cell_type": "code",
   "execution_count": 36,
   "metadata": {
    "editable": true
   },
   "outputs": [
    {
     "data": {
      "text/plain": [
       "Index(['AverageTemperature', 'AverageTemperatureUncertainty'], dtype='object')"
      ]
     },
     "execution_count": 36,
     "metadata": {},
     "output_type": "execute_result"
    }
   ],
   "source": [
    "# NaN columns\n",
    "temperature.columns[temperature.isna().any()]"
   ]
  },
  {
   "cell_type": "markdown",
   "metadata": {
    "editable": true
   },
   "source": [
    "**Notes**:\n",
    "1. Some columns contain NaN values."
   ]
  },
  {
   "cell_type": "code",
   "execution_count": 37,
   "metadata": {
    "editable": true
   },
   "outputs": [
    {
     "data": {
      "text/plain": [
       "True"
      ]
     },
     "execution_count": 37,
     "metadata": {},
     "output_type": "execute_result"
    }
   ],
   "source": [
    "# duplicates\n",
    "len(temperature) == len(temperature.drop_duplicates())"
   ]
  },
  {
   "cell_type": "markdown",
   "metadata": {
    "editable": true
   },
   "source": [
    "**Notes**:\n",
    "1. There are no duplicates."
   ]
  },
  {
   "cell_type": "markdown",
   "metadata": {
    "editable": true
   },
   "source": [
    "<a id=\"clean\"></a>"
   ]
  },
  {
   "cell_type": "markdown",
   "metadata": {
    "editable": true
   },
   "source": [
    "#### 2.2 Clean Steps"
   ]
  },
  {
   "cell_type": "markdown",
   "metadata": {
    "editable": true
   },
   "source": [
    "##### airport\n",
    "1. to numeric \"elevation_ft\"\n",
    "2. Separate \"iso_region\" to two columns  \n",
    "3. Separate \"coordinates\" to two columns and round\n",
    "4. Drop other airport type only keeping \"airport\" & not closed\n",
    "5. Only include US"
   ]
  },
  {
   "cell_type": "code",
   "execution_count": 38,
   "metadata": {
    "editable": true
   },
   "outputs": [],
   "source": [
    "# US airport \n",
    "airportUS = (airport.loc[(airport.iso_country == \"US\") \n",
    "                         & ~(airport.type == \"closed\") \n",
    "                         & airport.type.str.contains(\"airport\")]) "
   ]
  },
  {
   "cell_type": "code",
   "execution_count": 39,
   "metadata": {
    "editable": true
   },
   "outputs": [
    {
     "name": "stderr",
     "output_type": "stream",
     "text": [
      "D:\\Anaconda3\\lib\\site-packages\\ipykernel_launcher.py:2: SettingWithCopyWarning: \n",
      "A value is trying to be set on a copy of a slice from a DataFrame.\n",
      "Try using .loc[row_indexer,col_indexer] = value instead\n",
      "\n",
      "See the caveats in the documentation: https://pandas.pydata.org/pandas-docs/stable/user_guide/indexing.html#returning-a-view-versus-a-copy\n",
      "  \n"
     ]
    }
   ],
   "source": [
    "# change \"elevation_ft\" to numeric\n",
    "airportUS[\"elevation_ft\"] = airportUS[\"elevation_ft\"].astype(float)"
   ]
  },
  {
   "cell_type": "code",
   "execution_count": 40,
   "metadata": {
    "editable": true
   },
   "outputs": [
    {
     "name": "stderr",
     "output_type": "stream",
     "text": [
      "D:\\Anaconda3\\lib\\site-packages\\pandas\\core\\frame.py:3641: SettingWithCopyWarning: \n",
      "A value is trying to be set on a copy of a slice from a DataFrame.\n",
      "Try using .loc[row_indexer,col_indexer] = value instead\n",
      "\n",
      "See the caveats in the documentation: https://pandas.pydata.org/pandas-docs/stable/user_guide/indexing.html#returning-a-view-versus-a-copy\n",
      "  self[k1] = value[k2]\n"
     ]
    }
   ],
   "source": [
    "# separate \"iso_region\" to \"country\" and \"region\"\n",
    "airportUS[[\"country\", \"region\"]] = airportUS[\"iso_region\"].str.split(\"-\", 1, expand = True)"
   ]
  },
  {
   "cell_type": "code",
   "execution_count": 41,
   "metadata": {
    "editable": true
   },
   "outputs": [],
   "source": [
    "# separate \"iso_region\" to \"country\" and \"region\" and round 4\n",
    "airportUS[[\"longitude\", \"latitude\"]] = airportUS[\"coordinates\"].str.split(\",\", 1, expand = True).astype(float).round(4)"
   ]
  },
  {
   "cell_type": "code",
   "execution_count": 42,
   "metadata": {
    "editable": true
   },
   "outputs": [],
   "source": [
    "# drop unnecessary columns \n",
    "airportUSNew = (airportUS.drop([\"iso_country\", \"iso_region\", \"coordinates\", \"country\", \n",
    "                                \"continent\",\"iata_code\", \"gps_code\", \"local_code\", \"municipality\"], \n",
    "                               axis=1))"
   ]
  },
  {
   "cell_type": "code",
   "execution_count": 43,
   "metadata": {
    "editable": true
   },
   "outputs": [
    {
     "data": {
      "text/html": [
       "<div>\n",
       "<style scoped>\n",
       "    .dataframe tbody tr th:only-of-type {\n",
       "        vertical-align: middle;\n",
       "    }\n",
       "\n",
       "    .dataframe tbody tr th {\n",
       "        vertical-align: top;\n",
       "    }\n",
       "\n",
       "    .dataframe thead th {\n",
       "        text-align: right;\n",
       "    }\n",
       "</style>\n",
       "<table border=\"1\" class=\"dataframe\">\n",
       "  <thead>\n",
       "    <tr style=\"text-align: right;\">\n",
       "      <th></th>\n",
       "      <th>ident</th>\n",
       "      <th>type</th>\n",
       "      <th>name</th>\n",
       "      <th>elevation_ft</th>\n",
       "      <th>region</th>\n",
       "      <th>longitude</th>\n",
       "      <th>latitude</th>\n",
       "    </tr>\n",
       "  </thead>\n",
       "  <tbody>\n",
       "    <tr>\n",
       "      <th>6875</th>\n",
       "      <td>63CA</td>\n",
       "      <td>small_airport</td>\n",
       "      <td>Desert Air Sky Ranch Airport</td>\n",
       "      <td>NaN</td>\n",
       "      <td>CA</td>\n",
       "      <td>-115.8740</td>\n",
       "      <td>33.4811</td>\n",
       "    </tr>\n",
       "    <tr>\n",
       "      <th>6981</th>\n",
       "      <td>65LA</td>\n",
       "      <td>small_airport</td>\n",
       "      <td>Southern Seaplane Airport</td>\n",
       "      <td>NaN</td>\n",
       "      <td>LA</td>\n",
       "      <td>-90.0222</td>\n",
       "      <td>29.8661</td>\n",
       "    </tr>\n",
       "    <tr>\n",
       "      <th>7653</th>\n",
       "      <td>6XA4</td>\n",
       "      <td>small_airport</td>\n",
       "      <td>Zadow Airstrip</td>\n",
       "      <td>NaN</td>\n",
       "      <td>TX</td>\n",
       "      <td>-95.9544</td>\n",
       "      <td>29.9917</td>\n",
       "    </tr>\n",
       "    <tr>\n",
       "      <th>9006</th>\n",
       "      <td>8AL3</td>\n",
       "      <td>small_airport</td>\n",
       "      <td>Fricks Field Airport</td>\n",
       "      <td>NaN</td>\n",
       "      <td>AL</td>\n",
       "      <td>-86.0886</td>\n",
       "      <td>34.1418</td>\n",
       "    </tr>\n",
       "    <tr>\n",
       "      <th>9910</th>\n",
       "      <td>9CL9</td>\n",
       "      <td>small_airport</td>\n",
       "      <td>Spezia Airport</td>\n",
       "      <td>NaN</td>\n",
       "      <td>CA</td>\n",
       "      <td>-121.5340</td>\n",
       "      <td>38.2166</td>\n",
       "    </tr>\n",
       "    <tr>\n",
       "      <th>...</th>\n",
       "      <td>...</td>\n",
       "      <td>...</td>\n",
       "      <td>...</td>\n",
       "      <td>...</td>\n",
       "      <td>...</td>\n",
       "      <td>...</td>\n",
       "      <td>...</td>\n",
       "    </tr>\n",
       "    <tr>\n",
       "      <th>49947</th>\n",
       "      <td>US-0932</td>\n",
       "      <td>small_airport</td>\n",
       "      <td>CLE</td>\n",
       "      <td>NaN</td>\n",
       "      <td>U-A</td>\n",
       "      <td>0.0000</td>\n",
       "      <td>0.0000</td>\n",
       "    </tr>\n",
       "    <tr>\n",
       "      <th>49969</th>\n",
       "      <td>US-0954</td>\n",
       "      <td>small_airport</td>\n",
       "      <td>Dulpicate - Shelter Cove Airport</td>\n",
       "      <td>NaN</td>\n",
       "      <td>CA</td>\n",
       "      <td>124.0711</td>\n",
       "      <td>40.0289</td>\n",
       "    </tr>\n",
       "    <tr>\n",
       "      <th>49999</th>\n",
       "      <td>US-0984</td>\n",
       "      <td>small_airport</td>\n",
       "      <td>0c2</td>\n",
       "      <td>NaN</td>\n",
       "      <td>IL</td>\n",
       "      <td>0.0000</td>\n",
       "      <td>0.0000</td>\n",
       "    </tr>\n",
       "    <tr>\n",
       "      <th>50032</th>\n",
       "      <td>US-1016</td>\n",
       "      <td>large_airport</td>\n",
       "      <td>JFK</td>\n",
       "      <td>NaN</td>\n",
       "      <td>NY</td>\n",
       "      <td>0.0000</td>\n",
       "      <td>0.0000</td>\n",
       "    </tr>\n",
       "    <tr>\n",
       "      <th>51887</th>\n",
       "      <td>WEON</td>\n",
       "      <td>small_airport</td>\n",
       "      <td>Weona</td>\n",
       "      <td>NaN</td>\n",
       "      <td>AR</td>\n",
       "      <td>-90.5965</td>\n",
       "      <td>35.5404</td>\n",
       "    </tr>\n",
       "  </tbody>\n",
       "</table>\n",
       "<p>63 rows × 7 columns</p>\n",
       "</div>"
      ],
      "text/plain": [
       "         ident           type                              name  elevation_ft  \\\n",
       "6875      63CA  small_airport      Desert Air Sky Ranch Airport           NaN   \n",
       "6981      65LA  small_airport         Southern Seaplane Airport           NaN   \n",
       "7653      6XA4  small_airport                    Zadow Airstrip           NaN   \n",
       "9006      8AL3  small_airport              Fricks Field Airport           NaN   \n",
       "9910      9CL9  small_airport                    Spezia Airport           NaN   \n",
       "...        ...            ...                               ...           ...   \n",
       "49947  US-0932  small_airport                               CLE           NaN   \n",
       "49969  US-0954  small_airport  Dulpicate - Shelter Cove Airport           NaN   \n",
       "49999  US-0984  small_airport                               0c2           NaN   \n",
       "50032  US-1016  large_airport                               JFK           NaN   \n",
       "51887     WEON  small_airport                             Weona           NaN   \n",
       "\n",
       "      region  longitude  latitude  \n",
       "6875      CA  -115.8740   33.4811  \n",
       "6981      LA   -90.0222   29.8661  \n",
       "7653      TX   -95.9544   29.9917  \n",
       "9006      AL   -86.0886   34.1418  \n",
       "9910      CA  -121.5340   38.2166  \n",
       "...      ...        ...       ...  \n",
       "49947    U-A     0.0000    0.0000  \n",
       "49969     CA   124.0711   40.0289  \n",
       "49999     IL     0.0000    0.0000  \n",
       "50032     NY     0.0000    0.0000  \n",
       "51887     AR   -90.5965   35.5404  \n",
       "\n",
       "[63 rows x 7 columns]"
      ]
     },
     "execution_count": 43,
     "metadata": {},
     "output_type": "execute_result"
    }
   ],
   "source": [
    "# NaN rows\n",
    "airportUSNew[airportUSNew.isnull().any(axis=1)]"
   ]
  },
  {
   "cell_type": "code",
   "execution_count": 44,
   "metadata": {
    "editable": true
   },
   "outputs": [],
   "source": [
    "# len(airportUSNew) ## 14582 "
   ]
  },
  {
   "cell_type": "markdown",
   "metadata": {
    "editable": true
   },
   "source": [
    "Only 63 rows out of 14582 rows contain NaN, which could be dropped."
   ]
  },
  {
   "cell_type": "code",
   "execution_count": 45,
   "metadata": {
    "editable": true
   },
   "outputs": [],
   "source": [
    "# drop NaN\n",
    "airportUSNewNoNa = airportUSNew.dropna()"
   ]
  },
  {
   "cell_type": "code",
   "execution_count": 46,
   "metadata": {
    "editable": true
   },
   "outputs": [],
   "source": [
    "# NaN rows\n",
    "#airportUSNewNoNa[airportUSNewNoNa.isnull().any(axis=1)]"
   ]
  },
  {
   "cell_type": "code",
   "execution_count": 47,
   "metadata": {
    "editable": true
   },
   "outputs": [
    {
     "data": {
      "text/plain": [
       "True"
      ]
     },
     "execution_count": 47,
     "metadata": {},
     "output_type": "execute_result"
    }
   ],
   "source": [
    "# duplicates\n",
    "len(airportUSNewNoNa) == len(airportUSNewNoNa.drop_duplicates())"
   ]
  },
  {
   "cell_type": "code",
   "execution_count": 48,
   "metadata": {
    "editable": true
   },
   "outputs": [
    {
     "name": "stdout",
     "output_type": "stream",
     "text": [
      "<class 'pandas.core.frame.DataFrame'>\n",
      "Int64Index: 14519 entries, 1 to 54896\n",
      "Data columns (total 7 columns):\n",
      " #   Column        Non-Null Count  Dtype  \n",
      "---  ------        --------------  -----  \n",
      " 0   ident         14519 non-null  object \n",
      " 1   type          14519 non-null  object \n",
      " 2   name          14519 non-null  object \n",
      " 3   elevation_ft  14519 non-null  float64\n",
      " 4   region        14519 non-null  object \n",
      " 5   longitude     14519 non-null  float64\n",
      " 6   latitude      14519 non-null  float64\n",
      "dtypes: float64(3), object(4)\n",
      "memory usage: 907.4+ KB\n"
     ]
    }
   ],
   "source": [
    "# data information\n",
    "airportUSNewNoNa.info()"
   ]
  },
  {
   "cell_type": "code",
   "execution_count": 49,
   "metadata": {
    "editable": true
   },
   "outputs": [
    {
     "data": {
      "text/html": [
       "<div>\n",
       "<style scoped>\n",
       "    .dataframe tbody tr th:only-of-type {\n",
       "        vertical-align: middle;\n",
       "    }\n",
       "\n",
       "    .dataframe tbody tr th {\n",
       "        vertical-align: top;\n",
       "    }\n",
       "\n",
       "    .dataframe thead th {\n",
       "        text-align: right;\n",
       "    }\n",
       "</style>\n",
       "<table border=\"1\" class=\"dataframe\">\n",
       "  <thead>\n",
       "    <tr style=\"text-align: right;\">\n",
       "      <th></th>\n",
       "      <th>ident</th>\n",
       "      <th>type</th>\n",
       "      <th>name</th>\n",
       "      <th>elevation_ft</th>\n",
       "      <th>region</th>\n",
       "      <th>longitude</th>\n",
       "      <th>latitude</th>\n",
       "    </tr>\n",
       "  </thead>\n",
       "  <tbody>\n",
       "    <tr>\n",
       "      <th>1</th>\n",
       "      <td>00AA</td>\n",
       "      <td>small_airport</td>\n",
       "      <td>Aero B Ranch Airport</td>\n",
       "      <td>3435.0</td>\n",
       "      <td>KS</td>\n",
       "      <td>-101.4739</td>\n",
       "      <td>38.7040</td>\n",
       "    </tr>\n",
       "    <tr>\n",
       "      <th>2</th>\n",
       "      <td>00AK</td>\n",
       "      <td>small_airport</td>\n",
       "      <td>Lowell Field</td>\n",
       "      <td>450.0</td>\n",
       "      <td>AK</td>\n",
       "      <td>-151.6960</td>\n",
       "      <td>59.9492</td>\n",
       "    </tr>\n",
       "    <tr>\n",
       "      <th>3</th>\n",
       "      <td>00AL</td>\n",
       "      <td>small_airport</td>\n",
       "      <td>Epps Airpark</td>\n",
       "      <td>820.0</td>\n",
       "      <td>AL</td>\n",
       "      <td>-86.7703</td>\n",
       "      <td>34.8648</td>\n",
       "    </tr>\n",
       "    <tr>\n",
       "      <th>5</th>\n",
       "      <td>00AS</td>\n",
       "      <td>small_airport</td>\n",
       "      <td>Fulton Airport</td>\n",
       "      <td>1100.0</td>\n",
       "      <td>OK</td>\n",
       "      <td>-97.8180</td>\n",
       "      <td>34.9428</td>\n",
       "    </tr>\n",
       "    <tr>\n",
       "      <th>6</th>\n",
       "      <td>00AZ</td>\n",
       "      <td>small_airport</td>\n",
       "      <td>Cordes Airport</td>\n",
       "      <td>3810.0</td>\n",
       "      <td>AZ</td>\n",
       "      <td>-112.1650</td>\n",
       "      <td>34.3056</td>\n",
       "    </tr>\n",
       "  </tbody>\n",
       "</table>\n",
       "</div>"
      ],
      "text/plain": [
       "  ident           type                  name  elevation_ft region  longitude  \\\n",
       "1  00AA  small_airport  Aero B Ranch Airport        3435.0     KS  -101.4739   \n",
       "2  00AK  small_airport          Lowell Field         450.0     AK  -151.6960   \n",
       "3  00AL  small_airport          Epps Airpark         820.0     AL   -86.7703   \n",
       "5  00AS  small_airport        Fulton Airport        1100.0     OK   -97.8180   \n",
       "6  00AZ  small_airport        Cordes Airport        3810.0     AZ  -112.1650   \n",
       "\n",
       "   latitude  \n",
       "1   38.7040  \n",
       "2   59.9492  \n",
       "3   34.8648  \n",
       "5   34.9428  \n",
       "6   34.3056  "
      ]
     },
     "execution_count": 49,
     "metadata": {},
     "output_type": "execute_result"
    }
   ],
   "source": [
    "# top 5\n",
    "airportUSNewNoNa.head()"
   ]
  },
  {
   "cell_type": "markdown",
   "metadata": {
    "editable": true
   },
   "source": [
    "##### cities\n",
    "1. Transform columns \"Race\" and \"Count\" from long to wide\n",
    "2. To numeric: \"Male Population\", \"Female Population\", \"Total Population\", \"Number of Veterans\", \"Foreign-born\", \"Count\"\n",
    "3. To float: \"Median Age\", \"Average Household Size\""
   ]
  },
  {
   "cell_type": "code",
   "execution_count": 50,
   "metadata": {
    "editable": true
   },
   "outputs": [
    {
     "data": {
      "text/html": [
       "<div>\n",
       "<style scoped>\n",
       "    .dataframe tbody tr th:only-of-type {\n",
       "        vertical-align: middle;\n",
       "    }\n",
       "\n",
       "    .dataframe tbody tr th {\n",
       "        vertical-align: top;\n",
       "    }\n",
       "\n",
       "    .dataframe thead th {\n",
       "        text-align: right;\n",
       "    }\n",
       "</style>\n",
       "<table border=\"1\" class=\"dataframe\">\n",
       "  <thead>\n",
       "    <tr style=\"text-align: right;\">\n",
       "      <th></th>\n",
       "      <th>City</th>\n",
       "      <th>State</th>\n",
       "      <th>Median Age</th>\n",
       "      <th>Male Population</th>\n",
       "      <th>Female Population</th>\n",
       "      <th>Total Population</th>\n",
       "      <th>Number of Veterans</th>\n",
       "      <th>Foreign-born</th>\n",
       "      <th>Average Household Size</th>\n",
       "      <th>State Code</th>\n",
       "      <th>Race</th>\n",
       "      <th>Count</th>\n",
       "    </tr>\n",
       "  </thead>\n",
       "  <tbody>\n",
       "    <tr>\n",
       "      <th>5</th>\n",
       "      <td>San Juan</td>\n",
       "      <td>Puerto Rico</td>\n",
       "      <td>41.4</td>\n",
       "      <td>155408</td>\n",
       "      <td>186829</td>\n",
       "      <td>342237</td>\n",
       "      <td>NaN</td>\n",
       "      <td>NaN</td>\n",
       "      <td>NaN</td>\n",
       "      <td>PR</td>\n",
       "      <td>Hispanic or Latino</td>\n",
       "      <td>335559</td>\n",
       "    </tr>\n",
       "    <tr>\n",
       "      <th>9</th>\n",
       "      <td>Caguas</td>\n",
       "      <td>Puerto Rico</td>\n",
       "      <td>40.4</td>\n",
       "      <td>34743</td>\n",
       "      <td>42265</td>\n",
       "      <td>77008</td>\n",
       "      <td>NaN</td>\n",
       "      <td>NaN</td>\n",
       "      <td>NaN</td>\n",
       "      <td>PR</td>\n",
       "      <td>Hispanic or Latino</td>\n",
       "      <td>76349</td>\n",
       "    </tr>\n",
       "    <tr>\n",
       "      <th>280</th>\n",
       "      <td>Bayamón</td>\n",
       "      <td>Puerto Rico</td>\n",
       "      <td>39.4</td>\n",
       "      <td>80128</td>\n",
       "      <td>90131</td>\n",
       "      <td>170259</td>\n",
       "      <td>NaN</td>\n",
       "      <td>NaN</td>\n",
       "      <td>NaN</td>\n",
       "      <td>PR</td>\n",
       "      <td>Hispanic or Latino</td>\n",
       "      <td>169155</td>\n",
       "    </tr>\n",
       "    <tr>\n",
       "      <th>740</th>\n",
       "      <td>The Villages</td>\n",
       "      <td>Florida</td>\n",
       "      <td>70.5</td>\n",
       "      <td>NaN</td>\n",
       "      <td>NaN</td>\n",
       "      <td>72590</td>\n",
       "      <td>15231</td>\n",
       "      <td>4034</td>\n",
       "      <td>NaN</td>\n",
       "      <td>FL</td>\n",
       "      <td>White</td>\n",
       "      <td>72211</td>\n",
       "    </tr>\n",
       "    <tr>\n",
       "      <th>806</th>\n",
       "      <td>San Juan</td>\n",
       "      <td>Puerto Rico</td>\n",
       "      <td>41.4</td>\n",
       "      <td>155408</td>\n",
       "      <td>186829</td>\n",
       "      <td>342237</td>\n",
       "      <td>NaN</td>\n",
       "      <td>NaN</td>\n",
       "      <td>NaN</td>\n",
       "      <td>PR</td>\n",
       "      <td>American Indian and Alaska Native</td>\n",
       "      <td>4031</td>\n",
       "    </tr>\n",
       "    <tr>\n",
       "      <th>908</th>\n",
       "      <td>The Villages</td>\n",
       "      <td>Florida</td>\n",
       "      <td>70.5</td>\n",
       "      <td>NaN</td>\n",
       "      <td>NaN</td>\n",
       "      <td>72590</td>\n",
       "      <td>15231</td>\n",
       "      <td>4034</td>\n",
       "      <td>NaN</td>\n",
       "      <td>FL</td>\n",
       "      <td>Black or African-American</td>\n",
       "      <td>331</td>\n",
       "    </tr>\n",
       "    <tr>\n",
       "      <th>1121</th>\n",
       "      <td>Guaynabo</td>\n",
       "      <td>Puerto Rico</td>\n",
       "      <td>42.2</td>\n",
       "      <td>33066</td>\n",
       "      <td>37426</td>\n",
       "      <td>70492</td>\n",
       "      <td>NaN</td>\n",
       "      <td>NaN</td>\n",
       "      <td>NaN</td>\n",
       "      <td>PR</td>\n",
       "      <td>American Indian and Alaska Native</td>\n",
       "      <td>589</td>\n",
       "    </tr>\n",
       "    <tr>\n",
       "      <th>1196</th>\n",
       "      <td>Mayagüez</td>\n",
       "      <td>Puerto Rico</td>\n",
       "      <td>38.1</td>\n",
       "      <td>30799</td>\n",
       "      <td>35782</td>\n",
       "      <td>66581</td>\n",
       "      <td>NaN</td>\n",
       "      <td>NaN</td>\n",
       "      <td>NaN</td>\n",
       "      <td>PR</td>\n",
       "      <td>Asian</td>\n",
       "      <td>235</td>\n",
       "    </tr>\n",
       "    <tr>\n",
       "      <th>1443</th>\n",
       "      <td>Mayagüez</td>\n",
       "      <td>Puerto Rico</td>\n",
       "      <td>38.1</td>\n",
       "      <td>30799</td>\n",
       "      <td>35782</td>\n",
       "      <td>66581</td>\n",
       "      <td>NaN</td>\n",
       "      <td>NaN</td>\n",
       "      <td>NaN</td>\n",
       "      <td>PR</td>\n",
       "      <td>Hispanic or Latino</td>\n",
       "      <td>65521</td>\n",
       "    </tr>\n",
       "    <tr>\n",
       "      <th>1530</th>\n",
       "      <td>Caguas</td>\n",
       "      <td>Puerto Rico</td>\n",
       "      <td>40.4</td>\n",
       "      <td>34743</td>\n",
       "      <td>42265</td>\n",
       "      <td>77008</td>\n",
       "      <td>NaN</td>\n",
       "      <td>NaN</td>\n",
       "      <td>NaN</td>\n",
       "      <td>PR</td>\n",
       "      <td>American Indian and Alaska Native</td>\n",
       "      <td>624</td>\n",
       "    </tr>\n",
       "    <tr>\n",
       "      <th>1547</th>\n",
       "      <td>The Villages</td>\n",
       "      <td>Florida</td>\n",
       "      <td>70.5</td>\n",
       "      <td>NaN</td>\n",
       "      <td>NaN</td>\n",
       "      <td>72590</td>\n",
       "      <td>15231</td>\n",
       "      <td>4034</td>\n",
       "      <td>NaN</td>\n",
       "      <td>FL</td>\n",
       "      <td>Hispanic or Latino</td>\n",
       "      <td>1066</td>\n",
       "    </tr>\n",
       "    <tr>\n",
       "      <th>1826</th>\n",
       "      <td>San Juan</td>\n",
       "      <td>Puerto Rico</td>\n",
       "      <td>41.4</td>\n",
       "      <td>155408</td>\n",
       "      <td>186829</td>\n",
       "      <td>342237</td>\n",
       "      <td>NaN</td>\n",
       "      <td>NaN</td>\n",
       "      <td>NaN</td>\n",
       "      <td>PR</td>\n",
       "      <td>Asian</td>\n",
       "      <td>2452</td>\n",
       "    </tr>\n",
       "    <tr>\n",
       "      <th>2079</th>\n",
       "      <td>Carolina</td>\n",
       "      <td>Puerto Rico</td>\n",
       "      <td>42.0</td>\n",
       "      <td>64758</td>\n",
       "      <td>77308</td>\n",
       "      <td>142066</td>\n",
       "      <td>NaN</td>\n",
       "      <td>NaN</td>\n",
       "      <td>NaN</td>\n",
       "      <td>PR</td>\n",
       "      <td>Hispanic or Latino</td>\n",
       "      <td>139967</td>\n",
       "    </tr>\n",
       "    <tr>\n",
       "      <th>2284</th>\n",
       "      <td>Carolina</td>\n",
       "      <td>Puerto Rico</td>\n",
       "      <td>42.0</td>\n",
       "      <td>64758</td>\n",
       "      <td>77308</td>\n",
       "      <td>142066</td>\n",
       "      <td>NaN</td>\n",
       "      <td>NaN</td>\n",
       "      <td>NaN</td>\n",
       "      <td>PR</td>\n",
       "      <td>American Indian and Alaska Native</td>\n",
       "      <td>12143</td>\n",
       "    </tr>\n",
       "    <tr>\n",
       "      <th>2558</th>\n",
       "      <td>Guaynabo</td>\n",
       "      <td>Puerto Rico</td>\n",
       "      <td>42.2</td>\n",
       "      <td>33066</td>\n",
       "      <td>37426</td>\n",
       "      <td>70492</td>\n",
       "      <td>NaN</td>\n",
       "      <td>NaN</td>\n",
       "      <td>NaN</td>\n",
       "      <td>PR</td>\n",
       "      <td>Hispanic or Latino</td>\n",
       "      <td>69936</td>\n",
       "    </tr>\n",
       "    <tr>\n",
       "      <th>2646</th>\n",
       "      <td>Ponce</td>\n",
       "      <td>Puerto Rico</td>\n",
       "      <td>40.5</td>\n",
       "      <td>56968</td>\n",
       "      <td>64615</td>\n",
       "      <td>121583</td>\n",
       "      <td>NaN</td>\n",
       "      <td>NaN</td>\n",
       "      <td>NaN</td>\n",
       "      <td>PR</td>\n",
       "      <td>Hispanic or Latino</td>\n",
       "      <td>120705</td>\n",
       "    </tr>\n",
       "  </tbody>\n",
       "</table>\n",
       "</div>"
      ],
      "text/plain": [
       "              City        State Median Age Male Population Female Population  \\\n",
       "5         San Juan  Puerto Rico       41.4          155408            186829   \n",
       "9           Caguas  Puerto Rico       40.4           34743             42265   \n",
       "280        Bayamón  Puerto Rico       39.4           80128             90131   \n",
       "740   The Villages      Florida       70.5             NaN               NaN   \n",
       "806       San Juan  Puerto Rico       41.4          155408            186829   \n",
       "908   The Villages      Florida       70.5             NaN               NaN   \n",
       "1121      Guaynabo  Puerto Rico       42.2           33066             37426   \n",
       "1196      Mayagüez  Puerto Rico       38.1           30799             35782   \n",
       "1443      Mayagüez  Puerto Rico       38.1           30799             35782   \n",
       "1530        Caguas  Puerto Rico       40.4           34743             42265   \n",
       "1547  The Villages      Florida       70.5             NaN               NaN   \n",
       "1826      San Juan  Puerto Rico       41.4          155408            186829   \n",
       "2079      Carolina  Puerto Rico       42.0           64758             77308   \n",
       "2284      Carolina  Puerto Rico       42.0           64758             77308   \n",
       "2558      Guaynabo  Puerto Rico       42.2           33066             37426   \n",
       "2646         Ponce  Puerto Rico       40.5           56968             64615   \n",
       "\n",
       "     Total Population Number of Veterans Foreign-born Average Household Size  \\\n",
       "5              342237                NaN          NaN                    NaN   \n",
       "9               77008                NaN          NaN                    NaN   \n",
       "280            170259                NaN          NaN                    NaN   \n",
       "740             72590              15231         4034                    NaN   \n",
       "806            342237                NaN          NaN                    NaN   \n",
       "908             72590              15231         4034                    NaN   \n",
       "1121            70492                NaN          NaN                    NaN   \n",
       "1196            66581                NaN          NaN                    NaN   \n",
       "1443            66581                NaN          NaN                    NaN   \n",
       "1530            77008                NaN          NaN                    NaN   \n",
       "1547            72590              15231         4034                    NaN   \n",
       "1826           342237                NaN          NaN                    NaN   \n",
       "2079           142066                NaN          NaN                    NaN   \n",
       "2284           142066                NaN          NaN                    NaN   \n",
       "2558            70492                NaN          NaN                    NaN   \n",
       "2646           121583                NaN          NaN                    NaN   \n",
       "\n",
       "     State Code                               Race   Count  \n",
       "5            PR                 Hispanic or Latino  335559  \n",
       "9            PR                 Hispanic or Latino   76349  \n",
       "280          PR                 Hispanic or Latino  169155  \n",
       "740          FL                              White   72211  \n",
       "806          PR  American Indian and Alaska Native    4031  \n",
       "908          FL          Black or African-American     331  \n",
       "1121         PR  American Indian and Alaska Native     589  \n",
       "1196         PR                              Asian     235  \n",
       "1443         PR                 Hispanic or Latino   65521  \n",
       "1530         PR  American Indian and Alaska Native     624  \n",
       "1547         FL                 Hispanic or Latino    1066  \n",
       "1826         PR                              Asian    2452  \n",
       "2079         PR                 Hispanic or Latino  139967  \n",
       "2284         PR  American Indian and Alaska Native   12143  \n",
       "2558         PR                 Hispanic or Latino   69936  \n",
       "2646         PR                 Hispanic or Latino  120705  "
      ]
     },
     "execution_count": 50,
     "metadata": {},
     "output_type": "execute_result"
    }
   ],
   "source": [
    "# NaN rows\n",
    "cities[cities.isnull().any(axis=1)]"
   ]
  },
  {
   "cell_type": "code",
   "execution_count": 51,
   "metadata": {
    "editable": true
   },
   "outputs": [],
   "source": [
    "# len(cities[cities.isnull().any(axis=1)]) ## 16 rows are blank"
   ]
  },
  {
   "cell_type": "code",
   "execution_count": 52,
   "metadata": {
    "editable": true
   },
   "outputs": [],
   "source": [
    "# len(cities) ## 2891"
   ]
  },
  {
   "cell_type": "markdown",
   "metadata": {
    "editable": true
   },
   "source": [
    "16 rows out of 2891 are blank. And the status are \"Puerto Rico\" and \"Florida (The Villages)\". Thus, dropped these places."
   ]
  },
  {
   "cell_type": "code",
   "execution_count": 53,
   "metadata": {
    "editable": true
   },
   "outputs": [],
   "source": [
    "# drop NaN\n",
    "citiesNoNa = cities.dropna()"
   ]
  },
  {
   "cell_type": "code",
   "execution_count": null,
   "metadata": {
    "editable": true
   },
   "outputs": [],
   "source": [
    "citiesNoNa[\"Count\"] = citiesNoNa[\"Count\"].astype(float)"
   ]
  },
  {
   "cell_type": "code",
   "execution_count": 54,
   "metadata": {
    "editable": true
   },
   "outputs": [],
   "source": [
    "# transform from long to wide\n",
    "citiesPop = citiesNoNa[['City', 'State', 'Median Age', 'Male Population',\n",
    "       'Female Population', 'Total Population', 'Number of Veterans',\n",
    "       'Foreign-born', 'Average Household Size', 'State Code']]\n",
    "citiesRace = (pd.pivot_table(citiesNoNa[[\"City\", \"Race\", \"Count\"]], \n",
    "                             index=\"City\", columns = \"Race\", values= \"Count\")\n",
    "                          .reset_index().reset_index(drop=True).rename_axis(None, axis=1))\n",
    "citiesNew = citiesPop.merge(citiesRace, on=\"City\", how=\"left\")"
   ]
  },
  {
   "cell_type": "code",
   "execution_count": 55,
   "metadata": {
    "editable": true
   },
   "outputs": [],
   "source": [
    "# citiesNew.head()"
   ]
  },
  {
   "cell_type": "code",
   "execution_count": 56,
   "metadata": {
    "editable": true
   },
   "outputs": [],
   "source": [
    "# to integer \n",
    "citiesNew[[\"Male Population\", \"Female Population\", \n",
    "           \"Total Population\", \"Number of Veterans\", \"Foreign-born\"]] = (citiesNew[[\"Male Population\", \"Female Population\", \n",
    "                                                        \"Total Population\", \"Number of Veterans\", \"Foreign-born\"\n",
    "                                                        ]].astype(int))"
   ]
  },
  {
   "cell_type": "code",
   "execution_count": 57,
   "metadata": {
    "editable": true
   },
   "outputs": [],
   "source": [
    "# to float since some rows contain NaN\n",
    "# show errors if converting to int\n",
    "citiesNew[[\"American Indian and Alaska Native\", \"Asian\", \n",
    "           \"Black or African-American\", \"Hispanic or Latino\", \"White\"]] = (citiesNew[[\"American Indian and Alaska Native\", \"Asian\", \n",
    "                                                                                      \"Black or African-American\", \"Hispanic or Latino\", \"White\"]].astype(float))"
   ]
  },
  {
   "cell_type": "code",
   "execution_count": 58,
   "metadata": {
    "editable": true
   },
   "outputs": [],
   "source": [
    "# to float\n",
    "citiesNew[[\"Median Age\", \"Average Household Size\"]] = (citiesNew[[\"Median Age\", \"Average Household Size\"]].astype(float))"
   ]
  },
  {
   "cell_type": "code",
   "execution_count": 59,
   "metadata": {
    "editable": true
   },
   "outputs": [
    {
     "data": {
      "text/html": [
       "<div>\n",
       "<style scoped>\n",
       "    .dataframe tbody tr th:only-of-type {\n",
       "        vertical-align: middle;\n",
       "    }\n",
       "\n",
       "    .dataframe tbody tr th {\n",
       "        vertical-align: top;\n",
       "    }\n",
       "\n",
       "    .dataframe thead th {\n",
       "        text-align: right;\n",
       "    }\n",
       "</style>\n",
       "<table border=\"1\" class=\"dataframe\">\n",
       "  <thead>\n",
       "    <tr style=\"text-align: right;\">\n",
       "      <th></th>\n",
       "      <th>City</th>\n",
       "      <th>State</th>\n",
       "      <th>Median Age</th>\n",
       "      <th>Male Population</th>\n",
       "      <th>Female Population</th>\n",
       "      <th>Total Population</th>\n",
       "      <th>Number of Veterans</th>\n",
       "      <th>Foreign-born</th>\n",
       "      <th>Average Household Size</th>\n",
       "      <th>State Code</th>\n",
       "      <th>American Indian and Alaska Native</th>\n",
       "      <th>Asian</th>\n",
       "      <th>Black or African-American</th>\n",
       "      <th>Hispanic or Latino</th>\n",
       "      <th>White</th>\n",
       "    </tr>\n",
       "  </thead>\n",
       "  <tbody>\n",
       "    <tr>\n",
       "      <th>29</th>\n",
       "      <td>Passaic</td>\n",
       "      <td>New Jersey</td>\n",
       "      <td>30.4</td>\n",
       "      <td>36505</td>\n",
       "      <td>34577</td>\n",
       "      <td>71082</td>\n",
       "      <td>693</td>\n",
       "      <td>24174</td>\n",
       "      <td>3.56</td>\n",
       "      <td>NJ</td>\n",
       "      <td>NaN</td>\n",
       "      <td>3338.0</td>\n",
       "      <td>5230.0</td>\n",
       "      <td>53680.0</td>\n",
       "      <td>30352.0</td>\n",
       "    </tr>\n",
       "    <tr>\n",
       "      <th>33</th>\n",
       "      <td>Bayonne</td>\n",
       "      <td>New Jersey</td>\n",
       "      <td>39.7</td>\n",
       "      <td>32705</td>\n",
       "      <td>33598</td>\n",
       "      <td>66303</td>\n",
       "      <td>2225</td>\n",
       "      <td>21899</td>\n",
       "      <td>2.62</td>\n",
       "      <td>NJ</td>\n",
       "      <td>NaN</td>\n",
       "      <td>7171.0</td>\n",
       "      <td>7581.0</td>\n",
       "      <td>19525.0</td>\n",
       "      <td>41431.0</td>\n",
       "    </tr>\n",
       "    <tr>\n",
       "      <th>38</th>\n",
       "      <td>Alafaya</td>\n",
       "      <td>Florida</td>\n",
       "      <td>33.5</td>\n",
       "      <td>39504</td>\n",
       "      <td>45760</td>\n",
       "      <td>85264</td>\n",
       "      <td>4176</td>\n",
       "      <td>15842</td>\n",
       "      <td>2.94</td>\n",
       "      <td>FL</td>\n",
       "      <td>NaN</td>\n",
       "      <td>10336.0</td>\n",
       "      <td>6577.0</td>\n",
       "      <td>34897.0</td>\n",
       "      <td>63666.0</td>\n",
       "    </tr>\n",
       "    <tr>\n",
       "      <th>79</th>\n",
       "      <td>Miami Beach</td>\n",
       "      <td>Florida</td>\n",
       "      <td>42.5</td>\n",
       "      <td>48090</td>\n",
       "      <td>44221</td>\n",
       "      <td>92311</td>\n",
       "      <td>2265</td>\n",
       "      <td>49908</td>\n",
       "      <td>2.10</td>\n",
       "      <td>FL</td>\n",
       "      <td>NaN</td>\n",
       "      <td>2772.0</td>\n",
       "      <td>4013.0</td>\n",
       "      <td>47446.0</td>\n",
       "      <td>72180.0</td>\n",
       "    </tr>\n",
       "    <tr>\n",
       "      <th>83</th>\n",
       "      <td>Sterling Heights</td>\n",
       "      <td>Michigan</td>\n",
       "      <td>39.6</td>\n",
       "      <td>64985</td>\n",
       "      <td>67077</td>\n",
       "      <td>132062</td>\n",
       "      <td>6970</td>\n",
       "      <td>34313</td>\n",
       "      <td>2.66</td>\n",
       "      <td>MI</td>\n",
       "      <td>NaN</td>\n",
       "      <td>12264.0</td>\n",
       "      <td>8054.0</td>\n",
       "      <td>2811.0</td>\n",
       "      <td>112743.0</td>\n",
       "    </tr>\n",
       "    <tr>\n",
       "      <th>...</th>\n",
       "      <td>...</td>\n",
       "      <td>...</td>\n",
       "      <td>...</td>\n",
       "      <td>...</td>\n",
       "      <td>...</td>\n",
       "      <td>...</td>\n",
       "      <td>...</td>\n",
       "      <td>...</td>\n",
       "      <td>...</td>\n",
       "      <td>...</td>\n",
       "      <td>...</td>\n",
       "      <td>...</td>\n",
       "      <td>...</td>\n",
       "      <td>...</td>\n",
       "      <td>...</td>\n",
       "    </tr>\n",
       "    <tr>\n",
       "      <th>2810</th>\n",
       "      <td>Perris</td>\n",
       "      <td>California</td>\n",
       "      <td>26.9</td>\n",
       "      <td>41623</td>\n",
       "      <td>33336</td>\n",
       "      <td>74959</td>\n",
       "      <td>1321</td>\n",
       "      <td>23277</td>\n",
       "      <td>4.78</td>\n",
       "      <td>CA</td>\n",
       "      <td>NaN</td>\n",
       "      <td>3341.0</td>\n",
       "      <td>9393.0</td>\n",
       "      <td>54398.0</td>\n",
       "      <td>23882.0</td>\n",
       "    </tr>\n",
       "    <tr>\n",
       "      <th>2817</th>\n",
       "      <td>Sterling Heights</td>\n",
       "      <td>Michigan</td>\n",
       "      <td>39.6</td>\n",
       "      <td>64985</td>\n",
       "      <td>67077</td>\n",
       "      <td>132062</td>\n",
       "      <td>6970</td>\n",
       "      <td>34313</td>\n",
       "      <td>2.66</td>\n",
       "      <td>MI</td>\n",
       "      <td>NaN</td>\n",
       "      <td>12264.0</td>\n",
       "      <td>8054.0</td>\n",
       "      <td>2811.0</td>\n",
       "      <td>112743.0</td>\n",
       "    </tr>\n",
       "    <tr>\n",
       "      <th>2818</th>\n",
       "      <td>Lynwood</td>\n",
       "      <td>California</td>\n",
       "      <td>29.4</td>\n",
       "      <td>35634</td>\n",
       "      <td>36371</td>\n",
       "      <td>72005</td>\n",
       "      <td>776</td>\n",
       "      <td>28061</td>\n",
       "      <td>4.43</td>\n",
       "      <td>CA</td>\n",
       "      <td>NaN</td>\n",
       "      <td>994.0</td>\n",
       "      <td>5346.0</td>\n",
       "      <td>63377.0</td>\n",
       "      <td>48670.0</td>\n",
       "    </tr>\n",
       "    <tr>\n",
       "      <th>2868</th>\n",
       "      <td>Sunrise</td>\n",
       "      <td>Florida</td>\n",
       "      <td>37.7</td>\n",
       "      <td>41471</td>\n",
       "      <td>51235</td>\n",
       "      <td>92706</td>\n",
       "      <td>4108</td>\n",
       "      <td>38209</td>\n",
       "      <td>2.98</td>\n",
       "      <td>FL</td>\n",
       "      <td>NaN</td>\n",
       "      <td>3501.0</td>\n",
       "      <td>33951.0</td>\n",
       "      <td>29163.0</td>\n",
       "      <td>54976.0</td>\n",
       "    </tr>\n",
       "    <tr>\n",
       "      <th>2872</th>\n",
       "      <td>Scranton</td>\n",
       "      <td>Pennsylvania</td>\n",
       "      <td>38.5</td>\n",
       "      <td>37975</td>\n",
       "      <td>39137</td>\n",
       "      <td>77112</td>\n",
       "      <td>5059</td>\n",
       "      <td>8069</td>\n",
       "      <td>2.39</td>\n",
       "      <td>PA</td>\n",
       "      <td>NaN</td>\n",
       "      <td>4722.0</td>\n",
       "      <td>6256.0</td>\n",
       "      <td>11301.0</td>\n",
       "      <td>66875.0</td>\n",
       "    </tr>\n",
       "  </tbody>\n",
       "</table>\n",
       "<p>212 rows × 15 columns</p>\n",
       "</div>"
      ],
      "text/plain": [
       "                  City         State  Median Age  Male Population  \\\n",
       "29             Passaic    New Jersey        30.4            36505   \n",
       "33             Bayonne    New Jersey        39.7            32705   \n",
       "38             Alafaya       Florida        33.5            39504   \n",
       "79         Miami Beach       Florida        42.5            48090   \n",
       "83    Sterling Heights      Michigan        39.6            64985   \n",
       "...                ...           ...         ...              ...   \n",
       "2810            Perris    California        26.9            41623   \n",
       "2817  Sterling Heights      Michigan        39.6            64985   \n",
       "2818           Lynwood    California        29.4            35634   \n",
       "2868           Sunrise       Florida        37.7            41471   \n",
       "2872          Scranton  Pennsylvania        38.5            37975   \n",
       "\n",
       "      Female Population  Total Population  Number of Veterans  Foreign-born  \\\n",
       "29                34577             71082                 693         24174   \n",
       "33                33598             66303                2225         21899   \n",
       "38                45760             85264                4176         15842   \n",
       "79                44221             92311                2265         49908   \n",
       "83                67077            132062                6970         34313   \n",
       "...                 ...               ...                 ...           ...   \n",
       "2810              33336             74959                1321         23277   \n",
       "2817              67077            132062                6970         34313   \n",
       "2818              36371             72005                 776         28061   \n",
       "2868              51235             92706                4108         38209   \n",
       "2872              39137             77112                5059          8069   \n",
       "\n",
       "      Average Household Size State Code  American Indian and Alaska Native  \\\n",
       "29                      3.56         NJ                                NaN   \n",
       "33                      2.62         NJ                                NaN   \n",
       "38                      2.94         FL                                NaN   \n",
       "79                      2.10         FL                                NaN   \n",
       "83                      2.66         MI                                NaN   \n",
       "...                      ...        ...                                ...   \n",
       "2810                    4.78         CA                                NaN   \n",
       "2817                    2.66         MI                                NaN   \n",
       "2818                    4.43         CA                                NaN   \n",
       "2868                    2.98         FL                                NaN   \n",
       "2872                    2.39         PA                                NaN   \n",
       "\n",
       "        Asian  Black or African-American  Hispanic or Latino     White  \n",
       "29     3338.0                     5230.0             53680.0   30352.0  \n",
       "33     7171.0                     7581.0             19525.0   41431.0  \n",
       "38    10336.0                     6577.0             34897.0   63666.0  \n",
       "79     2772.0                     4013.0             47446.0   72180.0  \n",
       "83    12264.0                     8054.0              2811.0  112743.0  \n",
       "...       ...                        ...                 ...       ...  \n",
       "2810   3341.0                     9393.0             54398.0   23882.0  \n",
       "2817  12264.0                     8054.0              2811.0  112743.0  \n",
       "2818    994.0                     5346.0             63377.0   48670.0  \n",
       "2868   3501.0                    33951.0             29163.0   54976.0  \n",
       "2872   4722.0                     6256.0             11301.0   66875.0  \n",
       "\n",
       "[212 rows x 15 columns]"
      ]
     },
     "execution_count": 59,
     "metadata": {},
     "output_type": "execute_result"
    }
   ],
   "source": [
    "# NaN rows\n",
    "citiesNew[citiesNew.isnull().any(axis=1)]"
   ]
  },
  {
   "cell_type": "code",
   "execution_count": 60,
   "metadata": {
    "editable": true
   },
   "outputs": [],
   "source": [
    "# len(citiesNew) ## 2875"
   ]
  },
  {
   "cell_type": "markdown",
   "metadata": {
    "editable": true
   },
   "source": [
    "212 rows out of 2875 contain NaN which are related to \"American Indian and Alaska Native\". Thus, don't dropped."
   ]
  },
  {
   "cell_type": "code",
   "execution_count": 61,
   "metadata": {
    "editable": true
   },
   "outputs": [
    {
     "data": {
      "text/plain": [
       "False"
      ]
     },
     "execution_count": 61,
     "metadata": {},
     "output_type": "execute_result"
    }
   ],
   "source": [
    "# duplicates\n",
    "len(citiesNew) == len(citiesNew.drop_duplicates())"
   ]
  },
  {
   "cell_type": "code",
   "execution_count": 62,
   "metadata": {
    "editable": true
   },
   "outputs": [],
   "source": [
    "#len(citiesNew.drop_duplicates()) ## 588"
   ]
  },
  {
   "cell_type": "code",
   "execution_count": 63,
   "metadata": {
    "editable": true
   },
   "outputs": [],
   "source": [
    "# drop duplicates\n",
    "citiesNewNoDup = citiesNew.drop_duplicates()"
   ]
  },
  {
   "cell_type": "code",
   "execution_count": 64,
   "metadata": {
    "editable": true
   },
   "outputs": [
    {
     "name": "stdout",
     "output_type": "stream",
     "text": [
      "<class 'pandas.core.frame.DataFrame'>\n",
      "Int64Index: 588 entries, 0 to 2195\n",
      "Data columns (total 15 columns):\n",
      " #   Column                             Non-Null Count  Dtype  \n",
      "---  ------                             --------------  -----  \n",
      " 0   City                               588 non-null    object \n",
      " 1   State                              588 non-null    object \n",
      " 2   Median Age                         588 non-null    float64\n",
      " 3   Male Population                    588 non-null    int32  \n",
      " 4   Female Population                  588 non-null    int32  \n",
      " 5   Total Population                   588 non-null    int32  \n",
      " 6   Number of Veterans                 588 non-null    int32  \n",
      " 7   Foreign-born                       588 non-null    int32  \n",
      " 8   Average Household Size             588 non-null    float64\n",
      " 9   State Code                         588 non-null    object \n",
      " 10  American Indian and Alaska Native  537 non-null    float64\n",
      " 11  Asian                              581 non-null    float64\n",
      " 12  Black or African-American          583 non-null    float64\n",
      " 13  Hispanic or Latino                 588 non-null    float64\n",
      " 14  White                              588 non-null    float64\n",
      "dtypes: float64(7), int32(5), object(3)\n",
      "memory usage: 62.0+ KB\n"
     ]
    }
   ],
   "source": [
    "# data information\n",
    "citiesNewNoDup.info()"
   ]
  },
  {
   "cell_type": "code",
   "execution_count": 65,
   "metadata": {
    "editable": true
   },
   "outputs": [
    {
     "data": {
      "text/html": [
       "<div>\n",
       "<style scoped>\n",
       "    .dataframe tbody tr th:only-of-type {\n",
       "        vertical-align: middle;\n",
       "    }\n",
       "\n",
       "    .dataframe tbody tr th {\n",
       "        vertical-align: top;\n",
       "    }\n",
       "\n",
       "    .dataframe thead th {\n",
       "        text-align: right;\n",
       "    }\n",
       "</style>\n",
       "<table border=\"1\" class=\"dataframe\">\n",
       "  <thead>\n",
       "    <tr style=\"text-align: right;\">\n",
       "      <th></th>\n",
       "      <th>City</th>\n",
       "      <th>State</th>\n",
       "      <th>Median Age</th>\n",
       "      <th>Male Population</th>\n",
       "      <th>Female Population</th>\n",
       "      <th>Total Population</th>\n",
       "      <th>Number of Veterans</th>\n",
       "      <th>Foreign-born</th>\n",
       "      <th>Average Household Size</th>\n",
       "      <th>State Code</th>\n",
       "      <th>American Indian and Alaska Native</th>\n",
       "      <th>Asian</th>\n",
       "      <th>Black or African-American</th>\n",
       "      <th>Hispanic or Latino</th>\n",
       "      <th>White</th>\n",
       "    </tr>\n",
       "  </thead>\n",
       "  <tbody>\n",
       "    <tr>\n",
       "      <th>0</th>\n",
       "      <td>Wichita</td>\n",
       "      <td>Kansas</td>\n",
       "      <td>34.6</td>\n",
       "      <td>192354</td>\n",
       "      <td>197601</td>\n",
       "      <td>389955</td>\n",
       "      <td>23978</td>\n",
       "      <td>40270</td>\n",
       "      <td>2.56</td>\n",
       "      <td>KS</td>\n",
       "      <td>8791.0</td>\n",
       "      <td>25210.0</td>\n",
       "      <td>5.259200e+04</td>\n",
       "      <td>6.516200e+04</td>\n",
       "      <td>3.059100e+05</td>\n",
       "    </tr>\n",
       "    <tr>\n",
       "      <th>1</th>\n",
       "      <td>Allen</td>\n",
       "      <td>Pennsylvania</td>\n",
       "      <td>33.5</td>\n",
       "      <td>60626</td>\n",
       "      <td>59581</td>\n",
       "      <td>120207</td>\n",
       "      <td>5691</td>\n",
       "      <td>19652</td>\n",
       "      <td>2.67</td>\n",
       "      <td>PA</td>\n",
       "      <td>538113.5</td>\n",
       "      <td>133507895.0</td>\n",
       "      <td>1.115207e+09</td>\n",
       "      <td>2.958805e+09</td>\n",
       "      <td>3.709385e+09</td>\n",
       "    </tr>\n",
       "    <tr>\n",
       "      <th>2</th>\n",
       "      <td>Danbury</td>\n",
       "      <td>Connecticut</td>\n",
       "      <td>37.3</td>\n",
       "      <td>43435</td>\n",
       "      <td>41227</td>\n",
       "      <td>84662</td>\n",
       "      <td>3752</td>\n",
       "      <td>25675</td>\n",
       "      <td>2.74</td>\n",
       "      <td>CT</td>\n",
       "      <td>1086.0</td>\n",
       "      <td>7350.0</td>\n",
       "      <td>8.454000e+03</td>\n",
       "      <td>2.514500e+04</td>\n",
       "      <td>5.591700e+04</td>\n",
       "    </tr>\n",
       "    <tr>\n",
       "      <th>3</th>\n",
       "      <td>Nashville</td>\n",
       "      <td>Tennessee</td>\n",
       "      <td>34.1</td>\n",
       "      <td>314231</td>\n",
       "      <td>340365</td>\n",
       "      <td>654596</td>\n",
       "      <td>27942</td>\n",
       "      <td>88193</td>\n",
       "      <td>2.39</td>\n",
       "      <td>TN</td>\n",
       "      <td>5474.0</td>\n",
       "      <td>27355.0</td>\n",
       "      <td>1.888440e+05</td>\n",
       "      <td>6.752600e+04</td>\n",
       "      <td>4.324470e+05</td>\n",
       "    </tr>\n",
       "    <tr>\n",
       "      <th>4</th>\n",
       "      <td>Stamford</td>\n",
       "      <td>Connecticut</td>\n",
       "      <td>35.4</td>\n",
       "      <td>64941</td>\n",
       "      <td>63936</td>\n",
       "      <td>128877</td>\n",
       "      <td>2269</td>\n",
       "      <td>44003</td>\n",
       "      <td>2.70</td>\n",
       "      <td>CT</td>\n",
       "      <td>1416.0</td>\n",
       "      <td>11013.0</td>\n",
       "      <td>2.432900e+04</td>\n",
       "      <td>3.319700e+04</td>\n",
       "      <td>8.562000e+04</td>\n",
       "    </tr>\n",
       "  </tbody>\n",
       "</table>\n",
       "</div>"
      ],
      "text/plain": [
       "        City         State  Median Age  Male Population  Female Population  \\\n",
       "0    Wichita        Kansas        34.6           192354             197601   \n",
       "1      Allen  Pennsylvania        33.5            60626              59581   \n",
       "2    Danbury   Connecticut        37.3            43435              41227   \n",
       "3  Nashville     Tennessee        34.1           314231             340365   \n",
       "4   Stamford   Connecticut        35.4            64941              63936   \n",
       "\n",
       "   Total Population  Number of Veterans  Foreign-born  Average Household Size  \\\n",
       "0            389955               23978         40270                    2.56   \n",
       "1            120207                5691         19652                    2.67   \n",
       "2             84662                3752         25675                    2.74   \n",
       "3            654596               27942         88193                    2.39   \n",
       "4            128877                2269         44003                    2.70   \n",
       "\n",
       "  State Code  American Indian and Alaska Native        Asian  \\\n",
       "0         KS                             8791.0      25210.0   \n",
       "1         PA                           538113.5  133507895.0   \n",
       "2         CT                             1086.0       7350.0   \n",
       "3         TN                             5474.0      27355.0   \n",
       "4         CT                             1416.0      11013.0   \n",
       "\n",
       "   Black or African-American  Hispanic or Latino         White  \n",
       "0               5.259200e+04        6.516200e+04  3.059100e+05  \n",
       "1               1.115207e+09        2.958805e+09  3.709385e+09  \n",
       "2               8.454000e+03        2.514500e+04  5.591700e+04  \n",
       "3               1.888440e+05        6.752600e+04  4.324470e+05  \n",
       "4               2.432900e+04        3.319700e+04  8.562000e+04  "
      ]
     },
     "execution_count": 65,
     "metadata": {},
     "output_type": "execute_result"
    }
   ],
   "source": [
    "# top 5\n",
    "citiesNewNoDup.head()"
   ]
  },
  {
   "cell_type": "markdown",
   "metadata": {
    "editable": true
   },
   "source": [
    "##### immigration\n",
    "1. to date \"arrdate\", \"depdate\", \"dtadfile\"\n",
    "2. to text \"cicid\", \"i94cit\", \"i94res\", \"admnum\"\n",
    "3. to integer \"i94yr\", \"i94mon\", \"i94mode\", \"i94bir\", \"\ti94visa\", \"count\""
   ]
  },
  {
   "cell_type": "code",
   "execution_count": 66,
   "metadata": {
    "editable": true
   },
   "outputs": [
    {
     "data": {
      "text/html": [
       "<div>\n",
       "<style scoped>\n",
       "    .dataframe tbody tr th:only-of-type {\n",
       "        vertical-align: middle;\n",
       "    }\n",
       "\n",
       "    .dataframe tbody tr th {\n",
       "        vertical-align: top;\n",
       "    }\n",
       "\n",
       "    .dataframe thead th {\n",
       "        text-align: right;\n",
       "    }\n",
       "</style>\n",
       "<table border=\"1\" class=\"dataframe\">\n",
       "  <thead>\n",
       "    <tr style=\"text-align: right;\">\n",
       "      <th></th>\n",
       "      <th>cicid</th>\n",
       "      <th>i94yr</th>\n",
       "      <th>i94mon</th>\n",
       "      <th>i94cit</th>\n",
       "      <th>i94res</th>\n",
       "      <th>i94port</th>\n",
       "      <th>arrdate</th>\n",
       "      <th>i94mode</th>\n",
       "      <th>i94addr</th>\n",
       "      <th>depdate</th>\n",
       "      <th>i94bir</th>\n",
       "      <th>i94visa</th>\n",
       "      <th>count</th>\n",
       "      <th>dtadfile</th>\n",
       "      <th>visapost</th>\n",
       "      <th>occup</th>\n",
       "      <th>entdepa</th>\n",
       "      <th>entdepd</th>\n",
       "      <th>entdepu</th>\n",
       "      <th>matflag</th>\n",
       "      <th>biryear</th>\n",
       "      <th>dtaddto</th>\n",
       "      <th>gender</th>\n",
       "      <th>insnum</th>\n",
       "      <th>airline</th>\n",
       "      <th>admnum</th>\n",
       "      <th>fltno</th>\n",
       "      <th>visatype</th>\n",
       "    </tr>\n",
       "  </thead>\n",
       "  <tbody>\n",
       "    <tr>\n",
       "      <th>0</th>\n",
       "      <td>4084316.0</td>\n",
       "      <td>2016.0</td>\n",
       "      <td>4.0</td>\n",
       "      <td>209.0</td>\n",
       "      <td>209.0</td>\n",
       "      <td>HHW</td>\n",
       "      <td>20566.0</td>\n",
       "      <td>1.0</td>\n",
       "      <td>HI</td>\n",
       "      <td>20573.0</td>\n",
       "      <td>61.0</td>\n",
       "      <td>2.0</td>\n",
       "      <td>1.0</td>\n",
       "      <td>20160422</td>\n",
       "      <td>NaN</td>\n",
       "      <td>NaN</td>\n",
       "      <td>G</td>\n",
       "      <td>O</td>\n",
       "      <td>NaN</td>\n",
       "      <td>M</td>\n",
       "      <td>1955.0</td>\n",
       "      <td>07202016</td>\n",
       "      <td>F</td>\n",
       "      <td>NaN</td>\n",
       "      <td>JL</td>\n",
       "      <td>56582674633.0</td>\n",
       "      <td>00782</td>\n",
       "      <td>WT</td>\n",
       "    </tr>\n",
       "    <tr>\n",
       "      <th>1</th>\n",
       "      <td>4422636.0</td>\n",
       "      <td>2016.0</td>\n",
       "      <td>4.0</td>\n",
       "      <td>582.0</td>\n",
       "      <td>582.0</td>\n",
       "      <td>MCA</td>\n",
       "      <td>20567.0</td>\n",
       "      <td>1.0</td>\n",
       "      <td>TX</td>\n",
       "      <td>20568.0</td>\n",
       "      <td>26.0</td>\n",
       "      <td>2.0</td>\n",
       "      <td>1.0</td>\n",
       "      <td>20160423</td>\n",
       "      <td>MTR</td>\n",
       "      <td>NaN</td>\n",
       "      <td>G</td>\n",
       "      <td>R</td>\n",
       "      <td>NaN</td>\n",
       "      <td>M</td>\n",
       "      <td>1990.0</td>\n",
       "      <td>10222016</td>\n",
       "      <td>M</td>\n",
       "      <td>NaN</td>\n",
       "      <td>*GA</td>\n",
       "      <td>94361995930.0</td>\n",
       "      <td>XBLNG</td>\n",
       "      <td>B2</td>\n",
       "    </tr>\n",
       "    <tr>\n",
       "      <th>2</th>\n",
       "      <td>1195600.0</td>\n",
       "      <td>2016.0</td>\n",
       "      <td>4.0</td>\n",
       "      <td>148.0</td>\n",
       "      <td>112.0</td>\n",
       "      <td>OGG</td>\n",
       "      <td>20551.0</td>\n",
       "      <td>1.0</td>\n",
       "      <td>FL</td>\n",
       "      <td>20571.0</td>\n",
       "      <td>76.0</td>\n",
       "      <td>2.0</td>\n",
       "      <td>1.0</td>\n",
       "      <td>20160407</td>\n",
       "      <td>NaN</td>\n",
       "      <td>NaN</td>\n",
       "      <td>G</td>\n",
       "      <td>O</td>\n",
       "      <td>NaN</td>\n",
       "      <td>M</td>\n",
       "      <td>1940.0</td>\n",
       "      <td>07052016</td>\n",
       "      <td>M</td>\n",
       "      <td>NaN</td>\n",
       "      <td>LH</td>\n",
       "      <td>55780468433.0</td>\n",
       "      <td>00464</td>\n",
       "      <td>WT</td>\n",
       "    </tr>\n",
       "    <tr>\n",
       "      <th>3</th>\n",
       "      <td>5291768.0</td>\n",
       "      <td>2016.0</td>\n",
       "      <td>4.0</td>\n",
       "      <td>297.0</td>\n",
       "      <td>297.0</td>\n",
       "      <td>LOS</td>\n",
       "      <td>20572.0</td>\n",
       "      <td>1.0</td>\n",
       "      <td>CA</td>\n",
       "      <td>20581.0</td>\n",
       "      <td>25.0</td>\n",
       "      <td>2.0</td>\n",
       "      <td>1.0</td>\n",
       "      <td>20160428</td>\n",
       "      <td>DOH</td>\n",
       "      <td>NaN</td>\n",
       "      <td>G</td>\n",
       "      <td>O</td>\n",
       "      <td>NaN</td>\n",
       "      <td>M</td>\n",
       "      <td>1991.0</td>\n",
       "      <td>10272016</td>\n",
       "      <td>M</td>\n",
       "      <td>NaN</td>\n",
       "      <td>QR</td>\n",
       "      <td>94789696030.0</td>\n",
       "      <td>00739</td>\n",
       "      <td>B2</td>\n",
       "    </tr>\n",
       "    <tr>\n",
       "      <th>4</th>\n",
       "      <td>985523.0</td>\n",
       "      <td>2016.0</td>\n",
       "      <td>4.0</td>\n",
       "      <td>111.0</td>\n",
       "      <td>111.0</td>\n",
       "      <td>CHM</td>\n",
       "      <td>20550.0</td>\n",
       "      <td>3.0</td>\n",
       "      <td>NY</td>\n",
       "      <td>20553.0</td>\n",
       "      <td>19.0</td>\n",
       "      <td>2.0</td>\n",
       "      <td>1.0</td>\n",
       "      <td>20160406</td>\n",
       "      <td>NaN</td>\n",
       "      <td>NaN</td>\n",
       "      <td>Z</td>\n",
       "      <td>K</td>\n",
       "      <td>NaN</td>\n",
       "      <td>M</td>\n",
       "      <td>1997.0</td>\n",
       "      <td>07042016</td>\n",
       "      <td>F</td>\n",
       "      <td>NaN</td>\n",
       "      <td>NaN</td>\n",
       "      <td>42322572633.0</td>\n",
       "      <td>LAND</td>\n",
       "      <td>WT</td>\n",
       "    </tr>\n",
       "    <tr>\n",
       "      <th>...</th>\n",
       "      <td>...</td>\n",
       "      <td>...</td>\n",
       "      <td>...</td>\n",
       "      <td>...</td>\n",
       "      <td>...</td>\n",
       "      <td>...</td>\n",
       "      <td>...</td>\n",
       "      <td>...</td>\n",
       "      <td>...</td>\n",
       "      <td>...</td>\n",
       "      <td>...</td>\n",
       "      <td>...</td>\n",
       "      <td>...</td>\n",
       "      <td>...</td>\n",
       "      <td>...</td>\n",
       "      <td>...</td>\n",
       "      <td>...</td>\n",
       "      <td>...</td>\n",
       "      <td>...</td>\n",
       "      <td>...</td>\n",
       "      <td>...</td>\n",
       "      <td>...</td>\n",
       "      <td>...</td>\n",
       "      <td>...</td>\n",
       "      <td>...</td>\n",
       "      <td>...</td>\n",
       "      <td>...</td>\n",
       "      <td>...</td>\n",
       "    </tr>\n",
       "    <tr>\n",
       "      <th>995</th>\n",
       "      <td>4288772.0</td>\n",
       "      <td>2016.0</td>\n",
       "      <td>4.0</td>\n",
       "      <td>135.0</td>\n",
       "      <td>135.0</td>\n",
       "      <td>LVG</td>\n",
       "      <td>20567.0</td>\n",
       "      <td>1.0</td>\n",
       "      <td>NV</td>\n",
       "      <td>20572.0</td>\n",
       "      <td>32.0</td>\n",
       "      <td>2.0</td>\n",
       "      <td>1.0</td>\n",
       "      <td>20160423</td>\n",
       "      <td>NaN</td>\n",
       "      <td>NaN</td>\n",
       "      <td>G</td>\n",
       "      <td>O</td>\n",
       "      <td>NaN</td>\n",
       "      <td>M</td>\n",
       "      <td>1984.0</td>\n",
       "      <td>07212016</td>\n",
       "      <td>M</td>\n",
       "      <td>NaN</td>\n",
       "      <td>VS</td>\n",
       "      <td>59140652133.0</td>\n",
       "      <td>00043</td>\n",
       "      <td>WT</td>\n",
       "    </tr>\n",
       "    <tr>\n",
       "      <th>996</th>\n",
       "      <td>2947585.0</td>\n",
       "      <td>2016.0</td>\n",
       "      <td>4.0</td>\n",
       "      <td>261.0</td>\n",
       "      <td>261.0</td>\n",
       "      <td>PSP</td>\n",
       "      <td>20560.0</td>\n",
       "      <td>1.0</td>\n",
       "      <td>HI</td>\n",
       "      <td>20567.0</td>\n",
       "      <td>35.0</td>\n",
       "      <td>1.0</td>\n",
       "      <td>1.0</td>\n",
       "      <td>20160416</td>\n",
       "      <td>JDD</td>\n",
       "      <td>NaN</td>\n",
       "      <td>G</td>\n",
       "      <td>O</td>\n",
       "      <td>NaN</td>\n",
       "      <td>M</td>\n",
       "      <td>1981.0</td>\n",
       "      <td>10152016</td>\n",
       "      <td>M</td>\n",
       "      <td>NaN</td>\n",
       "      <td>SV</td>\n",
       "      <td>93711864730.0</td>\n",
       "      <td>00041</td>\n",
       "      <td>B1</td>\n",
       "    </tr>\n",
       "    <tr>\n",
       "      <th>997</th>\n",
       "      <td>2883298.0</td>\n",
       "      <td>2016.0</td>\n",
       "      <td>4.0</td>\n",
       "      <td>111.0</td>\n",
       "      <td>111.0</td>\n",
       "      <td>MIA</td>\n",
       "      <td>20560.0</td>\n",
       "      <td>1.0</td>\n",
       "      <td>FL</td>\n",
       "      <td>20566.0</td>\n",
       "      <td>39.0</td>\n",
       "      <td>2.0</td>\n",
       "      <td>1.0</td>\n",
       "      <td>20160416</td>\n",
       "      <td>NaN</td>\n",
       "      <td>NaN</td>\n",
       "      <td>G</td>\n",
       "      <td>O</td>\n",
       "      <td>NaN</td>\n",
       "      <td>M</td>\n",
       "      <td>1977.0</td>\n",
       "      <td>07142016</td>\n",
       "      <td>M</td>\n",
       "      <td>NaN</td>\n",
       "      <td>AF</td>\n",
       "      <td>56277467733.0</td>\n",
       "      <td>00090</td>\n",
       "      <td>WT</td>\n",
       "    </tr>\n",
       "    <tr>\n",
       "      <th>998</th>\n",
       "      <td>2264857.0</td>\n",
       "      <td>2016.0</td>\n",
       "      <td>4.0</td>\n",
       "      <td>582.0</td>\n",
       "      <td>582.0</td>\n",
       "      <td>ATL</td>\n",
       "      <td>20556.0</td>\n",
       "      <td>1.0</td>\n",
       "      <td>WI</td>\n",
       "      <td>20559.0</td>\n",
       "      <td>35.0</td>\n",
       "      <td>1.0</td>\n",
       "      <td>1.0</td>\n",
       "      <td>20160412</td>\n",
       "      <td>MTR</td>\n",
       "      <td>NaN</td>\n",
       "      <td>G</td>\n",
       "      <td>O</td>\n",
       "      <td>NaN</td>\n",
       "      <td>M</td>\n",
       "      <td>1981.0</td>\n",
       "      <td>10112016</td>\n",
       "      <td>M</td>\n",
       "      <td>NaN</td>\n",
       "      <td>EV</td>\n",
       "      <td>93340353430.0</td>\n",
       "      <td>05510</td>\n",
       "      <td>B1</td>\n",
       "    </tr>\n",
       "    <tr>\n",
       "      <th>999</th>\n",
       "      <td>4654865.0</td>\n",
       "      <td>2016.0</td>\n",
       "      <td>4.0</td>\n",
       "      <td>687.0</td>\n",
       "      <td>687.0</td>\n",
       "      <td>MIA</td>\n",
       "      <td>20568.0</td>\n",
       "      <td>1.0</td>\n",
       "      <td>FL</td>\n",
       "      <td>20578.0</td>\n",
       "      <td>44.0</td>\n",
       "      <td>2.0</td>\n",
       "      <td>1.0</td>\n",
       "      <td>20160424</td>\n",
       "      <td>BNS</td>\n",
       "      <td>NaN</td>\n",
       "      <td>G</td>\n",
       "      <td>O</td>\n",
       "      <td>NaN</td>\n",
       "      <td>M</td>\n",
       "      <td>1972.0</td>\n",
       "      <td>10232016</td>\n",
       "      <td>F</td>\n",
       "      <td>NaN</td>\n",
       "      <td>LA</td>\n",
       "      <td>94403859030.0</td>\n",
       "      <td>02514</td>\n",
       "      <td>B2</td>\n",
       "    </tr>\n",
       "  </tbody>\n",
       "</table>\n",
       "<p>1000 rows × 28 columns</p>\n",
       "</div>"
      ],
      "text/plain": [
       "         cicid   i94yr i94mon i94cit i94res i94port  arrdate i94mode i94addr  \\\n",
       "0    4084316.0  2016.0    4.0  209.0  209.0     HHW  20566.0     1.0      HI   \n",
       "1    4422636.0  2016.0    4.0  582.0  582.0     MCA  20567.0     1.0      TX   \n",
       "2    1195600.0  2016.0    4.0  148.0  112.0     OGG  20551.0     1.0      FL   \n",
       "3    5291768.0  2016.0    4.0  297.0  297.0     LOS  20572.0     1.0      CA   \n",
       "4     985523.0  2016.0    4.0  111.0  111.0     CHM  20550.0     3.0      NY   \n",
       "..         ...     ...    ...    ...    ...     ...      ...     ...     ...   \n",
       "995  4288772.0  2016.0    4.0  135.0  135.0     LVG  20567.0     1.0      NV   \n",
       "996  2947585.0  2016.0    4.0  261.0  261.0     PSP  20560.0     1.0      HI   \n",
       "997  2883298.0  2016.0    4.0  111.0  111.0     MIA  20560.0     1.0      FL   \n",
       "998  2264857.0  2016.0    4.0  582.0  582.0     ATL  20556.0     1.0      WI   \n",
       "999  4654865.0  2016.0    4.0  687.0  687.0     MIA  20568.0     1.0      FL   \n",
       "\n",
       "     depdate i94bir i94visa count  dtadfile visapost occup entdepa entdepd  \\\n",
       "0    20573.0   61.0     2.0   1.0  20160422      NaN   NaN       G       O   \n",
       "1    20568.0   26.0     2.0   1.0  20160423      MTR   NaN       G       R   \n",
       "2    20571.0   76.0     2.0   1.0  20160407      NaN   NaN       G       O   \n",
       "3    20581.0   25.0     2.0   1.0  20160428      DOH   NaN       G       O   \n",
       "4    20553.0   19.0     2.0   1.0  20160406      NaN   NaN       Z       K   \n",
       "..       ...    ...     ...   ...       ...      ...   ...     ...     ...   \n",
       "995  20572.0   32.0     2.0   1.0  20160423      NaN   NaN       G       O   \n",
       "996  20567.0   35.0     1.0   1.0  20160416      JDD   NaN       G       O   \n",
       "997  20566.0   39.0     2.0   1.0  20160416      NaN   NaN       G       O   \n",
       "998  20559.0   35.0     1.0   1.0  20160412      MTR   NaN       G       O   \n",
       "999  20578.0   44.0     2.0   1.0  20160424      BNS   NaN       G       O   \n",
       "\n",
       "    entdepu matflag biryear   dtaddto gender insnum airline         admnum  \\\n",
       "0       NaN       M  1955.0  07202016      F    NaN      JL  56582674633.0   \n",
       "1       NaN       M  1990.0  10222016      M    NaN     *GA  94361995930.0   \n",
       "2       NaN       M  1940.0  07052016      M    NaN      LH  55780468433.0   \n",
       "3       NaN       M  1991.0  10272016      M    NaN      QR  94789696030.0   \n",
       "4       NaN       M  1997.0  07042016      F    NaN     NaN  42322572633.0   \n",
       "..      ...     ...     ...       ...    ...    ...     ...            ...   \n",
       "995     NaN       M  1984.0  07212016      M    NaN      VS  59140652133.0   \n",
       "996     NaN       M  1981.0  10152016      M    NaN      SV  93711864730.0   \n",
       "997     NaN       M  1977.0  07142016      M    NaN      AF  56277467733.0   \n",
       "998     NaN       M  1981.0  10112016      M    NaN      EV  93340353430.0   \n",
       "999     NaN       M  1972.0  10232016      F    NaN      LA  94403859030.0   \n",
       "\n",
       "     fltno visatype  \n",
       "0    00782       WT  \n",
       "1    XBLNG       B2  \n",
       "2    00464       WT  \n",
       "3    00739       B2  \n",
       "4     LAND       WT  \n",
       "..     ...      ...  \n",
       "995  00043       WT  \n",
       "996  00041       B1  \n",
       "997  00090       WT  \n",
       "998  05510       B1  \n",
       "999  02514       B2  \n",
       "\n",
       "[1000 rows x 28 columns]"
      ]
     },
     "execution_count": 66,
     "metadata": {},
     "output_type": "execute_result"
    }
   ],
   "source": [
    "# NaN rows\n",
    "immigration[immigration.isnull().any(axis=1)]"
   ]
  },
  {
   "cell_type": "code",
   "execution_count": 67,
   "metadata": {
    "editable": true
   },
   "outputs": [
    {
     "name": "stdout",
     "output_type": "stream",
     "text": [
      "<class 'pandas.core.frame.DataFrame'>\n",
      "RangeIndex: 1000 entries, 0 to 999\n",
      "Data columns (total 28 columns):\n",
      " #   Column    Non-Null Count  Dtype \n",
      "---  ------    --------------  ----- \n",
      " 0   cicid     1000 non-null   object\n",
      " 1   i94yr     1000 non-null   object\n",
      " 2   i94mon    1000 non-null   object\n",
      " 3   i94cit    1000 non-null   object\n",
      " 4   i94res    1000 non-null   object\n",
      " 5   i94port   1000 non-null   object\n",
      " 6   arrdate   1000 non-null   object\n",
      " 7   i94mode   1000 non-null   object\n",
      " 8   i94addr   941 non-null    object\n",
      " 9   depdate   951 non-null    object\n",
      " 10  i94bir    1000 non-null   object\n",
      " 11  i94visa   1000 non-null   object\n",
      " 12  count     1000 non-null   object\n",
      " 13  dtadfile  1000 non-null   object\n",
      " 14  visapost  382 non-null    object\n",
      " 15  occup     4 non-null      object\n",
      " 16  entdepa   1000 non-null   object\n",
      " 17  entdepd   954 non-null    object\n",
      " 18  entdepu   0 non-null      object\n",
      " 19  matflag   954 non-null    object\n",
      " 20  biryear   1000 non-null   object\n",
      " 21  dtaddto   1000 non-null   object\n",
      " 22  gender    859 non-null    object\n",
      " 23  insnum    35 non-null     object\n",
      " 24  airline   967 non-null    object\n",
      " 25  admnum    1000 non-null   object\n",
      " 26  fltno     992 non-null    object\n",
      " 27  visatype  1000 non-null   object\n",
      "dtypes: object(28)\n",
      "memory usage: 218.9+ KB\n"
     ]
    }
   ],
   "source": [
    "# data information\n",
    "immigration.info()"
   ]
  },
  {
   "cell_type": "markdown",
   "metadata": {
    "editable": true
   },
   "source": [
    "Most of the NaN values are existent in \"visapost\", \"occup\", \"entdepu\", \"insnum\" columns which are not necessary for data analysis."
   ]
  },
  {
   "cell_type": "code",
   "execution_count": 68,
   "metadata": {
    "editable": true
   },
   "outputs": [],
   "source": [
    "# drop unnecessary columns\n",
    "immigrationNew = immigration.drop([\"visapost\", \"occup\", \"entdepu\", \"insnum\"], axis=1)"
   ]
  },
  {
   "cell_type": "code",
   "execution_count": 69,
   "metadata": {
    "editable": true
   },
   "outputs": [
    {
     "data": {
      "text/html": [
       "<div>\n",
       "<style scoped>\n",
       "    .dataframe tbody tr th:only-of-type {\n",
       "        vertical-align: middle;\n",
       "    }\n",
       "\n",
       "    .dataframe tbody tr th {\n",
       "        vertical-align: top;\n",
       "    }\n",
       "\n",
       "    .dataframe thead th {\n",
       "        text-align: right;\n",
       "    }\n",
       "</style>\n",
       "<table border=\"1\" class=\"dataframe\">\n",
       "  <thead>\n",
       "    <tr style=\"text-align: right;\">\n",
       "      <th></th>\n",
       "      <th>cicid</th>\n",
       "      <th>i94yr</th>\n",
       "      <th>i94mon</th>\n",
       "      <th>i94cit</th>\n",
       "      <th>i94res</th>\n",
       "      <th>i94port</th>\n",
       "      <th>arrdate</th>\n",
       "      <th>i94mode</th>\n",
       "      <th>i94addr</th>\n",
       "      <th>depdate</th>\n",
       "      <th>i94bir</th>\n",
       "      <th>i94visa</th>\n",
       "      <th>count</th>\n",
       "      <th>dtadfile</th>\n",
       "      <th>entdepa</th>\n",
       "      <th>entdepd</th>\n",
       "      <th>matflag</th>\n",
       "      <th>biryear</th>\n",
       "      <th>dtaddto</th>\n",
       "      <th>gender</th>\n",
       "      <th>airline</th>\n",
       "      <th>admnum</th>\n",
       "      <th>fltno</th>\n",
       "      <th>visatype</th>\n",
       "    </tr>\n",
       "  </thead>\n",
       "  <tbody>\n",
       "    <tr>\n",
       "      <th>4</th>\n",
       "      <td>985523.0</td>\n",
       "      <td>2016.0</td>\n",
       "      <td>4.0</td>\n",
       "      <td>111.0</td>\n",
       "      <td>111.0</td>\n",
       "      <td>CHM</td>\n",
       "      <td>20550.0</td>\n",
       "      <td>3.0</td>\n",
       "      <td>NY</td>\n",
       "      <td>20553.0</td>\n",
       "      <td>19.0</td>\n",
       "      <td>2.0</td>\n",
       "      <td>1.0</td>\n",
       "      <td>20160406</td>\n",
       "      <td>Z</td>\n",
       "      <td>K</td>\n",
       "      <td>M</td>\n",
       "      <td>1997.0</td>\n",
       "      <td>07042016</td>\n",
       "      <td>F</td>\n",
       "      <td>NaN</td>\n",
       "      <td>42322572633.0</td>\n",
       "      <td>LAND</td>\n",
       "      <td>WT</td>\n",
       "    </tr>\n",
       "    <tr>\n",
       "      <th>8</th>\n",
       "      <td>5227851.0</td>\n",
       "      <td>2016.0</td>\n",
       "      <td>4.0</td>\n",
       "      <td>131.0</td>\n",
       "      <td>131.0</td>\n",
       "      <td>CHI</td>\n",
       "      <td>20572.0</td>\n",
       "      <td>1.0</td>\n",
       "      <td>IL</td>\n",
       "      <td>20575.0</td>\n",
       "      <td>39.0</td>\n",
       "      <td>2.0</td>\n",
       "      <td>1.0</td>\n",
       "      <td>20160428</td>\n",
       "      <td>O</td>\n",
       "      <td>O</td>\n",
       "      <td>M</td>\n",
       "      <td>1977.0</td>\n",
       "      <td>07262016</td>\n",
       "      <td>NaN</td>\n",
       "      <td>LX</td>\n",
       "      <td>59413424733.0</td>\n",
       "      <td>00008</td>\n",
       "      <td>WT</td>\n",
       "    </tr>\n",
       "    <tr>\n",
       "      <th>9</th>\n",
       "      <td>13213.0</td>\n",
       "      <td>2016.0</td>\n",
       "      <td>4.0</td>\n",
       "      <td>116.0</td>\n",
       "      <td>116.0</td>\n",
       "      <td>LOS</td>\n",
       "      <td>20545.0</td>\n",
       "      <td>1.0</td>\n",
       "      <td>CA</td>\n",
       "      <td>20553.0</td>\n",
       "      <td>35.0</td>\n",
       "      <td>2.0</td>\n",
       "      <td>1.0</td>\n",
       "      <td>20160401</td>\n",
       "      <td>O</td>\n",
       "      <td>O</td>\n",
       "      <td>M</td>\n",
       "      <td>1981.0</td>\n",
       "      <td>06292016</td>\n",
       "      <td>NaN</td>\n",
       "      <td>AA</td>\n",
       "      <td>55449792933.0</td>\n",
       "      <td>00109</td>\n",
       "      <td>WT</td>\n",
       "    </tr>\n",
       "    <tr>\n",
       "      <th>12</th>\n",
       "      <td>2711583.0</td>\n",
       "      <td>2016.0</td>\n",
       "      <td>4.0</td>\n",
       "      <td>148.0</td>\n",
       "      <td>112.0</td>\n",
       "      <td>FTL</td>\n",
       "      <td>20559.0</td>\n",
       "      <td>2.0</td>\n",
       "      <td>NaN</td>\n",
       "      <td>20565.0</td>\n",
       "      <td>54.0</td>\n",
       "      <td>2.0</td>\n",
       "      <td>1.0</td>\n",
       "      <td>20160415</td>\n",
       "      <td>G</td>\n",
       "      <td>O</td>\n",
       "      <td>M</td>\n",
       "      <td>1962.0</td>\n",
       "      <td>07132016</td>\n",
       "      <td>F</td>\n",
       "      <td>VES</td>\n",
       "      <td>56175860733.0</td>\n",
       "      <td>93724</td>\n",
       "      <td>WT</td>\n",
       "    </tr>\n",
       "    <tr>\n",
       "      <th>15</th>\n",
       "      <td>5960799.0</td>\n",
       "      <td>2016.0</td>\n",
       "      <td>4.0</td>\n",
       "      <td>245.0</td>\n",
       "      <td>245.0</td>\n",
       "      <td>SAI</td>\n",
       "      <td>20545.0</td>\n",
       "      <td>1.0</td>\n",
       "      <td>NaN</td>\n",
       "      <td>20550.0</td>\n",
       "      <td>30.0</td>\n",
       "      <td>2.0</td>\n",
       "      <td>1.0</td>\n",
       "      <td>20160615</td>\n",
       "      <td>P</td>\n",
       "      <td>D</td>\n",
       "      <td>M</td>\n",
       "      <td>1986.0</td>\n",
       "      <td>04132016</td>\n",
       "      <td>M</td>\n",
       "      <td>MU</td>\n",
       "      <td>44162582033.0</td>\n",
       "      <td>00763</td>\n",
       "      <td>CP</td>\n",
       "    </tr>\n",
       "    <tr>\n",
       "      <th>...</th>\n",
       "      <td>...</td>\n",
       "      <td>...</td>\n",
       "      <td>...</td>\n",
       "      <td>...</td>\n",
       "      <td>...</td>\n",
       "      <td>...</td>\n",
       "      <td>...</td>\n",
       "      <td>...</td>\n",
       "      <td>...</td>\n",
       "      <td>...</td>\n",
       "      <td>...</td>\n",
       "      <td>...</td>\n",
       "      <td>...</td>\n",
       "      <td>...</td>\n",
       "      <td>...</td>\n",
       "      <td>...</td>\n",
       "      <td>...</td>\n",
       "      <td>...</td>\n",
       "      <td>...</td>\n",
       "      <td>...</td>\n",
       "      <td>...</td>\n",
       "      <td>...</td>\n",
       "      <td>...</td>\n",
       "      <td>...</td>\n",
       "    </tr>\n",
       "    <tr>\n",
       "      <th>974</th>\n",
       "      <td>3870400.0</td>\n",
       "      <td>2016.0</td>\n",
       "      <td>4.0</td>\n",
       "      <td>148.0</td>\n",
       "      <td>112.0</td>\n",
       "      <td>ATL</td>\n",
       "      <td>20565.0</td>\n",
       "      <td>1.0</td>\n",
       "      <td>CA</td>\n",
       "      <td>20571.0</td>\n",
       "      <td>35.0</td>\n",
       "      <td>2.0</td>\n",
       "      <td>1.0</td>\n",
       "      <td>20160421</td>\n",
       "      <td>O</td>\n",
       "      <td>O</td>\n",
       "      <td>M</td>\n",
       "      <td>1981.0</td>\n",
       "      <td>07192016</td>\n",
       "      <td>NaN</td>\n",
       "      <td>DL</td>\n",
       "      <td>56525407733.0</td>\n",
       "      <td>00131</td>\n",
       "      <td>WT</td>\n",
       "    </tr>\n",
       "    <tr>\n",
       "      <th>976</th>\n",
       "      <td>5018908.0</td>\n",
       "      <td>2016.0</td>\n",
       "      <td>4.0</td>\n",
       "      <td>111.0</td>\n",
       "      <td>111.0</td>\n",
       "      <td>MON</td>\n",
       "      <td>20571.0</td>\n",
       "      <td>1.0</td>\n",
       "      <td>FL</td>\n",
       "      <td>NaN</td>\n",
       "      <td>60.0</td>\n",
       "      <td>2.0</td>\n",
       "      <td>1.0</td>\n",
       "      <td>20160427</td>\n",
       "      <td>G</td>\n",
       "      <td>NaN</td>\n",
       "      <td>NaN</td>\n",
       "      <td>1956.0</td>\n",
       "      <td>07252016</td>\n",
       "      <td>M</td>\n",
       "      <td>RV</td>\n",
       "      <td>59339279133.0</td>\n",
       "      <td>01606</td>\n",
       "      <td>WT</td>\n",
       "    </tr>\n",
       "    <tr>\n",
       "      <th>977</th>\n",
       "      <td>4853913.0</td>\n",
       "      <td>2016.0</td>\n",
       "      <td>4.0</td>\n",
       "      <td>108.0</td>\n",
       "      <td>108.0</td>\n",
       "      <td>MIA</td>\n",
       "      <td>20570.0</td>\n",
       "      <td>2.0</td>\n",
       "      <td>NaN</td>\n",
       "      <td>20573.0</td>\n",
       "      <td>70.0</td>\n",
       "      <td>2.0</td>\n",
       "      <td>1.0</td>\n",
       "      <td>20160426</td>\n",
       "      <td>G</td>\n",
       "      <td>R</td>\n",
       "      <td>M</td>\n",
       "      <td>1946.0</td>\n",
       "      <td>07242016</td>\n",
       "      <td>F</td>\n",
       "      <td>VES</td>\n",
       "      <td>59277156733.0</td>\n",
       "      <td>91894</td>\n",
       "      <td>WT</td>\n",
       "    </tr>\n",
       "    <tr>\n",
       "      <th>989</th>\n",
       "      <td>1360834.0</td>\n",
       "      <td>2016.0</td>\n",
       "      <td>4.0</td>\n",
       "      <td>117.0</td>\n",
       "      <td>117.0</td>\n",
       "      <td>NYC</td>\n",
       "      <td>20552.0</td>\n",
       "      <td>1.0</td>\n",
       "      <td>NY</td>\n",
       "      <td>20556.0</td>\n",
       "      <td>38.0</td>\n",
       "      <td>2.0</td>\n",
       "      <td>1.0</td>\n",
       "      <td>20160408</td>\n",
       "      <td>O</td>\n",
       "      <td>O</td>\n",
       "      <td>M</td>\n",
       "      <td>1978.0</td>\n",
       "      <td>07062016</td>\n",
       "      <td>NaN</td>\n",
       "      <td>TK</td>\n",
       "      <td>55831485533.0</td>\n",
       "      <td>00001</td>\n",
       "      <td>WT</td>\n",
       "    </tr>\n",
       "    <tr>\n",
       "      <th>992</th>\n",
       "      <td>3874218.0</td>\n",
       "      <td>2016.0</td>\n",
       "      <td>4.0</td>\n",
       "      <td>148.0</td>\n",
       "      <td>112.0</td>\n",
       "      <td>SFR</td>\n",
       "      <td>20565.0</td>\n",
       "      <td>1.0</td>\n",
       "      <td>CA</td>\n",
       "      <td>20582.0</td>\n",
       "      <td>49.0</td>\n",
       "      <td>2.0</td>\n",
       "      <td>1.0</td>\n",
       "      <td>20160421</td>\n",
       "      <td>O</td>\n",
       "      <td>O</td>\n",
       "      <td>M</td>\n",
       "      <td>1967.0</td>\n",
       "      <td>07192016</td>\n",
       "      <td>NaN</td>\n",
       "      <td>LH</td>\n",
       "      <td>56534271933.0</td>\n",
       "      <td>00454</td>\n",
       "      <td>WT</td>\n",
       "    </tr>\n",
       "  </tbody>\n",
       "</table>\n",
       "<p>243 rows × 24 columns</p>\n",
       "</div>"
      ],
      "text/plain": [
       "         cicid   i94yr i94mon i94cit i94res i94port  arrdate i94mode i94addr  \\\n",
       "4     985523.0  2016.0    4.0  111.0  111.0     CHM  20550.0     3.0      NY   \n",
       "8    5227851.0  2016.0    4.0  131.0  131.0     CHI  20572.0     1.0      IL   \n",
       "9      13213.0  2016.0    4.0  116.0  116.0     LOS  20545.0     1.0      CA   \n",
       "12   2711583.0  2016.0    4.0  148.0  112.0     FTL  20559.0     2.0     NaN   \n",
       "15   5960799.0  2016.0    4.0  245.0  245.0     SAI  20545.0     1.0     NaN   \n",
       "..         ...     ...    ...    ...    ...     ...      ...     ...     ...   \n",
       "974  3870400.0  2016.0    4.0  148.0  112.0     ATL  20565.0     1.0      CA   \n",
       "976  5018908.0  2016.0    4.0  111.0  111.0     MON  20571.0     1.0      FL   \n",
       "977  4853913.0  2016.0    4.0  108.0  108.0     MIA  20570.0     2.0     NaN   \n",
       "989  1360834.0  2016.0    4.0  117.0  117.0     NYC  20552.0     1.0      NY   \n",
       "992  3874218.0  2016.0    4.0  148.0  112.0     SFR  20565.0     1.0      CA   \n",
       "\n",
       "     depdate i94bir i94visa count  dtadfile entdepa entdepd matflag biryear  \\\n",
       "4    20553.0   19.0     2.0   1.0  20160406       Z       K       M  1997.0   \n",
       "8    20575.0   39.0     2.0   1.0  20160428       O       O       M  1977.0   \n",
       "9    20553.0   35.0     2.0   1.0  20160401       O       O       M  1981.0   \n",
       "12   20565.0   54.0     2.0   1.0  20160415       G       O       M  1962.0   \n",
       "15   20550.0   30.0     2.0   1.0  20160615       P       D       M  1986.0   \n",
       "..       ...    ...     ...   ...       ...     ...     ...     ...     ...   \n",
       "974  20571.0   35.0     2.0   1.0  20160421       O       O       M  1981.0   \n",
       "976      NaN   60.0     2.0   1.0  20160427       G     NaN     NaN  1956.0   \n",
       "977  20573.0   70.0     2.0   1.0  20160426       G       R       M  1946.0   \n",
       "989  20556.0   38.0     2.0   1.0  20160408       O       O       M  1978.0   \n",
       "992  20582.0   49.0     2.0   1.0  20160421       O       O       M  1967.0   \n",
       "\n",
       "      dtaddto gender airline         admnum  fltno visatype  \n",
       "4    07042016      F     NaN  42322572633.0   LAND       WT  \n",
       "8    07262016    NaN      LX  59413424733.0  00008       WT  \n",
       "9    06292016    NaN      AA  55449792933.0  00109       WT  \n",
       "12   07132016      F     VES  56175860733.0  93724       WT  \n",
       "15   04132016      M      MU  44162582033.0  00763       CP  \n",
       "..        ...    ...     ...            ...    ...      ...  \n",
       "974  07192016    NaN      DL  56525407733.0  00131       WT  \n",
       "976  07252016      M      RV  59339279133.0  01606       WT  \n",
       "977  07242016      F     VES  59277156733.0  91894       WT  \n",
       "989  07062016    NaN      TK  55831485533.0  00001       WT  \n",
       "992  07192016    NaN      LH  56534271933.0  00454       WT  \n",
       "\n",
       "[243 rows x 24 columns]"
      ]
     },
     "execution_count": 69,
     "metadata": {},
     "output_type": "execute_result"
    }
   ],
   "source": [
    "# NaN rows\n",
    "immigrationNew[immigrationNew.isnull().any(axis=1)]"
   ]
  },
  {
   "cell_type": "markdown",
   "metadata": {
    "editable": true
   },
   "source": [
    "243 rows out of 1000 contain NaN after dropping unnecessary columns. Thus, can't be dropped."
   ]
  },
  {
   "cell_type": "code",
   "execution_count": 70,
   "metadata": {
    "editable": true
   },
   "outputs": [
    {
     "data": {
      "text/html": [
       "<div>\n",
       "<style scoped>\n",
       "    .dataframe tbody tr th:only-of-type {\n",
       "        vertical-align: middle;\n",
       "    }\n",
       "\n",
       "    .dataframe tbody tr th {\n",
       "        vertical-align: top;\n",
       "    }\n",
       "\n",
       "    .dataframe thead th {\n",
       "        text-align: right;\n",
       "    }\n",
       "</style>\n",
       "<table border=\"1\" class=\"dataframe\">\n",
       "  <thead>\n",
       "    <tr style=\"text-align: right;\">\n",
       "      <th></th>\n",
       "      <th>cicid</th>\n",
       "      <th>i94yr</th>\n",
       "      <th>i94mon</th>\n",
       "      <th>i94cit</th>\n",
       "      <th>i94res</th>\n",
       "      <th>i94port</th>\n",
       "      <th>arrdate</th>\n",
       "      <th>i94mode</th>\n",
       "      <th>i94addr</th>\n",
       "      <th>depdate</th>\n",
       "      <th>i94bir</th>\n",
       "      <th>i94visa</th>\n",
       "      <th>count</th>\n",
       "      <th>dtadfile</th>\n",
       "      <th>entdepa</th>\n",
       "      <th>entdepd</th>\n",
       "      <th>matflag</th>\n",
       "      <th>biryear</th>\n",
       "      <th>dtaddto</th>\n",
       "      <th>gender</th>\n",
       "      <th>airline</th>\n",
       "      <th>admnum</th>\n",
       "      <th>fltno</th>\n",
       "      <th>visatype</th>\n",
       "    </tr>\n",
       "  </thead>\n",
       "  <tbody>\n",
       "    <tr>\n",
       "      <th>70</th>\n",
       "      <td>3599863.0</td>\n",
       "      <td>2016.0</td>\n",
       "      <td>4.0</td>\n",
       "      <td>582.0</td>\n",
       "      <td>582.0</td>\n",
       "      <td>HOU</td>\n",
       "      <td>20563.0</td>\n",
       "      <td>1.0</td>\n",
       "      <td>TX</td>\n",
       "      <td>20639.0</td>\n",
       "      <td>42.0</td>\n",
       "      <td>3.0</td>\n",
       "      <td>1.0</td>\n",
       "      <td>20160419</td>\n",
       "      <td>G</td>\n",
       "      <td>Q</td>\n",
       "      <td>M</td>\n",
       "      <td>1974.0</td>\n",
       "      <td>D/S</td>\n",
       "      <td>F</td>\n",
       "      <td>WN</td>\n",
       "      <td>93991159230.0</td>\n",
       "      <td>02831</td>\n",
       "      <td>F1</td>\n",
       "    </tr>\n",
       "    <tr>\n",
       "      <th>238</th>\n",
       "      <td>513953.0</td>\n",
       "      <td>2016.0</td>\n",
       "      <td>4.0</td>\n",
       "      <td>268.0</td>\n",
       "      <td>268.0</td>\n",
       "      <td>LOS</td>\n",
       "      <td>20547.0</td>\n",
       "      <td>1.0</td>\n",
       "      <td>CA</td>\n",
       "      <td>20627.0</td>\n",
       "      <td>19.0</td>\n",
       "      <td>3.0</td>\n",
       "      <td>1.0</td>\n",
       "      <td>20160403</td>\n",
       "      <td>G</td>\n",
       "      <td>O</td>\n",
       "      <td>M</td>\n",
       "      <td>1997.0</td>\n",
       "      <td>D/S</td>\n",
       "      <td>M</td>\n",
       "      <td>BR</td>\n",
       "      <td>92685611430.0</td>\n",
       "      <td>00012</td>\n",
       "      <td>F1</td>\n",
       "    </tr>\n",
       "    <tr>\n",
       "      <th>274</th>\n",
       "      <td>2209111.0</td>\n",
       "      <td>2016.0</td>\n",
       "      <td>4.0</td>\n",
       "      <td>268.0</td>\n",
       "      <td>268.0</td>\n",
       "      <td>SFR</td>\n",
       "      <td>20556.0</td>\n",
       "      <td>1.0</td>\n",
       "      <td>MA</td>\n",
       "      <td>20661.0</td>\n",
       "      <td>26.0</td>\n",
       "      <td>3.0</td>\n",
       "      <td>1.0</td>\n",
       "      <td>20160412</td>\n",
       "      <td>G</td>\n",
       "      <td>O</td>\n",
       "      <td>M</td>\n",
       "      <td>1990.0</td>\n",
       "      <td>D/S</td>\n",
       "      <td>F</td>\n",
       "      <td>UA</td>\n",
       "      <td>93329908030.0</td>\n",
       "      <td>00872</td>\n",
       "      <td>F1</td>\n",
       "    </tr>\n",
       "    <tr>\n",
       "      <th>337</th>\n",
       "      <td>5514177.0</td>\n",
       "      <td>2016.0</td>\n",
       "      <td>4.0</td>\n",
       "      <td>343.0</td>\n",
       "      <td>343.0</td>\n",
       "      <td>HOU</td>\n",
       "      <td>20573.0</td>\n",
       "      <td>1.0</td>\n",
       "      <td>TX</td>\n",
       "      <td>NaN</td>\n",
       "      <td>3.0</td>\n",
       "      <td>3.0</td>\n",
       "      <td>1.0</td>\n",
       "      <td>20160429</td>\n",
       "      <td>G</td>\n",
       "      <td>NaN</td>\n",
       "      <td>NaN</td>\n",
       "      <td>2013.0</td>\n",
       "      <td>D/S</td>\n",
       "      <td>M</td>\n",
       "      <td>EK</td>\n",
       "      <td>94889940930.0</td>\n",
       "      <td>00211</td>\n",
       "      <td>F2</td>\n",
       "    </tr>\n",
       "    <tr>\n",
       "      <th>415</th>\n",
       "      <td>1400880.0</td>\n",
       "      <td>2016.0</td>\n",
       "      <td>4.0</td>\n",
       "      <td>213.0</td>\n",
       "      <td>213.0</td>\n",
       "      <td>NEW</td>\n",
       "      <td>20552.0</td>\n",
       "      <td>1.0</td>\n",
       "      <td>NJ</td>\n",
       "      <td>NaN</td>\n",
       "      <td>2.0</td>\n",
       "      <td>3.0</td>\n",
       "      <td>1.0</td>\n",
       "      <td>20160408</td>\n",
       "      <td>T</td>\n",
       "      <td>NaN</td>\n",
       "      <td>NaN</td>\n",
       "      <td>2014.0</td>\n",
       "      <td>D/S</td>\n",
       "      <td>M</td>\n",
       "      <td>AI</td>\n",
       "      <td>725810385.0</td>\n",
       "      <td>191</td>\n",
       "      <td>F2</td>\n",
       "    </tr>\n",
       "    <tr>\n",
       "      <th>538</th>\n",
       "      <td>494733.0</td>\n",
       "      <td>2016.0</td>\n",
       "      <td>4.0</td>\n",
       "      <td>213.0</td>\n",
       "      <td>213.0</td>\n",
       "      <td>SFR</td>\n",
       "      <td>20547.0</td>\n",
       "      <td>1.0</td>\n",
       "      <td>CA</td>\n",
       "      <td>20589.0</td>\n",
       "      <td>32.0</td>\n",
       "      <td>3.0</td>\n",
       "      <td>1.0</td>\n",
       "      <td>20160403</td>\n",
       "      <td>T</td>\n",
       "      <td>O</td>\n",
       "      <td>M</td>\n",
       "      <td>1984.0</td>\n",
       "      <td>D/S</td>\n",
       "      <td>F</td>\n",
       "      <td>VS</td>\n",
       "      <td>676522085.0</td>\n",
       "      <td>41</td>\n",
       "      <td>F1</td>\n",
       "    </tr>\n",
       "    <tr>\n",
       "      <th>591</th>\n",
       "      <td>509225.0</td>\n",
       "      <td>2016.0</td>\n",
       "      <td>4.0</td>\n",
       "      <td>254.0</td>\n",
       "      <td>276.0</td>\n",
       "      <td>WAS</td>\n",
       "      <td>20547.0</td>\n",
       "      <td>1.0</td>\n",
       "      <td>VA</td>\n",
       "      <td>20603.0</td>\n",
       "      <td>17.0</td>\n",
       "      <td>3.0</td>\n",
       "      <td>1.0</td>\n",
       "      <td>20160403</td>\n",
       "      <td>T</td>\n",
       "      <td>O</td>\n",
       "      <td>M</td>\n",
       "      <td>1999.0</td>\n",
       "      <td>D/S</td>\n",
       "      <td>M</td>\n",
       "      <td>UA</td>\n",
       "      <td>675060085.0</td>\n",
       "      <td>804</td>\n",
       "      <td>F1</td>\n",
       "    </tr>\n",
       "    <tr>\n",
       "      <th>615</th>\n",
       "      <td>499578.0</td>\n",
       "      <td>2016.0</td>\n",
       "      <td>4.0</td>\n",
       "      <td>245.0</td>\n",
       "      <td>245.0</td>\n",
       "      <td>SFR</td>\n",
       "      <td>20547.0</td>\n",
       "      <td>1.0</td>\n",
       "      <td>CA</td>\n",
       "      <td>NaN</td>\n",
       "      <td>29.0</td>\n",
       "      <td>3.0</td>\n",
       "      <td>1.0</td>\n",
       "      <td>20160403</td>\n",
       "      <td>G</td>\n",
       "      <td>NaN</td>\n",
       "      <td>NaN</td>\n",
       "      <td>1987.0</td>\n",
       "      <td>D/S</td>\n",
       "      <td>F</td>\n",
       "      <td>UA</td>\n",
       "      <td>92641176030.0</td>\n",
       "      <td>00889</td>\n",
       "      <td>F1</td>\n",
       "    </tr>\n",
       "    <tr>\n",
       "      <th>621</th>\n",
       "      <td>5771544.0</td>\n",
       "      <td>2016.0</td>\n",
       "      <td>4.0</td>\n",
       "      <td>514.0</td>\n",
       "      <td>514.0</td>\n",
       "      <td>BAL</td>\n",
       "      <td>20574.0</td>\n",
       "      <td>1.0</td>\n",
       "      <td>MD</td>\n",
       "      <td>NaN</td>\n",
       "      <td>33.0</td>\n",
       "      <td>3.0</td>\n",
       "      <td>1.0</td>\n",
       "      <td>20160430</td>\n",
       "      <td>T</td>\n",
       "      <td>NaN</td>\n",
       "      <td>NaN</td>\n",
       "      <td>1983.0</td>\n",
       "      <td>D/S</td>\n",
       "      <td>M</td>\n",
       "      <td>WN</td>\n",
       "      <td>905856585.0</td>\n",
       "      <td>907</td>\n",
       "      <td>F1</td>\n",
       "    </tr>\n",
       "    <tr>\n",
       "      <th>684</th>\n",
       "      <td>4552209.0</td>\n",
       "      <td>2016.0</td>\n",
       "      <td>4.0</td>\n",
       "      <td>261.0</td>\n",
       "      <td>261.0</td>\n",
       "      <td>BLA</td>\n",
       "      <td>20568.0</td>\n",
       "      <td>3.0</td>\n",
       "      <td>NaN</td>\n",
       "      <td>20581.0</td>\n",
       "      <td>21.0</td>\n",
       "      <td>3.0</td>\n",
       "      <td>1.0</td>\n",
       "      <td>20160424</td>\n",
       "      <td>Z</td>\n",
       "      <td>K</td>\n",
       "      <td>M</td>\n",
       "      <td>1995.0</td>\n",
       "      <td>D/S</td>\n",
       "      <td>M</td>\n",
       "      <td>NaN</td>\n",
       "      <td>84429099430.0</td>\n",
       "      <td>00041</td>\n",
       "      <td>F1</td>\n",
       "    </tr>\n",
       "    <tr>\n",
       "      <th>791</th>\n",
       "      <td>4106787.0</td>\n",
       "      <td>2016.0</td>\n",
       "      <td>4.0</td>\n",
       "      <td>258.0</td>\n",
       "      <td>258.0</td>\n",
       "      <td>WAS</td>\n",
       "      <td>20566.0</td>\n",
       "      <td>1.0</td>\n",
       "      <td>MA</td>\n",
       "      <td>NaN</td>\n",
       "      <td>26.0</td>\n",
       "      <td>3.0</td>\n",
       "      <td>1.0</td>\n",
       "      <td>20160422</td>\n",
       "      <td>G</td>\n",
       "      <td>NaN</td>\n",
       "      <td>NaN</td>\n",
       "      <td>1990.0</td>\n",
       "      <td>D/S</td>\n",
       "      <td>F</td>\n",
       "      <td>QR</td>\n",
       "      <td>94247471130.0</td>\n",
       "      <td>00707</td>\n",
       "      <td>F2</td>\n",
       "    </tr>\n",
       "    <tr>\n",
       "      <th>934</th>\n",
       "      <td>5743519.0</td>\n",
       "      <td>2016.0</td>\n",
       "      <td>4.0</td>\n",
       "      <td>245.0</td>\n",
       "      <td>245.0</td>\n",
       "      <td>NYC</td>\n",
       "      <td>20574.0</td>\n",
       "      <td>1.0</td>\n",
       "      <td>CA</td>\n",
       "      <td>20619.0</td>\n",
       "      <td>21.0</td>\n",
       "      <td>3.0</td>\n",
       "      <td>1.0</td>\n",
       "      <td>20160430</td>\n",
       "      <td>T</td>\n",
       "      <td>O</td>\n",
       "      <td>M</td>\n",
       "      <td>1995.0</td>\n",
       "      <td>D/S</td>\n",
       "      <td>F</td>\n",
       "      <td>CX</td>\n",
       "      <td>904654885.0</td>\n",
       "      <td>888</td>\n",
       "      <td>F1</td>\n",
       "    </tr>\n",
       "    <tr>\n",
       "      <th>964</th>\n",
       "      <td>692088.0</td>\n",
       "      <td>2016.0</td>\n",
       "      <td>4.0</td>\n",
       "      <td>245.0</td>\n",
       "      <td>206.0</td>\n",
       "      <td>SEA</td>\n",
       "      <td>20548.0</td>\n",
       "      <td>1.0</td>\n",
       "      <td>WA</td>\n",
       "      <td>20674.0</td>\n",
       "      <td>20.0</td>\n",
       "      <td>3.0</td>\n",
       "      <td>1.0</td>\n",
       "      <td>20160404</td>\n",
       "      <td>G</td>\n",
       "      <td>O</td>\n",
       "      <td>M</td>\n",
       "      <td>1996.0</td>\n",
       "      <td>D/S</td>\n",
       "      <td>F</td>\n",
       "      <td>DL</td>\n",
       "      <td>92724278230.0</td>\n",
       "      <td>00016</td>\n",
       "      <td>F1</td>\n",
       "    </tr>\n",
       "  </tbody>\n",
       "</table>\n",
       "</div>"
      ],
      "text/plain": [
       "         cicid   i94yr i94mon i94cit i94res i94port  arrdate i94mode i94addr  \\\n",
       "70   3599863.0  2016.0    4.0  582.0  582.0     HOU  20563.0     1.0      TX   \n",
       "238   513953.0  2016.0    4.0  268.0  268.0     LOS  20547.0     1.0      CA   \n",
       "274  2209111.0  2016.0    4.0  268.0  268.0     SFR  20556.0     1.0      MA   \n",
       "337  5514177.0  2016.0    4.0  343.0  343.0     HOU  20573.0     1.0      TX   \n",
       "415  1400880.0  2016.0    4.0  213.0  213.0     NEW  20552.0     1.0      NJ   \n",
       "538   494733.0  2016.0    4.0  213.0  213.0     SFR  20547.0     1.0      CA   \n",
       "591   509225.0  2016.0    4.0  254.0  276.0     WAS  20547.0     1.0      VA   \n",
       "615   499578.0  2016.0    4.0  245.0  245.0     SFR  20547.0     1.0      CA   \n",
       "621  5771544.0  2016.0    4.0  514.0  514.0     BAL  20574.0     1.0      MD   \n",
       "684  4552209.0  2016.0    4.0  261.0  261.0     BLA  20568.0     3.0     NaN   \n",
       "791  4106787.0  2016.0    4.0  258.0  258.0     WAS  20566.0     1.0      MA   \n",
       "934  5743519.0  2016.0    4.0  245.0  245.0     NYC  20574.0     1.0      CA   \n",
       "964   692088.0  2016.0    4.0  245.0  206.0     SEA  20548.0     1.0      WA   \n",
       "\n",
       "     depdate i94bir i94visa count  dtadfile entdepa entdepd matflag biryear  \\\n",
       "70   20639.0   42.0     3.0   1.0  20160419       G       Q       M  1974.0   \n",
       "238  20627.0   19.0     3.0   1.0  20160403       G       O       M  1997.0   \n",
       "274  20661.0   26.0     3.0   1.0  20160412       G       O       M  1990.0   \n",
       "337      NaN    3.0     3.0   1.0  20160429       G     NaN     NaN  2013.0   \n",
       "415      NaN    2.0     3.0   1.0  20160408       T     NaN     NaN  2014.0   \n",
       "538  20589.0   32.0     3.0   1.0  20160403       T       O       M  1984.0   \n",
       "591  20603.0   17.0     3.0   1.0  20160403       T       O       M  1999.0   \n",
       "615      NaN   29.0     3.0   1.0  20160403       G     NaN     NaN  1987.0   \n",
       "621      NaN   33.0     3.0   1.0  20160430       T     NaN     NaN  1983.0   \n",
       "684  20581.0   21.0     3.0   1.0  20160424       Z       K       M  1995.0   \n",
       "791      NaN   26.0     3.0   1.0  20160422       G     NaN     NaN  1990.0   \n",
       "934  20619.0   21.0     3.0   1.0  20160430       T       O       M  1995.0   \n",
       "964  20674.0   20.0     3.0   1.0  20160404       G       O       M  1996.0   \n",
       "\n",
       "    dtaddto gender airline         admnum  fltno visatype  \n",
       "70      D/S      F      WN  93991159230.0  02831       F1  \n",
       "238     D/S      M      BR  92685611430.0  00012       F1  \n",
       "274     D/S      F      UA  93329908030.0  00872       F1  \n",
       "337     D/S      M      EK  94889940930.0  00211       F2  \n",
       "415     D/S      M      AI    725810385.0    191       F2  \n",
       "538     D/S      F      VS    676522085.0     41       F1  \n",
       "591     D/S      M      UA    675060085.0    804       F1  \n",
       "615     D/S      F      UA  92641176030.0  00889       F1  \n",
       "621     D/S      M      WN    905856585.0    907       F1  \n",
       "684     D/S      M     NaN  84429099430.0  00041       F1  \n",
       "791     D/S      F      QR  94247471130.0  00707       F2  \n",
       "934     D/S      F      CX    904654885.0    888       F1  \n",
       "964     D/S      F      DL  92724278230.0  00016       F1  "
      ]
     },
     "execution_count": 70,
     "metadata": {},
     "output_type": "execute_result"
    }
   ],
   "source": [
    "# 13 rows out of 1000 contain \"D/S\" value for \"dtaddto\"\n",
    "# needs to be dropped, then can change to date format\n",
    "immigrationNew[immigrationNew[\"dtaddto\"] == \"D/S\"]"
   ]
  },
  {
   "cell_type": "code",
   "execution_count": 71,
   "metadata": {
    "editable": true
   },
   "outputs": [],
   "source": [
    "# drop \"dtaddto\" equal to \"D/S\" \n",
    "# then can change \"dtaddto\" to date format since it contain \"NaN\"\n",
    "immigrationPlus = immigrationNew[~(immigrationNew[\"dtaddto\"] == \"D/S\")]"
   ]
  },
  {
   "cell_type": "code",
   "execution_count": 72,
   "metadata": {
    "editable": true
   },
   "outputs": [
    {
     "name": "stderr",
     "output_type": "stream",
     "text": [
      "D:\\Anaconda3\\lib\\site-packages\\ipykernel_launcher.py:2: SettingWithCopyWarning: \n",
      "A value is trying to be set on a copy of a slice from a DataFrame.\n",
      "Try using .loc[row_indexer,col_indexer] = value instead\n",
      "\n",
      "See the caveats in the documentation: https://pandas.pydata.org/pandas-docs/stable/user_guide/indexing.html#returning-a-view-versus-a-copy\n",
      "  \n",
      "D:\\Anaconda3\\lib\\site-packages\\ipykernel_launcher.py:3: SettingWithCopyWarning: \n",
      "A value is trying to be set on a copy of a slice from a DataFrame.\n",
      "Try using .loc[row_indexer,col_indexer] = value instead\n",
      "\n",
      "See the caveats in the documentation: https://pandas.pydata.org/pandas-docs/stable/user_guide/indexing.html#returning-a-view-versus-a-copy\n",
      "  This is separate from the ipykernel package so we can avoid doing imports until\n",
      "D:\\Anaconda3\\lib\\site-packages\\ipykernel_launcher.py:6: SettingWithCopyWarning: \n",
      "A value is trying to be set on a copy of a slice from a DataFrame.\n",
      "Try using .loc[row_indexer,col_indexer] = value instead\n",
      "\n",
      "See the caveats in the documentation: https://pandas.pydata.org/pandas-docs/stable/user_guide/indexing.html#returning-a-view-versus-a-copy\n",
      "  \n",
      "D:\\Anaconda3\\lib\\site-packages\\ipykernel_launcher.py:7: SettingWithCopyWarning: \n",
      "A value is trying to be set on a copy of a slice from a DataFrame.\n",
      "Try using .loc[row_indexer,col_indexer] = value instead\n",
      "\n",
      "See the caveats in the documentation: https://pandas.pydata.org/pandas-docs/stable/user_guide/indexing.html#returning-a-view-versus-a-copy\n",
      "  import sys\n"
     ]
    }
   ],
   "source": [
    "# change to date from SAS date numeric format\n",
    "immigrationPlus[\"arrdate\"] = pd.to_timedelta(immigrationPlus[\"arrdate\"].dropna().astype(float), unit=\"D\") + pd.Timestamp('1960-1-1')\n",
    "immigrationPlus[\"depdate\"] = pd.to_timedelta(immigrationPlus[\"depdate\"].dropna().astype(float), unit=\"D\") + pd.Timestamp('1960-1-1')\n",
    "\n",
    "# change to date from other formats\n",
    "immigrationPlus[\"dtadfile\"] = pd.to_datetime(immigrationPlus[\"dtadfile\"], format=\"%Y%m%d\")\n",
    "immigrationPlus[\"dtaddto\"] = pd.to_datetime(immigrationPlus[\"dtaddto\"], format=\"%m%d%Y\")"
   ]
  },
  {
   "cell_type": "code",
   "execution_count": 73,
   "metadata": {
    "editable": true
   },
   "outputs": [
    {
     "name": "stderr",
     "output_type": "stream",
     "text": [
      "D:\\Anaconda3\\lib\\site-packages\\pandas\\core\\frame.py:3641: SettingWithCopyWarning: \n",
      "A value is trying to be set on a copy of a slice from a DataFrame.\n",
      "Try using .loc[row_indexer,col_indexer] = value instead\n",
      "\n",
      "See the caveats in the documentation: https://pandas.pydata.org/pandas-docs/stable/user_guide/indexing.html#returning-a-view-versus-a-copy\n",
      "  self[k1] = value[k2]\n"
     ]
    }
   ],
   "source": [
    "# change to int\n",
    "immigrationPlus[[\"i94yr\", \"i94mon\", \"i94mode\", \n",
    "                 \"i94bir\", \"i94visa\", \"count\", \"biryear\"]] = (immigrationPlus[[\"i94yr\", \"i94mon\", \"i94mode\", \"i94bir\", \n",
    "                                                                               \"i94visa\", \"count\", \"biryear\"]].\n",
    "                                                                                            astype(float).astype(int))"
   ]
  },
  {
   "cell_type": "code",
   "execution_count": 74,
   "metadata": {
    "editable": true
   },
   "outputs": [],
   "source": [
    "# change to text\n",
    "immigrationPlus[[\"cicid\", \"i94cit\", \"i94res\", \"admnum\"]] = (immigrationPlus[[\"cicid\", \"i94cit\", \"i94res\", \"admnum\"]].\n",
    "                                                            apply(lambda x: x.astype(str).str.replace(\".0\", \"\", regex=False), axis=1))"
   ]
  },
  {
   "cell_type": "code",
   "execution_count": 75,
   "metadata": {
    "editable": true
   },
   "outputs": [
    {
     "data": {
      "text/plain": [
       "True"
      ]
     },
     "execution_count": 75,
     "metadata": {},
     "output_type": "execute_result"
    }
   ],
   "source": [
    "# duplicates \n",
    "len(immigrationPlus) == len(immigrationPlus.drop_duplicates())"
   ]
  },
  {
   "cell_type": "code",
   "execution_count": 76,
   "metadata": {
    "editable": true
   },
   "outputs": [
    {
     "name": "stdout",
     "output_type": "stream",
     "text": [
      "<class 'pandas.core.frame.DataFrame'>\n",
      "Int64Index: 987 entries, 0 to 999\n",
      "Data columns (total 24 columns):\n",
      " #   Column    Non-Null Count  Dtype         \n",
      "---  ------    --------------  -----         \n",
      " 0   cicid     987 non-null    object        \n",
      " 1   i94yr     987 non-null    int32         \n",
      " 2   i94mon    987 non-null    int32         \n",
      " 3   i94cit    987 non-null    object        \n",
      " 4   i94res    987 non-null    object        \n",
      " 5   i94port   987 non-null    object        \n",
      " 6   arrdate   987 non-null    datetime64[ns]\n",
      " 7   i94mode   987 non-null    int32         \n",
      " 8   i94addr   929 non-null    object        \n",
      " 9   depdate   943 non-null    datetime64[ns]\n",
      " 10  i94bir    987 non-null    int32         \n",
      " 11  i94visa   987 non-null    int32         \n",
      " 12  count     987 non-null    int32         \n",
      " 13  dtadfile  987 non-null    datetime64[ns]\n",
      " 14  entdepa   987 non-null    object        \n",
      " 15  entdepd   946 non-null    object        \n",
      " 16  matflag   946 non-null    object        \n",
      " 17  biryear   987 non-null    int32         \n",
      " 18  dtaddto   987 non-null    datetime64[ns]\n",
      " 19  gender    846 non-null    object        \n",
      " 20  airline   955 non-null    object        \n",
      " 21  admnum    987 non-null    object        \n",
      " 22  fltno     979 non-null    object        \n",
      " 23  visatype  987 non-null    object        \n",
      "dtypes: datetime64[ns](4), int32(7), object(13)\n",
      "memory usage: 165.8+ KB\n"
     ]
    }
   ],
   "source": [
    "# data information\n",
    "immigrationPlus.info()"
   ]
  },
  {
   "cell_type": "code",
   "execution_count": 77,
   "metadata": {
    "editable": true
   },
   "outputs": [
    {
     "data": {
      "text/html": [
       "<div>\n",
       "<style scoped>\n",
       "    .dataframe tbody tr th:only-of-type {\n",
       "        vertical-align: middle;\n",
       "    }\n",
       "\n",
       "    .dataframe tbody tr th {\n",
       "        vertical-align: top;\n",
       "    }\n",
       "\n",
       "    .dataframe thead th {\n",
       "        text-align: right;\n",
       "    }\n",
       "</style>\n",
       "<table border=\"1\" class=\"dataframe\">\n",
       "  <thead>\n",
       "    <tr style=\"text-align: right;\">\n",
       "      <th></th>\n",
       "      <th>cicid</th>\n",
       "      <th>i94yr</th>\n",
       "      <th>i94mon</th>\n",
       "      <th>i94cit</th>\n",
       "      <th>i94res</th>\n",
       "      <th>i94port</th>\n",
       "      <th>arrdate</th>\n",
       "      <th>i94mode</th>\n",
       "      <th>i94addr</th>\n",
       "      <th>depdate</th>\n",
       "      <th>i94bir</th>\n",
       "      <th>i94visa</th>\n",
       "      <th>count</th>\n",
       "      <th>dtadfile</th>\n",
       "      <th>entdepa</th>\n",
       "      <th>entdepd</th>\n",
       "      <th>matflag</th>\n",
       "      <th>biryear</th>\n",
       "      <th>dtaddto</th>\n",
       "      <th>gender</th>\n",
       "      <th>airline</th>\n",
       "      <th>admnum</th>\n",
       "      <th>fltno</th>\n",
       "      <th>visatype</th>\n",
       "    </tr>\n",
       "  </thead>\n",
       "  <tbody>\n",
       "    <tr>\n",
       "      <th>0</th>\n",
       "      <td>4084316</td>\n",
       "      <td>2016</td>\n",
       "      <td>4</td>\n",
       "      <td>209</td>\n",
       "      <td>209</td>\n",
       "      <td>HHW</td>\n",
       "      <td>2016-04-22</td>\n",
       "      <td>1</td>\n",
       "      <td>HI</td>\n",
       "      <td>2016-04-29</td>\n",
       "      <td>61</td>\n",
       "      <td>2</td>\n",
       "      <td>1</td>\n",
       "      <td>2016-04-22</td>\n",
       "      <td>G</td>\n",
       "      <td>O</td>\n",
       "      <td>M</td>\n",
       "      <td>1955</td>\n",
       "      <td>2016-07-20</td>\n",
       "      <td>F</td>\n",
       "      <td>JL</td>\n",
       "      <td>56582674633</td>\n",
       "      <td>00782</td>\n",
       "      <td>WT</td>\n",
       "    </tr>\n",
       "    <tr>\n",
       "      <th>1</th>\n",
       "      <td>4422636</td>\n",
       "      <td>2016</td>\n",
       "      <td>4</td>\n",
       "      <td>582</td>\n",
       "      <td>582</td>\n",
       "      <td>MCA</td>\n",
       "      <td>2016-04-23</td>\n",
       "      <td>1</td>\n",
       "      <td>TX</td>\n",
       "      <td>2016-04-24</td>\n",
       "      <td>26</td>\n",
       "      <td>2</td>\n",
       "      <td>1</td>\n",
       "      <td>2016-04-23</td>\n",
       "      <td>G</td>\n",
       "      <td>R</td>\n",
       "      <td>M</td>\n",
       "      <td>1990</td>\n",
       "      <td>2016-10-22</td>\n",
       "      <td>M</td>\n",
       "      <td>*GA</td>\n",
       "      <td>94361995930</td>\n",
       "      <td>XBLNG</td>\n",
       "      <td>B2</td>\n",
       "    </tr>\n",
       "    <tr>\n",
       "      <th>2</th>\n",
       "      <td>1195600</td>\n",
       "      <td>2016</td>\n",
       "      <td>4</td>\n",
       "      <td>148</td>\n",
       "      <td>112</td>\n",
       "      <td>OGG</td>\n",
       "      <td>2016-04-07</td>\n",
       "      <td>1</td>\n",
       "      <td>FL</td>\n",
       "      <td>2016-04-27</td>\n",
       "      <td>76</td>\n",
       "      <td>2</td>\n",
       "      <td>1</td>\n",
       "      <td>2016-04-07</td>\n",
       "      <td>G</td>\n",
       "      <td>O</td>\n",
       "      <td>M</td>\n",
       "      <td>1940</td>\n",
       "      <td>2016-07-05</td>\n",
       "      <td>M</td>\n",
       "      <td>LH</td>\n",
       "      <td>55780468433</td>\n",
       "      <td>00464</td>\n",
       "      <td>WT</td>\n",
       "    </tr>\n",
       "    <tr>\n",
       "      <th>3</th>\n",
       "      <td>5291768</td>\n",
       "      <td>2016</td>\n",
       "      <td>4</td>\n",
       "      <td>297</td>\n",
       "      <td>297</td>\n",
       "      <td>LOS</td>\n",
       "      <td>2016-04-28</td>\n",
       "      <td>1</td>\n",
       "      <td>CA</td>\n",
       "      <td>2016-05-07</td>\n",
       "      <td>25</td>\n",
       "      <td>2</td>\n",
       "      <td>1</td>\n",
       "      <td>2016-04-28</td>\n",
       "      <td>G</td>\n",
       "      <td>O</td>\n",
       "      <td>M</td>\n",
       "      <td>1991</td>\n",
       "      <td>2016-10-27</td>\n",
       "      <td>M</td>\n",
       "      <td>QR</td>\n",
       "      <td>94789696030</td>\n",
       "      <td>00739</td>\n",
       "      <td>B2</td>\n",
       "    </tr>\n",
       "    <tr>\n",
       "      <th>4</th>\n",
       "      <td>985523</td>\n",
       "      <td>2016</td>\n",
       "      <td>4</td>\n",
       "      <td>111</td>\n",
       "      <td>111</td>\n",
       "      <td>CHM</td>\n",
       "      <td>2016-04-06</td>\n",
       "      <td>3</td>\n",
       "      <td>NY</td>\n",
       "      <td>2016-04-09</td>\n",
       "      <td>19</td>\n",
       "      <td>2</td>\n",
       "      <td>1</td>\n",
       "      <td>2016-04-06</td>\n",
       "      <td>Z</td>\n",
       "      <td>K</td>\n",
       "      <td>M</td>\n",
       "      <td>1997</td>\n",
       "      <td>2016-07-04</td>\n",
       "      <td>F</td>\n",
       "      <td>NaN</td>\n",
       "      <td>42322572633</td>\n",
       "      <td>LAND</td>\n",
       "      <td>WT</td>\n",
       "    </tr>\n",
       "  </tbody>\n",
       "</table>\n",
       "</div>"
      ],
      "text/plain": [
       "     cicid  i94yr  i94mon i94cit i94res i94port    arrdate  i94mode i94addr  \\\n",
       "0  4084316   2016       4    209    209     HHW 2016-04-22        1      HI   \n",
       "1  4422636   2016       4    582    582     MCA 2016-04-23        1      TX   \n",
       "2  1195600   2016       4    148    112     OGG 2016-04-07        1      FL   \n",
       "3  5291768   2016       4    297    297     LOS 2016-04-28        1      CA   \n",
       "4   985523   2016       4    111    111     CHM 2016-04-06        3      NY   \n",
       "\n",
       "     depdate  i94bir  i94visa  count   dtadfile entdepa entdepd matflag  \\\n",
       "0 2016-04-29      61        2      1 2016-04-22       G       O       M   \n",
       "1 2016-04-24      26        2      1 2016-04-23       G       R       M   \n",
       "2 2016-04-27      76        2      1 2016-04-07       G       O       M   \n",
       "3 2016-05-07      25        2      1 2016-04-28       G       O       M   \n",
       "4 2016-04-09      19        2      1 2016-04-06       Z       K       M   \n",
       "\n",
       "   biryear    dtaddto gender airline       admnum  fltno visatype  \n",
       "0     1955 2016-07-20      F      JL  56582674633  00782       WT  \n",
       "1     1990 2016-10-22      M     *GA  94361995930  XBLNG       B2  \n",
       "2     1940 2016-07-05      M      LH  55780468433  00464       WT  \n",
       "3     1991 2016-10-27      M      QR  94789696030  00739       B2  \n",
       "4     1997 2016-07-04      F     NaN  42322572633   LAND       WT  "
      ]
     },
     "execution_count": 77,
     "metadata": {},
     "output_type": "execute_result"
    }
   ],
   "source": [
    "# top 5\n",
    "immigrationPlus.head()"
   ]
  },
  {
   "cell_type": "markdown",
   "metadata": {
    "editable": true
   },
   "source": [
    "##### temperature\n",
    "1. Only include 2003 onwards of temperature for data usage\n",
    "2. Only include US"
   ]
  },
  {
   "cell_type": "code",
   "execution_count": 78,
   "metadata": {
    "editable": true
   },
   "outputs": [],
   "source": [
    "# year range\n",
    "# print(min(temperature.dt), max(temperature.dt)) ## 1743-11-01, 2013-09-01"
   ]
  },
  {
   "cell_type": "code",
   "execution_count": 79,
   "metadata": {
    "editable": true
   },
   "outputs": [],
   "source": [
    "# temperature in 2003 and onwards and in US\n",
    "temperatureUS10Yr = temperature[(temperature.Country == \"United States\") \n",
    "            & (temperature.dt >= \"2003-01-01\")].drop(\"Country\", axis=1)"
   ]
  },
  {
   "cell_type": "code",
   "execution_count": 80,
   "metadata": {
    "editable": true
   },
   "outputs": [],
   "source": [
    "# Uncertainty\n",
    "#print(min(temperatureUS10Yr.AverageTemperatureUncertainty), max(temperatureUS10Yr.AverageTemperatureUncertainty))\n",
    "## 0.049 1.3219999999999998"
   ]
  },
  {
   "cell_type": "code",
   "execution_count": 81,
   "metadata": {
    "editable": true
   },
   "outputs": [
    {
     "data": {
      "text/html": [
       "<div>\n",
       "<style scoped>\n",
       "    .dataframe tbody tr th:only-of-type {\n",
       "        vertical-align: middle;\n",
       "    }\n",
       "\n",
       "    .dataframe tbody tr th {\n",
       "        vertical-align: top;\n",
       "    }\n",
       "\n",
       "    .dataframe thead th {\n",
       "        text-align: right;\n",
       "    }\n",
       "</style>\n",
       "<table border=\"1\" class=\"dataframe\">\n",
       "  <thead>\n",
       "    <tr style=\"text-align: right;\">\n",
       "      <th></th>\n",
       "      <th>dt</th>\n",
       "      <th>AverageTemperature</th>\n",
       "      <th>AverageTemperatureUncertainty</th>\n",
       "      <th>State</th>\n",
       "    </tr>\n",
       "  </thead>\n",
       "  <tbody>\n",
       "    <tr>\n",
       "      <th>15106</th>\n",
       "      <td>2013-09-01</td>\n",
       "      <td>NaN</td>\n",
       "      <td>NaN</td>\n",
       "      <td>Alaska</td>\n",
       "    </tr>\n",
       "    <tr>\n",
       "      <th>154725</th>\n",
       "      <td>2013-09-01</td>\n",
       "      <td>NaN</td>\n",
       "      <td>NaN</td>\n",
       "      <td>Hawaii</td>\n",
       "    </tr>\n",
       "  </tbody>\n",
       "</table>\n",
       "</div>"
      ],
      "text/plain": [
       "                dt AverageTemperature AverageTemperatureUncertainty   State\n",
       "15106   2013-09-01                NaN                           NaN  Alaska\n",
       "154725  2013-09-01                NaN                           NaN  Hawaii"
      ]
     },
     "execution_count": 81,
     "metadata": {},
     "output_type": "execute_result"
    }
   ],
   "source": [
    "# NaN rows\n",
    "temperatureUS10Yr[temperatureUS10Yr.isnull().any(axis=1)]"
   ]
  },
  {
   "cell_type": "code",
   "execution_count": 82,
   "metadata": {
    "editable": true
   },
   "outputs": [],
   "source": [
    "# len(temperatureUS10Yr) ##6579"
   ]
  },
  {
   "cell_type": "markdown",
   "metadata": {
    "editable": true
   },
   "source": [
    "2 out of 6579 contains NaN. Thus. drop."
   ]
  },
  {
   "cell_type": "code",
   "execution_count": 83,
   "metadata": {
    "editable": true
   },
   "outputs": [],
   "source": [
    "# drop NaN\n",
    "temperatureUS10YrNoNa = temperatureUS10Yr.dropna() "
   ]
  },
  {
   "cell_type": "code",
   "execution_count": 84,
   "metadata": {
    "editable": true
   },
   "outputs": [
    {
     "name": "stderr",
     "output_type": "stream",
     "text": [
      "D:\\Anaconda3\\lib\\site-packages\\ipykernel_launcher.py:2: SettingWithCopyWarning: \n",
      "A value is trying to be set on a copy of a slice from a DataFrame.\n",
      "Try using .loc[row_indexer,col_indexer] = value instead\n",
      "\n",
      "See the caveats in the documentation: https://pandas.pydata.org/pandas-docs/stable/user_guide/indexing.html#returning-a-view-versus-a-copy\n",
      "  \n"
     ]
    }
   ],
   "source": [
    "# change to date\n",
    "temperatureUS10YrNoNa[\"dt\"] = pd.to_datetime(temperatureUS10YrNoNa[\"dt\"], format=\"%Y-%m-%d\")"
   ]
  },
  {
   "cell_type": "code",
   "execution_count": 85,
   "metadata": {
    "editable": true
   },
   "outputs": [
    {
     "name": "stderr",
     "output_type": "stream",
     "text": [
      "D:\\Anaconda3\\lib\\site-packages\\pandas\\core\\frame.py:3641: SettingWithCopyWarning: \n",
      "A value is trying to be set on a copy of a slice from a DataFrame.\n",
      "Try using .loc[row_indexer,col_indexer] = value instead\n",
      "\n",
      "See the caveats in the documentation: https://pandas.pydata.org/pandas-docs/stable/user_guide/indexing.html#returning-a-view-versus-a-copy\n",
      "  self[k1] = value[k2]\n"
     ]
    }
   ],
   "source": [
    "# to float and round to 1\n",
    "temperatureUS10YrNoNa[[\"AverageTemperature\", \"AverageTemperatureUncertainty\"]] = temperatureUS10YrNoNa[[\"AverageTemperature\", \"AverageTemperatureUncertainty\"]].astype(float).round(1)"
   ]
  },
  {
   "cell_type": "code",
   "execution_count": 86,
   "metadata": {
    "editable": true
   },
   "outputs": [
    {
     "data": {
      "text/plain": [
       "True"
      ]
     },
     "execution_count": 86,
     "metadata": {},
     "output_type": "execute_result"
    }
   ],
   "source": [
    "# duplicates\n",
    "len(temperatureUS10YrNoNa) == len(temperatureUS10YrNoNa.drop_duplicates())"
   ]
  },
  {
   "cell_type": "code",
   "execution_count": 87,
   "metadata": {
    "editable": true
   },
   "outputs": [
    {
     "name": "stdout",
     "output_type": "stream",
     "text": [
      "<class 'pandas.core.frame.DataFrame'>\n",
      "Int64Index: 6577 entries, 10568 to 626439\n",
      "Data columns (total 4 columns):\n",
      " #   Column                         Non-Null Count  Dtype         \n",
      "---  ------                         --------------  -----         \n",
      " 0   dt                             6577 non-null   datetime64[ns]\n",
      " 1   AverageTemperature             6577 non-null   float64       \n",
      " 2   AverageTemperatureUncertainty  6577 non-null   float64       \n",
      " 3   State                          6577 non-null   object        \n",
      "dtypes: datetime64[ns](1), float64(2), object(1)\n",
      "memory usage: 256.9+ KB\n"
     ]
    }
   ],
   "source": [
    "# data information\n",
    "temperatureUS10YrNoNa.info()"
   ]
  },
  {
   "cell_type": "code",
   "execution_count": 88,
   "metadata": {
    "editable": true
   },
   "outputs": [
    {
     "data": {
      "text/html": [
       "<div>\n",
       "<style scoped>\n",
       "    .dataframe tbody tr th:only-of-type {\n",
       "        vertical-align: middle;\n",
       "    }\n",
       "\n",
       "    .dataframe tbody tr th {\n",
       "        vertical-align: top;\n",
       "    }\n",
       "\n",
       "    .dataframe thead th {\n",
       "        text-align: right;\n",
       "    }\n",
       "</style>\n",
       "<table border=\"1\" class=\"dataframe\">\n",
       "  <thead>\n",
       "    <tr style=\"text-align: right;\">\n",
       "      <th></th>\n",
       "      <th>dt</th>\n",
       "      <th>AverageTemperature</th>\n",
       "      <th>AverageTemperatureUncertainty</th>\n",
       "      <th>State</th>\n",
       "    </tr>\n",
       "  </thead>\n",
       "  <tbody>\n",
       "    <tr>\n",
       "      <th>10568</th>\n",
       "      <td>2003-01-01</td>\n",
       "      <td>4.8</td>\n",
       "      <td>0.1</td>\n",
       "      <td>Alabama</td>\n",
       "    </tr>\n",
       "    <tr>\n",
       "      <th>10569</th>\n",
       "      <td>2003-02-01</td>\n",
       "      <td>9.1</td>\n",
       "      <td>0.2</td>\n",
       "      <td>Alabama</td>\n",
       "    </tr>\n",
       "    <tr>\n",
       "      <th>10570</th>\n",
       "      <td>2003-03-01</td>\n",
       "      <td>14.6</td>\n",
       "      <td>0.2</td>\n",
       "      <td>Alabama</td>\n",
       "    </tr>\n",
       "    <tr>\n",
       "      <th>10571</th>\n",
       "      <td>2003-04-01</td>\n",
       "      <td>17.8</td>\n",
       "      <td>0.2</td>\n",
       "      <td>Alabama</td>\n",
       "    </tr>\n",
       "    <tr>\n",
       "      <th>10572</th>\n",
       "      <td>2003-05-01</td>\n",
       "      <td>22.6</td>\n",
       "      <td>0.2</td>\n",
       "      <td>Alabama</td>\n",
       "    </tr>\n",
       "  </tbody>\n",
       "</table>\n",
       "</div>"
      ],
      "text/plain": [
       "              dt  AverageTemperature  AverageTemperatureUncertainty    State\n",
       "10568 2003-01-01                 4.8                            0.1  Alabama\n",
       "10569 2003-02-01                 9.1                            0.2  Alabama\n",
       "10570 2003-03-01                14.6                            0.2  Alabama\n",
       "10571 2003-04-01                17.8                            0.2  Alabama\n",
       "10572 2003-05-01                22.6                            0.2  Alabama"
      ]
     },
     "execution_count": 88,
     "metadata": {},
     "output_type": "execute_result"
    }
   ],
   "source": [
    "# top 5\n",
    "temperatureUS10YrNoNa.head()"
   ]
  },
  {
   "cell_type": "markdown",
   "metadata": {
    "editable": true
   },
   "source": [
    "<a id=\"model\"></a>"
   ]
  },
  {
   "cell_type": "markdown",
   "metadata": {
    "editable": true
   },
   "source": [
    "### Step 3: Define the Data Model\n",
    "#### 3.1 Conceptual Data Model\n",
    "* STAR Schema\n",
    "* dimension tables\n",
    "    * dim_airports (\"State\" PK; \"num_airports\")\n",
    "    * dim_temperature (\"State\", PK; \"min_tm\"; \"max_tm\")\n",
    "    * dim_population (\"State\", PK; age, gender, race population, household, etc)\n",
    "* fact tables\n",
    "    * fact_tourists (\"cicid\", PK; \"State\", FK)  <br>\n",
    "\n",
    "#### 3.2 Mapping Out Data Pipelines"
   ]
  },
  {
   "cell_type": "markdown",
   "metadata": {
    "editable": true
   },
   "source": [
    "<!-- ![title](airport_data_dictionary.png) -->"
   ]
  },
  {
   "cell_type": "markdown",
   "metadata": {
    "editable": true
   },
   "source": [
    "##### Relationship between tables "
   ]
  },
  {
   "cell_type": "markdown",
   "metadata": {
    "editable": true
   },
   "source": [
    "\"State Code\" in \"cities\", \"region\" in \"airports\", and \"i94addr\" in \"immigration\" are all related to US state codes, which can be a key to join all the three tables. And \"State\" in \"temperature\" and \"State\" in \"cities\" are all related to US state names, which can be a key to join the two tables, then adding \"State Code\" to \"temperature\".   \n",
    "Use \"State Code\" to link all the tables together to create relevant dimension and fact tables."
   ]
  },
  {
   "cell_type": "markdown",
   "metadata": {
    "editable": true
   },
   "source": [
    "##### State Codes"
   ]
  },
  {
   "cell_type": "code",
   "execution_count": 89,
   "metadata": {
    "editable": true
   },
   "outputs": [
    {
     "data": {
      "text/plain": [
       "array(['AK', 'AL', 'AR', 'AZ', 'CA', 'CO', 'CT', 'DC', 'DE', 'FL', 'GA',\n",
       "       'HI', 'IA', 'ID', 'IL', 'IN', 'KS', 'KY', 'LA', 'MA', 'MD', 'ME',\n",
       "       'MI', 'MN', 'MO', 'MS', 'MT', 'NC', 'ND', 'NE', 'NH', 'NJ', 'NM',\n",
       "       'NV', 'NY', 'OH', 'OK', 'OR', 'PA', 'RI', 'SC', 'SD', 'TN', 'TX',\n",
       "       'U-A', 'UT', 'VA', 'VT', 'WA', 'WI', 'WV', 'WY'], dtype='<U3')"
      ]
     },
     "execution_count": 89,
     "metadata": {},
     "output_type": "execute_result"
    }
   ],
   "source": [
    "# airport region\n",
    "np.array(sorted(airportUSNewNoNa.region.unique()))"
   ]
  },
  {
   "cell_type": "code",
   "execution_count": 90,
   "metadata": {
    "editable": true
   },
   "outputs": [
    {
     "data": {
      "text/plain": [
       "array(['AK', 'AL', 'AR', 'AZ', 'CA', 'CO', 'CT', 'DC', 'DE', 'FL', 'GA',\n",
       "       'HI', 'IA', 'ID', 'IL', 'IN', 'KS', 'KY', 'LA', 'MA', 'MD', 'ME',\n",
       "       'MI', 'MN', 'MO', 'MS', 'MT', 'NC', 'ND', 'NE', 'NH', 'NJ', 'NM',\n",
       "       'NV', 'NY', 'OH', 'OK', 'OR', 'PA', 'RI', 'SC', 'SD', 'TN', 'TX',\n",
       "       'UT', 'VA', 'WA', 'WI'], dtype='<U2')"
      ]
     },
     "execution_count": 90,
     "metadata": {},
     "output_type": "execute_result"
    }
   ],
   "source": [
    "# city state\n",
    "np.array(sorted(citiesNewNoDup[\"State Code\"].unique()))"
   ]
  },
  {
   "cell_type": "code",
   "execution_count": 91,
   "metadata": {
    "editable": true
   },
   "outputs": [
    {
     "data": {
      "text/plain": [
       "set()"
      ]
     },
     "execution_count": 91,
     "metadata": {},
     "output_type": "execute_result"
    }
   ],
   "source": [
    "# compare state codes in cities and airports\n",
    "set(np.array(sorted(citiesNewNoDup[\"State Code\"].unique()))).difference(set(np.array(sorted(airportUSNewNoNa.region.unique()))))"
   ]
  },
  {
   "cell_type": "code",
   "execution_count": 92,
   "metadata": {
    "editable": true
   },
   "outputs": [
    {
     "data": {
      "text/plain": [
       "{'U-A', 'VT', 'WV', 'WY'}"
      ]
     },
     "execution_count": 92,
     "metadata": {},
     "output_type": "execute_result"
    }
   ],
   "source": [
    "# compare state codes in cities and airports\n",
    "set(np.array(sorted(airportUSNewNoNa.region.unique()))).difference(set(np.array(sorted(citiesNewNoDup[\"State Code\"].unique()))))"
   ]
  },
  {
   "cell_type": "markdown",
   "metadata": {
    "editable": true
   },
   "source": [
    "1. All the state codes in \"cities\" are in \"airport\".  \n",
    "2. {'U-A', 'VT', 'WV', 'WY'} are in \"airport\" but not in \"cities\"."
   ]
  },
  {
   "cell_type": "code",
   "execution_count": 93,
   "metadata": {
    "editable": true
   },
   "outputs": [
    {
     "data": {
      "text/plain": [
       "array(['AL', 'AR', 'AZ', 'CA', 'CO', 'CT', 'DC', 'FL', 'GA', 'GU', 'HI',\n",
       "       'IA', 'ID', 'IL', 'IN', 'KS', 'KY', 'LA', 'MA', 'MD', 'ME', 'MI',\n",
       "       'MN', 'MO', 'MP', 'MS', 'NC', 'NE', 'NH', 'NJ', 'NM', 'NV', 'NY',\n",
       "       'OH', 'OK', 'OR', 'PA', 'PR', 'RI', 'SC', 'SW', 'TE', 'TN', 'TX',\n",
       "       'UN', 'UT', 'VA', 'VQ', 'VT', 'WA', 'WI', 'nan'], dtype='<U3')"
      ]
     },
     "execution_count": 93,
     "metadata": {},
     "output_type": "execute_result"
    }
   ],
   "source": [
    "# immigration i94addr\n",
    "np.array(sorted(immigrationNew[\"i94addr\"].astype(\"str\").unique()))"
   ]
  },
  {
   "cell_type": "code",
   "execution_count": 94,
   "metadata": {
    "editable": true
   },
   "outputs": [
    {
     "data": {
      "text/plain": [
       "{'AK', 'DE', 'MT', 'ND', 'SD'}"
      ]
     },
     "execution_count": 94,
     "metadata": {},
     "output_type": "execute_result"
    }
   ],
   "source": [
    "# compare state codes in cities and immigration\n",
    "set(np.array(sorted(citiesNewNoDup[\"State Code\"].unique()))).difference(set(np.array(sorted(immigrationNew[\"i94addr\"].astype(\"str\").unique()))))"
   ]
  },
  {
   "cell_type": "code",
   "execution_count": 95,
   "metadata": {
    "editable": true
   },
   "outputs": [
    {
     "data": {
      "text/plain": [
       "{'GU', 'MP', 'PR', 'SW', 'TE', 'UN', 'VQ', 'VT', 'nan'}"
      ]
     },
     "execution_count": 95,
     "metadata": {},
     "output_type": "execute_result"
    }
   ],
   "source": [
    "# compare state codes in cities and immigration\n",
    "set(np.array(sorted(immigrationNew[\"i94addr\"].astype(\"str\").unique()))).difference(set(np.array(sorted(citiesNewNoDup[\"State Code\"].unique()))))"
   ]
  },
  {
   "cell_type": "markdown",
   "metadata": {
    "editable": true
   },
   "source": [
    "1. {'AK', 'DE', 'MT', 'ND', 'SD'} are in \"cities\" but not in \"immigration\". \n",
    "2. {'GU', 'MP', 'PR', 'SW', 'TE', 'UN', 'VQ', 'VT'} are in \"immigration\" but not in \"cities\" (exclude \"nan\")."
   ]
  },
  {
   "cell_type": "markdown",
   "metadata": {
    "editable": true
   },
   "source": [
    "##### State Names"
   ]
  },
  {
   "cell_type": "code",
   "execution_count": 96,
   "metadata": {
    "editable": true
   },
   "outputs": [
    {
     "data": {
      "text/plain": [
       "array(['Alabama', 'Alaska', 'Arizona', 'Arkansas', 'California',\n",
       "       'Colorado', 'Connecticut', 'Delaware', 'District of Columbia',\n",
       "       'Florida', 'Georgia', 'Hawaii', 'Idaho', 'Illinois', 'Indiana',\n",
       "       'Iowa', 'Kansas', 'Kentucky', 'Louisiana', 'Maine', 'Maryland',\n",
       "       'Massachusetts', 'Michigan', 'Minnesota', 'Mississippi',\n",
       "       'Missouri', 'Montana', 'Nebraska', 'Nevada', 'New Hampshire',\n",
       "       'New Jersey', 'New Mexico', 'New York', 'North Carolina',\n",
       "       'North Dakota', 'Ohio', 'Oklahoma', 'Oregon', 'Pennsylvania',\n",
       "       'Rhode Island', 'South Carolina', 'South Dakota', 'Tennessee',\n",
       "       'Texas', 'Utah', 'Virginia', 'Washington', 'Wisconsin'],\n",
       "      dtype='<U20')"
      ]
     },
     "execution_count": 96,
     "metadata": {},
     "output_type": "execute_result"
    }
   ],
   "source": [
    "# state names in \"cities\" \n",
    "np.array(sorted(citiesNewNoDup.State.unique()))"
   ]
  },
  {
   "cell_type": "code",
   "execution_count": 97,
   "metadata": {
    "editable": true
   },
   "outputs": [
    {
     "data": {
      "text/plain": [
       "array(['Alabama', 'Alaska', 'Arizona', 'Arkansas', 'California',\n",
       "       'Colorado', 'Connecticut', 'Delaware', 'District Of Columbia',\n",
       "       'Florida', 'Georgia (State)', 'Hawaii', 'Idaho', 'Illinois',\n",
       "       'Indiana', 'Iowa', 'Kansas', 'Kentucky', 'Louisiana', 'Maine',\n",
       "       'Maryland', 'Massachusetts', 'Michigan', 'Minnesota',\n",
       "       'Mississippi', 'Missouri', 'Montana', 'Nebraska', 'Nevada',\n",
       "       'New Hampshire', 'New Jersey', 'New Mexico', 'New York',\n",
       "       'North Carolina', 'North Dakota', 'Ohio', 'Oklahoma', 'Oregon',\n",
       "       'Pennsylvania', 'Rhode Island', 'South Carolina', 'South Dakota',\n",
       "       'Tennessee', 'Texas', 'Utah', 'Vermont', 'Virginia', 'Washington',\n",
       "       'West Virginia', 'Wisconsin', 'Wyoming'], dtype='<U20')"
      ]
     },
     "execution_count": 97,
     "metadata": {},
     "output_type": "execute_result"
    }
   ],
   "source": [
    "# state names in \"temperature\" \n",
    "np.array(sorted(temperatureUS10YrNoNa.State.unique()))"
   ]
  },
  {
   "cell_type": "code",
   "execution_count": 98,
   "metadata": {
    "editable": true
   },
   "outputs": [
    {
     "data": {
      "text/plain": [
       "{'District of Columbia', 'Georgia'}"
      ]
     },
     "execution_count": 98,
     "metadata": {},
     "output_type": "execute_result"
    }
   ],
   "source": [
    "# compare state names in \"cities\" and \"temperature\"\n",
    "set(np.array(sorted(citiesNewNoDup.State.unique()))).difference(set(np.array(sorted(temperatureUS10YrNoNa.State.unique()))))"
   ]
  },
  {
   "cell_type": "code",
   "execution_count": 99,
   "metadata": {
    "editable": true
   },
   "outputs": [
    {
     "data": {
      "text/plain": [
       "{'District Of Columbia',\n",
       " 'Georgia (State)',\n",
       " 'Vermont',\n",
       " 'West Virginia',\n",
       " 'Wyoming'}"
      ]
     },
     "execution_count": 99,
     "metadata": {},
     "output_type": "execute_result"
    }
   ],
   "source": [
    "# compare state names in \"cities\" and \"temperature\"\n",
    "set(np.array(sorted(temperatureUS10YrNoNa.State.unique()))).difference(set(np.array(sorted(citiesNewNoDup.State.unique()))))"
   ]
  },
  {
   "cell_type": "markdown",
   "metadata": {
    "editable": true
   },
   "source": [
    "1. Change \"District Of Columbia\" to \"District of Columbia\" and \"Georgia (State)\" to \"Georgia\".\n",
    "2. {'Vermont', 'West Virginia','Wyoming'} are in \"temperature\" not in \"cities\"."
   ]
  },
  {
   "cell_type": "markdown",
   "metadata": {
    "editable": true
   },
   "source": [
    "##### Staging tables"
   ]
  },
  {
   "cell_type": "markdown",
   "metadata": {
    "editable": true
   },
   "source": [
    "**SQLite Database**"
   ]
  },
  {
   "cell_type": "code",
   "execution_count": 100,
   "metadata": {
    "editable": true
   },
   "outputs": [],
   "source": [
    "# create a database called states\n",
    "con = sqlite3.connect('states.db')"
   ]
  },
  {
   "cell_type": "code",
   "execution_count": 101,
   "metadata": {
    "editable": true
   },
   "outputs": [],
   "source": [
    "# create a cursor\n",
    "cur = con.cursor()"
   ]
  },
  {
   "cell_type": "code",
   "execution_count": 102,
   "metadata": {
    "editable": true
   },
   "outputs": [
    {
     "data": {
      "text/plain": [
       "<sqlite3.Cursor at 0x2082edd1dc0>"
      ]
     },
     "execution_count": 102,
     "metadata": {},
     "output_type": "execute_result"
    }
   ],
   "source": [
    "# drop tables\n",
    "cur.execute('''DROP TABLE IF EXISTS cities;''')\n",
    "cur.execute('''DROP TABLE IF EXISTS airports;''')\n",
    "cur.execute('''DROP TABLE IF EXISTS immigration;''')\n",
    "cur.execute('''DROP TABLE IF EXISTS temperature;''')"
   ]
  },
  {
   "cell_type": "code",
   "execution_count": 103,
   "metadata": {
    "editable": true
   },
   "outputs": [
    {
     "name": "stdout",
     "output_type": "stream",
     "text": [
      "[('sqlite_sequence',), ('dim_airports',), ('dim_cities',), ('dim_temperature',), ('fact_immigration',)]\n"
     ]
    }
   ],
   "source": [
    "# test\n",
    "cur.execute('''SELECT name FROM sqlite_master WHERE type=\"table\"''')\n",
    "print(cur.fetchall())"
   ]
  },
  {
   "cell_type": "markdown",
   "metadata": {
    "editable": true
   },
   "source": [
    "##### airport"
   ]
  },
  {
   "cell_type": "code",
   "execution_count": 104,
   "metadata": {
    "editable": true
   },
   "outputs": [],
   "source": [
    "# top 5\n",
    "# airportUSNewNoNa.head()"
   ]
  },
  {
   "cell_type": "code",
   "execution_count": 105,
   "metadata": {
    "editable": true
   },
   "outputs": [],
   "source": [
    "# data information\n",
    "# airportUSNewNoNa.info()"
   ]
  },
  {
   "cell_type": "code",
   "execution_count": 106,
   "metadata": {
    "editable": true
   },
   "outputs": [
    {
     "data": {
      "text/plain": [
       "<sqlite3.Cursor at 0x2082edd1dc0>"
      ]
     },
     "execution_count": 106,
     "metadata": {},
     "output_type": "execute_result"
    }
   ],
   "source": [
    "# Create airport\n",
    "cur.execute('''CREATE TABLE IF NOT EXISTS airports\n",
    "               (airport_id INTEGER PRIMARY KEY AUTOINCREMENT,\n",
    "               ident TEXT NOT NULL, \n",
    "               type TEXT NOT NULL, \n",
    "               name TEXT NOT NULL,\n",
    "               elevation_ft REAL NOT NULL, \n",
    "               region TEXT NOT NULL,\n",
    "               longitude REAL NOT NULL,\n",
    "               latitude REAL NOT NULL);''')"
   ]
  },
  {
   "cell_type": "code",
   "execution_count": 107,
   "metadata": {
    "editable": true
   },
   "outputs": [],
   "source": [
    "# insert airportd from pandas dataframe\n",
    "airportUSNewNoNa.to_sql(\"airports\", con=con, if_exists=\"append\", index=False)"
   ]
  },
  {
   "cell_type": "markdown",
   "metadata": {
    "editable": true
   },
   "source": [
    "##### Cities"
   ]
  },
  {
   "cell_type": "code",
   "execution_count": 108,
   "metadata": {
    "editable": true
   },
   "outputs": [],
   "source": [
    "# top 5\n",
    "# citiesNewNoDup.head()"
   ]
  },
  {
   "cell_type": "code",
   "execution_count": 109,
   "metadata": {
    "editable": true
   },
   "outputs": [],
   "source": [
    "# data information\n",
    "# citiesNewNoDup.info()"
   ]
  },
  {
   "cell_type": "code",
   "execution_count": 110,
   "metadata": {
    "editable": true
   },
   "outputs": [
    {
     "data": {
      "text/plain": [
       "<sqlite3.Cursor at 0x2082edd1dc0>"
      ]
     },
     "execution_count": 110,
     "metadata": {},
     "output_type": "execute_result"
    }
   ],
   "source": [
    "# Create cities\n",
    "cur.execute('''CREATE TABLE IF NOT EXISTS cities \n",
    "               (city_id INTEGER PRIMARY KEY AUTOINCREMENT,\n",
    "               City TEXT NOT NULL, \n",
    "               State TEXT NOT NULL, \n",
    "               \"Median Age\" REAL NOT NULL,\n",
    "               \"Male Population\" INTEGER NOT NULL, \n",
    "               \"Female Population\" INTEGER NOT NULL,\n",
    "               \"Total Population\" INTEGER NOT NULL,\n",
    "               \"Number of Veterans\" INTEGER NOT NULL,\n",
    "               \"Foreign-born\" INTEGER NOT NULL,\n",
    "               \"Average Household Size\" REAL NOT NULL,\n",
    "               \"State Code\" TEXT NOT NULL,\n",
    "               \"American Indian and Alaska Native\" INTEGER,\n",
    "               \"Asian\" INTEGER,\n",
    "               \"Black or African-American\" INTEGER,\n",
    "               \"Hispanic or Latino\" INTEGER NOT NULL,\n",
    "               \"White\" INTEGER NOT NULL\n",
    "               )''')"
   ]
  },
  {
   "cell_type": "code",
   "execution_count": 111,
   "metadata": {
    "editable": true
   },
   "outputs": [
    {
     "name": "stderr",
     "output_type": "stream",
     "text": [
      "D:\\Anaconda3\\lib\\site-packages\\pandas\\core\\generic.py:2882: UserWarning: The spaces in these column names will not be changed. In pandas versions < 0.14, spaces were converted to underscores.\n",
      "  method=method,\n"
     ]
    }
   ],
   "source": [
    "# insert cities from pandas dataframe\n",
    "citiesNewNoDup.to_sql(\"cities\", con=con, if_exists=\"append\", index=False)"
   ]
  },
  {
   "cell_type": "markdown",
   "metadata": {
    "editable": true
   },
   "source": [
    "##### Immigration"
   ]
  },
  {
   "cell_type": "code",
   "execution_count": 112,
   "metadata": {
    "editable": true
   },
   "outputs": [],
   "source": [
    "# top 5\n",
    "# immigrationPlus.head()"
   ]
  },
  {
   "cell_type": "code",
   "execution_count": 113,
   "metadata": {
    "editable": true
   },
   "outputs": [],
   "source": [
    "# data information\n",
    "# immigrationPlus.info()"
   ]
  },
  {
   "cell_type": "code",
   "execution_count": 114,
   "metadata": {
    "editable": true
   },
   "outputs": [
    {
     "data": {
      "text/plain": [
       "<sqlite3.Cursor at 0x2082edd1dc0>"
      ]
     },
     "execution_count": 114,
     "metadata": {},
     "output_type": "execute_result"
    }
   ],
   "source": [
    "# Create tourists\n",
    "cur.execute('''CREATE TABLE IF NOT EXISTS immigration\n",
    "               (cicid INTEGER PRIMARY KEY NOT NULL,\n",
    "               i94yr INTEGER NOT NULL, \n",
    "               i94mon INTEGER NOT NULL, \n",
    "               i94cit TEXT NOT NULL,\n",
    "               i94res TEXT NOT NULL,\n",
    "               i94port TEXT NOT NULL,\n",
    "               arrdate TEXT NOT NULL,\n",
    "               i94mode INTEGER NOT NULL,\n",
    "               i94addr TEXT,\n",
    "               depdate TEXT,\n",
    "               i94bir INTEGER NOT NULL,\n",
    "               i94visa INTEGER NOT NULL,\n",
    "               count INTEGER NOT NULL,\n",
    "               dtadfile TEXT NOT NULL,\n",
    "               visapost TEXT,\n",
    "               entdepa TEXT NOT NULL,\n",
    "               entdepd TEXT,\n",
    "               matflag TEXT,\n",
    "               biryear INTEGER NOT NULL,\n",
    "               dtaddto TEXT NOT NULL,\n",
    "               gender TEXT,\n",
    "               airline TEXT,\n",
    "               admnum TEXT NOT NULL,\n",
    "               fltno TEXT,\n",
    "               visatype TEXT NOT NULL)''')"
   ]
  },
  {
   "cell_type": "code",
   "execution_count": 115,
   "metadata": {
    "editable": true
   },
   "outputs": [],
   "source": [
    "# insert tourists from pandas dataframe\n",
    "immigrationPlus.to_sql(\"immigration\", con=con, if_exists=\"append\", index=False)"
   ]
  },
  {
   "cell_type": "markdown",
   "metadata": {
    "editable": true
   },
   "source": [
    "##### Temperature"
   ]
  },
  {
   "cell_type": "code",
   "execution_count": 116,
   "metadata": {
    "editable": true
   },
   "outputs": [],
   "source": [
    "# top 5\n",
    "# temperatureUS10YrNoNa.head()"
   ]
  },
  {
   "cell_type": "code",
   "execution_count": 117,
   "metadata": {
    "editable": true
   },
   "outputs": [],
   "source": [
    "# data information\n",
    "# temperatureUS10YrNoNa.info()"
   ]
  },
  {
   "cell_type": "code",
   "execution_count": 118,
   "metadata": {
    "editable": true
   },
   "outputs": [
    {
     "data": {
      "text/plain": [
       "<sqlite3.Cursor at 0x2082edd1dc0>"
      ]
     },
     "execution_count": 118,
     "metadata": {},
     "output_type": "execute_result"
    }
   ],
   "source": [
    "# Create temperature\n",
    "cur.execute('''CREATE TABLE IF NOT EXISTS temperature\n",
    "               (temp_id INTEGER PRIMARY KEY AUTOINCREMENT,\n",
    "               dt TEXT NOT NULL,\n",
    "               AverageTemperature REAL NOT NULL,\n",
    "               AverageTemperatureUncertainty REAL NOT NULL,\n",
    "               State TEXT NOT NULL\n",
    "               )''')"
   ]
  },
  {
   "cell_type": "code",
   "execution_count": 119,
   "metadata": {
    "editable": true
   },
   "outputs": [],
   "source": [
    "# insert tourists from pandas dataframe\n",
    "temperatureUS10YrNoNa.to_sql(\"temperature\", con=con, if_exists=\"append\", index=False)"
   ]
  },
  {
   "cell_type": "code",
   "execution_count": 120,
   "metadata": {
    "editable": true
   },
   "outputs": [],
   "source": [
    "# Save (commit) the changes\n",
    "con.commit()\n",
    "\n",
    "# We can also close the connection if we are done with it.\n",
    "# Just be sure any changes have been committed or they will be lost.\n",
    "con.close()"
   ]
  },
  {
   "cell_type": "markdown",
   "metadata": {
    "editable": true
   },
   "source": [
    "##### Test"
   ]
  },
  {
   "cell_type": "code",
   "execution_count": 121,
   "metadata": {
    "editable": true
   },
   "outputs": [],
   "source": [
    "%sql sqlite:///states.db"
   ]
  },
  {
   "cell_type": "code",
   "execution_count": 122,
   "metadata": {
    "editable": true
   },
   "outputs": [
    {
     "name": "stdout",
     "output_type": "stream",
     "text": [
      " * sqlite:///states.db\n",
      "Done.\n"
     ]
    },
    {
     "data": {
      "text/html": [
       "<table>\n",
       "    <tr>\n",
       "        <th>airport_id</th>\n",
       "        <th>ident</th>\n",
       "        <th>type</th>\n",
       "        <th>name</th>\n",
       "        <th>elevation_ft</th>\n",
       "        <th>region</th>\n",
       "        <th>longitude</th>\n",
       "        <th>latitude</th>\n",
       "    </tr>\n",
       "    <tr>\n",
       "        <td>1</td>\n",
       "        <td>00AA</td>\n",
       "        <td>small_airport</td>\n",
       "        <td>Aero B Ranch Airport</td>\n",
       "        <td>3435.0</td>\n",
       "        <td>KS</td>\n",
       "        <td>-101.4739</td>\n",
       "        <td>38.704</td>\n",
       "    </tr>\n",
       "    <tr>\n",
       "        <td>2</td>\n",
       "        <td>00AK</td>\n",
       "        <td>small_airport</td>\n",
       "        <td>Lowell Field</td>\n",
       "        <td>450.0</td>\n",
       "        <td>AK</td>\n",
       "        <td>-151.696</td>\n",
       "        <td>59.9492</td>\n",
       "    </tr>\n",
       "    <tr>\n",
       "        <td>3</td>\n",
       "        <td>00AL</td>\n",
       "        <td>small_airport</td>\n",
       "        <td>Epps Airpark</td>\n",
       "        <td>820.0</td>\n",
       "        <td>AL</td>\n",
       "        <td>-86.7703</td>\n",
       "        <td>34.8648</td>\n",
       "    </tr>\n",
       "    <tr>\n",
       "        <td>4</td>\n",
       "        <td>00AS</td>\n",
       "        <td>small_airport</td>\n",
       "        <td>Fulton Airport</td>\n",
       "        <td>1100.0</td>\n",
       "        <td>OK</td>\n",
       "        <td>-97.818</td>\n",
       "        <td>34.9428</td>\n",
       "    </tr>\n",
       "    <tr>\n",
       "        <td>5</td>\n",
       "        <td>00AZ</td>\n",
       "        <td>small_airport</td>\n",
       "        <td>Cordes Airport</td>\n",
       "        <td>3810.0</td>\n",
       "        <td>AZ</td>\n",
       "        <td>-112.165</td>\n",
       "        <td>34.3056</td>\n",
       "    </tr>\n",
       "</table>"
      ],
      "text/plain": [
       "[(1, '00AA', 'small_airport', 'Aero B Ranch Airport', 3435.0, 'KS', -101.4739, 38.704),\n",
       " (2, '00AK', 'small_airport', 'Lowell Field', 450.0, 'AK', -151.696, 59.9492),\n",
       " (3, '00AL', 'small_airport', 'Epps Airpark', 820.0, 'AL', -86.7703, 34.8648),\n",
       " (4, '00AS', 'small_airport', 'Fulton Airport', 1100.0, 'OK', -97.818, 34.9428),\n",
       " (5, '00AZ', 'small_airport', 'Cordes Airport', 3810.0, 'AZ', -112.165, 34.3056)]"
      ]
     },
     "execution_count": 122,
     "metadata": {},
     "output_type": "execute_result"
    }
   ],
   "source": [
    "%%sql\n",
    "SELECT * FROM airports LIMIT 5;"
   ]
  },
  {
   "cell_type": "code",
   "execution_count": 123,
   "metadata": {
    "editable": true
   },
   "outputs": [
    {
     "name": "stdout",
     "output_type": "stream",
     "text": [
      " * sqlite:///states.db\n",
      "Done.\n"
     ]
    },
    {
     "data": {
      "text/html": [
       "<table>\n",
       "    <tr>\n",
       "        <th>city_id</th>\n",
       "        <th>City</th>\n",
       "        <th>State</th>\n",
       "        <th>Median Age</th>\n",
       "        <th>Male Population</th>\n",
       "        <th>Female Population</th>\n",
       "        <th>Total Population</th>\n",
       "        <th>Number of Veterans</th>\n",
       "        <th>Foreign-born</th>\n",
       "        <th>Average Household Size</th>\n",
       "        <th>State Code</th>\n",
       "        <th>American Indian and Alaska Native</th>\n",
       "        <th>Asian</th>\n",
       "        <th>Black or African-American</th>\n",
       "        <th>Hispanic or Latino</th>\n",
       "        <th>White</th>\n",
       "    </tr>\n",
       "    <tr>\n",
       "        <td>1</td>\n",
       "        <td>Wichita</td>\n",
       "        <td>Kansas</td>\n",
       "        <td>34.6</td>\n",
       "        <td>192354</td>\n",
       "        <td>197601</td>\n",
       "        <td>389955</td>\n",
       "        <td>23978</td>\n",
       "        <td>40270</td>\n",
       "        <td>2.56</td>\n",
       "        <td>KS</td>\n",
       "        <td>8791</td>\n",
       "        <td>25210</td>\n",
       "        <td>52592</td>\n",
       "        <td>65162</td>\n",
       "        <td>305910</td>\n",
       "    </tr>\n",
       "    <tr>\n",
       "        <td>2</td>\n",
       "        <td>Allen</td>\n",
       "        <td>Pennsylvania</td>\n",
       "        <td>33.5</td>\n",
       "        <td>60626</td>\n",
       "        <td>59581</td>\n",
       "        <td>120207</td>\n",
       "        <td>5691</td>\n",
       "        <td>19652</td>\n",
       "        <td>2.67</td>\n",
       "        <td>PA</td>\n",
       "        <td>538113.5</td>\n",
       "        <td>133507895</td>\n",
       "        <td>1115206570</td>\n",
       "        <td>2958805307.5</td>\n",
       "        <td>3709384920</td>\n",
       "    </tr>\n",
       "    <tr>\n",
       "        <td>3</td>\n",
       "        <td>Danbury</td>\n",
       "        <td>Connecticut</td>\n",
       "        <td>37.3</td>\n",
       "        <td>43435</td>\n",
       "        <td>41227</td>\n",
       "        <td>84662</td>\n",
       "        <td>3752</td>\n",
       "        <td>25675</td>\n",
       "        <td>2.74</td>\n",
       "        <td>CT</td>\n",
       "        <td>1086</td>\n",
       "        <td>7350</td>\n",
       "        <td>8454</td>\n",
       "        <td>25145</td>\n",
       "        <td>55917</td>\n",
       "    </tr>\n",
       "    <tr>\n",
       "        <td>4</td>\n",
       "        <td>Nashville</td>\n",
       "        <td>Tennessee</td>\n",
       "        <td>34.1</td>\n",
       "        <td>314231</td>\n",
       "        <td>340365</td>\n",
       "        <td>654596</td>\n",
       "        <td>27942</td>\n",
       "        <td>88193</td>\n",
       "        <td>2.39</td>\n",
       "        <td>TN</td>\n",
       "        <td>5474</td>\n",
       "        <td>27355</td>\n",
       "        <td>188844</td>\n",
       "        <td>67526</td>\n",
       "        <td>432447</td>\n",
       "    </tr>\n",
       "    <tr>\n",
       "        <td>5</td>\n",
       "        <td>Stamford</td>\n",
       "        <td>Connecticut</td>\n",
       "        <td>35.4</td>\n",
       "        <td>64941</td>\n",
       "        <td>63936</td>\n",
       "        <td>128877</td>\n",
       "        <td>2269</td>\n",
       "        <td>44003</td>\n",
       "        <td>2.7</td>\n",
       "        <td>CT</td>\n",
       "        <td>1416</td>\n",
       "        <td>11013</td>\n",
       "        <td>24329</td>\n",
       "        <td>33197</td>\n",
       "        <td>85620</td>\n",
       "    </tr>\n",
       "</table>"
      ],
      "text/plain": [
       "[(1, 'Wichita', 'Kansas', 34.6, 192354, 197601, 389955, 23978, 40270, 2.56, 'KS', 8791, 25210, 52592, 65162, 305910),\n",
       " (2, 'Allen', 'Pennsylvania', 33.5, 60626, 59581, 120207, 5691, 19652, 2.67, 'PA', 538113.5, 133507895, 1115206570, 2958805307.5, 3709384920),\n",
       " (3, 'Danbury', 'Connecticut', 37.3, 43435, 41227, 84662, 3752, 25675, 2.74, 'CT', 1086, 7350, 8454, 25145, 55917),\n",
       " (4, 'Nashville', 'Tennessee', 34.1, 314231, 340365, 654596, 27942, 88193, 2.39, 'TN', 5474, 27355, 188844, 67526, 432447),\n",
       " (5, 'Stamford', 'Connecticut', 35.4, 64941, 63936, 128877, 2269, 44003, 2.7, 'CT', 1416, 11013, 24329, 33197, 85620)]"
      ]
     },
     "execution_count": 123,
     "metadata": {},
     "output_type": "execute_result"
    }
   ],
   "source": [
    "%%sql\n",
    "SELECT * FROM cities LIMIT 5;"
   ]
  },
  {
   "cell_type": "code",
   "execution_count": 124,
   "metadata": {
    "editable": true
   },
   "outputs": [
    {
     "name": "stdout",
     "output_type": "stream",
     "text": [
      " * sqlite:///states.db\n",
      "Done.\n"
     ]
    },
    {
     "data": {
      "text/html": [
       "<table>\n",
       "    <tr>\n",
       "        <th>cicid</th>\n",
       "        <th>i94yr</th>\n",
       "        <th>i94mon</th>\n",
       "        <th>i94cit</th>\n",
       "        <th>i94res</th>\n",
       "        <th>i94port</th>\n",
       "        <th>arrdate</th>\n",
       "        <th>i94mode</th>\n",
       "        <th>i94addr</th>\n",
       "        <th>depdate</th>\n",
       "        <th>i94bir</th>\n",
       "        <th>i94visa</th>\n",
       "        <th>count</th>\n",
       "        <th>dtadfile</th>\n",
       "        <th>visapost</th>\n",
       "        <th>entdepa</th>\n",
       "        <th>entdepd</th>\n",
       "        <th>matflag</th>\n",
       "        <th>biryear</th>\n",
       "        <th>dtaddto</th>\n",
       "        <th>gender</th>\n",
       "        <th>airline</th>\n",
       "        <th>admnum</th>\n",
       "        <th>fltno</th>\n",
       "        <th>visatype</th>\n",
       "    </tr>\n",
       "    <tr>\n",
       "        <td>13208</td>\n",
       "        <td>2016</td>\n",
       "        <td>4</td>\n",
       "        <td>116</td>\n",
       "        <td>116</td>\n",
       "        <td>LOS</td>\n",
       "        <td>2016-04-01 00:00:00</td>\n",
       "        <td>1</td>\n",
       "        <td>CA</td>\n",
       "        <td>2016-04-30 00:00:00</td>\n",
       "        <td>29</td>\n",
       "        <td>2</td>\n",
       "        <td>1</td>\n",
       "        <td>2016-04-01 00:00:00</td>\n",
       "        <td>None</td>\n",
       "        <td>G</td>\n",
       "        <td>O</td>\n",
       "        <td>M</td>\n",
       "        <td>1987</td>\n",
       "        <td>2016-06-29 00:00:00</td>\n",
       "        <td>M</td>\n",
       "        <td>VS</td>\n",
       "        <td>55442244033</td>\n",
       "        <td>00007</td>\n",
       "        <td>WT</td>\n",
       "    </tr>\n",
       "    <tr>\n",
       "        <td>13213</td>\n",
       "        <td>2016</td>\n",
       "        <td>4</td>\n",
       "        <td>116</td>\n",
       "        <td>116</td>\n",
       "        <td>LOS</td>\n",
       "        <td>2016-04-01 00:00:00</td>\n",
       "        <td>1</td>\n",
       "        <td>CA</td>\n",
       "        <td>2016-04-09 00:00:00</td>\n",
       "        <td>35</td>\n",
       "        <td>2</td>\n",
       "        <td>1</td>\n",
       "        <td>2016-04-01 00:00:00</td>\n",
       "        <td>None</td>\n",
       "        <td>O</td>\n",
       "        <td>O</td>\n",
       "        <td>M</td>\n",
       "        <td>1981</td>\n",
       "        <td>2016-06-29 00:00:00</td>\n",
       "        <td>None</td>\n",
       "        <td>AA</td>\n",
       "        <td>55449792933</td>\n",
       "        <td>00109</td>\n",
       "        <td>WT</td>\n",
       "    </tr>\n",
       "    <tr>\n",
       "        <td>13826</td>\n",
       "        <td>2016</td>\n",
       "        <td>4</td>\n",
       "        <td>117</td>\n",
       "        <td>117</td>\n",
       "        <td>ATL</td>\n",
       "        <td>2016-04-01 00:00:00</td>\n",
       "        <td>1</td>\n",
       "        <td>SC</td>\n",
       "        <td>2016-04-09 00:00:00</td>\n",
       "        <td>44</td>\n",
       "        <td>1</td>\n",
       "        <td>1</td>\n",
       "        <td>2016-04-01 00:00:00</td>\n",
       "        <td>None</td>\n",
       "        <td>G</td>\n",
       "        <td>O</td>\n",
       "        <td>M</td>\n",
       "        <td>1972</td>\n",
       "        <td>2016-06-29 00:00:00</td>\n",
       "        <td>M</td>\n",
       "        <td>AF</td>\n",
       "        <td>55459078733</td>\n",
       "        <td>00688</td>\n",
       "        <td>WB</td>\n",
       "    </tr>\n",
       "    <tr>\n",
       "        <td>17786</td>\n",
       "        <td>2016</td>\n",
       "        <td>4</td>\n",
       "        <td>123</td>\n",
       "        <td>123</td>\n",
       "        <td>NYC</td>\n",
       "        <td>2016-04-01 00:00:00</td>\n",
       "        <td>1</td>\n",
       "        <td>NE</td>\n",
       "        <td>2016-04-12 00:00:00</td>\n",
       "        <td>31</td>\n",
       "        <td>1</td>\n",
       "        <td>1</td>\n",
       "        <td>2016-04-01 00:00:00</td>\n",
       "        <td>None</td>\n",
       "        <td>O</td>\n",
       "        <td>O</td>\n",
       "        <td>M</td>\n",
       "        <td>1985</td>\n",
       "        <td>2016-06-29 00:00:00</td>\n",
       "        <td>None</td>\n",
       "        <td>VS</td>\n",
       "        <td>55455177333</td>\n",
       "        <td>00009</td>\n",
       "        <td>WB</td>\n",
       "    </tr>\n",
       "    <tr>\n",
       "        <td>18310</td>\n",
       "        <td>2016</td>\n",
       "        <td>4</td>\n",
       "        <td>123</td>\n",
       "        <td>123</td>\n",
       "        <td>SEA</td>\n",
       "        <td>2016-04-01 00:00:00</td>\n",
       "        <td>1</td>\n",
       "        <td>CA</td>\n",
       "        <td>2016-04-04 00:00:00</td>\n",
       "        <td>45</td>\n",
       "        <td>2</td>\n",
       "        <td>1</td>\n",
       "        <td>2016-04-01 00:00:00</td>\n",
       "        <td>None</td>\n",
       "        <td>G</td>\n",
       "        <td>I</td>\n",
       "        <td>M</td>\n",
       "        <td>1971</td>\n",
       "        <td>2016-06-29 00:00:00</td>\n",
       "        <td>M</td>\n",
       "        <td>DL</td>\n",
       "        <td>55421541133</td>\n",
       "        <td>00143</td>\n",
       "        <td>WT</td>\n",
       "    </tr>\n",
       "</table>"
      ],
      "text/plain": [
       "[(13208, 2016, 4, '116', '116', 'LOS', '2016-04-01 00:00:00', 1, 'CA', '2016-04-30 00:00:00', 29, 2, 1, '2016-04-01 00:00:00', None, 'G', 'O', 'M', 1987, '2016-06-29 00:00:00', 'M', 'VS', '55442244033', '00007', 'WT'),\n",
       " (13213, 2016, 4, '116', '116', 'LOS', '2016-04-01 00:00:00', 1, 'CA', '2016-04-09 00:00:00', 35, 2, 1, '2016-04-01 00:00:00', None, 'O', 'O', 'M', 1981, '2016-06-29 00:00:00', None, 'AA', '55449792933', '00109', 'WT'),\n",
       " (13826, 2016, 4, '117', '117', 'ATL', '2016-04-01 00:00:00', 1, 'SC', '2016-04-09 00:00:00', 44, 1, 1, '2016-04-01 00:00:00', None, 'G', 'O', 'M', 1972, '2016-06-29 00:00:00', 'M', 'AF', '55459078733', '00688', 'WB'),\n",
       " (17786, 2016, 4, '123', '123', 'NYC', '2016-04-01 00:00:00', 1, 'NE', '2016-04-12 00:00:00', 31, 1, 1, '2016-04-01 00:00:00', None, 'O', 'O', 'M', 1985, '2016-06-29 00:00:00', None, 'VS', '55455177333', '00009', 'WB'),\n",
       " (18310, 2016, 4, '123', '123', 'SEA', '2016-04-01 00:00:00', 1, 'CA', '2016-04-04 00:00:00', 45, 2, 1, '2016-04-01 00:00:00', None, 'G', 'I', 'M', 1971, '2016-06-29 00:00:00', 'M', 'DL', '55421541133', '00143', 'WT')]"
      ]
     },
     "execution_count": 124,
     "metadata": {},
     "output_type": "execute_result"
    }
   ],
   "source": [
    "%%sql\n",
    "SELECT * FROM immigration LIMIT 5;"
   ]
  },
  {
   "cell_type": "code",
   "execution_count": 125,
   "metadata": {
    "editable": true
   },
   "outputs": [
    {
     "name": "stdout",
     "output_type": "stream",
     "text": [
      " * sqlite:///states.db\n",
      "Done.\n"
     ]
    },
    {
     "data": {
      "text/html": [
       "<table>\n",
       "    <tr>\n",
       "        <th>temp_id</th>\n",
       "        <th>dt</th>\n",
       "        <th>AverageTemperature</th>\n",
       "        <th>AverageTemperatureUncertainty</th>\n",
       "        <th>State</th>\n",
       "    </tr>\n",
       "    <tr>\n",
       "        <td>1</td>\n",
       "        <td>2003-01-01 00:00:00</td>\n",
       "        <td>4.8</td>\n",
       "        <td>0.1</td>\n",
       "        <td>Alabama</td>\n",
       "    </tr>\n",
       "    <tr>\n",
       "        <td>2</td>\n",
       "        <td>2003-02-01 00:00:00</td>\n",
       "        <td>9.1</td>\n",
       "        <td>0.2</td>\n",
       "        <td>Alabama</td>\n",
       "    </tr>\n",
       "    <tr>\n",
       "        <td>3</td>\n",
       "        <td>2003-03-01 00:00:00</td>\n",
       "        <td>14.6</td>\n",
       "        <td>0.2</td>\n",
       "        <td>Alabama</td>\n",
       "    </tr>\n",
       "    <tr>\n",
       "        <td>4</td>\n",
       "        <td>2003-04-01 00:00:00</td>\n",
       "        <td>17.8</td>\n",
       "        <td>0.2</td>\n",
       "        <td>Alabama</td>\n",
       "    </tr>\n",
       "    <tr>\n",
       "        <td>5</td>\n",
       "        <td>2003-05-01 00:00:00</td>\n",
       "        <td>22.6</td>\n",
       "        <td>0.2</td>\n",
       "        <td>Alabama</td>\n",
       "    </tr>\n",
       "</table>"
      ],
      "text/plain": [
       "[(1, '2003-01-01 00:00:00', 4.8, 0.1, 'Alabama'),\n",
       " (2, '2003-02-01 00:00:00', 9.1, 0.2, 'Alabama'),\n",
       " (3, '2003-03-01 00:00:00', 14.6, 0.2, 'Alabama'),\n",
       " (4, '2003-04-01 00:00:00', 17.8, 0.2, 'Alabama'),\n",
       " (5, '2003-05-01 00:00:00', 22.6, 0.2, 'Alabama')]"
      ]
     },
     "execution_count": 125,
     "metadata": {},
     "output_type": "execute_result"
    }
   ],
   "source": [
    "%%sql\n",
    "SELECT * FROM temperature LIMIT 5;"
   ]
  },
  {
   "cell_type": "markdown",
   "metadata": {
    "editable": true
   },
   "source": [
    "##### Normalization"
   ]
  },
  {
   "cell_type": "markdown",
   "metadata": {
    "editable": true
   },
   "source": [
    "dim_airports"
   ]
  },
  {
   "cell_type": "code",
   "execution_count": 141,
   "metadata": {
    "editable": true
   },
   "outputs": [],
   "source": [
    "# %%sql\n",
    "# SELECT DISTINCT tb.region,  totalAirport FROM\n",
    "#     (SELECT region, COUNT(ident) AS totalAirport\n",
    "#     FROM airports\n",
    "#     GROUP BY 1) tb\n",
    "#     WHERE region IN (SELECT DISTINCT [State Code] FROM cities)\n",
    "#     AND region IN (SELECT DISTINCT i94addr FROM immigration)\n",
    "#     -- ORDER BY 1, 2 DESC"
   ]
  },
  {
   "cell_type": "code",
   "execution_count": 127,
   "metadata": {
    "editable": true
   },
   "outputs": [],
   "source": [
    "# create a database called states\n",
    "con = sqlite3.connect('states.db')\n",
    "\n",
    "# create a cursor\n",
    "cur = con.cursor()\n",
    "\n",
    "# drop tables\n",
    "cur.execute('''DROP TABLE IF EXISTS dim_airports;''')\n",
    "cur.execute('''CREATE TABLE IF NOT EXISTS dim_airports AS\n",
    "                SELECT DISTINCT tb.region,  totalAirport FROM\n",
    "                    (SELECT region, COUNT(ident) AS totalAirport\n",
    "                    FROM airports\n",
    "                    GROUP BY 1) tb\n",
    "                    WHERE region IN (SELECT DISTINCT [State Code] FROM cities)\n",
    "                    AND region IN (SELECT DISTINCT i94addr FROM immigration)\n",
    ";''')\n",
    "\n",
    "# Save (commit) the changes\n",
    "con.commit()\n",
    "\n",
    "# We can also close the connection if we are done with it.\n",
    "# Just be sure any changes have been committed or they will be lost.\n",
    "con.close()"
   ]
  },
  {
   "cell_type": "code",
   "execution_count": 128,
   "metadata": {
    "editable": true
   },
   "outputs": [
    {
     "name": "stdout",
     "output_type": "stream",
     "text": [
      " * sqlite:///states.db\n",
      "Done.\n"
     ]
    },
    {
     "data": {
      "text/html": [
       "<table>\n",
       "    <tr>\n",
       "        <th>region</th>\n",
       "        <th>totalAirport</th>\n",
       "    </tr>\n",
       "    <tr>\n",
       "        <td>AL</td>\n",
       "        <td>197</td>\n",
       "    </tr>\n",
       "    <tr>\n",
       "        <td>AR</td>\n",
       "        <td>274</td>\n",
       "    </tr>\n",
       "    <tr>\n",
       "        <td>AZ</td>\n",
       "        <td>214</td>\n",
       "    </tr>\n",
       "    <tr>\n",
       "        <td>CA</td>\n",
       "        <td>547</td>\n",
       "    </tr>\n",
       "    <tr>\n",
       "        <td>CO</td>\n",
       "        <td>289</td>\n",
       "    </tr>\n",
       "</table>"
      ],
      "text/plain": [
       "[('AL', 197), ('AR', 274), ('AZ', 214), ('CA', 547), ('CO', 289)]"
      ]
     },
     "execution_count": 128,
     "metadata": {},
     "output_type": "execute_result"
    }
   ],
   "source": [
    "%%sql\n",
    "SELECT * FROM dim_airports LIMIT 5"
   ]
  },
  {
   "cell_type": "markdown",
   "metadata": {
    "editable": true
   },
   "source": [
    "dim_cities"
   ]
  },
  {
   "cell_type": "code",
   "execution_count": 140,
   "metadata": {
    "editable": true
   },
   "outputs": [],
   "source": [
    "# %%sql\n",
    "# SELECT DISTINCT tb.* FROM\n",
    "#     (SELECT [State Code], \n",
    "#     ROUND(AVG([Median Age]), 1) AS [Median Age],\n",
    "#     SUM([Male Population]) AS [Male Population],\n",
    "#     SUM([Female Population]) AS [Female Population],\n",
    "#     SUM([Total Population]) AS [Total Population],\n",
    "#     SUM([Number of Veterans]) AS [Number of Veterans],\n",
    "#     SUM([Foreign-born]) AS [Foreign-born],\n",
    "#     ROUND(AVG([Average Household Size]), 1) AS [Average Household Size],\n",
    "#     ROUND(SUM([American Indian and Alaska Native]), 1) AS [American Indian and Alaska Native],\n",
    "#     ROUND(SUM([Asian]), 1) AS [Asian],\n",
    "#     ROUND(SUM([Black or African-American]), 1) AS [Black or African-American],\n",
    "#     ROUND(SUM([Hispanic or Latino]), 1) AS [Hispanic or Latino],\n",
    "#     ROUND(SUM([White]), 1) AS [White] FROM cities\n",
    "#     GROUP BY [State Code]) tb\n",
    "#     WHERE [State Code] IN (SELECT DISTINCT region FROM airports)\n",
    "#     AND [State Code] IN (SELECT DISTINCT i94addr FROM immigration)\n",
    "#     -- JOIN airports \n",
    "#     -- ON tb.[State Code] = airports.[region]\n",
    "#     -- JOIN  tourists\n",
    "#     -- ON tb.[State Code] = tourists.[i94addr]        \n",
    "#     -- ORDER BY 1"
   ]
  },
  {
   "cell_type": "code",
   "execution_count": 130,
   "metadata": {
    "editable": true
   },
   "outputs": [],
   "source": [
    "# create a database called states\n",
    "con = sqlite3.connect('states.db')\n",
    "# create a cursor\n",
    "cur = con.cursor()\n",
    "# drop tables\n",
    "cur.execute('''DROP TABLE IF EXISTS dim_cities;''')\n",
    "cur.execute(''' CREATE TABLE IF NOT EXISTS dim_cities AS\n",
    "                SELECT DISTINCT tb.* FROM\n",
    "                    (SELECT [State Code], \n",
    "                    ROUND(AVG([Median Age]), 1) AS [Median Age],\n",
    "                    SUM([Male Population]) AS [Male Population],\n",
    "                    SUM([Female Population]) AS [Female Population],\n",
    "                    SUM([Total Population]) AS [Total Population],\n",
    "                    SUM([Number of Veterans]) AS [Number of Veterans],\n",
    "                    SUM([Foreign-born]) AS [Foreign-born],\n",
    "                    ROUND(AVG([Average Household Size]), 1) AS [Average Household Size],\n",
    "                    ROUND(SUM([American Indian and Alaska Native]), 1) AS [American Indian and Alaska Native],\n",
    "                    ROUND(SUM([Asian]), 1) AS [Asian],\n",
    "                    ROUND(SUM([Black or African-American]), 1) AS [Black or African-American],\n",
    "                    ROUND(SUM([Hispanic or Latino]), 1) AS [Hispanic or Latino],\n",
    "                    ROUND(SUM([White]), 1) AS [White] FROM cities\n",
    "                    GROUP BY [State Code]) tb\n",
    "                    WHERE [State Code] IN (SELECT DISTINCT region FROM airports)\n",
    "                    AND [State Code] IN (SELECT DISTINCT i94addr FROM immigration)\n",
    ";''')\n",
    "# Save (commit) the changes\n",
    "con.commit()\n",
    "\n",
    "# We can also close the connection if we are done with it.\n",
    "# Just be sure any changes have been committed or they will be lost.\n",
    "con.close()"
   ]
  },
  {
   "cell_type": "code",
   "execution_count": 131,
   "metadata": {
    "editable": true
   },
   "outputs": [
    {
     "name": "stdout",
     "output_type": "stream",
     "text": [
      " * sqlite:///states.db\n",
      "Done.\n"
     ]
    },
    {
     "data": {
      "text/html": [
       "<table>\n",
       "    <tr>\n",
       "        <th>State Code</th>\n",
       "        <th>Median Age</th>\n",
       "        <th>Male Population</th>\n",
       "        <th>Female Population</th>\n",
       "        <th>Total Population</th>\n",
       "        <th>Number of Veterans</th>\n",
       "        <th>Foreign-born</th>\n",
       "        <th>Average Household Size</th>\n",
       "        <th>American Indian and Alaska Native</th>\n",
       "        <th>Asian</th>\n",
       "        <th>Black or African-American</th>\n",
       "        <th>Hispanic or Latino</th>\n",
       "        <th>White</th>\n",
       "    </tr>\n",
       "    <tr>\n",
       "        <td>AL</td>\n",
       "        <td>36.2</td>\n",
       "        <td>497248</td>\n",
       "        <td>552381</td>\n",
       "        <td>1049629</td>\n",
       "        <td>71543</td>\n",
       "        <td>52154</td>\n",
       "        <td>2.4</td>\n",
       "        <td>8084.0</td>\n",
       "        <td>28769.0</td>\n",
       "        <td>521068.0</td>\n",
       "        <td>39313.0</td>\n",
       "        <td>498920.0</td>\n",
       "    </tr>\n",
       "    <tr>\n",
       "        <td>AR</td>\n",
       "        <td>32.8</td>\n",
       "        <td>286479</td>\n",
       "        <td>303400</td>\n",
       "        <td>589879</td>\n",
       "        <td>31704</td>\n",
       "        <td>62108</td>\n",
       "        <td>2.5</td>\n",
       "        <td>33023352.0</td>\n",
       "        <td>23556829.5</td>\n",
       "        <td>453271144.5</td>\n",
       "        <td>125475045.5</td>\n",
       "        <td>34415366940.5</td>\n",
       "    </tr>\n",
       "    <tr>\n",
       "        <td>AZ</td>\n",
       "        <td>35.0</td>\n",
       "        <td>2227455</td>\n",
       "        <td>2272087</td>\n",
       "        <td>4499542</td>\n",
       "        <td>264505</td>\n",
       "        <td>682313</td>\n",
       "        <td>2.8</td>\n",
       "        <td>9211122.0</td>\n",
       "        <td>795636836.5</td>\n",
       "        <td>412898838.0</td>\n",
       "        <td>4530669285.0</td>\n",
       "        <td>80923977646.5</td>\n",
       "    </tr>\n",
       "    <tr>\n",
       "        <td>CA</td>\n",
       "        <td>36.2</td>\n",
       "        <td>12278281</td>\n",
       "        <td>12544179</td>\n",
       "        <td>24822460</td>\n",
       "        <td>928270</td>\n",
       "        <td>7448257</td>\n",
       "        <td>3.1</td>\n",
       "        <td>45771591.5</td>\n",
       "        <td>2331666489.5</td>\n",
       "        <td>6229933287.5</td>\n",
       "        <td>15078379078.5</td>\n",
       "        <td>151563347595.5</td>\n",
       "    </tr>\n",
       "    <tr>\n",
       "        <td>CO</td>\n",
       "        <td>35.8</td>\n",
       "        <td>1454619</td>\n",
       "        <td>1481050</td>\n",
       "        <td>2935669</td>\n",
       "        <td>187896</td>\n",
       "        <td>337631</td>\n",
       "        <td>2.6</td>\n",
       "        <td>48537905.0</td>\n",
       "        <td>2034199483.5</td>\n",
       "        <td>1211720864.5</td>\n",
       "        <td>45744218409.5</td>\n",
       "        <td>83733626186.5</td>\n",
       "    </tr>\n",
       "</table>"
      ],
      "text/plain": [
       "[('AL', 36.2, 497248, 552381, 1049629, 71543, 52154, 2.4, 8084.0, 28769.0, 521068.0, 39313.0, 498920.0),\n",
       " ('AR', 32.8, 286479, 303400, 589879, 31704, 62108, 2.5, 33023352.0, 23556829.5, 453271144.5, 125475045.5, 34415366940.5),\n",
       " ('AZ', 35.0, 2227455, 2272087, 4499542, 264505, 682313, 2.8, 9211122.0, 795636836.5, 412898838.0, 4530669285.0, 80923977646.5),\n",
       " ('CA', 36.2, 12278281, 12544179, 24822460, 928270, 7448257, 3.1, 45771591.5, 2331666489.5, 6229933287.5, 15078379078.5, 151563347595.5),\n",
       " ('CO', 35.8, 1454619, 1481050, 2935669, 187896, 337631, 2.6, 48537905.0, 2034199483.5, 1211720864.5, 45744218409.5, 83733626186.5)]"
      ]
     },
     "execution_count": 131,
     "metadata": {},
     "output_type": "execute_result"
    }
   ],
   "source": [
    "%%sql\n",
    "SELECT * FROM dim_cities LIMIT 5"
   ]
  },
  {
   "cell_type": "markdown",
   "metadata": {
    "editable": true
   },
   "source": [
    "dim_temperature"
   ]
  },
  {
   "cell_type": "markdown",
   "metadata": {
    "editable": true
   },
   "source": [
    "There is no funcion like PIVOT in Sqlite. Thus. use the following SQL query to achieve the function."
   ]
  },
  {
   "cell_type": "code",
   "execution_count": 139,
   "metadata": {
    "editable": true
   },
   "outputs": [],
   "source": [
    "# %%sql \n",
    "# WITH season AS (\n",
    "# SELECT \n",
    "#     CASE \n",
    "#     WHEN strftime('%m', dt) IN ('03', '04', '05') THEN 'Spring'\n",
    "#     WHEN strftime('%m', dt) IN ('06', '07', '08') THEN 'Summer'\n",
    "#     WHEN strftime('%m', dt) IN ('09', '10', '11') THEN 'Fall'\n",
    "#     WHEN strftime('%m', dt) IN ('12', '01', '02') THEN 'Winter'\n",
    "#     END Season, \n",
    "#     CASE \n",
    "#     WHEN State = 'Georgia (State)' THEN 'Georgia'\n",
    "#     ELSE State\n",
    "#     END AS State\n",
    "#     , \n",
    "#     ROUND(AVG(AverageTemperature), 1) AS AverageTemperature \n",
    "#     FROM temperature\n",
    "#     GROUP BY 1, 2\n",
    "# )\n",
    "# SELECT DISTINCT cities.[State Code], FallAvgTemp, SummerAvgTemp, SpringAvgTemp, WinterAvgTemp FROM\n",
    "#     (SELECT State, \n",
    "#     CASE WHEN Season = 'Fall' THEN AverageTemperature END AS FallAvgTemp FROM season) fall \n",
    "#     JOIN (\n",
    "#     SELECT State, \n",
    "#     CASE WHEN Season = 'Summer' THEN AverageTemperature END AS SummerAvgTemp FROM season \n",
    "#     ) summer\n",
    "#     ON fall.State = Summer.State\n",
    "#     JOIN (\n",
    "#     SELECT State, \n",
    "#     CASE WHEN Season = 'Spring' THEN AverageTemperature END AS SpringAvgTemp FROM season     \n",
    "#     ) spring\n",
    "#     ON fall.State = spring.State\n",
    "#     JOIN (\n",
    "#     SELECT State, \n",
    "#     CASE WHEN Season = 'Winter' THEN AverageTemperature END AS WinterAvgTemp FROM season        \n",
    "#     ) winter\n",
    "#     ON fall.State = winter.State\n",
    "#     JOIN cities \n",
    "#     ON fall.State = cities.State\n",
    "#     WHERE cities.[State Code] IN (SELECT DISTINCT region FROM airports)\n",
    "#     AND cities.[State Code] IN (SELECT DISTINCT i94addr FROM immigration)\n",
    "#     AND FallAvgTemp IS NOT NULL AND SummerAvgTemp IS NOT NULL AND SpringAvgTemp IS NOT NULL AND WinterAvgTemp IS NOT NULL\n",
    "#     -- ORDER BY 1"
   ]
  },
  {
   "cell_type": "code",
   "execution_count": 133,
   "metadata": {
    "editable": true
   },
   "outputs": [],
   "source": [
    "# create a database called states\n",
    "con = sqlite3.connect('states.db')\n",
    "# create a cursor\n",
    "cur = con.cursor()\n",
    "# drop tables\n",
    "cur.execute('''DROP TABLE IF EXISTS dim_temperature;''')\n",
    "cur.execute(''' CREATE TABLE IF NOT EXISTS dim_temperature AS\n",
    "                WITH season AS (\n",
    "                SELECT \n",
    "                    CASE \n",
    "                    WHEN strftime('%m', dt) IN ('03', '04', '05') THEN 'Spring'\n",
    "                    WHEN strftime('%m', dt) IN ('06', '07', '08') THEN 'Summer'\n",
    "                    WHEN strftime('%m', dt) IN ('09', '10', '11') THEN 'Fall'\n",
    "                    WHEN strftime('%m', dt) IN ('12', '01', '02') THEN 'Winter'\n",
    "                    END Season, \n",
    "                    CASE \n",
    "                    WHEN State = 'Georgia (State)' THEN 'Georgia'\n",
    "                    WHEN State = 'District Of Columbia' THEN 'District of Columbia'\n",
    "                    ELSE State\n",
    "                    END AS State\n",
    "                    , \n",
    "                    ROUND(AVG(AverageTemperature), 1) AS AverageTemperature \n",
    "                    FROM temperature\n",
    "                    GROUP BY 1, 2\n",
    "                )\n",
    "                SELECT DISTINCT cities.[State Code], FallAvgTemp, SummerAvgTemp, SpringAvgTemp, WinterAvgTemp FROM\n",
    "                    (SELECT State, \n",
    "                    CASE WHEN Season = 'Fall' THEN AverageTemperature END AS FallAvgTemp FROM season) fall \n",
    "                    JOIN (\n",
    "                    SELECT State, \n",
    "                    CASE WHEN Season = 'Summer' THEN AverageTemperature END AS SummerAvgTemp FROM season \n",
    "                    ) summer\n",
    "                    ON fall.State = Summer.State\n",
    "                    JOIN (\n",
    "                    SELECT State, \n",
    "                    CASE WHEN Season = 'Spring' THEN AverageTemperature END AS SpringAvgTemp FROM season     \n",
    "                    ) spring\n",
    "                    ON fall.State = spring.State\n",
    "                    JOIN (\n",
    "                    SELECT State, \n",
    "                    CASE WHEN Season = 'Winter' THEN AverageTemperature END AS WinterAvgTemp FROM season        \n",
    "                    ) winter\n",
    "                    ON fall.State = winter.State\n",
    "                    JOIN cities \n",
    "                    ON fall.State = cities.State\n",
    "                    WHERE cities.[State Code] IN (SELECT DISTINCT region FROM airports)\n",
    "                    AND cities.[State Code] IN (SELECT DISTINCT i94addr FROM immigration)\n",
    "                    AND FallAvgTemp IS NOT NULL AND SummerAvgTemp IS NOT NULL AND SpringAvgTemp IS NOT NULL AND WinterAvgTemp IS NOT NULL\n",
    ";''')\n",
    "# Save (commit) the changes\n",
    "con.commit()\n",
    "\n",
    "# We can also close the connection if we are done with it.\n",
    "# Just be sure any changes have been committed or they will be lost.\n",
    "con.close()"
   ]
  },
  {
   "cell_type": "code",
   "execution_count": 134,
   "metadata": {
    "editable": true
   },
   "outputs": [
    {
     "name": "stdout",
     "output_type": "stream",
     "text": [
      " * sqlite:///states.db\n",
      "Done.\n"
     ]
    },
    {
     "data": {
      "text/html": [
       "<table>\n",
       "    <tr>\n",
       "        <th>State Code</th>\n",
       "        <th>FallAvgTemp</th>\n",
       "        <th>SummerAvgTemp</th>\n",
       "        <th>SpringAvgTemp</th>\n",
       "        <th>WinterAvgTemp</th>\n",
       "    </tr>\n",
       "    <tr>\n",
       "        <td>AL</td>\n",
       "        <td>18.6</td>\n",
       "        <td>26.9</td>\n",
       "        <td>17.9</td>\n",
       "        <td>8.4</td>\n",
       "    </tr>\n",
       "    <tr>\n",
       "        <td>AZ</td>\n",
       "        <td>17.1</td>\n",
       "        <td>26.5</td>\n",
       "        <td>15.3</td>\n",
       "        <td>6.1</td>\n",
       "    </tr>\n",
       "    <tr>\n",
       "        <td>AR</td>\n",
       "        <td>17.3</td>\n",
       "        <td>26.8</td>\n",
       "        <td>16.6</td>\n",
       "        <td>5.6</td>\n",
       "    </tr>\n",
       "    <tr>\n",
       "        <td>CA</td>\n",
       "        <td>16.1</td>\n",
       "        <td>23.4</td>\n",
       "        <td>13.5</td>\n",
       "        <td>7.2</td>\n",
       "    </tr>\n",
       "    <tr>\n",
       "        <td>CO</td>\n",
       "        <td>8.6</td>\n",
       "        <td>19.2</td>\n",
       "        <td>7.0</td>\n",
       "        <td>-3.4</td>\n",
       "    </tr>\n",
       "</table>"
      ],
      "text/plain": [
       "[('AL', 18.6, 26.9, 17.9, 8.4),\n",
       " ('AZ', 17.1, 26.5, 15.3, 6.1),\n",
       " ('AR', 17.3, 26.8, 16.6, 5.6),\n",
       " ('CA', 16.1, 23.4, 13.5, 7.2),\n",
       " ('CO', 8.6, 19.2, 7.0, -3.4)]"
      ]
     },
     "execution_count": 134,
     "metadata": {},
     "output_type": "execute_result"
    }
   ],
   "source": [
    "%%sql\n",
    "SELECT * FROM dim_temperature LIMIT 5"
   ]
  },
  {
   "cell_type": "markdown",
   "metadata": {
    "editable": true
   },
   "source": [
    "fact_immigration"
   ]
  },
  {
   "cell_type": "code",
   "execution_count": 138,
   "metadata": {
    "editable": true
   },
   "outputs": [],
   "source": [
    "# %%sql\n",
    "# SELECT * FROM \n",
    "# immigration  \n",
    "# WHERE i94addr IN\n",
    "# (SELECT DISTINCT [State Code] FROM cities)\n",
    "# AND i94addr IN (SELECT DISTINCT region FROM airports)"
   ]
  },
  {
   "cell_type": "code",
   "execution_count": 136,
   "metadata": {
    "editable": true
   },
   "outputs": [],
   "source": [
    "# create a database called states\n",
    "con = sqlite3.connect('states.db')\n",
    "# create a cursor\n",
    "cur = con.cursor()\n",
    "# drop tables\n",
    "cur.execute('''DROP TABLE IF EXISTS fact_immigration;''')\n",
    "cur.execute(''' CREATE TABLE IF NOT EXISTS fact_immigration AS\n",
    "                SELECT * FROM \n",
    "                immigration  \n",
    "                WHERE i94addr IN\n",
    "                (SELECT DISTINCT [State Code] FROM cities)\n",
    "                AND i94addr IN (SELECT DISTINCT region FROM airports)\n",
    ";''')\n",
    "# Save (commit) the changes\n",
    "con.commit()\n",
    "\n",
    "# We can also close the connection if we are done with it.\n",
    "# Just be sure any changes have been committed or they will be lost.\n",
    "con.close()"
   ]
  },
  {
   "cell_type": "code",
   "execution_count": 137,
   "metadata": {
    "editable": true
   },
   "outputs": [
    {
     "name": "stdout",
     "output_type": "stream",
     "text": [
      " * sqlite:///states.db\n",
      "Done.\n"
     ]
    },
    {
     "data": {
      "text/html": [
       "<table>\n",
       "    <tr>\n",
       "        <th>cicid</th>\n",
       "        <th>i94yr</th>\n",
       "        <th>i94mon</th>\n",
       "        <th>i94cit</th>\n",
       "        <th>i94res</th>\n",
       "        <th>i94port</th>\n",
       "        <th>arrdate</th>\n",
       "        <th>i94mode</th>\n",
       "        <th>i94addr</th>\n",
       "        <th>depdate</th>\n",
       "        <th>i94bir</th>\n",
       "        <th>i94visa</th>\n",
       "        <th>count</th>\n",
       "        <th>dtadfile</th>\n",
       "        <th>visapost</th>\n",
       "        <th>entdepa</th>\n",
       "        <th>entdepd</th>\n",
       "        <th>matflag</th>\n",
       "        <th>biryear</th>\n",
       "        <th>dtaddto</th>\n",
       "        <th>gender</th>\n",
       "        <th>airline</th>\n",
       "        <th>admnum</th>\n",
       "        <th>fltno</th>\n",
       "        <th>visatype</th>\n",
       "    </tr>\n",
       "    <tr>\n",
       "        <td>13208</td>\n",
       "        <td>2016</td>\n",
       "        <td>4</td>\n",
       "        <td>116</td>\n",
       "        <td>116</td>\n",
       "        <td>LOS</td>\n",
       "        <td>2016-04-01 00:00:00</td>\n",
       "        <td>1</td>\n",
       "        <td>CA</td>\n",
       "        <td>2016-04-30 00:00:00</td>\n",
       "        <td>29</td>\n",
       "        <td>2</td>\n",
       "        <td>1</td>\n",
       "        <td>2016-04-01 00:00:00</td>\n",
       "        <td>None</td>\n",
       "        <td>G</td>\n",
       "        <td>O</td>\n",
       "        <td>M</td>\n",
       "        <td>1987</td>\n",
       "        <td>2016-06-29 00:00:00</td>\n",
       "        <td>M</td>\n",
       "        <td>VS</td>\n",
       "        <td>55442244033</td>\n",
       "        <td>00007</td>\n",
       "        <td>WT</td>\n",
       "    </tr>\n",
       "    <tr>\n",
       "        <td>13213</td>\n",
       "        <td>2016</td>\n",
       "        <td>4</td>\n",
       "        <td>116</td>\n",
       "        <td>116</td>\n",
       "        <td>LOS</td>\n",
       "        <td>2016-04-01 00:00:00</td>\n",
       "        <td>1</td>\n",
       "        <td>CA</td>\n",
       "        <td>2016-04-09 00:00:00</td>\n",
       "        <td>35</td>\n",
       "        <td>2</td>\n",
       "        <td>1</td>\n",
       "        <td>2016-04-01 00:00:00</td>\n",
       "        <td>None</td>\n",
       "        <td>O</td>\n",
       "        <td>O</td>\n",
       "        <td>M</td>\n",
       "        <td>1981</td>\n",
       "        <td>2016-06-29 00:00:00</td>\n",
       "        <td>None</td>\n",
       "        <td>AA</td>\n",
       "        <td>55449792933</td>\n",
       "        <td>00109</td>\n",
       "        <td>WT</td>\n",
       "    </tr>\n",
       "    <tr>\n",
       "        <td>13826</td>\n",
       "        <td>2016</td>\n",
       "        <td>4</td>\n",
       "        <td>117</td>\n",
       "        <td>117</td>\n",
       "        <td>ATL</td>\n",
       "        <td>2016-04-01 00:00:00</td>\n",
       "        <td>1</td>\n",
       "        <td>SC</td>\n",
       "        <td>2016-04-09 00:00:00</td>\n",
       "        <td>44</td>\n",
       "        <td>1</td>\n",
       "        <td>1</td>\n",
       "        <td>2016-04-01 00:00:00</td>\n",
       "        <td>None</td>\n",
       "        <td>G</td>\n",
       "        <td>O</td>\n",
       "        <td>M</td>\n",
       "        <td>1972</td>\n",
       "        <td>2016-06-29 00:00:00</td>\n",
       "        <td>M</td>\n",
       "        <td>AF</td>\n",
       "        <td>55459078733</td>\n",
       "        <td>00688</td>\n",
       "        <td>WB</td>\n",
       "    </tr>\n",
       "    <tr>\n",
       "        <td>17786</td>\n",
       "        <td>2016</td>\n",
       "        <td>4</td>\n",
       "        <td>123</td>\n",
       "        <td>123</td>\n",
       "        <td>NYC</td>\n",
       "        <td>2016-04-01 00:00:00</td>\n",
       "        <td>1</td>\n",
       "        <td>NE</td>\n",
       "        <td>2016-04-12 00:00:00</td>\n",
       "        <td>31</td>\n",
       "        <td>1</td>\n",
       "        <td>1</td>\n",
       "        <td>2016-04-01 00:00:00</td>\n",
       "        <td>None</td>\n",
       "        <td>O</td>\n",
       "        <td>O</td>\n",
       "        <td>M</td>\n",
       "        <td>1985</td>\n",
       "        <td>2016-06-29 00:00:00</td>\n",
       "        <td>None</td>\n",
       "        <td>VS</td>\n",
       "        <td>55455177333</td>\n",
       "        <td>00009</td>\n",
       "        <td>WB</td>\n",
       "    </tr>\n",
       "    <tr>\n",
       "        <td>18310</td>\n",
       "        <td>2016</td>\n",
       "        <td>4</td>\n",
       "        <td>123</td>\n",
       "        <td>123</td>\n",
       "        <td>SEA</td>\n",
       "        <td>2016-04-01 00:00:00</td>\n",
       "        <td>1</td>\n",
       "        <td>CA</td>\n",
       "        <td>2016-04-04 00:00:00</td>\n",
       "        <td>45</td>\n",
       "        <td>2</td>\n",
       "        <td>1</td>\n",
       "        <td>2016-04-01 00:00:00</td>\n",
       "        <td>None</td>\n",
       "        <td>G</td>\n",
       "        <td>I</td>\n",
       "        <td>M</td>\n",
       "        <td>1971</td>\n",
       "        <td>2016-06-29 00:00:00</td>\n",
       "        <td>M</td>\n",
       "        <td>DL</td>\n",
       "        <td>55421541133</td>\n",
       "        <td>00143</td>\n",
       "        <td>WT</td>\n",
       "    </tr>\n",
       "</table>"
      ],
      "text/plain": [
       "[(13208, 2016, 4, '116', '116', 'LOS', '2016-04-01 00:00:00', 1, 'CA', '2016-04-30 00:00:00', 29, 2, 1, '2016-04-01 00:00:00', None, 'G', 'O', 'M', 1987, '2016-06-29 00:00:00', 'M', 'VS', '55442244033', '00007', 'WT'),\n",
       " (13213, 2016, 4, '116', '116', 'LOS', '2016-04-01 00:00:00', 1, 'CA', '2016-04-09 00:00:00', 35, 2, 1, '2016-04-01 00:00:00', None, 'O', 'O', 'M', 1981, '2016-06-29 00:00:00', None, 'AA', '55449792933', '00109', 'WT'),\n",
       " (13826, 2016, 4, '117', '117', 'ATL', '2016-04-01 00:00:00', 1, 'SC', '2016-04-09 00:00:00', 44, 1, 1, '2016-04-01 00:00:00', None, 'G', 'O', 'M', 1972, '2016-06-29 00:00:00', 'M', 'AF', '55459078733', '00688', 'WB'),\n",
       " (17786, 2016, 4, '123', '123', 'NYC', '2016-04-01 00:00:00', 1, 'NE', '2016-04-12 00:00:00', 31, 1, 1, '2016-04-01 00:00:00', None, 'O', 'O', 'M', 1985, '2016-06-29 00:00:00', None, 'VS', '55455177333', '00009', 'WB'),\n",
       " (18310, 2016, 4, '123', '123', 'SEA', '2016-04-01 00:00:00', 1, 'CA', '2016-04-04 00:00:00', 45, 2, 1, '2016-04-01 00:00:00', None, 'G', 'I', 'M', 1971, '2016-06-29 00:00:00', 'M', 'DL', '55421541133', '00143', 'WT')]"
      ]
     },
     "execution_count": 137,
     "metadata": {},
     "output_type": "execute_result"
    }
   ],
   "source": [
    "%%sql\n",
    "SELECT * FROM fact_immigration LIMIT 5"
   ]
  },
  {
   "cell_type": "markdown",
   "metadata": {
    "editable": true
   },
   "source": [
    "<a id='check'></a>"
   ]
  },
  {
   "cell_type": "markdown",
   "metadata": {
    "editable": true
   },
   "source": [
    "### Step 4: Run Pipelines to Model the Data \n",
    "#### 4.1 Create the data model\n",
    "Build the data pipelines to create the data model."
   ]
  },
  {
   "cell_type": "markdown",
   "metadata": {
    "editable": true
   },
   "source": [
    "#### 4.2 Data Quality Checks\n",
    "Explain the data quality checks you'll perform to ensure the pipeline ran as expected. These could include:\n",
    " * Integrity constraints on the relational database (e.g., unique key, data type, etc.)\n",
    " * Unit tests for the scripts to ensure they are doing the right thing\n",
    " * Source/Count checks to ensure completeness\n",
    " \n",
    "Run Quality Checks"
   ]
  },
  {
   "cell_type": "markdown",
   "metadata": {
    "editable": true
   },
   "source": [
    "##### Check the relationship among the normalized tables"
   ]
  },
  {
   "cell_type": "code",
   "execution_count": 143,
   "metadata": {
    "editable": true
   },
   "outputs": [
    {
     "name": "stdout",
     "output_type": "stream",
     "text": [
      " * sqlite:///states.db\n",
      "Done.\n"
     ]
    },
    {
     "data": {
      "text/html": [
       "<table>\n",
       "    <tr>\n",
       "        <th>i94addr</th>\n",
       "        <th>State Code</th>\n",
       "        <th>region</th>\n",
       "        <th>State Code_1</th>\n",
       "    </tr>\n",
       "    <tr>\n",
       "        <td>AL</td>\n",
       "        <td>AL</td>\n",
       "        <td>AL</td>\n",
       "        <td>AL</td>\n",
       "    </tr>\n",
       "    <tr>\n",
       "        <td>AR</td>\n",
       "        <td>AR</td>\n",
       "        <td>AR</td>\n",
       "        <td>AR</td>\n",
       "    </tr>\n",
       "    <tr>\n",
       "        <td>AZ</td>\n",
       "        <td>AZ</td>\n",
       "        <td>AZ</td>\n",
       "        <td>AZ</td>\n",
       "    </tr>\n",
       "    <tr>\n",
       "        <td>CA</td>\n",
       "        <td>CA</td>\n",
       "        <td>CA</td>\n",
       "        <td>CA</td>\n",
       "    </tr>\n",
       "    <tr>\n",
       "        <td>CO</td>\n",
       "        <td>CO</td>\n",
       "        <td>CO</td>\n",
       "        <td>CO</td>\n",
       "    </tr>\n",
       "    <tr>\n",
       "        <td>CT</td>\n",
       "        <td>CT</td>\n",
       "        <td>CT</td>\n",
       "        <td>CT</td>\n",
       "    </tr>\n",
       "    <tr>\n",
       "        <td>DC</td>\n",
       "        <td>DC</td>\n",
       "        <td>DC</td>\n",
       "        <td>DC</td>\n",
       "    </tr>\n",
       "    <tr>\n",
       "        <td>FL</td>\n",
       "        <td>FL</td>\n",
       "        <td>FL</td>\n",
       "        <td>FL</td>\n",
       "    </tr>\n",
       "    <tr>\n",
       "        <td>GA</td>\n",
       "        <td>GA</td>\n",
       "        <td>GA</td>\n",
       "        <td>GA</td>\n",
       "    </tr>\n",
       "    <tr>\n",
       "        <td>HI</td>\n",
       "        <td>HI</td>\n",
       "        <td>HI</td>\n",
       "        <td>HI</td>\n",
       "    </tr>\n",
       "    <tr>\n",
       "        <td>IA</td>\n",
       "        <td>IA</td>\n",
       "        <td>IA</td>\n",
       "        <td>IA</td>\n",
       "    </tr>\n",
       "    <tr>\n",
       "        <td>ID</td>\n",
       "        <td>ID</td>\n",
       "        <td>ID</td>\n",
       "        <td>ID</td>\n",
       "    </tr>\n",
       "    <tr>\n",
       "        <td>IL</td>\n",
       "        <td>IL</td>\n",
       "        <td>IL</td>\n",
       "        <td>IL</td>\n",
       "    </tr>\n",
       "    <tr>\n",
       "        <td>IN</td>\n",
       "        <td>IN</td>\n",
       "        <td>IN</td>\n",
       "        <td>IN</td>\n",
       "    </tr>\n",
       "    <tr>\n",
       "        <td>KS</td>\n",
       "        <td>KS</td>\n",
       "        <td>KS</td>\n",
       "        <td>KS</td>\n",
       "    </tr>\n",
       "    <tr>\n",
       "        <td>KY</td>\n",
       "        <td>KY</td>\n",
       "        <td>KY</td>\n",
       "        <td>KY</td>\n",
       "    </tr>\n",
       "    <tr>\n",
       "        <td>LA</td>\n",
       "        <td>LA</td>\n",
       "        <td>LA</td>\n",
       "        <td>LA</td>\n",
       "    </tr>\n",
       "    <tr>\n",
       "        <td>MA</td>\n",
       "        <td>MA</td>\n",
       "        <td>MA</td>\n",
       "        <td>MA</td>\n",
       "    </tr>\n",
       "    <tr>\n",
       "        <td>MD</td>\n",
       "        <td>MD</td>\n",
       "        <td>MD</td>\n",
       "        <td>MD</td>\n",
       "    </tr>\n",
       "    <tr>\n",
       "        <td>ME</td>\n",
       "        <td>ME</td>\n",
       "        <td>ME</td>\n",
       "        <td>ME</td>\n",
       "    </tr>\n",
       "    <tr>\n",
       "        <td>MI</td>\n",
       "        <td>MI</td>\n",
       "        <td>MI</td>\n",
       "        <td>MI</td>\n",
       "    </tr>\n",
       "    <tr>\n",
       "        <td>MN</td>\n",
       "        <td>MN</td>\n",
       "        <td>MN</td>\n",
       "        <td>MN</td>\n",
       "    </tr>\n",
       "    <tr>\n",
       "        <td>MO</td>\n",
       "        <td>MO</td>\n",
       "        <td>MO</td>\n",
       "        <td>MO</td>\n",
       "    </tr>\n",
       "    <tr>\n",
       "        <td>MS</td>\n",
       "        <td>MS</td>\n",
       "        <td>MS</td>\n",
       "        <td>MS</td>\n",
       "    </tr>\n",
       "    <tr>\n",
       "        <td>NC</td>\n",
       "        <td>NC</td>\n",
       "        <td>NC</td>\n",
       "        <td>NC</td>\n",
       "    </tr>\n",
       "    <tr>\n",
       "        <td>NE</td>\n",
       "        <td>NE</td>\n",
       "        <td>NE</td>\n",
       "        <td>NE</td>\n",
       "    </tr>\n",
       "    <tr>\n",
       "        <td>NH</td>\n",
       "        <td>NH</td>\n",
       "        <td>NH</td>\n",
       "        <td>NH</td>\n",
       "    </tr>\n",
       "    <tr>\n",
       "        <td>NJ</td>\n",
       "        <td>NJ</td>\n",
       "        <td>NJ</td>\n",
       "        <td>NJ</td>\n",
       "    </tr>\n",
       "    <tr>\n",
       "        <td>NM</td>\n",
       "        <td>NM</td>\n",
       "        <td>NM</td>\n",
       "        <td>NM</td>\n",
       "    </tr>\n",
       "    <tr>\n",
       "        <td>NV</td>\n",
       "        <td>NV</td>\n",
       "        <td>NV</td>\n",
       "        <td>NV</td>\n",
       "    </tr>\n",
       "    <tr>\n",
       "        <td>NY</td>\n",
       "        <td>NY</td>\n",
       "        <td>NY</td>\n",
       "        <td>NY</td>\n",
       "    </tr>\n",
       "    <tr>\n",
       "        <td>OH</td>\n",
       "        <td>OH</td>\n",
       "        <td>OH</td>\n",
       "        <td>OH</td>\n",
       "    </tr>\n",
       "    <tr>\n",
       "        <td>OK</td>\n",
       "        <td>OK</td>\n",
       "        <td>OK</td>\n",
       "        <td>OK</td>\n",
       "    </tr>\n",
       "    <tr>\n",
       "        <td>OR</td>\n",
       "        <td>OR</td>\n",
       "        <td>OR</td>\n",
       "        <td>OR</td>\n",
       "    </tr>\n",
       "    <tr>\n",
       "        <td>PA</td>\n",
       "        <td>PA</td>\n",
       "        <td>PA</td>\n",
       "        <td>PA</td>\n",
       "    </tr>\n",
       "    <tr>\n",
       "        <td>RI</td>\n",
       "        <td>RI</td>\n",
       "        <td>RI</td>\n",
       "        <td>RI</td>\n",
       "    </tr>\n",
       "    <tr>\n",
       "        <td>SC</td>\n",
       "        <td>SC</td>\n",
       "        <td>SC</td>\n",
       "        <td>SC</td>\n",
       "    </tr>\n",
       "    <tr>\n",
       "        <td>TN</td>\n",
       "        <td>TN</td>\n",
       "        <td>TN</td>\n",
       "        <td>TN</td>\n",
       "    </tr>\n",
       "    <tr>\n",
       "        <td>TX</td>\n",
       "        <td>TX</td>\n",
       "        <td>TX</td>\n",
       "        <td>TX</td>\n",
       "    </tr>\n",
       "    <tr>\n",
       "        <td>UT</td>\n",
       "        <td>UT</td>\n",
       "        <td>UT</td>\n",
       "        <td>UT</td>\n",
       "    </tr>\n",
       "    <tr>\n",
       "        <td>VA</td>\n",
       "        <td>VA</td>\n",
       "        <td>VA</td>\n",
       "        <td>VA</td>\n",
       "    </tr>\n",
       "    <tr>\n",
       "        <td>WA</td>\n",
       "        <td>WA</td>\n",
       "        <td>WA</td>\n",
       "        <td>WA</td>\n",
       "    </tr>\n",
       "    <tr>\n",
       "        <td>WI</td>\n",
       "        <td>WI</td>\n",
       "        <td>WI</td>\n",
       "        <td>WI</td>\n",
       "    </tr>\n",
       "</table>"
      ],
      "text/plain": [
       "[('AL', 'AL', 'AL', 'AL'),\n",
       " ('AR', 'AR', 'AR', 'AR'),\n",
       " ('AZ', 'AZ', 'AZ', 'AZ'),\n",
       " ('CA', 'CA', 'CA', 'CA'),\n",
       " ('CO', 'CO', 'CO', 'CO'),\n",
       " ('CT', 'CT', 'CT', 'CT'),\n",
       " ('DC', 'DC', 'DC', 'DC'),\n",
       " ('FL', 'FL', 'FL', 'FL'),\n",
       " ('GA', 'GA', 'GA', 'GA'),\n",
       " ('HI', 'HI', 'HI', 'HI'),\n",
       " ('IA', 'IA', 'IA', 'IA'),\n",
       " ('ID', 'ID', 'ID', 'ID'),\n",
       " ('IL', 'IL', 'IL', 'IL'),\n",
       " ('IN', 'IN', 'IN', 'IN'),\n",
       " ('KS', 'KS', 'KS', 'KS'),\n",
       " ('KY', 'KY', 'KY', 'KY'),\n",
       " ('LA', 'LA', 'LA', 'LA'),\n",
       " ('MA', 'MA', 'MA', 'MA'),\n",
       " ('MD', 'MD', 'MD', 'MD'),\n",
       " ('ME', 'ME', 'ME', 'ME'),\n",
       " ('MI', 'MI', 'MI', 'MI'),\n",
       " ('MN', 'MN', 'MN', 'MN'),\n",
       " ('MO', 'MO', 'MO', 'MO'),\n",
       " ('MS', 'MS', 'MS', 'MS'),\n",
       " ('NC', 'NC', 'NC', 'NC'),\n",
       " ('NE', 'NE', 'NE', 'NE'),\n",
       " ('NH', 'NH', 'NH', 'NH'),\n",
       " ('NJ', 'NJ', 'NJ', 'NJ'),\n",
       " ('NM', 'NM', 'NM', 'NM'),\n",
       " ('NV', 'NV', 'NV', 'NV'),\n",
       " ('NY', 'NY', 'NY', 'NY'),\n",
       " ('OH', 'OH', 'OH', 'OH'),\n",
       " ('OK', 'OK', 'OK', 'OK'),\n",
       " ('OR', 'OR', 'OR', 'OR'),\n",
       " ('PA', 'PA', 'PA', 'PA'),\n",
       " ('RI', 'RI', 'RI', 'RI'),\n",
       " ('SC', 'SC', 'SC', 'SC'),\n",
       " ('TN', 'TN', 'TN', 'TN'),\n",
       " ('TX', 'TX', 'TX', 'TX'),\n",
       " ('UT', 'UT', 'UT', 'UT'),\n",
       " ('VA', 'VA', 'VA', 'VA'),\n",
       " ('WA', 'WA', 'WA', 'WA'),\n",
       " ('WI', 'WI', 'WI', 'WI')]"
      ]
     },
     "execution_count": 143,
     "metadata": {},
     "output_type": "execute_result"
    }
   ],
   "source": [
    "%%sql\n",
    "SELECT DISTINCT i94addr, dc.[State Code], da.region, dt.[State Code] FROM fact_immigration f\n",
    "LEFT JOIN dim_cities dc\n",
    "ON f.i94addr = dc.[State Code]\n",
    "LEFT JOIN dim_airports da\n",
    "ON f.i94addr = da.region\n",
    "LEFT JOIN dim_temperature dt\n",
    "ON f.i94addr = dt.[State Code]\n",
    "ORDER BY 1"
   ]
  },
  {
   "cell_type": "code",
   "execution_count": 144,
   "metadata": {
    "editable": true
   },
   "outputs": [
    {
     "name": "stdout",
     "output_type": "stream",
     "text": [
      " * sqlite:///states.db\n",
      "Done.\n"
     ]
    },
    {
     "data": {
      "text/html": [
       "<table>\n",
       "    <tr>\n",
       "        <th>COUNT(*)</th>\n",
       "        <th>MIN(</th>\n",
       "        <th>MAX(</th>\n",
       "    </tr>\n",
       "    <tr>\n",
       "        <td>43</td>\n",
       "        <td>AL</td>\n",
       "        <td>WI</td>\n",
       "    </tr>\n",
       "</table>"
      ],
      "text/plain": [
       "[(43, 'AL', 'WI')]"
      ]
     },
     "execution_count": 144,
     "metadata": {},
     "output_type": "execute_result"
    }
   ],
   "source": [
    "%%sql\n",
    "SELECT COUNT(*), MIN([State Code]), MAX([State Code]) FROM dim_cities"
   ]
  },
  {
   "cell_type": "code",
   "execution_count": 385,
   "metadata": {
    "editable": true
   },
   "outputs": [
    {
     "name": "stdout",
     "output_type": "stream",
     "text": [
      " * sqlite:///states.db\n",
      "Done.\n"
     ]
    },
    {
     "data": {
      "text/html": [
       "<table>\n",
       "    <tr>\n",
       "        <th>COUNT(*)</th>\n",
       "        <th>MIN(</th>\n",
       "        <th>MAX(</th>\n",
       "    </tr>\n",
       "    <tr>\n",
       "        <td>43</td>\n",
       "        <td>AL</td>\n",
       "        <td>WI</td>\n",
       "    </tr>\n",
       "</table>"
      ],
      "text/plain": [
       "[(43, 'AL', 'WI')]"
      ]
     },
     "execution_count": 385,
     "metadata": {},
     "output_type": "execute_result"
    }
   ],
   "source": [
    "%%sql\n",
    "SELECT COUNT(*), MIN([State Code]), MAX([State Code]) FROM dim_temperature"
   ]
  },
  {
   "cell_type": "code",
   "execution_count": 386,
   "metadata": {
    "editable": true
   },
   "outputs": [
    {
     "name": "stdout",
     "output_type": "stream",
     "text": [
      " * sqlite:///states.db\n",
      "Done.\n"
     ]
    },
    {
     "data": {
      "text/html": [
       "<table>\n",
       "    <tr>\n",
       "        <th>COUNT(DISTINCT region)</th>\n",
       "        <th>MIN(region)</th>\n",
       "        <th>MAX(region)</th>\n",
       "    </tr>\n",
       "    <tr>\n",
       "        <td>43</td>\n",
       "        <td>AL</td>\n",
       "        <td>WI</td>\n",
       "    </tr>\n",
       "</table>"
      ],
      "text/plain": [
       "[(43, 'AL', 'WI')]"
      ]
     },
     "execution_count": 386,
     "metadata": {},
     "output_type": "execute_result"
    }
   ],
   "source": [
    "%%sql\n",
    "SELECT COUNT(DISTINCT region), MIN(region), MAX(region) FROM dim_airports"
   ]
  },
  {
   "cell_type": "code",
   "execution_count": 387,
   "metadata": {
    "editable": true
   },
   "outputs": [
    {
     "name": "stdout",
     "output_type": "stream",
     "text": [
      " * sqlite:///states.db\n",
      "Done.\n"
     ]
    },
    {
     "data": {
      "text/html": [
       "<table>\n",
       "    <tr>\n",
       "        <th>COUNT(DISTINCT i94addr)</th>\n",
       "        <th>MIN(i94addr)</th>\n",
       "        <th>MAX(i94addr)</th>\n",
       "    </tr>\n",
       "    <tr>\n",
       "        <td>43</td>\n",
       "        <td>AL</td>\n",
       "        <td>WI</td>\n",
       "    </tr>\n",
       "</table>"
      ],
      "text/plain": [
       "[(43, 'AL', 'WI')]"
      ]
     },
     "execution_count": 387,
     "metadata": {},
     "output_type": "execute_result"
    }
   ],
   "source": [
    "%%sql\n",
    "SELECT COUNT(DISTINCT i94addr), MIN(i94addr), MAX(i94addr) FROM fact_tourists"
   ]
  },
  {
   "cell_type": "markdown",
   "metadata": {
    "editable": true
   },
   "source": [
    "All the state codes in the dimension tables and fact table can be matched. "
   ]
  },
  {
   "cell_type": "markdown",
   "metadata": {
    "editable": true
   },
   "source": [
    "##### Check the normalized tables with the original tables"
   ]
  },
  {
   "cell_type": "markdown",
   "metadata": {
    "editable": true
   },
   "source": [
    "**cities**"
   ]
  },
  {
   "cell_type": "code",
   "execution_count": 150,
   "metadata": {
    "editable": true
   },
   "outputs": [
    {
     "name": "stdout",
     "output_type": "stream",
     "text": [
      " * sqlite:///states.db\n",
      "Done.\n"
     ]
    },
    {
     "data": {
      "text/html": [
       "<table>\n",
       "    <tr>\n",
       "        <th>State Code</th>\n",
       "        <th>Median Age</th>\n",
       "        <th>Male Population</th>\n",
       "        <th>Female Population</th>\n",
       "        <th>Total Population</th>\n",
       "        <th>Number of Veterans</th>\n",
       "        <th>Foreign-born</th>\n",
       "        <th>Average Household Size</th>\n",
       "        <th>American Indian and Alaska Native</th>\n",
       "        <th>Asian</th>\n",
       "        <th>Black or African-American</th>\n",
       "        <th>Hispanic or Latino</th>\n",
       "        <th>White</th>\n",
       "    </tr>\n",
       "    <tr>\n",
       "        <td>AL</td>\n",
       "        <td>36.2</td>\n",
       "        <td>497248</td>\n",
       "        <td>552381</td>\n",
       "        <td>1049629</td>\n",
       "        <td>71543</td>\n",
       "        <td>52154</td>\n",
       "        <td>2.4</td>\n",
       "        <td>8084.0</td>\n",
       "        <td>28769.0</td>\n",
       "        <td>521068.0</td>\n",
       "        <td>39313.0</td>\n",
       "        <td>498920.0</td>\n",
       "    </tr>\n",
       "</table>"
      ],
      "text/plain": [
       "[('AL', 36.2, 497248, 552381, 1049629, 71543, 52154, 2.4, 8084.0, 28769.0, 521068.0, 39313.0, 498920.0)]"
      ]
     },
     "execution_count": 150,
     "metadata": {},
     "output_type": "execute_result"
    }
   ],
   "source": [
    "%%sql\n",
    "SELECT * FROM dim_cities\n",
    "WHERE [State Code] = 'AL'"
   ]
  },
  {
   "cell_type": "code",
   "execution_count": 152,
   "metadata": {
    "editable": true
   },
   "outputs": [
    {
     "data": {
      "text/html": [
       "<div>\n",
       "<style scoped>\n",
       "    .dataframe tbody tr th:only-of-type {\n",
       "        vertical-align: middle;\n",
       "    }\n",
       "\n",
       "    .dataframe tbody tr th {\n",
       "        vertical-align: top;\n",
       "    }\n",
       "\n",
       "    .dataframe thead th {\n",
       "        text-align: right;\n",
       "    }\n",
       "</style>\n",
       "<table border=\"1\" class=\"dataframe\">\n",
       "  <thead>\n",
       "    <tr style=\"text-align: right;\">\n",
       "      <th></th>\n",
       "      <th>City</th>\n",
       "      <th>State</th>\n",
       "      <th>Median Age</th>\n",
       "      <th>Male Population</th>\n",
       "      <th>Female Population</th>\n",
       "      <th>Total Population</th>\n",
       "      <th>Number of Veterans</th>\n",
       "      <th>Foreign-born</th>\n",
       "      <th>Average Household Size</th>\n",
       "      <th>State Code</th>\n",
       "      <th>Race</th>\n",
       "      <th>Count</th>\n",
       "    </tr>\n",
       "  </thead>\n",
       "  <tbody>\n",
       "    <tr>\n",
       "      <th>88</th>\n",
       "      <td>Tuscaloosa</td>\n",
       "      <td>Alabama</td>\n",
       "      <td>29.1</td>\n",
       "      <td>47293</td>\n",
       "      <td>51045</td>\n",
       "      <td>98338</td>\n",
       "      <td>3647</td>\n",
       "      <td>4706</td>\n",
       "      <td>2.67</td>\n",
       "      <td>AL</td>\n",
       "      <td>White</td>\n",
       "      <td>52603</td>\n",
       "    </tr>\n",
       "    <tr>\n",
       "      <th>124</th>\n",
       "      <td>Dothan</td>\n",
       "      <td>Alabama</td>\n",
       "      <td>38.9</td>\n",
       "      <td>32172</td>\n",
       "      <td>35364</td>\n",
       "      <td>67536</td>\n",
       "      <td>6334</td>\n",
       "      <td>1699</td>\n",
       "      <td>2.59</td>\n",
       "      <td>AL</td>\n",
       "      <td>Asian</td>\n",
       "      <td>1175</td>\n",
       "    </tr>\n",
       "    <tr>\n",
       "      <th>138</th>\n",
       "      <td>Hoover</td>\n",
       "      <td>Alabama</td>\n",
       "      <td>38.5</td>\n",
       "      <td>38040</td>\n",
       "      <td>46799</td>\n",
       "      <td>84839</td>\n",
       "      <td>4819</td>\n",
       "      <td>8229</td>\n",
       "      <td>2.58</td>\n",
       "      <td>AL</td>\n",
       "      <td>Black or African-American</td>\n",
       "      <td>18191</td>\n",
       "    </tr>\n",
       "    <tr>\n",
       "      <th>140</th>\n",
       "      <td>Dothan</td>\n",
       "      <td>Alabama</td>\n",
       "      <td>38.9</td>\n",
       "      <td>32172</td>\n",
       "      <td>35364</td>\n",
       "      <td>67536</td>\n",
       "      <td>6334</td>\n",
       "      <td>1699</td>\n",
       "      <td>2.59</td>\n",
       "      <td>AL</td>\n",
       "      <td>Black or African-American</td>\n",
       "      <td>23243</td>\n",
       "    </tr>\n",
       "    <tr>\n",
       "      <th>224</th>\n",
       "      <td>Tuscaloosa</td>\n",
       "      <td>Alabama</td>\n",
       "      <td>29.1</td>\n",
       "      <td>47293</td>\n",
       "      <td>51045</td>\n",
       "      <td>98338</td>\n",
       "      <td>3647</td>\n",
       "      <td>4706</td>\n",
       "      <td>2.67</td>\n",
       "      <td>AL</td>\n",
       "      <td>Asian</td>\n",
       "      <td>2733</td>\n",
       "    </tr>\n",
       "    <tr>\n",
       "      <th>400</th>\n",
       "      <td>Birmingham</td>\n",
       "      <td>Alabama</td>\n",
       "      <td>35.6</td>\n",
       "      <td>102122</td>\n",
       "      <td>112789</td>\n",
       "      <td>214911</td>\n",
       "      <td>13212</td>\n",
       "      <td>8258</td>\n",
       "      <td>2.21</td>\n",
       "      <td>AL</td>\n",
       "      <td>Black or African-American</td>\n",
       "      <td>157985</td>\n",
       "    </tr>\n",
       "    <tr>\n",
       "      <th>415</th>\n",
       "      <td>Birmingham</td>\n",
       "      <td>Alabama</td>\n",
       "      <td>35.6</td>\n",
       "      <td>102122</td>\n",
       "      <td>112789</td>\n",
       "      <td>214911</td>\n",
       "      <td>13212</td>\n",
       "      <td>8258</td>\n",
       "      <td>2.21</td>\n",
       "      <td>AL</td>\n",
       "      <td>Asian</td>\n",
       "      <td>1500</td>\n",
       "    </tr>\n",
       "    <tr>\n",
       "      <th>507</th>\n",
       "      <td>Huntsville</td>\n",
       "      <td>Alabama</td>\n",
       "      <td>38.1</td>\n",
       "      <td>91764</td>\n",
       "      <td>97350</td>\n",
       "      <td>189114</td>\n",
       "      <td>16637</td>\n",
       "      <td>12691</td>\n",
       "      <td>2.18</td>\n",
       "      <td>AL</td>\n",
       "      <td>Black or African-American</td>\n",
       "      <td>61561</td>\n",
       "    </tr>\n",
       "    <tr>\n",
       "      <th>568</th>\n",
       "      <td>Birmingham</td>\n",
       "      <td>Alabama</td>\n",
       "      <td>35.6</td>\n",
       "      <td>102122</td>\n",
       "      <td>112789</td>\n",
       "      <td>214911</td>\n",
       "      <td>13212</td>\n",
       "      <td>8258</td>\n",
       "      <td>2.21</td>\n",
       "      <td>AL</td>\n",
       "      <td>White</td>\n",
       "      <td>51728</td>\n",
       "    </tr>\n",
       "    <tr>\n",
       "      <th>595</th>\n",
       "      <td>Huntsville</td>\n",
       "      <td>Alabama</td>\n",
       "      <td>38.1</td>\n",
       "      <td>91764</td>\n",
       "      <td>97350</td>\n",
       "      <td>189114</td>\n",
       "      <td>16637</td>\n",
       "      <td>12691</td>\n",
       "      <td>2.18</td>\n",
       "      <td>AL</td>\n",
       "      <td>Hispanic or Latino</td>\n",
       "      <td>10887</td>\n",
       "    </tr>\n",
       "    <tr>\n",
       "      <th>734</th>\n",
       "      <td>Montgomery</td>\n",
       "      <td>Alabama</td>\n",
       "      <td>35.4</td>\n",
       "      <td>94582</td>\n",
       "      <td>106004</td>\n",
       "      <td>200586</td>\n",
       "      <td>14955</td>\n",
       "      <td>9337</td>\n",
       "      <td>2.41</td>\n",
       "      <td>AL</td>\n",
       "      <td>Black or African-American</td>\n",
       "      <td>121360</td>\n",
       "    </tr>\n",
       "    <tr>\n",
       "      <th>801</th>\n",
       "      <td>Dothan</td>\n",
       "      <td>Alabama</td>\n",
       "      <td>38.9</td>\n",
       "      <td>32172</td>\n",
       "      <td>35364</td>\n",
       "      <td>67536</td>\n",
       "      <td>6334</td>\n",
       "      <td>1699</td>\n",
       "      <td>2.59</td>\n",
       "      <td>AL</td>\n",
       "      <td>White</td>\n",
       "      <td>43516</td>\n",
       "    </tr>\n",
       "    <tr>\n",
       "      <th>841</th>\n",
       "      <td>Mobile</td>\n",
       "      <td>Alabama</td>\n",
       "      <td>38.0</td>\n",
       "      <td>91275</td>\n",
       "      <td>103030</td>\n",
       "      <td>194305</td>\n",
       "      <td>11939</td>\n",
       "      <td>7234</td>\n",
       "      <td>2.4</td>\n",
       "      <td>AL</td>\n",
       "      <td>Hispanic or Latino</td>\n",
       "      <td>5229</td>\n",
       "    </tr>\n",
       "    <tr>\n",
       "      <th>848</th>\n",
       "      <td>Hoover</td>\n",
       "      <td>Alabama</td>\n",
       "      <td>38.5</td>\n",
       "      <td>38040</td>\n",
       "      <td>46799</td>\n",
       "      <td>84839</td>\n",
       "      <td>4819</td>\n",
       "      <td>8229</td>\n",
       "      <td>2.58</td>\n",
       "      <td>AL</td>\n",
       "      <td>Asian</td>\n",
       "      <td>4759</td>\n",
       "    </tr>\n",
       "    <tr>\n",
       "      <th>1064</th>\n",
       "      <td>Hoover</td>\n",
       "      <td>Alabama</td>\n",
       "      <td>38.5</td>\n",
       "      <td>38040</td>\n",
       "      <td>46799</td>\n",
       "      <td>84839</td>\n",
       "      <td>4819</td>\n",
       "      <td>8229</td>\n",
       "      <td>2.58</td>\n",
       "      <td>AL</td>\n",
       "      <td>Hispanic or Latino</td>\n",
       "      <td>3430</td>\n",
       "    </tr>\n",
       "    <tr>\n",
       "      <th>1072</th>\n",
       "      <td>Hoover</td>\n",
       "      <td>Alabama</td>\n",
       "      <td>38.5</td>\n",
       "      <td>38040</td>\n",
       "      <td>46799</td>\n",
       "      <td>84839</td>\n",
       "      <td>4819</td>\n",
       "      <td>8229</td>\n",
       "      <td>2.58</td>\n",
       "      <td>AL</td>\n",
       "      <td>White</td>\n",
       "      <td>61869</td>\n",
       "    </tr>\n",
       "    <tr>\n",
       "      <th>1216</th>\n",
       "      <td>Mobile</td>\n",
       "      <td>Alabama</td>\n",
       "      <td>38.0</td>\n",
       "      <td>91275</td>\n",
       "      <td>103030</td>\n",
       "      <td>194305</td>\n",
       "      <td>11939</td>\n",
       "      <td>7234</td>\n",
       "      <td>2.4</td>\n",
       "      <td>AL</td>\n",
       "      <td>American Indian and Alaska Native</td>\n",
       "      <td>2816</td>\n",
       "    </tr>\n",
       "    <tr>\n",
       "      <th>1267</th>\n",
       "      <td>Tuscaloosa</td>\n",
       "      <td>Alabama</td>\n",
       "      <td>29.1</td>\n",
       "      <td>47293</td>\n",
       "      <td>51045</td>\n",
       "      <td>98338</td>\n",
       "      <td>3647</td>\n",
       "      <td>4706</td>\n",
       "      <td>2.67</td>\n",
       "      <td>AL</td>\n",
       "      <td>Hispanic or Latino</td>\n",
       "      <td>2475</td>\n",
       "    </tr>\n",
       "    <tr>\n",
       "      <th>1471</th>\n",
       "      <td>Montgomery</td>\n",
       "      <td>Alabama</td>\n",
       "      <td>35.4</td>\n",
       "      <td>94582</td>\n",
       "      <td>106004</td>\n",
       "      <td>200586</td>\n",
       "      <td>14955</td>\n",
       "      <td>9337</td>\n",
       "      <td>2.41</td>\n",
       "      <td>AL</td>\n",
       "      <td>Hispanic or Latino</td>\n",
       "      <td>6648</td>\n",
       "    </tr>\n",
       "    <tr>\n",
       "      <th>1478</th>\n",
       "      <td>Birmingham</td>\n",
       "      <td>Alabama</td>\n",
       "      <td>35.6</td>\n",
       "      <td>102122</td>\n",
       "      <td>112789</td>\n",
       "      <td>214911</td>\n",
       "      <td>13212</td>\n",
       "      <td>8258</td>\n",
       "      <td>2.21</td>\n",
       "      <td>AL</td>\n",
       "      <td>American Indian and Alaska Native</td>\n",
       "      <td>1319</td>\n",
       "    </tr>\n",
       "    <tr>\n",
       "      <th>1732</th>\n",
       "      <td>Montgomery</td>\n",
       "      <td>Alabama</td>\n",
       "      <td>35.4</td>\n",
       "      <td>94582</td>\n",
       "      <td>106004</td>\n",
       "      <td>200586</td>\n",
       "      <td>14955</td>\n",
       "      <td>9337</td>\n",
       "      <td>2.41</td>\n",
       "      <td>AL</td>\n",
       "      <td>White</td>\n",
       "      <td>73545</td>\n",
       "    </tr>\n",
       "    <tr>\n",
       "      <th>1749</th>\n",
       "      <td>Dothan</td>\n",
       "      <td>Alabama</td>\n",
       "      <td>38.9</td>\n",
       "      <td>32172</td>\n",
       "      <td>35364</td>\n",
       "      <td>67536</td>\n",
       "      <td>6334</td>\n",
       "      <td>1699</td>\n",
       "      <td>2.59</td>\n",
       "      <td>AL</td>\n",
       "      <td>Hispanic or Latino</td>\n",
       "      <td>1704</td>\n",
       "    </tr>\n",
       "    <tr>\n",
       "      <th>1751</th>\n",
       "      <td>Montgomery</td>\n",
       "      <td>Alabama</td>\n",
       "      <td>35.4</td>\n",
       "      <td>94582</td>\n",
       "      <td>106004</td>\n",
       "      <td>200586</td>\n",
       "      <td>14955</td>\n",
       "      <td>9337</td>\n",
       "      <td>2.41</td>\n",
       "      <td>AL</td>\n",
       "      <td>American Indian and Alaska Native</td>\n",
       "      <td>1277</td>\n",
       "    </tr>\n",
       "    <tr>\n",
       "      <th>1946</th>\n",
       "      <td>Huntsville</td>\n",
       "      <td>Alabama</td>\n",
       "      <td>38.1</td>\n",
       "      <td>91764</td>\n",
       "      <td>97350</td>\n",
       "      <td>189114</td>\n",
       "      <td>16637</td>\n",
       "      <td>12691</td>\n",
       "      <td>2.18</td>\n",
       "      <td>AL</td>\n",
       "      <td>American Indian and Alaska Native</td>\n",
       "      <td>1755</td>\n",
       "    </tr>\n",
       "    <tr>\n",
       "      <th>2038</th>\n",
       "      <td>Montgomery</td>\n",
       "      <td>Alabama</td>\n",
       "      <td>35.4</td>\n",
       "      <td>94582</td>\n",
       "      <td>106004</td>\n",
       "      <td>200586</td>\n",
       "      <td>14955</td>\n",
       "      <td>9337</td>\n",
       "      <td>2.41</td>\n",
       "      <td>AL</td>\n",
       "      <td>Asian</td>\n",
       "      <td>6518</td>\n",
       "    </tr>\n",
       "    <tr>\n",
       "      <th>2323</th>\n",
       "      <td>Huntsville</td>\n",
       "      <td>Alabama</td>\n",
       "      <td>38.1</td>\n",
       "      <td>91764</td>\n",
       "      <td>97350</td>\n",
       "      <td>189114</td>\n",
       "      <td>16637</td>\n",
       "      <td>12691</td>\n",
       "      <td>2.18</td>\n",
       "      <td>AL</td>\n",
       "      <td>Asian</td>\n",
       "      <td>6566</td>\n",
       "    </tr>\n",
       "    <tr>\n",
       "      <th>2430</th>\n",
       "      <td>Tuscaloosa</td>\n",
       "      <td>Alabama</td>\n",
       "      <td>29.1</td>\n",
       "      <td>47293</td>\n",
       "      <td>51045</td>\n",
       "      <td>98338</td>\n",
       "      <td>3647</td>\n",
       "      <td>4706</td>\n",
       "      <td>2.67</td>\n",
       "      <td>AL</td>\n",
       "      <td>American Indian and Alaska Native</td>\n",
       "      <td>261</td>\n",
       "    </tr>\n",
       "    <tr>\n",
       "      <th>2463</th>\n",
       "      <td>Birmingham</td>\n",
       "      <td>Alabama</td>\n",
       "      <td>35.6</td>\n",
       "      <td>102122</td>\n",
       "      <td>112789</td>\n",
       "      <td>214911</td>\n",
       "      <td>13212</td>\n",
       "      <td>8258</td>\n",
       "      <td>2.21</td>\n",
       "      <td>AL</td>\n",
       "      <td>Hispanic or Latino</td>\n",
       "      <td>8940</td>\n",
       "    </tr>\n",
       "    <tr>\n",
       "      <th>2542</th>\n",
       "      <td>Mobile</td>\n",
       "      <td>Alabama</td>\n",
       "      <td>38.0</td>\n",
       "      <td>91275</td>\n",
       "      <td>103030</td>\n",
       "      <td>194305</td>\n",
       "      <td>11939</td>\n",
       "      <td>7234</td>\n",
       "      <td>2.4</td>\n",
       "      <td>AL</td>\n",
       "      <td>Asian</td>\n",
       "      <td>5518</td>\n",
       "    </tr>\n",
       "    <tr>\n",
       "      <th>2626</th>\n",
       "      <td>Huntsville</td>\n",
       "      <td>Alabama</td>\n",
       "      <td>38.1</td>\n",
       "      <td>91764</td>\n",
       "      <td>97350</td>\n",
       "      <td>189114</td>\n",
       "      <td>16637</td>\n",
       "      <td>12691</td>\n",
       "      <td>2.18</td>\n",
       "      <td>AL</td>\n",
       "      <td>White</td>\n",
       "      <td>121904</td>\n",
       "    </tr>\n",
       "    <tr>\n",
       "      <th>2744</th>\n",
       "      <td>Tuscaloosa</td>\n",
       "      <td>Alabama</td>\n",
       "      <td>29.1</td>\n",
       "      <td>47293</td>\n",
       "      <td>51045</td>\n",
       "      <td>98338</td>\n",
       "      <td>3647</td>\n",
       "      <td>4706</td>\n",
       "      <td>2.67</td>\n",
       "      <td>AL</td>\n",
       "      <td>Black or African-American</td>\n",
       "      <td>42331</td>\n",
       "    </tr>\n",
       "    <tr>\n",
       "      <th>2752</th>\n",
       "      <td>Dothan</td>\n",
       "      <td>Alabama</td>\n",
       "      <td>38.9</td>\n",
       "      <td>32172</td>\n",
       "      <td>35364</td>\n",
       "      <td>67536</td>\n",
       "      <td>6334</td>\n",
       "      <td>1699</td>\n",
       "      <td>2.59</td>\n",
       "      <td>AL</td>\n",
       "      <td>American Indian and Alaska Native</td>\n",
       "      <td>656</td>\n",
       "    </tr>\n",
       "    <tr>\n",
       "      <th>2769</th>\n",
       "      <td>Mobile</td>\n",
       "      <td>Alabama</td>\n",
       "      <td>38.0</td>\n",
       "      <td>91275</td>\n",
       "      <td>103030</td>\n",
       "      <td>194305</td>\n",
       "      <td>11939</td>\n",
       "      <td>7234</td>\n",
       "      <td>2.4</td>\n",
       "      <td>AL</td>\n",
       "      <td>Black or African-American</td>\n",
       "      <td>96397</td>\n",
       "    </tr>\n",
       "    <tr>\n",
       "      <th>2877</th>\n",
       "      <td>Mobile</td>\n",
       "      <td>Alabama</td>\n",
       "      <td>38.0</td>\n",
       "      <td>91275</td>\n",
       "      <td>103030</td>\n",
       "      <td>194305</td>\n",
       "      <td>11939</td>\n",
       "      <td>7234</td>\n",
       "      <td>2.4</td>\n",
       "      <td>AL</td>\n",
       "      <td>White</td>\n",
       "      <td>93755</td>\n",
       "    </tr>\n",
       "  </tbody>\n",
       "</table>\n",
       "</div>"
      ],
      "text/plain": [
       "            City    State Median Age Male Population Female Population  \\\n",
       "88    Tuscaloosa  Alabama       29.1           47293             51045   \n",
       "124       Dothan  Alabama       38.9           32172             35364   \n",
       "138       Hoover  Alabama       38.5           38040             46799   \n",
       "140       Dothan  Alabama       38.9           32172             35364   \n",
       "224   Tuscaloosa  Alabama       29.1           47293             51045   \n",
       "400   Birmingham  Alabama       35.6          102122            112789   \n",
       "415   Birmingham  Alabama       35.6          102122            112789   \n",
       "507   Huntsville  Alabama       38.1           91764             97350   \n",
       "568   Birmingham  Alabama       35.6          102122            112789   \n",
       "595   Huntsville  Alabama       38.1           91764             97350   \n",
       "734   Montgomery  Alabama       35.4           94582            106004   \n",
       "801       Dothan  Alabama       38.9           32172             35364   \n",
       "841       Mobile  Alabama       38.0           91275            103030   \n",
       "848       Hoover  Alabama       38.5           38040             46799   \n",
       "1064      Hoover  Alabama       38.5           38040             46799   \n",
       "1072      Hoover  Alabama       38.5           38040             46799   \n",
       "1216      Mobile  Alabama       38.0           91275            103030   \n",
       "1267  Tuscaloosa  Alabama       29.1           47293             51045   \n",
       "1471  Montgomery  Alabama       35.4           94582            106004   \n",
       "1478  Birmingham  Alabama       35.6          102122            112789   \n",
       "1732  Montgomery  Alabama       35.4           94582            106004   \n",
       "1749      Dothan  Alabama       38.9           32172             35364   \n",
       "1751  Montgomery  Alabama       35.4           94582            106004   \n",
       "1946  Huntsville  Alabama       38.1           91764             97350   \n",
       "2038  Montgomery  Alabama       35.4           94582            106004   \n",
       "2323  Huntsville  Alabama       38.1           91764             97350   \n",
       "2430  Tuscaloosa  Alabama       29.1           47293             51045   \n",
       "2463  Birmingham  Alabama       35.6          102122            112789   \n",
       "2542      Mobile  Alabama       38.0           91275            103030   \n",
       "2626  Huntsville  Alabama       38.1           91764             97350   \n",
       "2744  Tuscaloosa  Alabama       29.1           47293             51045   \n",
       "2752      Dothan  Alabama       38.9           32172             35364   \n",
       "2769      Mobile  Alabama       38.0           91275            103030   \n",
       "2877      Mobile  Alabama       38.0           91275            103030   \n",
       "\n",
       "     Total Population Number of Veterans Foreign-born Average Household Size  \\\n",
       "88              98338               3647         4706                   2.67   \n",
       "124             67536               6334         1699                   2.59   \n",
       "138             84839               4819         8229                   2.58   \n",
       "140             67536               6334         1699                   2.59   \n",
       "224             98338               3647         4706                   2.67   \n",
       "400            214911              13212         8258                   2.21   \n",
       "415            214911              13212         8258                   2.21   \n",
       "507            189114              16637        12691                   2.18   \n",
       "568            214911              13212         8258                   2.21   \n",
       "595            189114              16637        12691                   2.18   \n",
       "734            200586              14955         9337                   2.41   \n",
       "801             67536               6334         1699                   2.59   \n",
       "841            194305              11939         7234                    2.4   \n",
       "848             84839               4819         8229                   2.58   \n",
       "1064            84839               4819         8229                   2.58   \n",
       "1072            84839               4819         8229                   2.58   \n",
       "1216           194305              11939         7234                    2.4   \n",
       "1267            98338               3647         4706                   2.67   \n",
       "1471           200586              14955         9337                   2.41   \n",
       "1478           214911              13212         8258                   2.21   \n",
       "1732           200586              14955         9337                   2.41   \n",
       "1749            67536               6334         1699                   2.59   \n",
       "1751           200586              14955         9337                   2.41   \n",
       "1946           189114              16637        12691                   2.18   \n",
       "2038           200586              14955         9337                   2.41   \n",
       "2323           189114              16637        12691                   2.18   \n",
       "2430            98338               3647         4706                   2.67   \n",
       "2463           214911              13212         8258                   2.21   \n",
       "2542           194305              11939         7234                    2.4   \n",
       "2626           189114              16637        12691                   2.18   \n",
       "2744            98338               3647         4706                   2.67   \n",
       "2752            67536               6334         1699                   2.59   \n",
       "2769           194305              11939         7234                    2.4   \n",
       "2877           194305              11939         7234                    2.4   \n",
       "\n",
       "     State Code                               Race   Count  \n",
       "88           AL                              White   52603  \n",
       "124          AL                              Asian    1175  \n",
       "138          AL          Black or African-American   18191  \n",
       "140          AL          Black or African-American   23243  \n",
       "224          AL                              Asian    2733  \n",
       "400          AL          Black or African-American  157985  \n",
       "415          AL                              Asian    1500  \n",
       "507          AL          Black or African-American   61561  \n",
       "568          AL                              White   51728  \n",
       "595          AL                 Hispanic or Latino   10887  \n",
       "734          AL          Black or African-American  121360  \n",
       "801          AL                              White   43516  \n",
       "841          AL                 Hispanic or Latino    5229  \n",
       "848          AL                              Asian    4759  \n",
       "1064         AL                 Hispanic or Latino    3430  \n",
       "1072         AL                              White   61869  \n",
       "1216         AL  American Indian and Alaska Native    2816  \n",
       "1267         AL                 Hispanic or Latino    2475  \n",
       "1471         AL                 Hispanic or Latino    6648  \n",
       "1478         AL  American Indian and Alaska Native    1319  \n",
       "1732         AL                              White   73545  \n",
       "1749         AL                 Hispanic or Latino    1704  \n",
       "1751         AL  American Indian and Alaska Native    1277  \n",
       "1946         AL  American Indian and Alaska Native    1755  \n",
       "2038         AL                              Asian    6518  \n",
       "2323         AL                              Asian    6566  \n",
       "2430         AL  American Indian and Alaska Native     261  \n",
       "2463         AL                 Hispanic or Latino    8940  \n",
       "2542         AL                              Asian    5518  \n",
       "2626         AL                              White  121904  \n",
       "2744         AL          Black or African-American   42331  \n",
       "2752         AL  American Indian and Alaska Native     656  \n",
       "2769         AL          Black or African-American   96397  \n",
       "2877         AL                              White   93755  "
      ]
     },
     "execution_count": 152,
     "metadata": {},
     "output_type": "execute_result"
    }
   ],
   "source": [
    "# original cities\n",
    "cities[cities[\"State Code\"] == \"AL\"]"
   ]
  },
  {
   "cell_type": "markdown",
   "metadata": {
    "editable": true
   },
   "source": [
    "The information listed in the \"dim_cities\" is the same as the information listed in the original \"cities\"."
   ]
  },
  {
   "cell_type": "markdown",
   "metadata": {
    "editable": true
   },
   "source": [
    "**airports**"
   ]
  },
  {
   "cell_type": "code",
   "execution_count": 153,
   "metadata": {
    "editable": true
   },
   "outputs": [
    {
     "name": "stdout",
     "output_type": "stream",
     "text": [
      " * sqlite:///states.db\n",
      "Done.\n"
     ]
    },
    {
     "data": {
      "text/html": [
       "<table>\n",
       "    <tr>\n",
       "        <th>region</th>\n",
       "        <th>totalAirport</th>\n",
       "    </tr>\n",
       "    <tr>\n",
       "        <td>AL</td>\n",
       "        <td>197</td>\n",
       "    </tr>\n",
       "</table>"
      ],
      "text/plain": [
       "[('AL', 197)]"
      ]
     },
     "execution_count": 153,
     "metadata": {},
     "output_type": "execute_result"
    }
   ],
   "source": [
    "%%sql\n",
    "SELECT * FROM dim_airports \n",
    "WHERE region = 'AL'"
   ]
  },
  {
   "cell_type": "code",
   "execution_count": 163,
   "metadata": {
    "editable": true
   },
   "outputs": [
    {
     "data": {
      "text/html": [
       "<div>\n",
       "<style scoped>\n",
       "    .dataframe tbody tr th:only-of-type {\n",
       "        vertical-align: middle;\n",
       "    }\n",
       "\n",
       "    .dataframe tbody tr th {\n",
       "        vertical-align: top;\n",
       "    }\n",
       "\n",
       "    .dataframe thead th {\n",
       "        text-align: right;\n",
       "    }\n",
       "</style>\n",
       "<table border=\"1\" class=\"dataframe\">\n",
       "  <thead>\n",
       "    <tr style=\"text-align: right;\">\n",
       "      <th></th>\n",
       "      <th>ident</th>\n",
       "      <th>type</th>\n",
       "      <th>name</th>\n",
       "      <th>elevation_ft</th>\n",
       "      <th>iso_country</th>\n",
       "      <th>iso_region</th>\n",
       "      <th>coordinates</th>\n",
       "    </tr>\n",
       "  </thead>\n",
       "  <tbody>\n",
       "    <tr>\n",
       "      <th>3</th>\n",
       "      <td>00AL</td>\n",
       "      <td>small_airport</td>\n",
       "      <td>Epps Airpark</td>\n",
       "      <td>820</td>\n",
       "      <td>US</td>\n",
       "      <td>US-AL</td>\n",
       "      <td>-86.77030181884766, 34.86479949951172</td>\n",
       "    </tr>\n",
       "    <tr>\n",
       "      <th>65</th>\n",
       "      <td>01AL</td>\n",
       "      <td>small_airport</td>\n",
       "      <td>Ware Island Airport</td>\n",
       "      <td>344</td>\n",
       "      <td>US</td>\n",
       "      <td>US-AL</td>\n",
       "      <td>-86.51390075683594, 32.94599914550781</td>\n",
       "    </tr>\n",
       "    <tr>\n",
       "      <th>129</th>\n",
       "      <td>02AL</td>\n",
       "      <td>small_airport</td>\n",
       "      <td>Bass Field</td>\n",
       "      <td>61</td>\n",
       "      <td>US</td>\n",
       "      <td>US-AL</td>\n",
       "      <td>-87.76439666748047, 30.37150001525879</td>\n",
       "    </tr>\n",
       "    <tr>\n",
       "      <th>605</th>\n",
       "      <td>0AL1</td>\n",
       "      <td>small_airport</td>\n",
       "      <td>Resort Airport</td>\n",
       "      <td>97</td>\n",
       "      <td>US</td>\n",
       "      <td>US-AL</td>\n",
       "      <td>-87.65689849853516, 30.443899154663086</td>\n",
       "    </tr>\n",
       "    <tr>\n",
       "      <th>609</th>\n",
       "      <td>0AL5</td>\n",
       "      <td>small_airport</td>\n",
       "      <td>Flomaton Airport</td>\n",
       "      <td>247</td>\n",
       "      <td>US</td>\n",
       "      <td>US-AL</td>\n",
       "      <td>-87.25279998779297, 31.03219985961914</td>\n",
       "    </tr>\n",
       "    <tr>\n",
       "      <th>...</th>\n",
       "      <td>...</td>\n",
       "      <td>...</td>\n",
       "      <td>...</td>\n",
       "      <td>...</td>\n",
       "      <td>...</td>\n",
       "      <td>...</td>\n",
       "      <td>...</td>\n",
       "    </tr>\n",
       "    <tr>\n",
       "      <th>49078</th>\n",
       "      <td>US-0064</td>\n",
       "      <td>small_airport</td>\n",
       "      <td>Hickory Grove STOLport</td>\n",
       "      <td>700</td>\n",
       "      <td>US</td>\n",
       "      <td>US-AL</td>\n",
       "      <td>-85.702796936, 33.901699066199996</td>\n",
       "    </tr>\n",
       "    <tr>\n",
       "      <th>49623</th>\n",
       "      <td>US-0608</td>\n",
       "      <td>small_airport</td>\n",
       "      <td>Hazel Green Acres Airport</td>\n",
       "      <td>908</td>\n",
       "      <td>US</td>\n",
       "      <td>US-AL</td>\n",
       "      <td>-86.692304, 34.980471</td>\n",
       "    </tr>\n",
       "    <tr>\n",
       "      <th>49697</th>\n",
       "      <td>US-0682</td>\n",
       "      <td>small_airport</td>\n",
       "      <td>J5 Mike Airport</td>\n",
       "      <td>680</td>\n",
       "      <td>US</td>\n",
       "      <td>US-AL</td>\n",
       "      <td>-86.222286, 34.666347</td>\n",
       "    </tr>\n",
       "    <tr>\n",
       "      <th>49700</th>\n",
       "      <td>US-0685</td>\n",
       "      <td>small_airport</td>\n",
       "      <td>Rocky Springs Airpark</td>\n",
       "      <td>649</td>\n",
       "      <td>US</td>\n",
       "      <td>US-AL</td>\n",
       "      <td>-87.077074, 33.988596</td>\n",
       "    </tr>\n",
       "    <tr>\n",
       "      <th>49701</th>\n",
       "      <td>US-0686</td>\n",
       "      <td>small_airport</td>\n",
       "      <td>Treeo Airport</td>\n",
       "      <td>130</td>\n",
       "      <td>US</td>\n",
       "      <td>US-AL</td>\n",
       "      <td>-87.822583, 30.591805</td>\n",
       "    </tr>\n",
       "  </tbody>\n",
       "</table>\n",
       "<p>197 rows × 7 columns</p>\n",
       "</div>"
      ],
      "text/plain": [
       "         ident           type                       name elevation_ft  \\\n",
       "3         00AL  small_airport               Epps Airpark          820   \n",
       "65        01AL  small_airport        Ware Island Airport          344   \n",
       "129       02AL  small_airport                 Bass Field           61   \n",
       "605       0AL1  small_airport             Resort Airport           97   \n",
       "609       0AL5  small_airport           Flomaton Airport          247   \n",
       "...        ...            ...                        ...          ...   \n",
       "49078  US-0064  small_airport     Hickory Grove STOLport          700   \n",
       "49623  US-0608  small_airport  Hazel Green Acres Airport          908   \n",
       "49697  US-0682  small_airport            J5 Mike Airport          680   \n",
       "49700  US-0685  small_airport      Rocky Springs Airpark          649   \n",
       "49701  US-0686  small_airport              Treeo Airport          130   \n",
       "\n",
       "      iso_country iso_region                             coordinates  \n",
       "3              US      US-AL   -86.77030181884766, 34.86479949951172  \n",
       "65             US      US-AL   -86.51390075683594, 32.94599914550781  \n",
       "129            US      US-AL   -87.76439666748047, 30.37150001525879  \n",
       "605            US      US-AL  -87.65689849853516, 30.443899154663086  \n",
       "609            US      US-AL   -87.25279998779297, 31.03219985961914  \n",
       "...           ...        ...                                     ...  \n",
       "49078          US      US-AL       -85.702796936, 33.901699066199996  \n",
       "49623          US      US-AL                   -86.692304, 34.980471  \n",
       "49697          US      US-AL                   -86.222286, 34.666347  \n",
       "49700          US      US-AL                   -87.077074, 33.988596  \n",
       "49701          US      US-AL                   -87.822583, 30.591805  \n",
       "\n",
       "[197 rows x 7 columns]"
      ]
     },
     "execution_count": 163,
     "metadata": {},
     "output_type": "execute_result"
    }
   ],
   "source": [
    "# original airport\n",
    "(airport[(airport.iso_region == 'US-AL') &\n",
    "        ~(airport.type == \"closed\") & \n",
    "        airport.type.str.contains(\"airport\") & \n",
    "        ~airport.elevation_ft.isna()].\n",
    "        drop([\"continent\",\"iata_code\", \"gps_code\", \"local_code\", \"municipality\"], axis=1).drop_duplicates())"
   ]
  },
  {
   "cell_type": "markdown",
   "metadata": {
    "editable": true
   },
   "source": [
    "Number of airports in the \"dim_airports\" can be matched to the number in the original \"airport\" table."
   ]
  },
  {
   "cell_type": "markdown",
   "metadata": {
    "editable": true
   },
   "source": [
    "**temperature**"
   ]
  },
  {
   "cell_type": "code",
   "execution_count": 164,
   "metadata": {
    "editable": true
   },
   "outputs": [
    {
     "name": "stdout",
     "output_type": "stream",
     "text": [
      " * sqlite:///states.db\n",
      "Done.\n"
     ]
    },
    {
     "data": {
      "text/html": [
       "<table>\n",
       "    <tr>\n",
       "        <th>State Code</th>\n",
       "        <th>FallAvgTemp</th>\n",
       "        <th>SummerAvgTemp</th>\n",
       "        <th>SpringAvgTemp</th>\n",
       "        <th>WinterAvgTemp</th>\n",
       "    </tr>\n",
       "    <tr>\n",
       "        <td>AL</td>\n",
       "        <td>18.6</td>\n",
       "        <td>26.9</td>\n",
       "        <td>17.9</td>\n",
       "        <td>8.4</td>\n",
       "    </tr>\n",
       "</table>"
      ],
      "text/plain": [
       "[('AL', 18.6, 26.9, 17.9, 8.4)]"
      ]
     },
     "execution_count": 164,
     "metadata": {},
     "output_type": "execute_result"
    }
   ],
   "source": [
    "%%sql\n",
    "SELECT * FROM dim_temperature\n",
    "WHERE [State Code] = 'AL'"
   ]
  },
  {
   "cell_type": "code",
   "execution_count": 176,
   "metadata": {
    "editable": true
   },
   "outputs": [
    {
     "name": "stdout",
     "output_type": "stream",
     "text": [
      "Fall:17.4\tSummer:26.0\tSpring:17.0\tWinter:8.0\n"
     ]
    }
   ],
   "source": [
    "# original temperature table\n",
    "spring = round(temperature[(temperature.dt.str.contains(\"-03-|-04-|-05-\")) & (temperature.State == \"Alabama\")][\"AverageTemperature\"].astype(float).mean(), 1)\n",
    "summer = round(temperature[(temperature.dt.str.contains(\"-06-|-07-|-08-\")) & (temperature.State == \"Alabama\")][\"AverageTemperature\"].astype(float).mean(), 1)\n",
    "autumn = round(temperature[(temperature.dt.str.contains(\"-09-|-10-|-11-\")) & (temperature.State == \"Alabama\")][\"AverageTemperature\"].astype(float).mean(), 1)\n",
    "winter = round(temperature[(temperature.dt.str.contains(\"-12-|-01-|-02-\")) & (temperature.State == \"Alabama\")][\"AverageTemperature\"].astype(float).mean(), 1)\n",
    "print(\"Fall:{}\\tSummer:{}\\tSpring:{}\\tWinter:{}\".format(autumn, summer, spring, winter))"
   ]
  },
  {
   "cell_type": "markdown",
   "metadata": {
    "editable": true
   },
   "source": [
    "The temperature in \"dim_temperature\" is a little higher than original \"temperature\" table."
   ]
  },
  {
   "cell_type": "markdown",
   "metadata": {
    "editable": true
   },
   "source": [
    "**immigration**"
   ]
  },
  {
   "cell_type": "code",
   "execution_count": 177,
   "metadata": {
    "editable": true
   },
   "outputs": [
    {
     "name": "stdout",
     "output_type": "stream",
     "text": [
      " * sqlite:///states.db\n",
      "Done.\n"
     ]
    },
    {
     "data": {
      "text/html": [
       "<table>\n",
       "    <tr>\n",
       "        <th>cicid</th>\n",
       "        <th>i94yr</th>\n",
       "        <th>i94mon</th>\n",
       "        <th>i94cit</th>\n",
       "        <th>i94res</th>\n",
       "        <th>i94port</th>\n",
       "        <th>arrdate</th>\n",
       "        <th>i94mode</th>\n",
       "        <th>i94addr</th>\n",
       "        <th>depdate</th>\n",
       "        <th>i94bir</th>\n",
       "        <th>i94visa</th>\n",
       "        <th>count</th>\n",
       "        <th>dtadfile</th>\n",
       "        <th>visapost</th>\n",
       "        <th>entdepa</th>\n",
       "        <th>entdepd</th>\n",
       "        <th>matflag</th>\n",
       "        <th>biryear</th>\n",
       "        <th>dtaddto</th>\n",
       "        <th>gender</th>\n",
       "        <th>airline</th>\n",
       "        <th>admnum</th>\n",
       "        <th>fltno</th>\n",
       "        <th>visatype</th>\n",
       "    </tr>\n",
       "    <tr>\n",
       "        <td>1193133</td>\n",
       "        <td>2016</td>\n",
       "        <td>4</td>\n",
       "        <td>148</td>\n",
       "        <td>112</td>\n",
       "        <td>CHI</td>\n",
       "        <td>2016-04-07 00:00:00</td>\n",
       "        <td>1</td>\n",
       "        <td>AL</td>\n",
       "        <td>2016-04-17 00:00:00</td>\n",
       "        <td>58</td>\n",
       "        <td>2</td>\n",
       "        <td>1</td>\n",
       "        <td>2016-04-07 00:00:00</td>\n",
       "        <td>None</td>\n",
       "        <td>O</td>\n",
       "        <td>O</td>\n",
       "        <td>M</td>\n",
       "        <td>1958</td>\n",
       "        <td>2016-07-05 00:00:00</td>\n",
       "        <td>None</td>\n",
       "        <td>AF</td>\n",
       "        <td>55763314933</td>\n",
       "        <td>00682</td>\n",
       "        <td>WT</td>\n",
       "    </tr>\n",
       "    <tr>\n",
       "        <td>2487808</td>\n",
       "        <td>2016</td>\n",
       "        <td>4</td>\n",
       "        <td>111</td>\n",
       "        <td>111</td>\n",
       "        <td>MIA</td>\n",
       "        <td>2016-04-14 00:00:00</td>\n",
       "        <td>1</td>\n",
       "        <td>AL</td>\n",
       "        <td>2016-05-02 00:00:00</td>\n",
       "        <td>67</td>\n",
       "        <td>2</td>\n",
       "        <td>1</td>\n",
       "        <td>2016-04-14 00:00:00</td>\n",
       "        <td>None</td>\n",
       "        <td>G</td>\n",
       "        <td>O</td>\n",
       "        <td>M</td>\n",
       "        <td>1949</td>\n",
       "        <td>2016-07-12 00:00:00</td>\n",
       "        <td>F</td>\n",
       "        <td>AF</td>\n",
       "        <td>56156579533</td>\n",
       "        <td>00090</td>\n",
       "        <td>WT</td>\n",
       "    </tr>\n",
       "    <tr>\n",
       "        <td>4756602</td>\n",
       "        <td>2016</td>\n",
       "        <td>4</td>\n",
       "        <td>520</td>\n",
       "        <td>520</td>\n",
       "        <td>MIA</td>\n",
       "        <td>2016-04-25 00:00:00</td>\n",
       "        <td>1</td>\n",
       "        <td>AL</td>\n",
       "        <td>2016-06-21 00:00:00</td>\n",
       "        <td>5</td>\n",
       "        <td>2</td>\n",
       "        <td>1</td>\n",
       "        <td>2016-04-25 00:00:00</td>\n",
       "        <td>None</td>\n",
       "        <td>G</td>\n",
       "        <td>O</td>\n",
       "        <td>M</td>\n",
       "        <td>2011</td>\n",
       "        <td>2016-10-24 00:00:00</td>\n",
       "        <td>F</td>\n",
       "        <td>AA</td>\n",
       "        <td>94500896530</td>\n",
       "        <td>00982</td>\n",
       "        <td>B2</td>\n",
       "    </tr>\n",
       "    <tr>\n",
       "        <td>4882428</td>\n",
       "        <td>2016</td>\n",
       "        <td>4</td>\n",
       "        <td>148</td>\n",
       "        <td>112</td>\n",
       "        <td>ATL</td>\n",
       "        <td>2016-04-26 00:00:00</td>\n",
       "        <td>1</td>\n",
       "        <td>AL</td>\n",
       "        <td>2016-05-01 00:00:00</td>\n",
       "        <td>53</td>\n",
       "        <td>1</td>\n",
       "        <td>1</td>\n",
       "        <td>2016-04-26 00:00:00</td>\n",
       "        <td>None</td>\n",
       "        <td>G</td>\n",
       "        <td>O</td>\n",
       "        <td>M</td>\n",
       "        <td>1963</td>\n",
       "        <td>2016-07-24 00:00:00</td>\n",
       "        <td>M</td>\n",
       "        <td>DL</td>\n",
       "        <td>59296675233</td>\n",
       "        <td>00015</td>\n",
       "        <td>WB</td>\n",
       "    </tr>\n",
       "    <tr>\n",
       "        <td>5081528</td>\n",
       "        <td>2016</td>\n",
       "        <td>4</td>\n",
       "        <td>254</td>\n",
       "        <td>276</td>\n",
       "        <td>SFR</td>\n",
       "        <td>2016-04-27 00:00:00</td>\n",
       "        <td>1</td>\n",
       "        <td>AL</td>\n",
       "        <td>2016-04-29 00:00:00</td>\n",
       "        <td>48</td>\n",
       "        <td>1</td>\n",
       "        <td>1</td>\n",
       "        <td>2016-04-27 00:00:00</td>\n",
       "        <td>None</td>\n",
       "        <td>O</td>\n",
       "        <td>O</td>\n",
       "        <td>M</td>\n",
       "        <td>1968</td>\n",
       "        <td>2016-07-25 00:00:00</td>\n",
       "        <td>None</td>\n",
       "        <td>EV</td>\n",
       "        <td>59327444033</td>\n",
       "        <td>05510</td>\n",
       "        <td>WB</td>\n",
       "    </tr>\n",
       "</table>"
      ],
      "text/plain": [
       "[(1193133, 2016, 4, '148', '112', 'CHI', '2016-04-07 00:00:00', 1, 'AL', '2016-04-17 00:00:00', 58, 2, 1, '2016-04-07 00:00:00', None, 'O', 'O', 'M', 1958, '2016-07-05 00:00:00', None, 'AF', '55763314933', '00682', 'WT'),\n",
       " (2487808, 2016, 4, '111', '111', 'MIA', '2016-04-14 00:00:00', 1, 'AL', '2016-05-02 00:00:00', 67, 2, 1, '2016-04-14 00:00:00', None, 'G', 'O', 'M', 1949, '2016-07-12 00:00:00', 'F', 'AF', '56156579533', '00090', 'WT'),\n",
       " (4756602, 2016, 4, '520', '520', 'MIA', '2016-04-25 00:00:00', 1, 'AL', '2016-06-21 00:00:00', 5, 2, 1, '2016-04-25 00:00:00', None, 'G', 'O', 'M', 2011, '2016-10-24 00:00:00', 'F', 'AA', '94500896530', '00982', 'B2'),\n",
       " (4882428, 2016, 4, '148', '112', 'ATL', '2016-04-26 00:00:00', 1, 'AL', '2016-05-01 00:00:00', 53, 1, 1, '2016-04-26 00:00:00', None, 'G', 'O', 'M', 1963, '2016-07-24 00:00:00', 'M', 'DL', '59296675233', '00015', 'WB'),\n",
       " (5081528, 2016, 4, '254', '276', 'SFR', '2016-04-27 00:00:00', 1, 'AL', '2016-04-29 00:00:00', 48, 1, 1, '2016-04-27 00:00:00', None, 'O', 'O', 'M', 1968, '2016-07-25 00:00:00', None, 'EV', '59327444033', '05510', 'WB')]"
      ]
     },
     "execution_count": 177,
     "metadata": {},
     "output_type": "execute_result"
    }
   ],
   "source": [
    "%%sql\n",
    "SELECT * FROM fact_immigration\n",
    "WHERE i94addr = \"AL\""
   ]
  },
  {
   "cell_type": "code",
   "execution_count": 178,
   "metadata": {
    "editable": true
   },
   "outputs": [
    {
     "data": {
      "text/html": [
       "<div>\n",
       "<style scoped>\n",
       "    .dataframe tbody tr th:only-of-type {\n",
       "        vertical-align: middle;\n",
       "    }\n",
       "\n",
       "    .dataframe tbody tr th {\n",
       "        vertical-align: top;\n",
       "    }\n",
       "\n",
       "    .dataframe thead th {\n",
       "        text-align: right;\n",
       "    }\n",
       "</style>\n",
       "<table border=\"1\" class=\"dataframe\">\n",
       "  <thead>\n",
       "    <tr style=\"text-align: right;\">\n",
       "      <th></th>\n",
       "      <th>cicid</th>\n",
       "      <th>i94yr</th>\n",
       "      <th>i94mon</th>\n",
       "      <th>i94cit</th>\n",
       "      <th>i94res</th>\n",
       "      <th>i94port</th>\n",
       "      <th>arrdate</th>\n",
       "      <th>i94mode</th>\n",
       "      <th>i94addr</th>\n",
       "      <th>depdate</th>\n",
       "      <th>i94bir</th>\n",
       "      <th>i94visa</th>\n",
       "      <th>count</th>\n",
       "      <th>dtadfile</th>\n",
       "      <th>visapost</th>\n",
       "      <th>occup</th>\n",
       "      <th>entdepa</th>\n",
       "      <th>entdepd</th>\n",
       "      <th>entdepu</th>\n",
       "      <th>matflag</th>\n",
       "      <th>biryear</th>\n",
       "      <th>dtaddto</th>\n",
       "      <th>gender</th>\n",
       "      <th>insnum</th>\n",
       "      <th>airline</th>\n",
       "      <th>admnum</th>\n",
       "      <th>fltno</th>\n",
       "      <th>visatype</th>\n",
       "    </tr>\n",
       "  </thead>\n",
       "  <tbody>\n",
       "    <tr>\n",
       "      <th>326</th>\n",
       "      <td>2487808.0</td>\n",
       "      <td>2016.0</td>\n",
       "      <td>4.0</td>\n",
       "      <td>111.0</td>\n",
       "      <td>111.0</td>\n",
       "      <td>MIA</td>\n",
       "      <td>20558.0</td>\n",
       "      <td>1.0</td>\n",
       "      <td>AL</td>\n",
       "      <td>20576.0</td>\n",
       "      <td>67.0</td>\n",
       "      <td>2.0</td>\n",
       "      <td>1.0</td>\n",
       "      <td>20160414</td>\n",
       "      <td>NaN</td>\n",
       "      <td>NaN</td>\n",
       "      <td>G</td>\n",
       "      <td>O</td>\n",
       "      <td>NaN</td>\n",
       "      <td>M</td>\n",
       "      <td>1949.0</td>\n",
       "      <td>07122016</td>\n",
       "      <td>F</td>\n",
       "      <td>NaN</td>\n",
       "      <td>AF</td>\n",
       "      <td>56156579533.0</td>\n",
       "      <td>00090</td>\n",
       "      <td>WT</td>\n",
       "    </tr>\n",
       "    <tr>\n",
       "      <th>576</th>\n",
       "      <td>4756602.0</td>\n",
       "      <td>2016.0</td>\n",
       "      <td>4.0</td>\n",
       "      <td>520.0</td>\n",
       "      <td>520.0</td>\n",
       "      <td>MIA</td>\n",
       "      <td>20569.0</td>\n",
       "      <td>1.0</td>\n",
       "      <td>AL</td>\n",
       "      <td>20626.0</td>\n",
       "      <td>5.0</td>\n",
       "      <td>2.0</td>\n",
       "      <td>1.0</td>\n",
       "      <td>20160425</td>\n",
       "      <td>BGN</td>\n",
       "      <td>NaN</td>\n",
       "      <td>G</td>\n",
       "      <td>O</td>\n",
       "      <td>NaN</td>\n",
       "      <td>M</td>\n",
       "      <td>2011.0</td>\n",
       "      <td>10242016</td>\n",
       "      <td>F</td>\n",
       "      <td>NaN</td>\n",
       "      <td>AA</td>\n",
       "      <td>94500896530.0</td>\n",
       "      <td>00982</td>\n",
       "      <td>B2</td>\n",
       "    </tr>\n",
       "    <tr>\n",
       "      <th>799</th>\n",
       "      <td>5081528.0</td>\n",
       "      <td>2016.0</td>\n",
       "      <td>4.0</td>\n",
       "      <td>254.0</td>\n",
       "      <td>276.0</td>\n",
       "      <td>SFR</td>\n",
       "      <td>20571.0</td>\n",
       "      <td>1.0</td>\n",
       "      <td>AL</td>\n",
       "      <td>20573.0</td>\n",
       "      <td>48.0</td>\n",
       "      <td>1.0</td>\n",
       "      <td>1.0</td>\n",
       "      <td>20160427</td>\n",
       "      <td>NaN</td>\n",
       "      <td>NaN</td>\n",
       "      <td>O</td>\n",
       "      <td>O</td>\n",
       "      <td>NaN</td>\n",
       "      <td>M</td>\n",
       "      <td>1968.0</td>\n",
       "      <td>07252016</td>\n",
       "      <td>NaN</td>\n",
       "      <td>NaN</td>\n",
       "      <td>EV</td>\n",
       "      <td>59327444033.0</td>\n",
       "      <td>05510</td>\n",
       "      <td>WB</td>\n",
       "    </tr>\n",
       "    <tr>\n",
       "      <th>816</th>\n",
       "      <td>1193133.0</td>\n",
       "      <td>2016.0</td>\n",
       "      <td>4.0</td>\n",
       "      <td>148.0</td>\n",
       "      <td>112.0</td>\n",
       "      <td>CHI</td>\n",
       "      <td>20551.0</td>\n",
       "      <td>1.0</td>\n",
       "      <td>AL</td>\n",
       "      <td>20561.0</td>\n",
       "      <td>58.0</td>\n",
       "      <td>2.0</td>\n",
       "      <td>1.0</td>\n",
       "      <td>20160407</td>\n",
       "      <td>NaN</td>\n",
       "      <td>NaN</td>\n",
       "      <td>O</td>\n",
       "      <td>O</td>\n",
       "      <td>NaN</td>\n",
       "      <td>M</td>\n",
       "      <td>1958.0</td>\n",
       "      <td>07052016</td>\n",
       "      <td>NaN</td>\n",
       "      <td>NaN</td>\n",
       "      <td>AF</td>\n",
       "      <td>55763314933.0</td>\n",
       "      <td>00682</td>\n",
       "      <td>WT</td>\n",
       "    </tr>\n",
       "    <tr>\n",
       "      <th>908</th>\n",
       "      <td>4882428.0</td>\n",
       "      <td>2016.0</td>\n",
       "      <td>4.0</td>\n",
       "      <td>148.0</td>\n",
       "      <td>112.0</td>\n",
       "      <td>ATL</td>\n",
       "      <td>20570.0</td>\n",
       "      <td>1.0</td>\n",
       "      <td>AL</td>\n",
       "      <td>20575.0</td>\n",
       "      <td>53.0</td>\n",
       "      <td>1.0</td>\n",
       "      <td>1.0</td>\n",
       "      <td>20160426</td>\n",
       "      <td>NaN</td>\n",
       "      <td>NaN</td>\n",
       "      <td>G</td>\n",
       "      <td>O</td>\n",
       "      <td>NaN</td>\n",
       "      <td>M</td>\n",
       "      <td>1963.0</td>\n",
       "      <td>07242016</td>\n",
       "      <td>M</td>\n",
       "      <td>NaN</td>\n",
       "      <td>DL</td>\n",
       "      <td>59296675233.0</td>\n",
       "      <td>00015</td>\n",
       "      <td>WB</td>\n",
       "    </tr>\n",
       "  </tbody>\n",
       "</table>\n",
       "</div>"
      ],
      "text/plain": [
       "         cicid   i94yr i94mon i94cit i94res i94port  arrdate i94mode i94addr  \\\n",
       "326  2487808.0  2016.0    4.0  111.0  111.0     MIA  20558.0     1.0      AL   \n",
       "576  4756602.0  2016.0    4.0  520.0  520.0     MIA  20569.0     1.0      AL   \n",
       "799  5081528.0  2016.0    4.0  254.0  276.0     SFR  20571.0     1.0      AL   \n",
       "816  1193133.0  2016.0    4.0  148.0  112.0     CHI  20551.0     1.0      AL   \n",
       "908  4882428.0  2016.0    4.0  148.0  112.0     ATL  20570.0     1.0      AL   \n",
       "\n",
       "     depdate i94bir i94visa count  dtadfile visapost occup entdepa entdepd  \\\n",
       "326  20576.0   67.0     2.0   1.0  20160414      NaN   NaN       G       O   \n",
       "576  20626.0    5.0     2.0   1.0  20160425      BGN   NaN       G       O   \n",
       "799  20573.0   48.0     1.0   1.0  20160427      NaN   NaN       O       O   \n",
       "816  20561.0   58.0     2.0   1.0  20160407      NaN   NaN       O       O   \n",
       "908  20575.0   53.0     1.0   1.0  20160426      NaN   NaN       G       O   \n",
       "\n",
       "    entdepu matflag biryear   dtaddto gender insnum airline         admnum  \\\n",
       "326     NaN       M  1949.0  07122016      F    NaN      AF  56156579533.0   \n",
       "576     NaN       M  2011.0  10242016      F    NaN      AA  94500896530.0   \n",
       "799     NaN       M  1968.0  07252016    NaN    NaN      EV  59327444033.0   \n",
       "816     NaN       M  1958.0  07052016    NaN    NaN      AF  55763314933.0   \n",
       "908     NaN       M  1963.0  07242016      M    NaN      DL  59296675233.0   \n",
       "\n",
       "     fltno visatype  \n",
       "326  00090       WT  \n",
       "576  00982       B2  \n",
       "799  05510       WB  \n",
       "816  00682       WT  \n",
       "908  00015       WB  "
      ]
     },
     "execution_count": 178,
     "metadata": {},
     "output_type": "execute_result"
    }
   ],
   "source": [
    "# original immigration\n",
    "immigration[immigration.i94addr == \"AL\"]"
   ]
  },
  {
   "cell_type": "markdown",
   "metadata": {
    "editable": true
   },
   "source": [
    "The information listed in the \"fact_immigration\" is the same as the information in the original \"immigration\" table."
   ]
  },
  {
   "cell_type": "markdown",
   "metadata": {
    "editable": true
   },
   "source": [
    "In conclusion, the information in the original tables is pretty close to the information in the normalized tables."
   ]
  },
  {
   "cell_type": "markdown",
   "metadata": {
    "editable": true
   },
   "source": [
    "#### 4.3 Data dictionary \n",
    "Create a data dictionary for your data model. For each field, provide a brief description of what the data is and where it came from. You can include the data dictionary in the notebook or in a separate file."
   ]
  },
  {
   "cell_type": "code",
   "execution_count": 392,
   "metadata": {
    "editable": true
   },
   "outputs": [],
   "source": [
    "# %%sql\n",
    "# SELECT * FROM dim_cities LIMIT 5"
   ]
  },
  {
   "cell_type": "markdown",
   "metadata": {
    "editable": true
   },
   "source": [
    "* **dim_cities**:\n",
    "    * \"State Code\" (PK): Code for states.\n",
    "    * \"Median Age\": Median Age for population for US 2015 Census.\n",
    "    * \"Male Population\": Male population for US 2015 Census.\n",
    "    * \"Female Population\": Female Population for US 2015 Census.\n",
    "    * \"Total Population\": Total Population for US 2015 Census.\n",
    "    * \"Number of Veterans\": Number of Veterans for US 2015 Census.\n",
    "    * \"Foreign-born\": Foreign-born population for US 2015 Census.\n",
    "    * \"Average Household Size\": Average Household Size for US 2015 Census.\n",
    "    * \"American Indian and Alaska Native\": American Indian and Alaska Native population for US 2015 Census.\n",
    "    * \"Asian\": Asian population for US 2015 Census.\n",
    "    * \"Hispanic or Latino\": Hispanic or Latino population for US 2015 Census.\n",
    "    * \"White\": White population for US 2015 Census."
   ]
  },
  {
   "cell_type": "code",
   "execution_count": 393,
   "metadata": {
    "editable": true
   },
   "outputs": [],
   "source": [
    "# %%sql\n",
    "# SELECT * FROM dim_airports LIMIT 5"
   ]
  },
  {
   "cell_type": "markdown",
   "metadata": {
    "editable": true
   },
   "source": [
    "* **dim_airports**:\n",
    "    * \"region\" (PK): Code for states.\n",
    "    * \"totalAirport\": Number of airports in the state (including small, medium, and large airports)."
   ]
  },
  {
   "cell_type": "code",
   "execution_count": 394,
   "metadata": {
    "editable": true
   },
   "outputs": [],
   "source": [
    "# %%sql\n",
    "# SELECT * FROM dim_temperature LIMIT 5"
   ]
  },
  {
   "cell_type": "markdown",
   "metadata": {
    "editable": true
   },
   "source": [
    "* **dim_temperature**:\n",
    "    * \"State Code\" (PK): Code for states.\n",
    "    * \"FallAvgTemp\": Average temperature in Fall (Sep, Oct, Nov) from 2003 onwards.\n",
    "    * \"SummerAvgTemp\": Average temperature in Summer (Jun, Jul, Oct) from 2003 onwards.\n",
    "    * \"\tSpringAvgTemp\": Average temperature in Spring (Mar, Apr, May) from 2003 onwards.\n",
    "    * \"WinterAvgTemp\": Average temperature in Winter (Dec, Jan, Feb) from 2003 onwards."
   ]
  },
  {
   "cell_type": "code",
   "execution_count": 179,
   "metadata": {
    "editable": true
   },
   "outputs": [],
   "source": [
    "# %%sql\n",
    "# SELECT * FROM fact_tourists LIMIT 5;"
   ]
  },
  {
   "cell_type": "markdown",
   "metadata": {
    "editable": true
   },
   "source": [
    "* **fact_tourists**:\n",
    "    * \"cicid\" (PK): cic id for tourists.\n",
    "    * \"i94yr\": i94 filling year.\n",
    "    * \"i94mon\": i94 filling month.\n",
    "    * \"i94cit\": country codes.\n",
    "    * \"i94res\": country codes.\n",
    "    * \"i94port\": port initials.\n",
    "    * \"arrdate\": Arrival Date in the USA.\n",
    "    * \"i94mode\": 1 = 'Air, '2 = 'Sea', 3 = 'Land', 9 = 'Not reported' ;.\n",
    "    * \"i94addr\" (FK): US state codes.\n",
    "    * \"depdate\": Departure Date from the USA.\n",
    "    * \"i94bir\": Respondant birth year.\n",
    "    * \"i94visa\": visa codes, 1 = Business, 2 = Pleasure, 3 = Student.\n",
    "    * \"count\": Used for summary statistics.\n",
    "    * \"dtadfile\": Date added to I-94 Files.\n",
    "    * \"visapost\":  Department of State where where Visa was issued.\n",
    "    * \"entdepa\": Arrival Flag - admitted or paroled into the U.S..\n",
    "    * \"entdepd\": Departure Flag - Departed, lost I-94 or is deceased.\n",
    "    * \"matflag\": Match flag - Match of arrival and departure records.    \n",
    "    * \"biryear\": 4 digit year of birth.\n",
    "    * \"dtaddto\": Date to which admitted to U.S. (allowed to stay until).\n",
    "    * \"gender\": Non-immigrant sex.\n",
    "    * \"airline\": Airline used to arrive in U.S..\n",
    "    * \"admnum\": Admission Number.\n",
    "    * \"fltno\": Flight number of Airline used to arrive in U.S..\n",
    "    * \"visatype\": Class of admission legally admitting the non-immigrant to temporarily stay in U.S..       "
   ]
  },
  {
   "cell_type": "markdown",
   "metadata": {
    "editable": true
   },
   "source": [
    "#### Step 5: Complete Project Write Up\n",
    "* Clearly state the rationale for the choice of tools and technologies for the project.\n",
    "* Propose how often the data should be updated and why.\n",
    "* Write a description of how you would approach the problem differently under the following scenarios:\n",
    " * The data was increased by 100x.\n",
    " * The data populates a dashboard that must be updated on a daily basis by 7am every day.\n",
    " * The database needed to be accessed by 100+ people."
   ]
  },
  {
   "cell_type": "code",
   "execution_count": null,
   "metadata": {
    "editable": true
   },
   "outputs": [],
   "source": []
  },
  {
   "cell_type": "code",
   "execution_count": null,
   "metadata": {
    "editable": true
   },
   "outputs": [],
   "source": []
  },
  {
   "cell_type": "code",
   "execution_count": null,
   "metadata": {
    "editable": true
   },
   "outputs": [],
   "source": []
  },
  {
   "cell_type": "code",
   "execution_count": null,
   "metadata": {
    "editable": true
   },
   "outputs": [],
   "source": []
  },
  {
   "cell_type": "code",
   "execution_count": null,
   "metadata": {
    "editable": true
   },
   "outputs": [],
   "source": []
  },
  {
   "cell_type": "code",
   "execution_count": null,
   "metadata": {
    "editable": true
   },
   "outputs": [],
   "source": []
  }
 ],
 "metadata": {
  "kernelspec": {
   "display_name": "Python 3",
   "language": "python",
   "name": "python3"
  },
  "language_info": {
   "codemirror_mode": {
    "name": "ipython",
    "version": 3
   },
   "file_extension": ".py",
   "mimetype": "text/x-python",
   "name": "python",
   "nbconvert_exporter": "python",
   "pygments_lexer": "ipython3",
   "version": "3.6.3"
  }
 },
 "nbformat": 4,
 "nbformat_minor": 4
}
